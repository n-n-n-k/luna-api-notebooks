{
 "cells": [
  {
   "cell_type": "markdown",
   "id": "308b50cf-fc78-4419-bd42-43f11500d202",
   "metadata": {},
   "source": [
    "# `lunapi` tutorial"
   ]
  },
  {
   "cell_type": "markdown",
   "id": "94d8883a-7a36-4109-8949-b910b6e5ae8a",
   "metadata": {},
   "source": [
    "Links to notebooks in this repository: [Index](./00_overview.ipynb) | [Luna tutorial](./tutorial.ipynb) | \n",
    "[Individuals](./01_indivs.ipynb) | [Projects](./02_projects.ipynb) | [Staging](./03_staging.ipynb) | [Models](./04_models.ipynb) | [Advanced](./98_advanced.ipynb) | [Reference](./99_reference.ipynb)\n",
    "\n",
    "---\n",
    "\n",
    "This notebook steps through the original Luna [tutorial](https://zzz.bwh.harvard.edu/luna/tut/tut1/) using the Python-based `lunapi` instantiation of the Luna library.  Below we will follow, more or less step-by-step, each part to introduce a typical workflow using `lunapi`.   For further details on `lunapi` see the other [introductory and reference pages](./00_overview.ipynb) in this repository.  Even if you don't plan on using the command-line version of Luna, it is worth skimming those first three tutorial pages, as they give a little more context on the goals of the tutorial exercises. "
   ]
  },
  {
   "cell_type": "markdown",
   "id": "dde44a38-460f-44b9-b93f-9e8ada2afafb",
   "metadata": {},
   "source": [
    "# Part 1"
   ]
  },
  {
   "cell_type": "markdown",
   "id": "c1580b29-7d6e-468e-8759-b18dc1b69eb7",
   "metadata": {},
   "source": [
    "This part follows the steps described [here](https://zzz.bwh.harvard.edu/luna/tut/tut1/).  Rather than download the tutorial data as directed on that page, here we assume you are either using the Docker version of `lunapi`, or you've cloned the [luna-api-notebooks](https://github.com/remnrem/luna-api-notebooks) repository, both of which contain a folder `tutorial/` with all the necessary data and files. We also assume you are using Jupyterlab to open and interact with this notebook."
   ]
  },
  {
   "cell_type": "markdown",
   "id": "a5a3b6bb-f5cc-439c-8ce6-5ab267a82b46",
   "metadata": {},
   "source": [
    "## Setting up a project"
   ]
  },
  {
   "cell_type": "markdown",
   "id": "a4cea01f-56f0-419c-a814-6dc6833d149a",
   "metadata": {},
   "source": [
    "The first steps are to import the `lunapi` module and create a single, new project (always called `proj` by convention here):"
   ]
  },
  {
   "cell_type": "code",
   "execution_count": 1,
   "id": "39f7378e-ac11-4325-b95e-834344786248",
   "metadata": {},
   "outputs": [],
   "source": [
    "import lunapi as lp"
   ]
  },
  {
   "cell_type": "code",
   "execution_count": 2,
   "id": "f954829f-c588-4c25-a11f-794b5e65422f",
   "metadata": {},
   "outputs": [
    {
     "name": "stdout",
     "output_type": "stream",
     "text": [
      "initiated lunapi v1.2.3 <lunapi.lunapi0.luna object at 0xffff7c88f8b0> \n",
      "\n"
     ]
    }
   ],
   "source": [
    "proj = lp.proj()"
   ]
  },
  {
   "cell_type": "markdown",
   "id": "c0b89c60-e86a-45e0-9436-bbeea18c97f6",
   "metadata": {},
   "source": [
    "We'll then load the premade [_sample-list_](https://zzz.bwh.harvard.edu/luna/luna/args/#sample-lists) into this project, which is a plaintext file `s.lst` within the `tutorial/` folder:"
   ]
  },
  {
   "cell_type": "code",
   "execution_count": 3,
   "id": "42428b6b-aeb6-40de-ae21-a2e41c0600cc",
   "metadata": {},
   "outputs": [
    {
     "name": "stdout",
     "output_type": "stream",
     "text": [
      "read 3 individuals from tutorial/s.lst\n"
     ]
    }
   ],
   "source": [
    "proj.sample_list( 'tutorial/s.lst' )"
   ]
  },
  {
   "cell_type": "markdown",
   "id": "059c4c3e-d6a3-4589-b9ca-007c0f29ab71",
   "metadata": {},
   "source": [
    "This points to three individuals, each with an EDF and an XML annotation file containing prior staging information:"
   ]
  },
  {
   "cell_type": "code",
   "execution_count": 4,
   "id": "11d49b11-f890-4585-ab11-8330f6106634",
   "metadata": {},
   "outputs": [
    {
     "data": {
      "text/html": [
       "<div>\n",
       "<style scoped>\n",
       "    .dataframe tbody tr th:only-of-type {\n",
       "        vertical-align: middle;\n",
       "    }\n",
       "\n",
       "    .dataframe tbody tr th {\n",
       "        vertical-align: top;\n",
       "    }\n",
       "\n",
       "    .dataframe thead th {\n",
       "        text-align: right;\n",
       "    }\n",
       "</style>\n",
       "<table border=\"1\" class=\"dataframe\">\n",
       "  <thead>\n",
       "    <tr style=\"text-align: right;\">\n",
       "      <th></th>\n",
       "      <th>ID</th>\n",
       "      <th>EDF</th>\n",
       "      <th>Annotations</th>\n",
       "    </tr>\n",
       "  </thead>\n",
       "  <tbody>\n",
       "    <tr>\n",
       "      <th>1</th>\n",
       "      <td>learn-nsrr01</td>\n",
       "      <td>tutorial/edfs/learn-nsrr01.edf</td>\n",
       "      <td>{tutorial/edfs/learn-nsrr01.xml}</td>\n",
       "    </tr>\n",
       "    <tr>\n",
       "      <th>2</th>\n",
       "      <td>learn-nsrr02</td>\n",
       "      <td>tutorial/edfs/learn-nsrr02.edf</td>\n",
       "      <td>{tutorial/edfs/learn-nsrr02.xml}</td>\n",
       "    </tr>\n",
       "    <tr>\n",
       "      <th>3</th>\n",
       "      <td>learn-nsrr03</td>\n",
       "      <td>tutorial/edfs/learn-nsrr03.edf</td>\n",
       "      <td>{tutorial/edfs/learn-nsrr03.xml}</td>\n",
       "    </tr>\n",
       "  </tbody>\n",
       "</table>\n",
       "</div>"
      ],
      "text/plain": [
       "             ID                             EDF  \\\n",
       "1  learn-nsrr01  tutorial/edfs/learn-nsrr01.edf   \n",
       "2  learn-nsrr02  tutorial/edfs/learn-nsrr02.edf   \n",
       "3  learn-nsrr03  tutorial/edfs/learn-nsrr03.edf   \n",
       "\n",
       "                        Annotations  \n",
       "1  {tutorial/edfs/learn-nsrr01.xml}  \n",
       "2  {tutorial/edfs/learn-nsrr02.xml}  \n",
       "3  {tutorial/edfs/learn-nsrr03.xml}  "
      ]
     },
     "execution_count": 4,
     "metadata": {},
     "output_type": "execute_result"
    }
   ],
   "source": [
    "proj.sample_list()"
   ]
  },
  {
   "cell_type": "markdown",
   "id": "fdf7fcb2-5c64-43d1-8b80-5bf8b093e4e8",
   "metadata": {},
   "source": [
    "## Displaying EDF files"
   ]
  },
  {
   "cell_type": "markdown",
   "id": "e8f8efce-a626-466c-912e-0bd5224a179e",
   "metadata": {},
   "source": [
    "The `desc()` function is a convenient way to get summary information on all individuals in a project (this is the equivalent of the Luna `DESC` command): "
   ]
  },
  {
   "cell_type": "code",
   "execution_count": 5,
   "id": "d6b4b69f-25c7-4b15-a03b-3a0d9c92a380",
   "metadata": {},
   "outputs": [
    {
     "data": {
      "text/html": [
       "<div>\n",
       "<style scoped>\n",
       "    .dataframe tbody tr th:only-of-type {\n",
       "        vertical-align: middle;\n",
       "    }\n",
       "\n",
       "    .dataframe tbody tr th {\n",
       "        vertical-align: top;\n",
       "    }\n",
       "\n",
       "    .dataframe thead th {\n",
       "        text-align: right;\n",
       "    }\n",
       "</style>\n",
       "<table border=\"1\" class=\"dataframe\">\n",
       "  <thead>\n",
       "    <tr style=\"text-align: right;\">\n",
       "      <th></th>\n",
       "      <th>ID</th>\n",
       "      <th>Gapped</th>\n",
       "      <th>Date</th>\n",
       "      <th>Start(hms)</th>\n",
       "      <th>Stop(hms)</th>\n",
       "      <th>Dur(hms)</th>\n",
       "      <th>Dur(s)</th>\n",
       "      <th># sigs</th>\n",
       "      <th># annots</th>\n",
       "      <th>Signals</th>\n",
       "    </tr>\n",
       "  </thead>\n",
       "  <tbody>\n",
       "    <tr>\n",
       "      <th>1</th>\n",
       "      <td>learn-nsrr01</td>\n",
       "      <td>N</td>\n",
       "      <td>01.01.85</td>\n",
       "      <td>21.58.17</td>\n",
       "      <td>09.20.17</td>\n",
       "      <td>11:22:00</td>\n",
       "      <td>40920</td>\n",
       "      <td>14/14</td>\n",
       "      <td>10</td>\n",
       "      <td>SaO2[1] PR[1] EEG_sec[125] ECG[250] EMG[125] EOG_L[50] EOG_R[50] EEG[125] AIRFLOW[10] THOR_RES[10] ABDO_RES[10] POSITION[1] LIGHT[1] OX_STAT[1]</td>\n",
       "    </tr>\n",
       "    <tr>\n",
       "      <th>2</th>\n",
       "      <td>learn-nsrr02</td>\n",
       "      <td>N</td>\n",
       "      <td>01.01.85</td>\n",
       "      <td>21.18.06</td>\n",
       "      <td>07.15.36</td>\n",
       "      <td>09:57:30</td>\n",
       "      <td>35850</td>\n",
       "      <td>14/14</td>\n",
       "      <td>10</td>\n",
       "      <td>SaO2[1] PR[1] EEG_sec[125] ECG[250] EMG[125] EOG_L[50] EOG_R[50] EEG[125] AIRFLOW[10] THOR_RES[10] ABDO_RES[10] POSITION[1] LIGHT[1] OX_STAT[1]</td>\n",
       "    </tr>\n",
       "    <tr>\n",
       "      <th>3</th>\n",
       "      <td>learn-nsrr03</td>\n",
       "      <td>N</td>\n",
       "      <td>01.01.85</td>\n",
       "      <td>20.15.00</td>\n",
       "      <td>07.37.00</td>\n",
       "      <td>11:22:00</td>\n",
       "      <td>40920</td>\n",
       "      <td>14/14</td>\n",
       "      <td>10</td>\n",
       "      <td>SaO2[1] PR[1] EEG_sec[125] ECG[250] EMG[125] EOG_L[50] EOG_R[50] EEG[125] AIRFLOW[10] THOR_RES[10] ABDO_RES[10] POSITION[1] LIGHT[1] OX_STAT[1]</td>\n",
       "    </tr>\n",
       "  </tbody>\n",
       "</table>\n",
       "</div>"
      ],
      "text/plain": [
       "             ID Gapped      Date Start(hms) Stop(hms)  Dur(hms) Dur(s) # sigs  \\\n",
       "1  learn-nsrr01      N  01.01.85   21.58.17  09.20.17  11:22:00  40920  14/14   \n",
       "2  learn-nsrr02      N  01.01.85   21.18.06  07.15.36  09:57:30  35850  14/14   \n",
       "3  learn-nsrr03      N  01.01.85   20.15.00  07.37.00  11:22:00  40920  14/14   \n",
       "\n",
       "  # annots  \\\n",
       "1       10   \n",
       "2       10   \n",
       "3       10   \n",
       "\n",
       "                                                                                                                                           Signals  \n",
       "1  SaO2[1] PR[1] EEG_sec[125] ECG[250] EMG[125] EOG_L[50] EOG_R[50] EEG[125] AIRFLOW[10] THOR_RES[10] ABDO_RES[10] POSITION[1] LIGHT[1] OX_STAT[1]  \n",
       "2  SaO2[1] PR[1] EEG_sec[125] ECG[250] EMG[125] EOG_L[50] EOG_R[50] EEG[125] AIRFLOW[10] THOR_RES[10] ABDO_RES[10] POSITION[1] LIGHT[1] OX_STAT[1]  \n",
       "3  SaO2[1] PR[1] EEG_sec[125] ECG[250] EMG[125] EOG_L[50] EOG_R[50] EEG[125] AIRFLOW[10] THOR_RES[10] ABDO_RES[10] POSITION[1] LIGHT[1] OX_STAT[1]  "
      ]
     },
     "metadata": {},
     "output_type": "display_data"
    }
   ],
   "source": [
    "proj.desc()"
   ]
  },
  {
   "cell_type": "markdown",
   "id": "803ef55a-fea3-4144-a3de-35c93b21c3ea",
   "metadata": {},
   "source": [
    "<div class=\"alert alert-block alert-info\"><b>Note:</b> Note that whereas most Luna commands are evaluated via the `proc()` or `eval()` functions, this is a special case as the      Luna <tt>DESC</tt> command returns it output directy to the console (rather than Luna's formal output mechanism).  As such, we created the above wrapper.</div>\n",
    "   \n",
    "Next, we'll pull out the first individual from the project sample list, via the `inst()` function and assign this record to the variable `p` (by convention, we always label the primary individual under consideration as `p`):"
   ]
  },
  {
   "cell_type": "code",
   "execution_count": 6,
   "id": "18f3a64b-dc08-42dc-a41d-ebbb887b7662",
   "metadata": {},
   "outputs": [
    {
     "name": "stderr",
     "output_type": "stream",
     "text": [
      "___________________________________________________________________\n",
      "Processing: learn-nsrr01 | tutorial/edfs/learn-nsrr01.edf\n",
      " duration 11.22.00, 40920s | time 21.58.17 - 09.20.17 | date 01.01.85\n",
      "\n",
      " signals: 14 (of 14) selected in a standard EDF file\n",
      "  SaO2 | PR | EEG_sec | ECG | EMG | EOG_L | EOG_R | EEG\n",
      "  AIRFLOW | THOR_RES | ABDO_RES | POSITION | LIGHT | OX_STAT\n"
     ]
    }
   ],
   "source": [
    "p = proj.inst( 1 )"
   ]
  },
  {
   "cell_type": "markdown",
   "id": "a9c73040-a10e-4c0f-ae73-6a084a6ed80f",
   "metadata": {},
   "source": [
    "We can get a simple list of the channels, here returned as a Pandas dataframe (which naurally mirrors the information printed in the console/log above). This can be used programatically, e.g. saved as an object, etc."
   ]
  },
  {
   "cell_type": "code",
   "execution_count": 7,
   "id": "04917687-9c4e-4f0a-b81e-439b274c4195",
   "metadata": {},
   "outputs": [
    {
     "data": {
      "text/html": [
       "<div>\n",
       "<style scoped>\n",
       "    .dataframe tbody tr th:only-of-type {\n",
       "        vertical-align: middle;\n",
       "    }\n",
       "\n",
       "    .dataframe tbody tr th {\n",
       "        vertical-align: top;\n",
       "    }\n",
       "\n",
       "    .dataframe thead th {\n",
       "        text-align: right;\n",
       "    }\n",
       "</style>\n",
       "<table border=\"1\" class=\"dataframe\">\n",
       "  <thead>\n",
       "    <tr style=\"text-align: right;\">\n",
       "      <th></th>\n",
       "      <th>Channels</th>\n",
       "    </tr>\n",
       "  </thead>\n",
       "  <tbody>\n",
       "    <tr>\n",
       "      <th>0</th>\n",
       "      <td>SaO2</td>\n",
       "    </tr>\n",
       "    <tr>\n",
       "      <th>1</th>\n",
       "      <td>PR</td>\n",
       "    </tr>\n",
       "    <tr>\n",
       "      <th>2</th>\n",
       "      <td>EEG_sec</td>\n",
       "    </tr>\n",
       "    <tr>\n",
       "      <th>3</th>\n",
       "      <td>ECG</td>\n",
       "    </tr>\n",
       "    <tr>\n",
       "      <th>4</th>\n",
       "      <td>EMG</td>\n",
       "    </tr>\n",
       "    <tr>\n",
       "      <th>5</th>\n",
       "      <td>EOG_L</td>\n",
       "    </tr>\n",
       "    <tr>\n",
       "      <th>6</th>\n",
       "      <td>EOG_R</td>\n",
       "    </tr>\n",
       "    <tr>\n",
       "      <th>7</th>\n",
       "      <td>EEG</td>\n",
       "    </tr>\n",
       "    <tr>\n",
       "      <th>8</th>\n",
       "      <td>AIRFLOW</td>\n",
       "    </tr>\n",
       "    <tr>\n",
       "      <th>9</th>\n",
       "      <td>THOR_RES</td>\n",
       "    </tr>\n",
       "    <tr>\n",
       "      <th>10</th>\n",
       "      <td>ABDO_RES</td>\n",
       "    </tr>\n",
       "    <tr>\n",
       "      <th>11</th>\n",
       "      <td>POSITION</td>\n",
       "    </tr>\n",
       "    <tr>\n",
       "      <th>12</th>\n",
       "      <td>LIGHT</td>\n",
       "    </tr>\n",
       "    <tr>\n",
       "      <th>13</th>\n",
       "      <td>OX_STAT</td>\n",
       "    </tr>\n",
       "  </tbody>\n",
       "</table>\n",
       "</div>"
      ],
      "text/plain": [
       "    Channels\n",
       "0       SaO2\n",
       "1         PR\n",
       "2    EEG_sec\n",
       "3        ECG\n",
       "4        EMG\n",
       "5      EOG_L\n",
       "6      EOG_R\n",
       "7        EEG\n",
       "8    AIRFLOW\n",
       "9   THOR_RES\n",
       "10  ABDO_RES\n",
       "11  POSITION\n",
       "12     LIGHT\n",
       "13   OX_STAT"
      ]
     },
     "execution_count": 7,
     "metadata": {},
     "output_type": "execute_result"
    }
   ],
   "source": [
    "p.channels()"
   ]
  },
  {
   "cell_type": "markdown",
   "id": "9d072221-423e-422c-91e0-9667660fcfde",
   "metadata": {},
   "source": [
    "We can do likewise with any attached annotations by using `annots()` (in this case from the XML file):"
   ]
  },
  {
   "cell_type": "code",
   "execution_count": 8,
   "id": "086af92d-4ac4-4d7f-aa43-248fd6125303",
   "metadata": {},
   "outputs": [
    {
     "data": {
      "text/html": [
       "<div>\n",
       "<style scoped>\n",
       "    .dataframe tbody tr th:only-of-type {\n",
       "        vertical-align: middle;\n",
       "    }\n",
       "\n",
       "    .dataframe tbody tr th {\n",
       "        vertical-align: top;\n",
       "    }\n",
       "\n",
       "    .dataframe thead th {\n",
       "        text-align: right;\n",
       "    }\n",
       "</style>\n",
       "<table border=\"1\" class=\"dataframe\">\n",
       "  <thead>\n",
       "    <tr style=\"text-align: right;\">\n",
       "      <th></th>\n",
       "      <th>Annotations</th>\n",
       "    </tr>\n",
       "  </thead>\n",
       "  <tbody>\n",
       "    <tr>\n",
       "      <th>0</th>\n",
       "      <td>Arousal</td>\n",
       "    </tr>\n",
       "    <tr>\n",
       "      <th>1</th>\n",
       "      <td>Hypopnea</td>\n",
       "    </tr>\n",
       "    <tr>\n",
       "      <th>2</th>\n",
       "      <td>N1</td>\n",
       "    </tr>\n",
       "    <tr>\n",
       "      <th>3</th>\n",
       "      <td>N2</td>\n",
       "    </tr>\n",
       "    <tr>\n",
       "      <th>4</th>\n",
       "      <td>N3</td>\n",
       "    </tr>\n",
       "    <tr>\n",
       "      <th>5</th>\n",
       "      <td>Obstructive_Apnea</td>\n",
       "    </tr>\n",
       "    <tr>\n",
       "      <th>6</th>\n",
       "      <td>R</td>\n",
       "    </tr>\n",
       "    <tr>\n",
       "      <th>7</th>\n",
       "      <td>SpO2_artifact</td>\n",
       "    </tr>\n",
       "    <tr>\n",
       "      <th>8</th>\n",
       "      <td>SpO2_desaturation</td>\n",
       "    </tr>\n",
       "    <tr>\n",
       "      <th>9</th>\n",
       "      <td>W</td>\n",
       "    </tr>\n",
       "  </tbody>\n",
       "</table>\n",
       "</div>"
      ],
      "text/plain": [
       "         Annotations\n",
       "0            Arousal\n",
       "1           Hypopnea\n",
       "2                 N1\n",
       "3                 N2\n",
       "4                 N3\n",
       "5  Obstructive_Apnea\n",
       "6                  R\n",
       "7      SpO2_artifact\n",
       "8  SpO2_desaturation\n",
       "9                  W"
      ]
     },
     "execution_count": 8,
     "metadata": {},
     "output_type": "execute_result"
    }
   ],
   "source": [
    "p.annots()"
   ]
  },
  {
   "cell_type": "markdown",
   "id": "668be5ae-0a92-4882-808f-62485c5da152",
   "metadata": {},
   "source": [
    "Below we'll see how to get more information on channels and annotations, using the `HEADERS` and `ANNOTS` commands respectively."
   ]
  },
  {
   "cell_type": "markdown",
   "id": "bbc10da1-1558-449e-8e8e-db39ad10b78e",
   "metadata": {},
   "source": [
    "## Label remapping and sanitization"
   ]
  },
  {
   "cell_type": "markdown",
   "id": "55a8db46-084d-43fb-a21a-8abc55e37b69",
   "metadata": {},
   "source": [
    "As discussed in the original tutorial, by default Luna will _sanitize_ signal and annotation labels, with the aim of making them easier to work with downstream, e.g. by removing spaces and special characters.   Thus, the annotation above `Obstructive_Apnea` is actually `Obstructive Apnea` in the original XML, but Luna has modified it when reading it in (all intra-string special characters are reduced to underscores).   \n",
    "\n",
    "We can turn off this default behavior by setting the special variables `sanitize` and `keep-spaces` using the project-level `vars()` function.   See [this page](https://zzz.bwh.harvard.edu/luna/luna/args/) for details on the available options.  Here we supply a `dict` of option/value pairs: i.e. note the Python syntax of `{ 'key': value, 'key':value }`."
   ]
  },
  {
   "cell_type": "code",
   "execution_count": 9,
   "id": "cbd02552-a14c-4ca5-915c-64c31e1a0ba3",
   "metadata": {},
   "outputs": [],
   "source": [
    "proj.vars( { 'sanitize':'F' , 'keep-spaces':'T' } )"
   ]
  },
  {
   "cell_type": "markdown",
   "id": "01062728-39e3-40f6-b0be-f25cec0aaf20",
   "metadata": {},
   "source": [
    "Note that these particular options need to be set _before_ attaching an individual via `inst()`, as any mappings occur when first attaching a new individual instance.  Thus, as we've changed these options, we need to re-run the call to `inst()` to see any changes:"
   ]
  },
  {
   "cell_type": "code",
   "execution_count": 10,
   "id": "26add86d-3857-4175-8e3d-c1747acce98c",
   "metadata": {},
   "outputs": [
    {
     "name": "stderr",
     "output_type": "stream",
     "text": [
      "___________________________________________________________________\n",
      "Processing: learn-nsrr01 | tutorial/edfs/learn-nsrr01.edf\n",
      " duration 11.22.00, 40920s | time 21.58.17 - 09.20.17 | date 01.01.85\n",
      "\n",
      " signals: 14 (of 14) selected in a standard EDF file\n",
      "  SaO2 | PR | EEG(sec) | ECG | EMG | EOG(L) | EOG(R) | EEG\n",
      "  AIRFLOW | THOR RES | ABDO RES | POSITION | LIGHT | OX STAT\n"
     ]
    },
    {
     "data": {
      "text/html": [
       "<div>\n",
       "<style scoped>\n",
       "    .dataframe tbody tr th:only-of-type {\n",
       "        vertical-align: middle;\n",
       "    }\n",
       "\n",
       "    .dataframe tbody tr th {\n",
       "        vertical-align: top;\n",
       "    }\n",
       "\n",
       "    .dataframe thead th {\n",
       "        text-align: right;\n",
       "    }\n",
       "</style>\n",
       "<table border=\"1\" class=\"dataframe\">\n",
       "  <thead>\n",
       "    <tr style=\"text-align: right;\">\n",
       "      <th></th>\n",
       "      <th>Channels</th>\n",
       "    </tr>\n",
       "  </thead>\n",
       "  <tbody>\n",
       "    <tr>\n",
       "      <th>0</th>\n",
       "      <td>SaO2</td>\n",
       "    </tr>\n",
       "    <tr>\n",
       "      <th>1</th>\n",
       "      <td>PR</td>\n",
       "    </tr>\n",
       "    <tr>\n",
       "      <th>2</th>\n",
       "      <td>EEG(sec)</td>\n",
       "    </tr>\n",
       "    <tr>\n",
       "      <th>3</th>\n",
       "      <td>ECG</td>\n",
       "    </tr>\n",
       "    <tr>\n",
       "      <th>4</th>\n",
       "      <td>EMG</td>\n",
       "    </tr>\n",
       "    <tr>\n",
       "      <th>5</th>\n",
       "      <td>EOG(L)</td>\n",
       "    </tr>\n",
       "    <tr>\n",
       "      <th>6</th>\n",
       "      <td>EOG(R)</td>\n",
       "    </tr>\n",
       "    <tr>\n",
       "      <th>7</th>\n",
       "      <td>EEG</td>\n",
       "    </tr>\n",
       "    <tr>\n",
       "      <th>8</th>\n",
       "      <td>AIRFLOW</td>\n",
       "    </tr>\n",
       "    <tr>\n",
       "      <th>9</th>\n",
       "      <td>THOR RES</td>\n",
       "    </tr>\n",
       "    <tr>\n",
       "      <th>10</th>\n",
       "      <td>ABDO RES</td>\n",
       "    </tr>\n",
       "    <tr>\n",
       "      <th>11</th>\n",
       "      <td>POSITION</td>\n",
       "    </tr>\n",
       "    <tr>\n",
       "      <th>12</th>\n",
       "      <td>LIGHT</td>\n",
       "    </tr>\n",
       "    <tr>\n",
       "      <th>13</th>\n",
       "      <td>OX STAT</td>\n",
       "    </tr>\n",
       "  </tbody>\n",
       "</table>\n",
       "</div>"
      ],
      "text/plain": [
       "    Channels\n",
       "0       SaO2\n",
       "1         PR\n",
       "2   EEG(sec)\n",
       "3        ECG\n",
       "4        EMG\n",
       "5     EOG(L)\n",
       "6     EOG(R)\n",
       "7        EEG\n",
       "8    AIRFLOW\n",
       "9   THOR RES\n",
       "10  ABDO RES\n",
       "11  POSITION\n",
       "12     LIGHT\n",
       "13   OX STAT"
      ]
     },
     "execution_count": 10,
     "metadata": {},
     "output_type": "execute_result"
    }
   ],
   "source": [
    "p = proj.inst( 1 ) \n",
    "p.channels()"
   ]
  },
  {
   "cell_type": "code",
   "execution_count": 11,
   "id": "6ba65a5c-de46-4af5-bf11-a3d5cebb783a",
   "metadata": {},
   "outputs": [
    {
     "data": {
      "text/html": [
       "<div>\n",
       "<style scoped>\n",
       "    .dataframe tbody tr th:only-of-type {\n",
       "        vertical-align: middle;\n",
       "    }\n",
       "\n",
       "    .dataframe tbody tr th {\n",
       "        vertical-align: top;\n",
       "    }\n",
       "\n",
       "    .dataframe thead th {\n",
       "        text-align: right;\n",
       "    }\n",
       "</style>\n",
       "<table border=\"1\" class=\"dataframe\">\n",
       "  <thead>\n",
       "    <tr style=\"text-align: right;\">\n",
       "      <th></th>\n",
       "      <th>Annotations</th>\n",
       "    </tr>\n",
       "  </thead>\n",
       "  <tbody>\n",
       "    <tr>\n",
       "      <th>0</th>\n",
       "      <td>Arousal ()</td>\n",
       "    </tr>\n",
       "    <tr>\n",
       "      <th>1</th>\n",
       "      <td>Hypopnea</td>\n",
       "    </tr>\n",
       "    <tr>\n",
       "      <th>2</th>\n",
       "      <td>N1</td>\n",
       "    </tr>\n",
       "    <tr>\n",
       "      <th>3</th>\n",
       "      <td>N2</td>\n",
       "    </tr>\n",
       "    <tr>\n",
       "      <th>4</th>\n",
       "      <td>N3</td>\n",
       "    </tr>\n",
       "    <tr>\n",
       "      <th>5</th>\n",
       "      <td>Obstructive Apnea</td>\n",
       "    </tr>\n",
       "    <tr>\n",
       "      <th>6</th>\n",
       "      <td>R</td>\n",
       "    </tr>\n",
       "    <tr>\n",
       "      <th>7</th>\n",
       "      <td>SpO2 artifact</td>\n",
       "    </tr>\n",
       "    <tr>\n",
       "      <th>8</th>\n",
       "      <td>SpO2 desaturation</td>\n",
       "    </tr>\n",
       "    <tr>\n",
       "      <th>9</th>\n",
       "      <td>W</td>\n",
       "    </tr>\n",
       "  </tbody>\n",
       "</table>\n",
       "</div>"
      ],
      "text/plain": [
       "         Annotations\n",
       "0         Arousal ()\n",
       "1           Hypopnea\n",
       "2                 N1\n",
       "3                 N2\n",
       "4                 N3\n",
       "5  Obstructive Apnea\n",
       "6                  R\n",
       "7      SpO2 artifact\n",
       "8  SpO2 desaturation\n",
       "9                  W"
      ]
     },
     "execution_count": 11,
     "metadata": {},
     "output_type": "execute_result"
    }
   ],
   "source": [
    "p.annots()"
   ]
  },
  {
   "cell_type": "code",
   "execution_count": 12,
   "id": "14ae456d-775b-4268-a115-b38fa5fd96b9",
   "metadata": {},
   "outputs": [
    {
     "data": {
      "text/html": [
       "<div>\n",
       "<style scoped>\n",
       "    .dataframe tbody tr th:only-of-type {\n",
       "        vertical-align: middle;\n",
       "    }\n",
       "\n",
       "    .dataframe tbody tr th {\n",
       "        vertical-align: top;\n",
       "    }\n",
       "\n",
       "    .dataframe thead th {\n",
       "        text-align: right;\n",
       "    }\n",
       "</style>\n",
       "<table border=\"1\" class=\"dataframe\">\n",
       "  <thead>\n",
       "    <tr style=\"text-align: right;\">\n",
       "      <th></th>\n",
       "      <th>ID</th>\n",
       "      <th>Gapped</th>\n",
       "      <th>Date</th>\n",
       "      <th>Start(hms)</th>\n",
       "      <th>Stop(hms)</th>\n",
       "      <th>Dur(hms)</th>\n",
       "      <th>Dur(s)</th>\n",
       "      <th># sigs</th>\n",
       "      <th># annots</th>\n",
       "      <th>Signals</th>\n",
       "    </tr>\n",
       "  </thead>\n",
       "  <tbody>\n",
       "    <tr>\n",
       "      <th>1</th>\n",
       "      <td>learn-nsrr01</td>\n",
       "      <td>N</td>\n",
       "      <td>01.01.85</td>\n",
       "      <td>21.58.17</td>\n",
       "      <td>09.20.17</td>\n",
       "      <td>11:22:00</td>\n",
       "      <td>40920</td>\n",
       "      <td>14/14</td>\n",
       "      <td>10</td>\n",
       "      <td>SaO2[1] PR[1] EEG(sec)[125] ECG[250] EMG[125] EOG(L)[50] EOG(R)[50] EEG[125] AIRFLOW[10] THOR RES[10] ABDO RES[10] POSITION[1] LIGHT[1] OX STAT[1]</td>\n",
       "    </tr>\n",
       "    <tr>\n",
       "      <th>2</th>\n",
       "      <td>learn-nsrr02</td>\n",
       "      <td>N</td>\n",
       "      <td>01.01.85</td>\n",
       "      <td>21.18.06</td>\n",
       "      <td>07.15.36</td>\n",
       "      <td>09:57:30</td>\n",
       "      <td>35850</td>\n",
       "      <td>14/14</td>\n",
       "      <td>10</td>\n",
       "      <td>SaO2[1] PR[1] EEG(sec)[125] ECG[250] EMG[125] EOG(L)[50] EOG(R)[50] EEG[125] AIRFLOW[10] THOR RES[10] ABDO RES[10] POSITION[1] LIGHT[1] OX STAT[1]</td>\n",
       "    </tr>\n",
       "    <tr>\n",
       "      <th>3</th>\n",
       "      <td>learn-nsrr03</td>\n",
       "      <td>N</td>\n",
       "      <td>01.01.85</td>\n",
       "      <td>20.15.00</td>\n",
       "      <td>07.37.00</td>\n",
       "      <td>11:22:00</td>\n",
       "      <td>40920</td>\n",
       "      <td>14/14</td>\n",
       "      <td>10</td>\n",
       "      <td>SaO2[1] PR[1] EEG(sec)[125] ECG[250] EMG[125] EOG(L)[50] EOG(R)[50] EEG[125] AIRFLOW[10] THOR RES[10] ABDO RES[10] POSITION[1] LIGHT[1] OX STAT[1]</td>\n",
       "    </tr>\n",
       "  </tbody>\n",
       "</table>\n",
       "</div>"
      ],
      "text/plain": [
       "             ID Gapped      Date Start(hms) Stop(hms)  Dur(hms) Dur(s) # sigs  \\\n",
       "1  learn-nsrr01      N  01.01.85   21.58.17  09.20.17  11:22:00  40920  14/14   \n",
       "2  learn-nsrr02      N  01.01.85   21.18.06  07.15.36  09:57:30  35850  14/14   \n",
       "3  learn-nsrr03      N  01.01.85   20.15.00  07.37.00  11:22:00  40920  14/14   \n",
       "\n",
       "  # annots  \\\n",
       "1       10   \n",
       "2       10   \n",
       "3       10   \n",
       "\n",
       "                                                                                                                                              Signals  \n",
       "1  SaO2[1] PR[1] EEG(sec)[125] ECG[250] EMG[125] EOG(L)[50] EOG(R)[50] EEG[125] AIRFLOW[10] THOR RES[10] ABDO RES[10] POSITION[1] LIGHT[1] OX STAT[1]  \n",
       "2  SaO2[1] PR[1] EEG(sec)[125] ECG[250] EMG[125] EOG(L)[50] EOG(R)[50] EEG[125] AIRFLOW[10] THOR RES[10] ABDO RES[10] POSITION[1] LIGHT[1] OX STAT[1]  \n",
       "3  SaO2[1] PR[1] EEG(sec)[125] ECG[250] EMG[125] EOG(L)[50] EOG(R)[50] EEG[125] AIRFLOW[10] THOR RES[10] ABDO RES[10] POSITION[1] LIGHT[1] OX STAT[1]  "
      ]
     },
     "metadata": {},
     "output_type": "display_data"
    }
   ],
   "source": [
    "proj.desc()"
   ]
  },
  {
   "cell_type": "markdown",
   "id": "418e5d09-cf7d-41ee-99b8-e246127bd075",
   "metadata": {},
   "source": [
    "We'll reset these options for the rest of this tutorial however, i.e. to keep Luna's default approach to adjusting labels:"
   ]
  },
  {
   "cell_type": "code",
   "execution_count": 13,
   "id": "8cbd19c2-eeb5-4bf0-b06d-613e060b0f06",
   "metadata": {},
   "outputs": [],
   "source": [
    "proj.vars( { 'sanitize':'T' , 'keep-spaces':'F' } )"
   ]
  },
  {
   "cell_type": "markdown",
   "id": "633b3f32-29f6-41a9-8886-fb7867e073cb",
   "metadata": {},
   "source": [
    "## Signal summary statistics"
   ]
  },
  {
   "cell_type": "markdown",
   "id": "82a583a9-d98b-4cdc-b18a-d14809da4f0d",
   "metadata": {},
   "source": [
    "The next step of the tutorial involves calculating some simple signal summary statistics (e.g. mean, RMS, etc).  This introduces two key concepts:  \n",
    "\n",
    "   * how to apply one or more [Luna commands](https://zzz.bwh.harvard.edu/luna/ref/) to one or more individuals\n",
    "   * and how to work with the output mechanism to retrieve the results.\n",
    "\n",
    "Here we start by looking at a single individual (the first person from the sample list, which we've already associated with the variable `p` above).  Any valid Luna script/commands (here `STATS`) can be passed via the `eval()` (or equivalently `proc()`) functions.   "
   ]
  },
  {
   "cell_type": "code",
   "execution_count": 14,
   "id": "183d94d9-b1f8-43c6-98d1-7d18e9f3a8e2",
   "metadata": {},
   "outputs": [
    {
     "name": "stderr",
     "output_type": "stream",
     "text": [
      " ..................................................................\n",
      " CMD #1: STATS\n",
      "   options: sig=*\n",
      "  processing: SaO2 PR EEG(sec) ECG EMG EOG(L) EOG(R) EEG AIRFLOW THOR RES ABDO RES POSITION LIGHT OX STAT\n"
     ]
    },
    {
     "data": {
      "text/html": [
       "<div>\n",
       "<style scoped>\n",
       "    .dataframe tbody tr th:only-of-type {\n",
       "        vertical-align: middle;\n",
       "    }\n",
       "\n",
       "    .dataframe tbody tr th {\n",
       "        vertical-align: top;\n",
       "    }\n",
       "\n",
       "    .dataframe thead th {\n",
       "        text-align: right;\n",
       "    }\n",
       "</style>\n",
       "<table border=\"1\" class=\"dataframe\">\n",
       "  <thead>\n",
       "    <tr style=\"text-align: right;\">\n",
       "      <th></th>\n",
       "      <th>Command</th>\n",
       "      <th>Strata</th>\n",
       "    </tr>\n",
       "  </thead>\n",
       "  <tbody>\n",
       "    <tr>\n",
       "      <th>0</th>\n",
       "      <td>STATS</td>\n",
       "      <td>CH</td>\n",
       "    </tr>\n",
       "  </tbody>\n",
       "</table>\n",
       "</div>"
      ],
      "text/plain": [
       "  Command Strata\n",
       "0   STATS     CH"
      ]
     },
     "execution_count": 14,
     "metadata": {},
     "output_type": "execute_result"
    }
   ],
   "source": [
    "p.eval( 'STATS' )"
   ]
  },
  {
   "cell_type": "markdown",
   "id": "1b014816-516e-4d01-8c01-232d8ad06e7b",
   "metadata": {},
   "source": [
    "The output above is the same as you'd see on the console if running command-line Luna.  The `eval()` function also returns a table (Pandas dataframe) that mirrors what the command-line `destrat` tool would report if querying the output generated here.  There is only a single table of results, which is _stratified_ by channel (`CH`).  That is, each variable (e.g. `RMS`) can have multiple values, each associated with a different channel.  \n",
    "\n",
    "After running `eval()` or `proc()` for an individual, any output is stored in that individual's _result cache_ (but note, this is overwritten by each new call of `eval()` or `proc()`).   To see the tables in the cache at any time, you can explicitly call the `strata()` function:"
   ]
  },
  {
   "cell_type": "code",
   "execution_count": 15,
   "id": "3af67669-4b14-40a1-81ae-0868b9e61c0e",
   "metadata": {},
   "outputs": [
    {
     "data": {
      "text/html": [
       "<div>\n",
       "<style scoped>\n",
       "    .dataframe tbody tr th:only-of-type {\n",
       "        vertical-align: middle;\n",
       "    }\n",
       "\n",
       "    .dataframe tbody tr th {\n",
       "        vertical-align: top;\n",
       "    }\n",
       "\n",
       "    .dataframe thead th {\n",
       "        text-align: right;\n",
       "    }\n",
       "</style>\n",
       "<table border=\"1\" class=\"dataframe\">\n",
       "  <thead>\n",
       "    <tr style=\"text-align: right;\">\n",
       "      <th></th>\n",
       "      <th>Command</th>\n",
       "      <th>Strata</th>\n",
       "    </tr>\n",
       "  </thead>\n",
       "  <tbody>\n",
       "    <tr>\n",
       "      <th>0</th>\n",
       "      <td>STATS</td>\n",
       "      <td>CH</td>\n",
       "    </tr>\n",
       "  </tbody>\n",
       "</table>\n",
       "</div>"
      ],
      "text/plain": [
       "  Command Strata\n",
       "0   STATS     CH"
      ]
     },
     "execution_count": 15,
     "metadata": {},
     "output_type": "execute_result"
    }
   ],
   "source": [
    "p.strata()"
   ]
  },
  {
   "cell_type": "markdown",
   "id": "4b762bd6-dbb4-43da-b1fc-5c8f79a4334a",
   "metadata": {},
   "source": [
    "To extract a table of results (as a Pandas dataframe), you can use `table()`, passing it the command and strata labels, i.e. the values reported in the rows of `strata()`:"
   ]
  },
  {
   "cell_type": "code",
   "execution_count": 16,
   "id": "fbf15a51-3860-4710-b008-7a893c58b14b",
   "metadata": {},
   "outputs": [
    {
     "data": {
      "text/html": [
       "<div>\n",
       "<style scoped>\n",
       "    .dataframe tbody tr th:only-of-type {\n",
       "        vertical-align: middle;\n",
       "    }\n",
       "\n",
       "    .dataframe tbody tr th {\n",
       "        vertical-align: top;\n",
       "    }\n",
       "\n",
       "    .dataframe thead th {\n",
       "        text-align: right;\n",
       "    }\n",
       "</style>\n",
       "<table border=\"1\" class=\"dataframe\">\n",
       "  <thead>\n",
       "    <tr style=\"text-align: right;\">\n",
       "      <th></th>\n",
       "      <th>ID</th>\n",
       "      <th>CH</th>\n",
       "      <th>KURT</th>\n",
       "      <th>MAX</th>\n",
       "      <th>MEAN</th>\n",
       "      <th>MIN</th>\n",
       "      <th>P01</th>\n",
       "      <th>P02</th>\n",
       "      <th>P05</th>\n",
       "      <th>P10</th>\n",
       "      <th>...</th>\n",
       "      <th>P60</th>\n",
       "      <th>P70</th>\n",
       "      <th>P80</th>\n",
       "      <th>P90</th>\n",
       "      <th>P95</th>\n",
       "      <th>P98</th>\n",
       "      <th>P99</th>\n",
       "      <th>RMS</th>\n",
       "      <th>SD</th>\n",
       "      <th>SKEW</th>\n",
       "    </tr>\n",
       "  </thead>\n",
       "  <tbody>\n",
       "    <tr>\n",
       "      <th>0</th>\n",
       "      <td>learn-nsrr01</td>\n",
       "      <td>ABDO RES</td>\n",
       "      <td>5.26486</td>\n",
       "      <td>0.992157</td>\n",
       "      <td>0.021829</td>\n",
       "      <td>-1.0</td>\n",
       "      <td>-0.709804</td>\n",
       "      <td>-0.505882</td>\n",
       "      <td>-0.317647</td>\n",
       "      <td>-0.2</td>\n",
       "      <td>...</td>\n",
       "      <td>0.027451</td>\n",
       "      <td>0.05098</td>\n",
       "      <td>0.098039</td>\n",
       "      <td>0.262745</td>\n",
       "      <td>0.435294</td>\n",
       "      <td>0.662745</td>\n",
       "      <td>0.87451</td>\n",
       "      <td>0.235721</td>\n",
       "      <td>0.234708</td>\n",
       "      <td>0.334763</td>\n",
       "    </tr>\n",
       "    <tr>\n",
       "      <th>1</th>\n",
       "      <td>learn-nsrr01</td>\n",
       "      <td>AIRFLOW</td>\n",
       "      <td>20.490936</td>\n",
       "      <td>0.992157</td>\n",
       "      <td>0.066442</td>\n",
       "      <td>-1.0</td>\n",
       "      <td>-0.2</td>\n",
       "      <td>-0.129412</td>\n",
       "      <td>-0.066667</td>\n",
       "      <td>-0.027451</td>\n",
       "      <td>...</td>\n",
       "      <td>0.07451</td>\n",
       "      <td>0.090196</td>\n",
       "      <td>0.113725</td>\n",
       "      <td>0.160784</td>\n",
       "      <td>0.207843</td>\n",
       "      <td>0.278431</td>\n",
       "      <td>0.34902</td>\n",
       "      <td>0.121956</td>\n",
       "      <td>0.102268</td>\n",
       "      <td>0.138384</td>\n",
       "    </tr>\n",
       "    <tr>\n",
       "      <th>2</th>\n",
       "      <td>learn-nsrr01</td>\n",
       "      <td>ECG</td>\n",
       "      <td>13.984303</td>\n",
       "      <td>1.25</td>\n",
       "      <td>0.009396</td>\n",
       "      <td>-1.240196</td>\n",
       "      <td>-1.240196</td>\n",
       "      <td>-0.857843</td>\n",
       "      <td>-0.191176</td>\n",
       "      <td>-0.083333</td>\n",
       "      <td>...</td>\n",
       "      <td>0.02451</td>\n",
       "      <td>0.034314</td>\n",
       "      <td>0.034314</td>\n",
       "      <td>0.083333</td>\n",
       "      <td>0.210784</td>\n",
       "      <td>0.828431</td>\n",
       "      <td>1.25</td>\n",
       "      <td>0.266661</td>\n",
       "      <td>0.266495</td>\n",
       "      <td>-0.115245</td>\n",
       "    </tr>\n",
       "    <tr>\n",
       "      <th>3</th>\n",
       "      <td>learn-nsrr01</td>\n",
       "      <td>EEG</td>\n",
       "      <td>4.657487</td>\n",
       "      <td>125.0</td>\n",
       "      <td>-0.301199</td>\n",
       "      <td>-124.019608</td>\n",
       "      <td>-124.019608</td>\n",
       "      <td>-124.019608</td>\n",
       "      <td>-70.098039</td>\n",
       "      <td>-24.019608</td>\n",
       "      <td>...</td>\n",
       "      <td>2.45098</td>\n",
       "      <td>4.411765</td>\n",
       "      <td>8.333333</td>\n",
       "      <td>23.039216</td>\n",
       "      <td>72.058824</td>\n",
       "      <td>125.0</td>\n",
       "      <td>125.0</td>\n",
       "      <td>37.801351</td>\n",
       "      <td>37.800154</td>\n",
       "      <td>0.086212</td>\n",
       "    </tr>\n",
       "    <tr>\n",
       "      <th>4</th>\n",
       "      <td>learn-nsrr01</td>\n",
       "      <td>EEG(sec)</td>\n",
       "      <td>4.703039</td>\n",
       "      <td>125.0</td>\n",
       "      <td>1.185578</td>\n",
       "      <td>-124.019608</td>\n",
       "      <td>-124.019608</td>\n",
       "      <td>-124.019608</td>\n",
       "      <td>-78.921569</td>\n",
       "      <td>-20.098039</td>\n",
       "      <td>...</td>\n",
       "      <td>3.431373</td>\n",
       "      <td>6.372549</td>\n",
       "      <td>10.294118</td>\n",
       "      <td>22.058824</td>\n",
       "      <td>78.921569</td>\n",
       "      <td>125.0</td>\n",
       "      <td>125.0</td>\n",
       "      <td>40.325406</td>\n",
       "      <td>40.307978</td>\n",
       "      <td>-0.068798</td>\n",
       "    </tr>\n",
       "    <tr>\n",
       "      <th>5</th>\n",
       "      <td>learn-nsrr01</td>\n",
       "      <td>EMG</td>\n",
       "      <td>2.562353</td>\n",
       "      <td>31.5</td>\n",
       "      <td>-6.855696</td>\n",
       "      <td>-31.252941</td>\n",
       "      <td>-31.252941</td>\n",
       "      <td>-31.252941</td>\n",
       "      <td>-31.252941</td>\n",
       "      <td>-31.252941</td>\n",
       "      <td>...</td>\n",
       "      <td>-4.076471</td>\n",
       "      <td>-3.335294</td>\n",
       "      <td>-2.594118</td>\n",
       "      <td>-0.370588</td>\n",
       "      <td>5.311765</td>\n",
       "      <td>31.5</td>\n",
       "      <td>31.5</td>\n",
       "      <td>13.970074</td>\n",
       "      <td>12.172199</td>\n",
       "      <td>0.033768</td>\n",
       "    </tr>\n",
       "    <tr>\n",
       "      <th>6</th>\n",
       "      <td>learn-nsrr01</td>\n",
       "      <td>EOG(L)</td>\n",
       "      <td>1.926088</td>\n",
       "      <td>125.0</td>\n",
       "      <td>0.472551</td>\n",
       "      <td>-124.019608</td>\n",
       "      <td>-124.019608</td>\n",
       "      <td>-124.019608</td>\n",
       "      <td>-124.019608</td>\n",
       "      <td>-61.27451</td>\n",
       "      <td>...</td>\n",
       "      <td>2.45098</td>\n",
       "      <td>4.411765</td>\n",
       "      <td>8.333333</td>\n",
       "      <td>52.45098</td>\n",
       "      <td>125.0</td>\n",
       "      <td>125.0</td>\n",
       "      <td>125.0</td>\n",
       "      <td>54.461877</td>\n",
       "      <td>54.45984</td>\n",
       "      <td>-0.026404</td>\n",
       "    </tr>\n",
       "    <tr>\n",
       "      <th>7</th>\n",
       "      <td>learn-nsrr01</td>\n",
       "      <td>EOG(R)</td>\n",
       "      <td>2.016313</td>\n",
       "      <td>125.0</td>\n",
       "      <td>0.321447</td>\n",
       "      <td>-124.019608</td>\n",
       "      <td>-124.019608</td>\n",
       "      <td>-124.019608</td>\n",
       "      <td>-124.019608</td>\n",
       "      <td>-56.372549</td>\n",
       "      <td>...</td>\n",
       "      <td>2.45098</td>\n",
       "      <td>4.411765</td>\n",
       "      <td>7.352941</td>\n",
       "      <td>46.568627</td>\n",
       "      <td>125.0</td>\n",
       "      <td>125.0</td>\n",
       "      <td>125.0</td>\n",
       "      <td>54.009293</td>\n",
       "      <td>54.00835</td>\n",
       "      <td>-0.024934</td>\n",
       "    </tr>\n",
       "    <tr>\n",
       "      <th>8</th>\n",
       "      <td>learn-nsrr01</td>\n",
       "      <td>LIGHT</td>\n",
       "      <td>360.359887</td>\n",
       "      <td>1.0</td>\n",
       "      <td>0.997263</td>\n",
       "      <td>0.0</td>\n",
       "      <td>1.0</td>\n",
       "      <td>1.0</td>\n",
       "      <td>1.0</td>\n",
       "      <td>1.0</td>\n",
       "      <td>...</td>\n",
       "      <td>1.0</td>\n",
       "      <td>1.0</td>\n",
       "      <td>1.0</td>\n",
       "      <td>1.0</td>\n",
       "      <td>1.0</td>\n",
       "      <td>1.0</td>\n",
       "      <td>1.0</td>\n",
       "      <td>0.998631</td>\n",
       "      <td>0.052246</td>\n",
       "      <td>-19.035055</td>\n",
       "    </tr>\n",
       "    <tr>\n",
       "      <th>9</th>\n",
       "      <td>learn-nsrr01</td>\n",
       "      <td>OX STAT</td>\n",
       "      <td>-0.063555</td>\n",
       "      <td>2.0</td>\n",
       "      <td>0.428886</td>\n",
       "      <td>0.0</td>\n",
       "      <td>0.0</td>\n",
       "      <td>0.0</td>\n",
       "      <td>0.0</td>\n",
       "      <td>0.0</td>\n",
       "      <td>...</td>\n",
       "      <td>0.0</td>\n",
       "      <td>0.0</td>\n",
       "      <td>2.0</td>\n",
       "      <td>2.0</td>\n",
       "      <td>2.0</td>\n",
       "      <td>2.0</td>\n",
       "      <td>2.0</td>\n",
       "      <td>0.926107</td>\n",
       "      <td>0.820821</td>\n",
       "      <td>1.391434</td>\n",
       "    </tr>\n",
       "    <tr>\n",
       "      <th>10</th>\n",
       "      <td>learn-nsrr01</td>\n",
       "      <td>POSITION</td>\n",
       "      <td>-1.415476</td>\n",
       "      <td>3.0</td>\n",
       "      <td>1.654423</td>\n",
       "      <td>0.0</td>\n",
       "      <td>0.0</td>\n",
       "      <td>0.0</td>\n",
       "      <td>1.0</td>\n",
       "      <td>1.0</td>\n",
       "      <td>...</td>\n",
       "      <td>1.0</td>\n",
       "      <td>3.0</td>\n",
       "      <td>3.0</td>\n",
       "      <td>3.0</td>\n",
       "      <td>3.0</td>\n",
       "      <td>3.0</td>\n",
       "      <td>3.0</td>\n",
       "      <td>1.915741</td>\n",
       "      <td>0.965904</td>\n",
       "      <td>0.568188</td>\n",
       "    </tr>\n",
       "    <tr>\n",
       "      <th>11</th>\n",
       "      <td>learn-nsrr01</td>\n",
       "      <td>PR</td>\n",
       "      <td>2.311002</td>\n",
       "      <td>200.0</td>\n",
       "      <td>57.348522</td>\n",
       "      <td>0.201419</td>\n",
       "      <td>0.201419</td>\n",
       "      <td>0.201419</td>\n",
       "      <td>0.201419</td>\n",
       "      <td>0.201419</td>\n",
       "      <td>...</td>\n",
       "      <td>68.36347</td>\n",
       "      <td>70.316625</td>\n",
       "      <td>72.26978</td>\n",
       "      <td>75.199512</td>\n",
       "      <td>79.301137</td>\n",
       "      <td>89.262226</td>\n",
       "      <td>147.261769</td>\n",
       "      <td>64.952329</td>\n",
       "      <td>30.495489</td>\n",
       "      <td>-0.457502</td>\n",
       "    </tr>\n",
       "    <tr>\n",
       "      <th>12</th>\n",
       "      <td>learn-nsrr01</td>\n",
       "      <td>SaO2</td>\n",
       "      <td>0.424721</td>\n",
       "      <td>99.119554</td>\n",
       "      <td>76.924249</td>\n",
       "      <td>0.10071</td>\n",
       "      <td>0.10071</td>\n",
       "      <td>0.10071</td>\n",
       "      <td>0.10071</td>\n",
       "      <td>0.10071</td>\n",
       "      <td>...</td>\n",
       "      <td>95.115587</td>\n",
       "      <td>96.092164</td>\n",
       "      <td>97.1664</td>\n",
       "      <td>98.142977</td>\n",
       "      <td>98.142977</td>\n",
       "      <td>99.119554</td>\n",
       "      <td>99.119554</td>\n",
       "      <td>85.566543</td>\n",
       "      <td>37.474358</td>\n",
       "      <td>-1.54459</td>\n",
       "    </tr>\n",
       "    <tr>\n",
       "      <th>13</th>\n",
       "      <td>learn-nsrr01</td>\n",
       "      <td>THOR RES</td>\n",
       "      <td>8.252121</td>\n",
       "      <td>0.992157</td>\n",
       "      <td>0.001189</td>\n",
       "      <td>-1.0</td>\n",
       "      <td>-0.482353</td>\n",
       "      <td>-0.341176</td>\n",
       "      <td>-0.223529</td>\n",
       "      <td>-0.160784</td>\n",
       "      <td>...</td>\n",
       "      <td>0.011765</td>\n",
       "      <td>0.043137</td>\n",
       "      <td>0.105882</td>\n",
       "      <td>0.2</td>\n",
       "      <td>0.286275</td>\n",
       "      <td>0.411765</td>\n",
       "      <td>0.552941</td>\n",
       "      <td>0.180598</td>\n",
       "      <td>0.180594</td>\n",
       "      <td>0.296055</td>\n",
       "    </tr>\n",
       "  </tbody>\n",
       "</table>\n",
       "<p>14 rows × 24 columns</p>\n",
       "</div>"
      ],
      "text/plain": [
       "              ID        CH        KURT        MAX       MEAN         MIN  \\\n",
       "0   learn-nsrr01  ABDO RES     5.26486   0.992157   0.021829        -1.0   \n",
       "1   learn-nsrr01   AIRFLOW   20.490936   0.992157   0.066442        -1.0   \n",
       "2   learn-nsrr01       ECG   13.984303       1.25   0.009396   -1.240196   \n",
       "3   learn-nsrr01       EEG    4.657487      125.0  -0.301199 -124.019608   \n",
       "4   learn-nsrr01  EEG(sec)    4.703039      125.0   1.185578 -124.019608   \n",
       "5   learn-nsrr01       EMG    2.562353       31.5  -6.855696  -31.252941   \n",
       "6   learn-nsrr01    EOG(L)    1.926088      125.0   0.472551 -124.019608   \n",
       "7   learn-nsrr01    EOG(R)    2.016313      125.0   0.321447 -124.019608   \n",
       "8   learn-nsrr01     LIGHT  360.359887        1.0   0.997263         0.0   \n",
       "9   learn-nsrr01   OX STAT   -0.063555        2.0   0.428886         0.0   \n",
       "10  learn-nsrr01  POSITION   -1.415476        3.0   1.654423         0.0   \n",
       "11  learn-nsrr01        PR    2.311002      200.0  57.348522    0.201419   \n",
       "12  learn-nsrr01      SaO2    0.424721  99.119554  76.924249     0.10071   \n",
       "13  learn-nsrr01  THOR RES    8.252121   0.992157   0.001189        -1.0   \n",
       "\n",
       "           P01         P02         P05        P10  ...        P60        P70  \\\n",
       "0    -0.709804   -0.505882   -0.317647       -0.2  ...   0.027451    0.05098   \n",
       "1         -0.2   -0.129412   -0.066667  -0.027451  ...    0.07451   0.090196   \n",
       "2    -1.240196   -0.857843   -0.191176  -0.083333  ...    0.02451   0.034314   \n",
       "3  -124.019608 -124.019608  -70.098039 -24.019608  ...    2.45098   4.411765   \n",
       "4  -124.019608 -124.019608  -78.921569 -20.098039  ...   3.431373   6.372549   \n",
       "5   -31.252941  -31.252941  -31.252941 -31.252941  ...  -4.076471  -3.335294   \n",
       "6  -124.019608 -124.019608 -124.019608  -61.27451  ...    2.45098   4.411765   \n",
       "7  -124.019608 -124.019608 -124.019608 -56.372549  ...    2.45098   4.411765   \n",
       "8          1.0         1.0         1.0        1.0  ...        1.0        1.0   \n",
       "9          0.0         0.0         0.0        0.0  ...        0.0        0.0   \n",
       "10         0.0         0.0         1.0        1.0  ...        1.0        3.0   \n",
       "11    0.201419    0.201419    0.201419   0.201419  ...   68.36347  70.316625   \n",
       "12     0.10071     0.10071     0.10071    0.10071  ...  95.115587  96.092164   \n",
       "13   -0.482353   -0.341176   -0.223529  -0.160784  ...   0.011765   0.043137   \n",
       "\n",
       "          P80        P90        P95        P98         P99        RMS  \\\n",
       "0    0.098039   0.262745   0.435294   0.662745     0.87451   0.235721   \n",
       "1    0.113725   0.160784   0.207843   0.278431     0.34902   0.121956   \n",
       "2    0.034314   0.083333   0.210784   0.828431        1.25   0.266661   \n",
       "3    8.333333  23.039216  72.058824      125.0       125.0  37.801351   \n",
       "4   10.294118  22.058824  78.921569      125.0       125.0  40.325406   \n",
       "5   -2.594118  -0.370588   5.311765       31.5        31.5  13.970074   \n",
       "6    8.333333   52.45098      125.0      125.0       125.0  54.461877   \n",
       "7    7.352941  46.568627      125.0      125.0       125.0  54.009293   \n",
       "8         1.0        1.0        1.0        1.0         1.0   0.998631   \n",
       "9         2.0        2.0        2.0        2.0         2.0   0.926107   \n",
       "10        3.0        3.0        3.0        3.0         3.0   1.915741   \n",
       "11   72.26978  75.199512  79.301137  89.262226  147.261769  64.952329   \n",
       "12    97.1664  98.142977  98.142977  99.119554   99.119554  85.566543   \n",
       "13   0.105882        0.2   0.286275   0.411765    0.552941   0.180598   \n",
       "\n",
       "           SD       SKEW  \n",
       "0    0.234708   0.334763  \n",
       "1    0.102268   0.138384  \n",
       "2    0.266495  -0.115245  \n",
       "3   37.800154   0.086212  \n",
       "4   40.307978  -0.068798  \n",
       "5   12.172199   0.033768  \n",
       "6    54.45984  -0.026404  \n",
       "7    54.00835  -0.024934  \n",
       "8    0.052246 -19.035055  \n",
       "9    0.820821   1.391434  \n",
       "10   0.965904   0.568188  \n",
       "11  30.495489  -0.457502  \n",
       "12  37.474358   -1.54459  \n",
       "13   0.180594   0.296055  \n",
       "\n",
       "[14 rows x 24 columns]"
      ]
     },
     "execution_count": 16,
     "metadata": {},
     "output_type": "execute_result"
    }
   ],
   "source": [
    "p.table( 'STATS' , 'CH' )"
   ]
  },
  {
   "cell_type": "markdown",
   "id": "7d7f1fed-1b3b-4102-9865-ea1ab05c1fca",
   "metadata": {},
   "source": [
    "This displays the whole table: you can alternatively copy it to a Python object - here we'll typically use `t` to refer to the current result table under consideration.  You can naturally use the array of Python/Pandas functionality to manipulate those results: e.g. extratcing a sub-table of the mean for just three channels:"
   ]
  },
  {
   "cell_type": "code",
   "execution_count": 17,
   "id": "f7c35301-7e57-4ded-b997-8c30511a35b6",
   "metadata": {},
   "outputs": [
    {
     "data": {
      "text/html": [
       "<div>\n",
       "<style scoped>\n",
       "    .dataframe tbody tr th:only-of-type {\n",
       "        vertical-align: middle;\n",
       "    }\n",
       "\n",
       "    .dataframe tbody tr th {\n",
       "        vertical-align: top;\n",
       "    }\n",
       "\n",
       "    .dataframe thead th {\n",
       "        text-align: right;\n",
       "    }\n",
       "</style>\n",
       "<table border=\"1\" class=\"dataframe\">\n",
       "  <thead>\n",
       "    <tr style=\"text-align: right;\">\n",
       "      <th></th>\n",
       "      <th>CH</th>\n",
       "      <th>MEAN</th>\n",
       "    </tr>\n",
       "  </thead>\n",
       "  <tbody>\n",
       "    <tr>\n",
       "      <th>2</th>\n",
       "      <td>ECG</td>\n",
       "      <td>0.009396</td>\n",
       "    </tr>\n",
       "    <tr>\n",
       "      <th>5</th>\n",
       "      <td>EMG</td>\n",
       "      <td>-6.855696</td>\n",
       "    </tr>\n",
       "    <tr>\n",
       "      <th>12</th>\n",
       "      <td>SaO2</td>\n",
       "      <td>76.924249</td>\n",
       "    </tr>\n",
       "  </tbody>\n",
       "</table>\n",
       "</div>"
      ],
      "text/plain": [
       "      CH       MEAN\n",
       "2    ECG   0.009396\n",
       "5    EMG  -6.855696\n",
       "12  SaO2  76.924249"
      ]
     },
     "execution_count": 17,
     "metadata": {},
     "output_type": "execute_result"
    }
   ],
   "source": [
    "t = p.table( 'STATS' , 'CH' )\n",
    "t.query( \"CH in ['SaO2','ECG','EMG']\")[ ['CH','MEAN'] ]"
   ]
  },
  {
   "cell_type": "markdown",
   "id": "92b7156d-7206-4778-92a5-d0a96003bc29",
   "metadata": {},
   "source": [
    "The `lunapi` module also provides a simple wrapper function `lp.subset()` to subset table rows i) by individual or ii) by the values of factors and/or other variables, as well as iii) subsetting columns to particular variables. Here are some (unrealistic) examples (designed simply to show the syntax):"
   ]
  },
  {
   "cell_type": "code",
   "execution_count": 18,
   "id": "294ef8c8-7491-4512-8288-8fc4c3f7cd01",
   "metadata": {},
   "outputs": [
    {
     "data": {
      "text/html": [
       "<div>\n",
       "<style scoped>\n",
       "    .dataframe tbody tr th:only-of-type {\n",
       "        vertical-align: middle;\n",
       "    }\n",
       "\n",
       "    .dataframe tbody tr th {\n",
       "        vertical-align: top;\n",
       "    }\n",
       "\n",
       "    .dataframe thead th {\n",
       "        text-align: right;\n",
       "    }\n",
       "</style>\n",
       "<table border=\"1\" class=\"dataframe\">\n",
       "  <thead>\n",
       "    <tr style=\"text-align: right;\">\n",
       "      <th></th>\n",
       "      <th>ID</th>\n",
       "      <th>CH</th>\n",
       "      <th>RMS</th>\n",
       "    </tr>\n",
       "  </thead>\n",
       "  <tbody>\n",
       "    <tr>\n",
       "      <th>6</th>\n",
       "      <td>learn-nsrr01</td>\n",
       "      <td>EOG(L)</td>\n",
       "      <td>54.461877</td>\n",
       "    </tr>\n",
       "    <tr>\n",
       "      <th>7</th>\n",
       "      <td>learn-nsrr01</td>\n",
       "      <td>EOG(R)</td>\n",
       "      <td>54.009293</td>\n",
       "    </tr>\n",
       "    <tr>\n",
       "      <th>11</th>\n",
       "      <td>learn-nsrr01</td>\n",
       "      <td>PR</td>\n",
       "      <td>64.952329</td>\n",
       "    </tr>\n",
       "    <tr>\n",
       "      <th>12</th>\n",
       "      <td>learn-nsrr01</td>\n",
       "      <td>SaO2</td>\n",
       "      <td>85.566543</td>\n",
       "    </tr>\n",
       "  </tbody>\n",
       "</table>\n",
       "</div>"
      ],
      "text/plain": [
       "              ID      CH        RMS\n",
       "6   learn-nsrr01  EOG(L)  54.461877\n",
       "7   learn-nsrr01  EOG(R)  54.009293\n",
       "11  learn-nsrr01      PR  64.952329\n",
       "12  learn-nsrr01    SaO2  85.566543"
      ]
     },
     "execution_count": 18,
     "metadata": {},
     "output_type": "execute_result"
    }
   ],
   "source": [
    "lp.subset( t , vars = [ 'CH' , 'RMS' ] , qry = \" RMS > 50\" )"
   ]
  },
  {
   "cell_type": "code",
   "execution_count": 19,
   "id": "42976d4c-6334-4dab-8b55-a6b5ef272713",
   "metadata": {},
   "outputs": [
    {
     "data": {
      "text/html": [
       "<div>\n",
       "<style scoped>\n",
       "    .dataframe tbody tr th:only-of-type {\n",
       "        vertical-align: middle;\n",
       "    }\n",
       "\n",
       "    .dataframe tbody tr th {\n",
       "        vertical-align: top;\n",
       "    }\n",
       "\n",
       "    .dataframe thead th {\n",
       "        text-align: right;\n",
       "    }\n",
       "</style>\n",
       "<table border=\"1\" class=\"dataframe\">\n",
       "  <thead>\n",
       "    <tr style=\"text-align: right;\">\n",
       "      <th></th>\n",
       "      <th>ID</th>\n",
       "      <th>CH</th>\n",
       "      <th>KURT</th>\n",
       "      <th>MAX</th>\n",
       "      <th>MEAN</th>\n",
       "      <th>MIN</th>\n",
       "      <th>P01</th>\n",
       "      <th>P02</th>\n",
       "      <th>P05</th>\n",
       "      <th>P10</th>\n",
       "      <th>...</th>\n",
       "      <th>P60</th>\n",
       "      <th>P70</th>\n",
       "      <th>P80</th>\n",
       "      <th>P90</th>\n",
       "      <th>P95</th>\n",
       "      <th>P98</th>\n",
       "      <th>P99</th>\n",
       "      <th>RMS</th>\n",
       "      <th>SD</th>\n",
       "      <th>SKEW</th>\n",
       "    </tr>\n",
       "  </thead>\n",
       "  <tbody>\n",
       "    <tr>\n",
       "      <th>11</th>\n",
       "      <td>learn-nsrr01</td>\n",
       "      <td>PR</td>\n",
       "      <td>2.311002</td>\n",
       "      <td>200.0</td>\n",
       "      <td>57.348522</td>\n",
       "      <td>0.201419</td>\n",
       "      <td>0.201419</td>\n",
       "      <td>0.201419</td>\n",
       "      <td>0.201419</td>\n",
       "      <td>0.201419</td>\n",
       "      <td>...</td>\n",
       "      <td>68.36347</td>\n",
       "      <td>70.316625</td>\n",
       "      <td>72.26978</td>\n",
       "      <td>75.199512</td>\n",
       "      <td>79.301137</td>\n",
       "      <td>89.262226</td>\n",
       "      <td>147.261769</td>\n",
       "      <td>64.952329</td>\n",
       "      <td>30.495489</td>\n",
       "      <td>-0.457502</td>\n",
       "    </tr>\n",
       "  </tbody>\n",
       "</table>\n",
       "<p>1 rows × 24 columns</p>\n",
       "</div>"
      ],
      "text/plain": [
       "              ID  CH      KURT    MAX       MEAN       MIN       P01  \\\n",
       "11  learn-nsrr01  PR  2.311002  200.0  57.348522  0.201419  0.201419   \n",
       "\n",
       "         P02       P05       P10  ...       P60        P70       P80  \\\n",
       "11  0.201419  0.201419  0.201419  ...  68.36347  70.316625  72.26978   \n",
       "\n",
       "          P90        P95        P98         P99        RMS         SD  \\\n",
       "11  75.199512  79.301137  89.262226  147.261769  64.952329  30.495489   \n",
       "\n",
       "        SKEW  \n",
       "11 -0.457502  \n",
       "\n",
       "[1 rows x 24 columns]"
      ]
     },
     "execution_count": 19,
     "metadata": {},
     "output_type": "execute_result"
    }
   ],
   "source": [
    "lp.subset( t , qry = \" CH == 'PR' \" )"
   ]
  },
  {
   "cell_type": "code",
   "execution_count": 20,
   "id": "61bbdf2d-0e29-4e3f-b77d-4f25b6f160d3",
   "metadata": {},
   "outputs": [
    {
     "data": {
      "text/html": [
       "<div>\n",
       "<style scoped>\n",
       "    .dataframe tbody tr th:only-of-type {\n",
       "        vertical-align: middle;\n",
       "    }\n",
       "\n",
       "    .dataframe tbody tr th {\n",
       "        vertical-align: top;\n",
       "    }\n",
       "\n",
       "    .dataframe thead th {\n",
       "        text-align: right;\n",
       "    }\n",
       "</style>\n",
       "<table border=\"1\" class=\"dataframe\">\n",
       "  <thead>\n",
       "    <tr style=\"text-align: right;\">\n",
       "      <th></th>\n",
       "      <th>ID</th>\n",
       "      <th>CH</th>\n",
       "      <th>MEAN</th>\n",
       "      <th>RMS</th>\n",
       "    </tr>\n",
       "  </thead>\n",
       "  <tbody>\n",
       "    <tr>\n",
       "      <th>10</th>\n",
       "      <td>learn-nsrr01</td>\n",
       "      <td>POSITION</td>\n",
       "      <td>1.654423</td>\n",
       "      <td>1.915741</td>\n",
       "    </tr>\n",
       "    <tr>\n",
       "      <th>11</th>\n",
       "      <td>learn-nsrr01</td>\n",
       "      <td>PR</td>\n",
       "      <td>57.348522</td>\n",
       "      <td>64.952329</td>\n",
       "    </tr>\n",
       "  </tbody>\n",
       "</table>\n",
       "</div>"
      ],
      "text/plain": [
       "              ID        CH       MEAN        RMS\n",
       "10  learn-nsrr01  POSITION   1.654423   1.915741\n",
       "11  learn-nsrr01        PR  57.348522  64.952329"
      ]
     },
     "execution_count": 20,
     "metadata": {},
     "output_type": "execute_result"
    }
   ],
   "source": [
    "# using f-string query to pull a list of channels\n",
    "chs = [ 'PR', 'POSITION' ] \n",
    "lp.subset( t , vars = [ 'CH' , 'MEAN' , 'RMS' ] , qry = f\"CH in {chs}\" )"
   ]
  },
  {
   "cell_type": "markdown",
   "id": "7a7d23c0-dfa3-4e0d-94ba-561df9e83f5c",
   "metadata": {},
   "source": [
    "## Working with annotations"
   ]
  },
  {
   "cell_type": "markdown",
   "id": "db70cac6-b203-4924-80ab-324e6c094948",
   "metadata": {},
   "source": [
    "Next, the tutorial considers working with associated annotation data.   We can get a summary of each annotation _class_ by the `ANNOTS` command, as described [here](https://zzz.bwh.harvard.edu/luna/ref/annotations/#annots).   Note that here we are applying `proc()` to the entire sample list (`proj`) rather than a single individual.  This means the Luna commands will be evaluated for all three individuals in the sample list sequentially:\n",
    "\n",
    "<div class=\"alert alert-block alert-info\"><b>Note:</b> This particular analysis runs quickly, but note that for non-trivial samples and analyses, this could take some time.  Also, currently the Python version of Luna does not show output until the entire job is complete.   It is therefore advisable to test scripts on one or two individuals first, before running on a larger set.    Alternatively, the command-line version of Luna is in some ways better suitable to dealing with large (e.g. 1000s of records), especially when combined with a compute cluster.  In any case, in the future we'll add better support for e.g. progress reports, and for better ability to manually halt long-running jobs.</div>\n"
   ]
  },
  {
   "cell_type": "code",
   "execution_count": 21,
   "id": "f9f0adcf-427b-42e3-9d98-7b463e953478",
   "metadata": {},
   "outputs": [
    {
     "name": "stderr",
     "output_type": "stream",
     "text": [
      "___________________________________________________________________\n",
      "Processing: learn-nsrr01 | tutorial/edfs/learn-nsrr01.edf\n",
      " duration 11.22.00, 40920s | time 21.58.17 - 09.20.17 | date 01.01.85\n",
      "\n",
      " signals: 14 (of 14) selected in a standard EDF file\n",
      "  SaO2 | PR | EEG_sec | ECG | EMG | EOG_L | EOG_R | EEG\n",
      "  AIRFLOW | THOR_RES | ABDO_RES | POSITION | LIGHT | OX_STAT\n",
      " ..................................................................\n",
      " CMD #1: ANNOTS\n",
      "   options: sig=*\n",
      "  set epochs to default 30 seconds, 1364 epochs\n",
      "  keeping annotations based on any overlap with an unmasked region\n",
      "___________________________________________________________________\n",
      "Processing: learn-nsrr02 | tutorial/edfs/learn-nsrr02.edf\n",
      " duration 09.57.30, 35850s | time 21.18.06 - 07.15.36 | date 01.01.85\n",
      "\n",
      " signals: 14 (of 14) selected in a standard EDF file\n",
      "  SaO2 | PR | EEG_sec | ECG | EMG | EOG_L | EOG_R | EEG\n",
      "  AIRFLOW | THOR_RES | ABDO_RES | POSITION | LIGHT | OX_STAT\n",
      " ..................................................................\n",
      " CMD #1: ANNOTS\n",
      "   options: sig=*\n",
      "  set epochs to default 30 seconds, 1195 epochs\n",
      "  keeping annotations based on any overlap with an unmasked region\n",
      "___________________________________________________________________\n",
      "Processing: learn-nsrr03 | tutorial/edfs/learn-nsrr03.edf\n",
      " duration 11.22.00, 40920s | time 20.15.00 - 07.37.00 | date 01.01.85\n",
      "\n",
      " signals: 14 (of 14) selected in a standard EDF file\n",
      "  SaO2 | PR | EEG_sec | ECG | EMG | EOG_L | EOG_R | EEG\n",
      "  AIRFLOW | THOR_RES | ABDO_RES | POSITION | LIGHT | OX_STAT\n",
      " ..................................................................\n",
      " CMD #1: ANNOTS\n",
      "   options: sig=*\n",
      "  set epochs to default 30 seconds, 1364 epochs\n",
      "  keeping annotations based on any overlap with an unmasked region\n"
     ]
    }
   ],
   "source": [
    "res = proj.proc( 'ANNOTS' )"
   ]
  },
  {
   "cell_type": "markdown",
   "id": "f1bc7185-513d-403c-a77e-ab9951be2c99",
   "metadata": {},
   "source": [
    "Note that here we use `proc()` instead of `eval()`.  When working at the project level (i.e. `proc.proc()`), Luna commands can only be evaluated with `proc()`.  When working at the individual level (i.e. `p.proc()`), then these commands are basically interchangeable, with the exception that `p.proc()` returns the results (i.e. here stored in `res`) as well as caching them internally, whereas `p.eval()` only returns the `strata()` summary table.  \n",
    "\n",
    "In any case, here we need to call `proj.strata()` explicitly to see what was generated:"
   ]
  },
  {
   "cell_type": "code",
   "execution_count": 22,
   "id": "f0b63b16-5e1b-4285-bd05-bab037bb3996",
   "metadata": {},
   "outputs": [
    {
     "data": {
      "text/html": [
       "<div>\n",
       "<style scoped>\n",
       "    .dataframe tbody tr th:only-of-type {\n",
       "        vertical-align: middle;\n",
       "    }\n",
       "\n",
       "    .dataframe tbody tr th {\n",
       "        vertical-align: top;\n",
       "    }\n",
       "\n",
       "    .dataframe thead th {\n",
       "        text-align: right;\n",
       "    }\n",
       "</style>\n",
       "<table border=\"1\" class=\"dataframe\">\n",
       "  <thead>\n",
       "    <tr style=\"text-align: right;\">\n",
       "      <th></th>\n",
       "      <th>Command</th>\n",
       "      <th>Strata</th>\n",
       "    </tr>\n",
       "  </thead>\n",
       "  <tbody>\n",
       "    <tr>\n",
       "      <th>0</th>\n",
       "      <td>ANNOTS</td>\n",
       "      <td>ANNOT</td>\n",
       "    </tr>\n",
       "    <tr>\n",
       "      <th>1</th>\n",
       "      <td>ANNOTS</td>\n",
       "      <td>ANNOT_INST</td>\n",
       "    </tr>\n",
       "    <tr>\n",
       "      <th>2</th>\n",
       "      <td>ANNOTS</td>\n",
       "      <td>ANNOT_INST_T1_T2</td>\n",
       "    </tr>\n",
       "  </tbody>\n",
       "</table>\n",
       "</div>"
      ],
      "text/plain": [
       "  Command            Strata\n",
       "0  ANNOTS             ANNOT\n",
       "1  ANNOTS        ANNOT_INST\n",
       "2  ANNOTS  ANNOT_INST_T1_T2"
      ]
     },
     "execution_count": 22,
     "metadata": {},
     "output_type": "execute_result"
    }
   ],
   "source": [
    "proj.strata()"
   ]
  },
  {
   "cell_type": "markdown",
   "id": "7cc97774-269f-4c7f-9030-9339a09b583e",
   "metadata": {},
   "source": [
    "We'll pull the count and duration (totial seconds spanned) of each annotation class - noting that we get output for all three individuals:"
   ]
  },
  {
   "cell_type": "code",
   "execution_count": 23,
   "id": "92682066-1d41-4bff-9ce8-e3bf5ca2966c",
   "metadata": {},
   "outputs": [
    {
     "data": {
      "text/html": [
       "<div>\n",
       "<style scoped>\n",
       "    .dataframe tbody tr th:only-of-type {\n",
       "        vertical-align: middle;\n",
       "    }\n",
       "\n",
       "    .dataframe tbody tr th {\n",
       "        vertical-align: top;\n",
       "    }\n",
       "\n",
       "    .dataframe thead th {\n",
       "        text-align: right;\n",
       "    }\n",
       "</style>\n",
       "<table border=\"1\" class=\"dataframe\">\n",
       "  <thead>\n",
       "    <tr style=\"text-align: right;\">\n",
       "      <th></th>\n",
       "      <th>ID</th>\n",
       "      <th>ANNOT</th>\n",
       "      <th>COUNT</th>\n",
       "      <th>DUR</th>\n",
       "    </tr>\n",
       "  </thead>\n",
       "  <tbody>\n",
       "    <tr>\n",
       "      <th>0</th>\n",
       "      <td>learn-nsrr01</td>\n",
       "      <td>Arousal</td>\n",
       "      <td>194</td>\n",
       "      <td>1713.5</td>\n",
       "    </tr>\n",
       "    <tr>\n",
       "      <th>1</th>\n",
       "      <td>learn-nsrr02</td>\n",
       "      <td>Arousal</td>\n",
       "      <td>51</td>\n",
       "      <td>644.8</td>\n",
       "    </tr>\n",
       "    <tr>\n",
       "      <th>2</th>\n",
       "      <td>learn-nsrr03</td>\n",
       "      <td>Arousal</td>\n",
       "      <td>282</td>\n",
       "      <td>4002.4</td>\n",
       "    </tr>\n",
       "    <tr>\n",
       "      <th>3</th>\n",
       "      <td>learn-nsrr03</td>\n",
       "      <td>Central_Apnea</td>\n",
       "      <td>1</td>\n",
       "      <td>12.3</td>\n",
       "    </tr>\n",
       "    <tr>\n",
       "      <th>4</th>\n",
       "      <td>learn-nsrr01</td>\n",
       "      <td>Hypopnea</td>\n",
       "      <td>361</td>\n",
       "      <td>7012.6</td>\n",
       "    </tr>\n",
       "    <tr>\n",
       "      <th>5</th>\n",
       "      <td>learn-nsrr02</td>\n",
       "      <td>Hypopnea</td>\n",
       "      <td>101</td>\n",
       "      <td>1536.9</td>\n",
       "    </tr>\n",
       "    <tr>\n",
       "      <th>6</th>\n",
       "      <td>learn-nsrr03</td>\n",
       "      <td>Hypopnea</td>\n",
       "      <td>181</td>\n",
       "      <td>3215.2</td>\n",
       "    </tr>\n",
       "    <tr>\n",
       "      <th>7</th>\n",
       "      <td>learn-nsrr01</td>\n",
       "      <td>N1</td>\n",
       "      <td>109</td>\n",
       "      <td>3270.0</td>\n",
       "    </tr>\n",
       "    <tr>\n",
       "      <th>8</th>\n",
       "      <td>learn-nsrr02</td>\n",
       "      <td>N1</td>\n",
       "      <td>11</td>\n",
       "      <td>330.0</td>\n",
       "    </tr>\n",
       "    <tr>\n",
       "      <th>9</th>\n",
       "      <td>learn-nsrr03</td>\n",
       "      <td>N1</td>\n",
       "      <td>52</td>\n",
       "      <td>1560.0</td>\n",
       "    </tr>\n",
       "    <tr>\n",
       "      <th>10</th>\n",
       "      <td>learn-nsrr01</td>\n",
       "      <td>N2</td>\n",
       "      <td>523</td>\n",
       "      <td>15690.0</td>\n",
       "    </tr>\n",
       "    <tr>\n",
       "      <th>11</th>\n",
       "      <td>learn-nsrr02</td>\n",
       "      <td>N2</td>\n",
       "      <td>399</td>\n",
       "      <td>11970.0</td>\n",
       "    </tr>\n",
       "    <tr>\n",
       "      <th>12</th>\n",
       "      <td>learn-nsrr03</td>\n",
       "      <td>N2</td>\n",
       "      <td>375</td>\n",
       "      <td>11250.0</td>\n",
       "    </tr>\n",
       "    <tr>\n",
       "      <th>13</th>\n",
       "      <td>learn-nsrr01</td>\n",
       "      <td>N3</td>\n",
       "      <td>17</td>\n",
       "      <td>510.0</td>\n",
       "    </tr>\n",
       "    <tr>\n",
       "      <th>14</th>\n",
       "      <td>learn-nsrr02</td>\n",
       "      <td>N3</td>\n",
       "      <td>185</td>\n",
       "      <td>5550.0</td>\n",
       "    </tr>\n",
       "    <tr>\n",
       "      <th>15</th>\n",
       "      <td>learn-nsrr03</td>\n",
       "      <td>N3</td>\n",
       "      <td>21</td>\n",
       "      <td>630.0</td>\n",
       "    </tr>\n",
       "    <tr>\n",
       "      <th>16</th>\n",
       "      <td>learn-nsrr01</td>\n",
       "      <td>Obstructive_Apnea</td>\n",
       "      <td>37</td>\n",
       "      <td>824.5</td>\n",
       "    </tr>\n",
       "    <tr>\n",
       "      <th>17</th>\n",
       "      <td>learn-nsrr02</td>\n",
       "      <td>Obstructive_Apnea</td>\n",
       "      <td>5</td>\n",
       "      <td>67.7</td>\n",
       "    </tr>\n",
       "    <tr>\n",
       "      <th>18</th>\n",
       "      <td>learn-nsrr03</td>\n",
       "      <td>Obstructive_Apnea</td>\n",
       "      <td>163</td>\n",
       "      <td>3795.6</td>\n",
       "    </tr>\n",
       "    <tr>\n",
       "      <th>19</th>\n",
       "      <td>learn-nsrr01</td>\n",
       "      <td>R</td>\n",
       "      <td>238</td>\n",
       "      <td>7140.0</td>\n",
       "    </tr>\n",
       "    <tr>\n",
       "      <th>20</th>\n",
       "      <td>learn-nsrr02</td>\n",
       "      <td>R</td>\n",
       "      <td>120</td>\n",
       "      <td>3600.0</td>\n",
       "    </tr>\n",
       "    <tr>\n",
       "      <th>21</th>\n",
       "      <td>learn-nsrr01</td>\n",
       "      <td>SpO2_artifact</td>\n",
       "      <td>59</td>\n",
       "      <td>2147.0</td>\n",
       "    </tr>\n",
       "    <tr>\n",
       "      <th>22</th>\n",
       "      <td>learn-nsrr02</td>\n",
       "      <td>SpO2_artifact</td>\n",
       "      <td>34</td>\n",
       "      <td>6832.8</td>\n",
       "    </tr>\n",
       "    <tr>\n",
       "      <th>23</th>\n",
       "      <td>learn-nsrr03</td>\n",
       "      <td>SpO2_artifact</td>\n",
       "      <td>126</td>\n",
       "      <td>11680.0</td>\n",
       "    </tr>\n",
       "    <tr>\n",
       "      <th>24</th>\n",
       "      <td>learn-nsrr01</td>\n",
       "      <td>SpO2_desaturation</td>\n",
       "      <td>254</td>\n",
       "      <td>4364.6</td>\n",
       "    </tr>\n",
       "    <tr>\n",
       "      <th>25</th>\n",
       "      <td>learn-nsrr02</td>\n",
       "      <td>SpO2_desaturation</td>\n",
       "      <td>66</td>\n",
       "      <td>984.7</td>\n",
       "    </tr>\n",
       "    <tr>\n",
       "      <th>26</th>\n",
       "      <td>learn-nsrr03</td>\n",
       "      <td>SpO2_desaturation</td>\n",
       "      <td>252</td>\n",
       "      <td>4775.3</td>\n",
       "    </tr>\n",
       "    <tr>\n",
       "      <th>27</th>\n",
       "      <td>learn-nsrr01</td>\n",
       "      <td>W</td>\n",
       "      <td>477</td>\n",
       "      <td>14310.0</td>\n",
       "    </tr>\n",
       "    <tr>\n",
       "      <th>28</th>\n",
       "      <td>learn-nsrr02</td>\n",
       "      <td>W</td>\n",
       "      <td>480</td>\n",
       "      <td>14400.0</td>\n",
       "    </tr>\n",
       "    <tr>\n",
       "      <th>29</th>\n",
       "      <td>learn-nsrr03</td>\n",
       "      <td>W</td>\n",
       "      <td>916</td>\n",
       "      <td>27480.0</td>\n",
       "    </tr>\n",
       "  </tbody>\n",
       "</table>\n",
       "</div>"
      ],
      "text/plain": [
       "              ID              ANNOT COUNT      DUR\n",
       "0   learn-nsrr01            Arousal   194   1713.5\n",
       "1   learn-nsrr02            Arousal    51    644.8\n",
       "2   learn-nsrr03            Arousal   282   4002.4\n",
       "3   learn-nsrr03      Central_Apnea     1     12.3\n",
       "4   learn-nsrr01           Hypopnea   361   7012.6\n",
       "5   learn-nsrr02           Hypopnea   101   1536.9\n",
       "6   learn-nsrr03           Hypopnea   181   3215.2\n",
       "7   learn-nsrr01                 N1   109   3270.0\n",
       "8   learn-nsrr02                 N1    11    330.0\n",
       "9   learn-nsrr03                 N1    52   1560.0\n",
       "10  learn-nsrr01                 N2   523  15690.0\n",
       "11  learn-nsrr02                 N2   399  11970.0\n",
       "12  learn-nsrr03                 N2   375  11250.0\n",
       "13  learn-nsrr01                 N3    17    510.0\n",
       "14  learn-nsrr02                 N3   185   5550.0\n",
       "15  learn-nsrr03                 N3    21    630.0\n",
       "16  learn-nsrr01  Obstructive_Apnea    37    824.5\n",
       "17  learn-nsrr02  Obstructive_Apnea     5     67.7\n",
       "18  learn-nsrr03  Obstructive_Apnea   163   3795.6\n",
       "19  learn-nsrr01                  R   238   7140.0\n",
       "20  learn-nsrr02                  R   120   3600.0\n",
       "21  learn-nsrr01      SpO2_artifact    59   2147.0\n",
       "22  learn-nsrr02      SpO2_artifact    34   6832.8\n",
       "23  learn-nsrr03      SpO2_artifact   126  11680.0\n",
       "24  learn-nsrr01  SpO2_desaturation   254   4364.6\n",
       "25  learn-nsrr02  SpO2_desaturation    66    984.7\n",
       "26  learn-nsrr03  SpO2_desaturation   252   4775.3\n",
       "27  learn-nsrr01                  W   477  14310.0\n",
       "28  learn-nsrr02                  W   480  14400.0\n",
       "29  learn-nsrr03                  W   916  27480.0"
      ]
     },
     "execution_count": 23,
     "metadata": {},
     "output_type": "execute_result"
    }
   ],
   "source": [
    "proj.table( 'ANNOTS' , 'ANNOT' )"
   ]
  },
  {
   "cell_type": "markdown",
   "id": "221ac445-6422-4938-944b-7e42b927e122",
   "metadata": {},
   "source": [
    "As above, we can subset this table to pull out quantities of intersest.  To mirror the original tutorial, we want the count of obstructive apnea annotations per person:"
   ]
  },
  {
   "cell_type": "code",
   "execution_count": 24,
   "id": "d1ee0a01-4b50-4b60-a553-7b66e83034e1",
   "metadata": {},
   "outputs": [
    {
     "data": {
      "text/html": [
       "<div>\n",
       "<style scoped>\n",
       "    .dataframe tbody tr th:only-of-type {\n",
       "        vertical-align: middle;\n",
       "    }\n",
       "\n",
       "    .dataframe tbody tr th {\n",
       "        vertical-align: top;\n",
       "    }\n",
       "\n",
       "    .dataframe thead th {\n",
       "        text-align: right;\n",
       "    }\n",
       "</style>\n",
       "<table border=\"1\" class=\"dataframe\">\n",
       "  <thead>\n",
       "    <tr style=\"text-align: right;\">\n",
       "      <th></th>\n",
       "      <th>ID</th>\n",
       "      <th>ANNOT</th>\n",
       "      <th>COUNT</th>\n",
       "    </tr>\n",
       "  </thead>\n",
       "  <tbody>\n",
       "    <tr>\n",
       "      <th>16</th>\n",
       "      <td>learn-nsrr01</td>\n",
       "      <td>Obstructive_Apnea</td>\n",
       "      <td>37</td>\n",
       "    </tr>\n",
       "    <tr>\n",
       "      <th>17</th>\n",
       "      <td>learn-nsrr02</td>\n",
       "      <td>Obstructive_Apnea</td>\n",
       "      <td>5</td>\n",
       "    </tr>\n",
       "    <tr>\n",
       "      <th>18</th>\n",
       "      <td>learn-nsrr03</td>\n",
       "      <td>Obstructive_Apnea</td>\n",
       "      <td>163</td>\n",
       "    </tr>\n",
       "  </tbody>\n",
       "</table>\n",
       "</div>"
      ],
      "text/plain": [
       "              ID              ANNOT COUNT\n",
       "16  learn-nsrr01  Obstructive_Apnea    37\n",
       "17  learn-nsrr02  Obstructive_Apnea     5\n",
       "18  learn-nsrr03  Obstructive_Apnea   163"
      ]
     },
     "execution_count": 24,
     "metadata": {},
     "output_type": "execute_result"
    }
   ],
   "source": [
    "t = proj.table( 'ANNOTS' , 'ANNOT' )\n",
    "lp.subset( t , vars = ['ANNOT','COUNT'] , qry = \" ANNOT == 'Obstructive_Apnea' \" )"
   ]
  },
  {
   "cell_type": "markdown",
   "id": "68eacf26-d7db-4ff7-8a59-a69bc3c11e9f",
   "metadata": {},
   "source": [
    "Happily, this gives the same results as the original tutorial.   \n",
    "\n",
    "The next step was to extract only REM-specific event counts.  This will involve re-running the `ANNOTS` command but also including a [`MASK`](https://zzz.bwh.harvard.edu/luna/ref/masks) to first restrict to REM (stage annotation `R`) events:"
   ]
  },
  {
   "cell_type": "code",
   "execution_count": 25,
   "id": "df2dc2cd-ea60-4b1a-826f-bdd2f9246a32",
   "metadata": {},
   "outputs": [
    {
     "name": "stderr",
     "output_type": "stream",
     "text": [
      "___________________________________________________________________\n",
      "Processing: learn-nsrr01 | tutorial/edfs/learn-nsrr01.edf\n",
      " duration 11.22.00, 40920s | time 21.58.17 - 09.20.17 | date 01.01.85\n",
      "\n",
      " signals: 14 (of 14) selected in a standard EDF file\n",
      "  SaO2 | PR | EEG_sec | ECG | EMG | EOG_L | EOG_R | EEG\n",
      "  AIRFLOW | THOR_RES | ABDO_RES | POSITION | LIGHT | OX_STAT\n",
      " ..................................................................\n",
      " CMD #1: MASK\n",
      "   options: ifnot=R sig=*\n",
      "  set epochs, to default length 30, 1364 epochs\n",
      "  set masking mode to 'force'\n",
      "  annots: R\n",
      "  applied annotation mask for 1 annotation(s)\n",
      "  238 epochs match; 1126 newly masked, 0 unmasked, 238 unchanged\n",
      "  total of 238 of 1364 retained\n",
      " ..................................................................\n",
      " CMD #2: ANNOTS\n",
      "   options: sig=*\n",
      "  keeping annotations based on any overlap with an unmasked region\n",
      "___________________________________________________________________\n",
      "Processing: learn-nsrr02 | tutorial/edfs/learn-nsrr02.edf\n",
      " duration 09.57.30, 35850s | time 21.18.06 - 07.15.36 | date 01.01.85\n",
      "\n",
      " signals: 14 (of 14) selected in a standard EDF file\n",
      "  SaO2 | PR | EEG_sec | ECG | EMG | EOG_L | EOG_R | EEG\n",
      "  AIRFLOW | THOR_RES | ABDO_RES | POSITION | LIGHT | OX_STAT\n",
      " ..................................................................\n",
      " CMD #1: MASK\n",
      "   options: ifnot=R sig=*\n",
      "  set epochs, to default length 30, 1195 epochs\n",
      "  set masking mode to 'force'\n",
      "  annots: R\n",
      "  applied annotation mask for 1 annotation(s)\n",
      "  120 epochs match; 1075 newly masked, 0 unmasked, 120 unchanged\n",
      "  total of 120 of 1195 retained\n",
      " ..................................................................\n",
      " CMD #2: ANNOTS\n",
      "   options: sig=*\n",
      "  keeping annotations based on any overlap with an unmasked region\n",
      "___________________________________________________________________\n",
      "Processing: learn-nsrr03 | tutorial/edfs/learn-nsrr03.edf\n",
      " duration 11.22.00, 40920s | time 20.15.00 - 07.37.00 | date 01.01.85\n",
      "\n",
      " signals: 14 (of 14) selected in a standard EDF file\n",
      "  SaO2 | PR | EEG_sec | ECG | EMG | EOG_L | EOG_R | EEG\n",
      "  AIRFLOW | THOR_RES | ABDO_RES | POSITION | LIGHT | OX_STAT\n",
      " ..................................................................\n",
      " CMD #1: MASK\n",
      "   options: ifnot=R sig=*\n",
      "  set epochs, to default length 30, 1364 epochs\n",
      "  set masking mode to 'force'\n",
      "  annots: R\n",
      "  applied annotation mask for 1 annotation(s)\n",
      "  0 epochs match; 1364 newly masked, 0 unmasked, 0 unchanged\n",
      "  total of 0 of 1364 retained\n",
      " ..................................................................\n",
      " CMD #2: ANNOTS\n",
      "   options: sig=*\n",
      "  keeping annotations based on any overlap with an unmasked region\n"
     ]
    }
   ],
   "source": [
    "res = proj.proc( 'MASK ifnot=R & ANNOTS' )"
   ]
  },
  {
   "cell_type": "markdown",
   "id": "0a9da34e-5fee-459d-bc4c-cf3f5403fb59",
   "metadata": {},
   "source": [
    "Re-extracting the same metrics from the output, we again get similar results as the tutorial.  Note that the thrird individual does not have any scored REM sleep, and so there is no value for that individual."
   ]
  },
  {
   "cell_type": "code",
   "execution_count": 26,
   "id": "8dc6d8e7-f143-43b2-ba71-50ccde5de44c",
   "metadata": {},
   "outputs": [
    {
     "data": {
      "text/html": [
       "<div>\n",
       "<style scoped>\n",
       "    .dataframe tbody tr th:only-of-type {\n",
       "        vertical-align: middle;\n",
       "    }\n",
       "\n",
       "    .dataframe tbody tr th {\n",
       "        vertical-align: top;\n",
       "    }\n",
       "\n",
       "    .dataframe thead th {\n",
       "        text-align: right;\n",
       "    }\n",
       "</style>\n",
       "<table border=\"1\" class=\"dataframe\">\n",
       "  <thead>\n",
       "    <tr style=\"text-align: right;\">\n",
       "      <th></th>\n",
       "      <th>ID</th>\n",
       "      <th>ANNOT</th>\n",
       "      <th>COUNT</th>\n",
       "    </tr>\n",
       "  </thead>\n",
       "  <tbody>\n",
       "    <tr>\n",
       "      <th>4</th>\n",
       "      <td>learn-nsrr01</td>\n",
       "      <td>Obstructive_Apnea</td>\n",
       "      <td>27</td>\n",
       "    </tr>\n",
       "    <tr>\n",
       "      <th>5</th>\n",
       "      <td>learn-nsrr02</td>\n",
       "      <td>Obstructive_Apnea</td>\n",
       "      <td>3</td>\n",
       "    </tr>\n",
       "  </tbody>\n",
       "</table>\n",
       "</div>"
      ],
      "text/plain": [
       "             ID              ANNOT COUNT\n",
       "4  learn-nsrr01  Obstructive_Apnea    27\n",
       "5  learn-nsrr02  Obstructive_Apnea     3"
      ]
     },
     "execution_count": 26,
     "metadata": {},
     "output_type": "execute_result"
    }
   ],
   "source": [
    "t = proj.table( 'ANNOTS' , 'ANNOT' )\n",
    "lp.subset( t , vars = ['ANNOT','COUNT'] , qry = \" ANNOT == 'Obstructive_Apnea' \" )"
   ]
  },
  {
   "cell_type": "markdown",
   "id": "0aa56916-5335-432d-8770-3298674da955",
   "metadata": {},
   "source": [
    "## Putting it together"
   ]
  },
  {
   "cell_type": "markdown",
   "id": "a3154d4d-e97b-4c96-8b2e-c8b2c685b9ee",
   "metadata": {},
   "source": [
    "Having run one or two Luna commands and looked at some output, we can now move to more involved Luna scripts.  Here we also use a _variable_ in the script. This allows for different individuals in the sample-list or different runs of the same script to implement slight modifications, e.g. looking at different channels, or different sleep stages.  This script is stored in the file `first.txt`: the `lp.cmdfile()` utility reads this in, and does any necessary pre-processing ( e.g. removing comments, etc) and returns a string that can be fed into `proc()` or `eval()`:"
   ]
  },
  {
   "cell_type": "code",
   "execution_count": 27,
   "id": "cdbdef67-21a4-4992-81d7-be9527bf7998",
   "metadata": {},
   "outputs": [
    {
     "data": {
      "text/plain": [
       "'EPOCH len=30 & TAG tag=STAGE/${stage} & MASK ifnot=${stage} & RESTRUCTURE & STATS sig=EEG'"
      ]
     },
     "execution_count": 27,
     "metadata": {},
     "output_type": "execute_result"
    }
   ],
   "source": [
    "lp.cmdfile( 'tutorial/cmd/first.txt' )"
   ]
  },
  {
   "cell_type": "markdown",
   "id": "84175080-f141-4807-9ac1-45007f01fccd",
   "metadata": {},
   "source": [
    "This script defines 30-second epochs, sets an output `TAG` to keep track of the sleep stage (which here is defined by the variable `${stage}` [note - this could be any valid variable name, e.g. `${s}`, etc]. It then removes all other epochs for other stages, internally restructures the data, then generates signal statistics for a single channel `EEG`.  In order to avoid Luna complaining that the `${stage}` variable has not been defined, we first need to define it.  When using the command-line version, this would be passed in as a command-line option: e.g. something like this to define `${stage}`:"
   ]
  },
  {
   "cell_type": "raw",
   "id": "0bac1400-1cc0-4dfb-9407-d1206b7de424",
   "metadata": {},
   "source": [
    "luna s.lst stage=N1 -o out.db < tutorial/cmd/first.txt"
   ]
  },
  {
   "cell_type": "markdown",
   "id": "9f895200-facf-4b92-b56c-8f1ebd5471ef",
   "metadata": {},
   "source": [
    "For a single stage, we can achieve the same result by using `proj.vars()` [or equivalently, `proj.var()`].  (We'll also use this to set `sig` to `EEG` so that only this channel is loaded in, as only that signal is used - this approach can speed things up in very large samples):"
   ]
  },
  {
   "cell_type": "code",
   "execution_count": 28,
   "id": "4fc778d8-ec00-4c9e-b517-ac271c73ff9d",
   "metadata": {},
   "outputs": [],
   "source": [
    "proj.var( { 'stage': 'N1', 'sig': 'EEG' } )"
   ]
  },
  {
   "cell_type": "markdown",
   "id": "fe13762e-a709-4809-8f3c-b34aa4841cca",
   "metadata": {},
   "source": [
    "We'll then use `proj.proc()` to run this script: Luna will swap out instances of `${stage}` with the text `N1` before running the commands:"
   ]
  },
  {
   "cell_type": "code",
   "execution_count": 29,
   "id": "d4b67ba1-f4ca-4266-9269-e1153151d6f6",
   "metadata": {},
   "outputs": [
    {
     "name": "stderr",
     "output_type": "stream",
     "text": [
      "___________________________________________________________________\n",
      "Processing: learn-nsrr01 | tutorial/edfs/learn-nsrr01.edf\n",
      " duration 11.22.00, 40920s | time 21.58.17 - 09.20.17 | date 01.01.85\n",
      "\n",
      " signals: 1 (of 14) selected in a standard EDF file\n",
      "  EEG\n",
      " ..................................................................\n",
      " CMD #1: EPOCH\n",
      "   options: len=30 sig=*\n",
      "  set epochs, length 30 (step 30, offset 0), 1364 epochs\n",
      " ..................................................................\n",
      " CMD #2: TAG\n",
      "   options: sig=* tag=STAGE/N1\n",
      "  setting analysis tag to [STAGE/N1]\n",
      " ..................................................................\n",
      " CMD #3: MASK\n",
      "   options: ifnot=N1 sig=*\n",
      "  set masking mode to 'force'\n",
      "  annots: N1\n",
      "  applied annotation mask for 1 annotation(s)\n",
      "  109 epochs match; 1255 newly masked, 0 unmasked, 109 unchanged\n",
      "  total of 109 of 1364 retained\n",
      " ..................................................................\n",
      " CMD #4: RESTRUCTURE\n",
      "   options: sig=*\n",
      "  restructuring as an EDF+:  retaining 3270 of 40920 records\n",
      "  of 682 minutes, dropping 627.5, retaining 54.5\n",
      "  resetting mask\n",
      "  clearing any cached values and recording options\n",
      "  retaining 109 epochs\n",
      " ..................................................................\n",
      " CMD #5: STATS\n",
      "   options: sig=EEG\n",
      "  processing: EEG\n",
      "___________________________________________________________________\n",
      "Processing: learn-nsrr02 | tutorial/edfs/learn-nsrr02.edf\n",
      " duration 09.57.30, 35850s | time 21.18.06 - 07.15.36 | date 01.01.85\n",
      "\n",
      " signals: 1 (of 14) selected in a standard EDF file\n",
      "  EEG\n",
      " ..................................................................\n",
      " CMD #1: EPOCH\n",
      "   options: len=30 sig=*\n",
      "  set epochs, length 30 (step 30, offset 0), 1195 epochs\n",
      " ..................................................................\n",
      " CMD #2: TAG\n",
      "   options: sig=* tag=STAGE/N1\n",
      "  setting analysis tag to [STAGE/N1]\n",
      " ..................................................................\n",
      " CMD #3: MASK\n",
      "   options: ifnot=N1 sig=*\n",
      "  set masking mode to 'force'\n",
      "  annots: N1\n",
      "  applied annotation mask for 1 annotation(s)\n",
      "  11 epochs match; 1184 newly masked, 0 unmasked, 11 unchanged\n",
      "  total of 11 of 1195 retained\n",
      " ..................................................................\n",
      " CMD #4: RESTRUCTURE\n",
      "   options: sig=*\n",
      "  restructuring as an EDF+:  retaining 330 of 35850 records\n",
      "  of 597.5 minutes, dropping 592, retaining 5.5\n",
      "  resetting mask\n",
      "  clearing any cached values and recording options\n",
      "  retaining 11 epochs\n",
      " ..................................................................\n",
      " CMD #5: STATS\n",
      "   options: sig=EEG\n",
      "  processing: EEG\n",
      "___________________________________________________________________\n",
      "Processing: learn-nsrr03 | tutorial/edfs/learn-nsrr03.edf\n",
      " duration 11.22.00, 40920s | time 20.15.00 - 07.37.00 | date 01.01.85\n",
      "\n",
      " signals: 1 (of 14) selected in a standard EDF file\n",
      "  EEG\n",
      " ..................................................................\n",
      " CMD #1: EPOCH\n",
      "   options: len=30 sig=*\n",
      "  set epochs, length 30 (step 30, offset 0), 1364 epochs\n",
      " ..................................................................\n",
      " CMD #2: TAG\n",
      "   options: sig=* tag=STAGE/N1\n",
      "  setting analysis tag to [STAGE/N1]\n",
      " ..................................................................\n",
      " CMD #3: MASK\n",
      "   options: ifnot=N1 sig=*\n",
      "  set masking mode to 'force'\n",
      "  annots: N1\n",
      "  applied annotation mask for 1 annotation(s)\n",
      "  52 epochs match; 1312 newly masked, 0 unmasked, 52 unchanged\n",
      "  total of 52 of 1364 retained\n",
      " ..................................................................\n",
      " CMD #4: RESTRUCTURE\n",
      "   options: sig=*\n",
      "  restructuring as an EDF+:  retaining 1560 of 40920 records\n",
      "  of 682 minutes, dropping 656, retaining 26\n",
      "  resetting mask\n",
      "  clearing any cached values and recording options\n",
      "  retaining 52 epochs\n",
      " ..................................................................\n",
      " CMD #5: STATS\n",
      "   options: sig=EEG\n",
      "  processing: EEG\n"
     ]
    }
   ],
   "source": [
    "res = proj.proc( lp.cmdfile( 'tutorial/cmd/first.txt' ) )"
   ]
  },
  {
   "cell_type": "markdown",
   "id": "70479275-906a-4821-9661-b13dbf32d3aa",
   "metadata": {},
   "source": [
    "Looking at the table of results with `strata()` - of particular interest is the output of the `STATS` command, which is stratified by channel (`CH`) but now also by sleep stage (`STAGE`) as a consequence of the `TAG` command:"
   ]
  },
  {
   "cell_type": "code",
   "execution_count": 30,
   "id": "f02aea08-c270-44e8-8776-be35f3316f02",
   "metadata": {},
   "outputs": [
    {
     "data": {
      "text/html": [
       "<div>\n",
       "<style scoped>\n",
       "    .dataframe tbody tr th:only-of-type {\n",
       "        vertical-align: middle;\n",
       "    }\n",
       "\n",
       "    .dataframe tbody tr th {\n",
       "        vertical-align: top;\n",
       "    }\n",
       "\n",
       "    .dataframe thead th {\n",
       "        text-align: right;\n",
       "    }\n",
       "</style>\n",
       "<table border=\"1\" class=\"dataframe\">\n",
       "  <thead>\n",
       "    <tr style=\"text-align: right;\">\n",
       "      <th></th>\n",
       "      <th>Command</th>\n",
       "      <th>Strata</th>\n",
       "    </tr>\n",
       "  </thead>\n",
       "  <tbody>\n",
       "    <tr>\n",
       "      <th>0</th>\n",
       "      <td>EPOCH</td>\n",
       "      <td>BL</td>\n",
       "    </tr>\n",
       "    <tr>\n",
       "      <th>1</th>\n",
       "      <td>EPOCH</td>\n",
       "      <td>STAGE</td>\n",
       "    </tr>\n",
       "    <tr>\n",
       "      <th>2</th>\n",
       "      <td>MASK</td>\n",
       "      <td>EMASK_STAGE</td>\n",
       "    </tr>\n",
       "    <tr>\n",
       "      <th>3</th>\n",
       "      <td>RESTRUCTURE</td>\n",
       "      <td>STAGE</td>\n",
       "    </tr>\n",
       "    <tr>\n",
       "      <th>4</th>\n",
       "      <td>STATS</td>\n",
       "      <td>CH_STAGE</td>\n",
       "    </tr>\n",
       "  </tbody>\n",
       "</table>\n",
       "</div>"
      ],
      "text/plain": [
       "       Command       Strata\n",
       "0        EPOCH           BL\n",
       "1        EPOCH        STAGE\n",
       "2         MASK  EMASK_STAGE\n",
       "3  RESTRUCTURE        STAGE\n",
       "4        STATS     CH_STAGE"
      ]
     },
     "execution_count": 30,
     "metadata": {},
     "output_type": "execute_result"
    }
   ],
   "source": [
    "proj.strata()"
   ]
  },
  {
   "cell_type": "markdown",
   "id": "062b0145-d490-4822-8745-77019c57cebe",
   "metadata": {},
   "source": [
    "We can review all outputs (stored in `res`) with `lp.show()`. (Note that in real contexts, these tables could become very large, and so `lp.show()` would not be the preferred way to extract results.)"
   ]
  },
  {
   "cell_type": "code",
   "execution_count": 31,
   "id": "fd882375-d6d2-4b74-b6a9-e4521a0eda61",
   "metadata": {},
   "outputs": [
    {
     "name": "stdout",
     "output_type": "stream",
     "text": [
      "\u001b[1m\u001b[36mEPOCH: BL\u001b[0m\n"
     ]
    },
    {
     "name": "stderr",
     "output_type": "stream",
     "text": [
      "/opt/conda/lib/python3.12/site-packages/lunapi/lunapi1.py:2421: SyntaxWarning: invalid escape sequence '\\.'\n",
      "  if re.search('\\.edf\\.gz$',self.curr_edf,re.IGNORECASE) or re.search('\\.edfz$',self.curr_edf,re.IGNORECASE):\n",
      "/opt/conda/lib/python3.12/site-packages/lunapi/lunapi1.py:2421: SyntaxWarning: invalid escape sequence '\\.'\n",
      "  if re.search('\\.edf\\.gz$',self.curr_edf,re.IGNORECASE) or re.search('\\.edfz$',self.curr_edf,re.IGNORECASE):\n"
     ]
    },
    {
     "ename": "AttributeError",
     "evalue": "module 'IPython.core.display' has no attribute 'display'",
     "output_type": "error",
     "traceback": [
      "\u001b[31m---------------------------------------------------------------------------\u001b[39m",
      "\u001b[31mAttributeError\u001b[39m                            Traceback (most recent call last)",
      "\u001b[36mCell\u001b[39m\u001b[36m \u001b[39m\u001b[32mIn[31]\u001b[39m\u001b[32m, line 1\u001b[39m\n\u001b[32m----> \u001b[39m\u001b[32m1\u001b[39m \u001b[43mlp\u001b[49m\u001b[43m.\u001b[49m\u001b[43mshow\u001b[49m\u001b[43m(\u001b[49m\u001b[43m \u001b[49m\u001b[43mres\u001b[49m\u001b[43m \u001b[49m\u001b[43m)\u001b[49m\n",
      "\u001b[36mFile \u001b[39m\u001b[32m/opt/conda/lib/python3.12/site-packages/lunapi/lunapi1.py:1250\u001b[39m, in \u001b[36mshow\u001b[39m\u001b[34m(dfs)\u001b[39m\n\u001b[32m   1248\u001b[39m \u001b[38;5;28;01mfor\u001b[39;00m title , df \u001b[38;5;129;01min\u001b[39;00m dfs.items():\n\u001b[32m   1249\u001b[39m    \u001b[38;5;28mprint\u001b[39m( _color.BOLD + _color.DARKCYAN + title + _color.END )\n\u001b[32m-> \u001b[39m\u001b[32m1250\u001b[39m    \u001b[43mICD\u001b[49m\u001b[43m.\u001b[49m\u001b[43mdisplay\u001b[49m(df)\n",
      "\u001b[31mAttributeError\u001b[39m: module 'IPython.core.display' has no attribute 'display'"
     ]
    }
   ],
   "source": [
    "lp.show( res )"
   ]
  },
  {
   "cell_type": "markdown",
   "id": "636c0463-b30d-43c3-94bf-2c3ef1d614f7",
   "metadata": {},
   "source": [
    "Alternatively, we can extract only a particular table of interest:"
   ]
  },
  {
   "cell_type": "code",
   "execution_count": null,
   "id": "a4dead6b-71e8-47fb-8fab-9489ead2440c",
   "metadata": {},
   "outputs": [],
   "source": [
    "proj.table('STATS','CH_STAGE')"
   ]
  },
  {
   "cell_type": "markdown",
   "id": "70078a24-e868-44e8-8e43-e24fdb95a69c",
   "metadata": {},
   "source": [
    "Next, we'll set up a simple Python loop to run this script on all individuals, once for each sleep stage of N1, N2, N3 and REM.  We'll store the output of each `proc()` in a Python dictionary called `res`.  To reduce the clutter to the screen, we'll use `silent_proc()` instead of `proc()` - this is indentical except for the console output produced.   (In general, only use this when you are sure a command will run as expected.)"
   ]
  },
  {
   "cell_type": "code",
   "execution_count": null,
   "id": "e0b7c952-343d-4b76-9595-f6ce26174352",
   "metadata": {},
   "outputs": [],
   "source": [
    "res = { } \n",
    "stages = [ 'N1', 'N2', 'N3', 'R' ]\n",
    "for stage in stages:\n",
    "    print( \"processing stage \" , stage )\n",
    "    proj.var( 'stage', stage )\n",
    "    res[ stage ] = proj.silent_proc( lp.cmdfile( 'tutorial/cmd/first.txt' ) )"
   ]
  },
  {
   "cell_type": "markdown",
   "id": "0cd9fbe3-2c06-4cf8-b52d-885373bcb871",
   "metadata": {},
   "source": [
    "We can then pull out the results for particular stages: e.g. here directly accessing the tables in `res`:"
   ]
  },
  {
   "cell_type": "code",
   "execution_count": null,
   "id": "08a6c474-6847-4a98-836f-0e975076daa0",
   "metadata": {},
   "outputs": [],
   "source": [
    "res.keys()"
   ]
  },
  {
   "cell_type": "code",
   "execution_count": null,
   "id": "e65a257c-9e62-48c5-b7dc-e5abb8c6fc80",
   "metadata": {},
   "outputs": [],
   "source": [
    "res[ 'N1' ].keys()"
   ]
  },
  {
   "cell_type": "code",
   "execution_count": null,
   "id": "ae8ac2d2-90ec-4ba1-a19f-3a9adc2c060c",
   "metadata": {},
   "outputs": [],
   "source": [
    "res[ 'N1' ][ 'STATS: CH_STAGE' ]"
   ]
  },
  {
   "cell_type": "code",
   "execution_count": null,
   "id": "325a70f6-834f-479c-8ec4-9abac9499535",
   "metadata": {},
   "outputs": [],
   "source": [
    "res[ 'N2' ][ 'STATS: CH_STAGE' ]"
   ]
  },
  {
   "cell_type": "markdown",
   "id": "c4af64bd-a579-4e02-af74-7fc0898a63d3",
   "metadata": {},
   "source": [
    "When the output is in this format (i.e. split across conditions/stages), it is often convenient to pull the similar tables together for analysis, etc.  For example, if we want one table with all individuals and all stages, we can use built-in Pandas options, such as `concat()`:  "
   ]
  },
  {
   "cell_type": "code",
   "execution_count": null,
   "id": "7dd22d43-8e7d-4fb3-8c0e-7118a9c856ad",
   "metadata": {},
   "outputs": [],
   "source": [
    "import pandas as pd\n",
    "pd.concat( [ res[ stage ][ 'STATS: CH_STAGE' ][ ['ID','STAGE','MEAN'] ] for stage in stages ] )"
   ]
  },
  {
   "cell_type": "markdown",
   "id": "1fe7cc47-e174-4b50-b6b6-51d3841baaf5",
   "metadata": {},
   "source": [
    "Alternatively, `lunapi` has a simple wrapper function to do this (assuming the same type of structure of nested-dictionaries in the output).  It can also add an index to reflect the higher-level (here sleep stage, which is also present in the original tables, but this can be useful if it isn't).  This takes all tables with the key `RESTRUCTURE: STAGE` from `res` and concatenates them, adding an index `IDX` based on `res.keys()` (i.e. in this example, sleep stages):"
   ]
  },
  {
   "cell_type": "code",
   "execution_count": null,
   "id": "4c4b4db2-fa19-4b8a-82f7-e6cbae74bad5",
   "metadata": {},
   "outputs": [],
   "source": [
    "lp.concat( res , 'RESTRUCTURE: STAGE'  , add_index = 'IDX' )"
   ]
  },
  {
   "cell_type": "markdown",
   "id": "e859fa91-f395-4579-a77c-cafde37f0913",
   "metadata": {},
   "source": [
    "## Using data freezes"
   ]
  },
  {
   "cell_type": "markdown",
   "id": "1daadefc-8a51-4ddb-89f9-9a28b6cf6413",
   "metadata": {},
   "source": [
    "Alternatively, rather than using Python loops to produce results for different stages, we could have (in this particular scenario) achieved the same goals by using Luna's [freeze/thaw](https://zzz.bwh.harvard.edu/luna/ref/freezes) mechanism to derive the various sub-analyses from a single run for each individual, as shown in the script `tutorial/cmd/first-freezes.txt`:"
   ]
  },
  {
   "cell_type": "code",
   "execution_count": null,
   "id": "6f715b47-4365-46f3-965b-6920be5fde9c",
   "metadata": {},
   "outputs": [],
   "source": [
    "%%sh\n",
    "cat tutorial/cmd/first-freezes.txt"
   ]
  },
  {
   "cell_type": "code",
   "execution_count": null,
   "id": "7fd13417-201c-40fe-bbe9-1afbcdf4bd10",
   "metadata": {
    "scrolled": true
   },
   "outputs": [],
   "source": [
    "res = proj.proc( lp.cmdfile( 'tutorial/cmd/first-freezes.txt' ) )"
   ]
  },
  {
   "cell_type": "markdown",
   "id": "9c2bb4c3-1c4f-44b4-bab5-8cf913663392",
   "metadata": {},
   "source": [
    "Here we used `proc()` instead of `silent_proc()` as above, so we've got a lot of output.  Note that final message about skipping the `STATS` command: this is fine -- recall that there were truly no REM records for this third individual.  \n",
    "\n",
    "Looking at the cached outputs (i.e. this contains the same information as in `res`):"
   ]
  },
  {
   "cell_type": "code",
   "execution_count": null,
   "id": "979e386c-bfe4-407f-9808-968b466a1300",
   "metadata": {},
   "outputs": [],
   "source": [
    "proj.strata()"
   ]
  },
  {
   "cell_type": "markdown",
   "id": "312533e1-6a86-4a50-83c7-0a8a8ce5ff13",
   "metadata": {},
   "source": [
    "We can extract the same table of RMS values by sleep stage, getting the same answers as in the original tutorial:"
   ]
  },
  {
   "cell_type": "code",
   "execution_count": null,
   "id": "496bbf11-c331-427d-8ea8-08397c727ee4",
   "metadata": {},
   "outputs": [],
   "source": [
    "proj.table( 'STATS' , 'CH_STAGE' )[ ['ID','STAGE','RMS' ] ] "
   ]
  },
  {
   "cell_type": "markdown",
   "id": "0425009c-357e-40ce-b6ee-e69996b0ffd7",
   "metadata": {},
   "source": [
    "We can get a slightly more convenient format of output with `pd.pivot()`:"
   ]
  },
  {
   "cell_type": "code",
   "execution_count": null,
   "id": "05deb1c6-c633-449a-9f9a-49dcc67997ca",
   "metadata": {},
   "outputs": [],
   "source": [
    "t = proj.table( 'STATS' , 'CH_STAGE' )\n",
    "pd.pivot( t , index = 'ID' , columns = 'STAGE' , values='RMS' )"
   ]
  },
  {
   "cell_type": "markdown",
   "id": "a3b1d979-4cda-4fd9-b526-63bc03f50f57",
   "metadata": {},
   "source": [
    "# Part 2"
   ]
  },
  {
   "cell_type": "markdown",
   "id": "f4170437-8b35-4d55-861a-f8f0b4da5d3c",
   "metadata": {
    "jp-MarkdownHeadingCollapsed": true
   },
   "source": [
    "## General syntax notes\n",
    "\n",
    "We've seen how to apply Luna commands (via `proc()` at the project-level, or either `proc()` or `eval()` at the instance-level), as well as setting variables/options via `proj.var()` and working with output via `strata()`, `table()`, `lp.show()` and other utilties.  \n",
    "\n",
    "To restate some of the equivalences here, first __when working with a single individual__ (e.g. `learn-nsrr02`).  Consider if this is the command-line Luna script, to get RMS per channel: \n",
    "\n",
    "```\n",
    "luna s.lst id=learn-nsrr02 a=1 b=xyz @param.txt -o out.db -s HEADERS \n",
    "\n",
    "destrat out.db +HEADERS -r CH\n",
    "```\n",
    "(Note that we set a variables `${a}` and `${b}` and include other information from a [_parameter-file_](https:/zzz.bwh.harvard.edu/luna/luna/args/#parameter-files) - these are not used in the command, but just included here to show the corresponding syntax for these things in `lunapi`).   In `lunapi`, we'd do the following steps (assuming `proj = lp.proj()` has already been called):\n",
    "\n",
    "```\n",
    "proj.sample_list( 's.lst' )\n",
    "proj.var( { 'a': 1 , 'b': 'xyz' } )     # n.b. using dict as an inputs to specify >1 variable at once\n",
    "proj.include( 'param.txt' )\n",
    "p = proj.inst( 'learn-nsrr02' )         # n.b. using ID-string instead of a row number (2 in this case)\n",
    "p.eval( 'HEADERS' )\n",
    "p.table( 'HEADERS' , 'CH' )\n",
    "```\n",
    "\n",
    "Second, __when working at the project/sample-list level__, the original Luna command may look very similar (simply dropping the `id`):\n",
    "\n",
    "```\n",
    "luna s.lst a=1 b=xyz @param.txt -o out.db -s HEADERS \n",
    "\n",
    "destrat out.db +HEADERS -r CH\n",
    "```\n",
    "\n",
    "When using `lunapi`, we'd achieve similar results as follows:\n",
    "\n",
    "```\n",
    "proj.sample_list( 's.lst' )\n",
    "proj.var( { 'a': 1 , 'b': 'xyz' } )\n",
    "proj.include( 'param.txt' )\n",
    "proj.proc( 'HEADERS' )                  # i.e. call to proj.proc() rather than p.eval()\n",
    "proj.table( 'HEADERS' , 'CH' )          # i.e. a call to proj.table() rather than p.table()\n",
    "```\n",
    "\n",
    "\n",
    "Please see the [reference](./99_reference.ipynb) pages for more details."
   ]
  },
  {
   "cell_type": "markdown",
   "id": "41b5c545-8c07-4bd8-bb80-cd604d3db3df",
   "metadata": {},
   "source": [
    "## Parameter files"
   ]
  },
  {
   "cell_type": "markdown",
   "id": "a572d7ee-2592-4c46-8090-faa356a1c767",
   "metadata": {},
   "source": [
    "In the above example, we introduced a new function: `include()`, which simply reads tab-separated key/value pairs from a text file and assigns those variables those values (using `proj.vars()`). The `vars.txt` file is as follows:"
   ]
  },
  {
   "cell_type": "code",
   "execution_count": null,
   "id": "f2ceb3cc-99d3-4f27-a4bb-3dfe6f0f9d60",
   "metadata": {},
   "outputs": [],
   "source": [
    "%%sh\n",
    "cat tutorial/cmd/vars.txt"
   ]
  },
  {
   "cell_type": "markdown",
   "id": "053a9ff5-b6c5-4923-8b51-964c7d58fe66",
   "metadata": {},
   "source": [
    "We can include these defintions as follows - i.e. equivalent to running `proj.vars( 'myepoch' , 10 )` etc.  The `include()` function returns the number of variables successfully set:"
   ]
  },
  {
   "cell_type": "code",
   "execution_count": null,
   "id": "c84c7fec-0603-4bb0-a066-b310e7e6a41c",
   "metadata": {},
   "outputs": [],
   "source": [
    "proj.include( 'tutorial/cmd/vars.txt' )"
   ]
  },
  {
   "cell_type": "markdown",
   "id": "2d861c93-7c35-4bb4-b8ad-ee17fc6e02e4",
   "metadata": {},
   "source": [
    "We can review _all_ attached project-level variables using `proj.vars()` - note that as well as the variables specified explicitly above, this will include any pre-defined variables that Luna uses internally (i.e. here, the grouping of EEG variables) - these internal variables can be ignored (or changed) as desired):"
   ]
  },
  {
   "cell_type": "code",
   "execution_count": null,
   "id": "a5ea1548-7e64-4dc3-a046-3295916a406c",
   "metadata": {},
   "outputs": [],
   "source": [
    "proj.vars()"
   ]
  },
  {
   "cell_type": "markdown",
   "id": "0666faa8-4737-405d-8c37-8529e032fcfc",
   "metadata": {},
   "source": [
    "With these variable set, we can now run the `second.txt` script to mirror the original tutorial, which ran this for the first individual:"
   ]
  },
  {
   "cell_type": "raw",
   "id": "a46e134c-ed88-4090-be94-e9559210068a",
   "metadata": {},
   "source": [
    "luna s.lst 1 @cmd/vars.txt -o res.db < cmd/second.txt"
   ]
  },
  {
   "cell_type": "markdown",
   "id": "b45355d8-c712-4c99-b306-9499b690e4fc",
   "metadata": {},
   "source": [
    "Here is the script:"
   ]
  },
  {
   "cell_type": "code",
   "execution_count": null,
   "id": "e7b0a249-460d-4f7b-8b6c-7ac70e64c1f5",
   "metadata": {},
   "outputs": [],
   "source": [
    "lp.cmdfile( 'tutorial/cmd/second.txt' )"
   ]
  },
  {
   "cell_type": "markdown",
   "id": "5a41d0e0-457d-41b6-9b2e-42368c71e0f9",
   "metadata": {},
   "source": [
    "And running this for the first individual:"
   ]
  },
  {
   "cell_type": "code",
   "execution_count": null,
   "id": "672283b5-a8f4-4085-a136-d0f5918a6a1b",
   "metadata": {
    "scrolled": true
   },
   "outputs": [],
   "source": [
    "p = proj.inst( 'learn-nsrr01' )\n",
    "p.eval( lp.cmdfile( 'tutorial/cmd/second.txt' ) )"
   ]
  },
  {
   "cell_type": "markdown",
   "id": "37fb5e50-b560-41d4-a43d-bab4f8d5d7cd",
   "metadata": {},
   "source": [
    "The above output now contains the NREM (N1,N2 and N3) values for two EEG channels for the basic stats, defined on 10-second epochs:"
   ]
  },
  {
   "cell_type": "code",
   "execution_count": null,
   "id": "b9d84441-16df-41a2-9e4e-ef0798a309b1",
   "metadata": {},
   "outputs": [],
   "source": [
    "p.table( 'STATS' , 'CH' )[ ['ID','CH','RMS'] ]"
   ]
  },
  {
   "cell_type": "markdown",
   "id": "b6357cce-48c8-4dc1-825f-e64f851a85fb",
   "metadata": {},
   "source": [
    "# Part 3"
   ]
  },
  {
   "cell_type": "markdown",
   "id": "7d2063ec-38b3-4fad-974d-e9f1b396af5d",
   "metadata": {},
   "source": [
    "In this final section of the tutorial, we'll use Luna to calculate some typical metrics of interest for sleep studies, including:\n",
    "\n",
    "   * how basic statistics vary across the night\n",
    "   * measures of sleep macro-architecture\n",
    "   * filtering and artifact detection in the EEG\n",
    "   * spectral analysis using fast Fourier transforms\n",
    "   * spindle detection using wavelets\n"
   ]
  },
  {
   "cell_type": "markdown",
   "id": "ddd4ce02-143a-4be8-b3f5-359f1c35a468",
   "metadata": {},
   "source": [
    "## Epoch-level summaries"
   ]
  },
  {
   "cell_type": "markdown",
   "id": "dcdc0d9b-55b0-47d7-b7f2-ac7f507ecab8",
   "metadata": {},
   "source": [
    "Returning to the `STATS` command described above, here we use it with the epoch option, in order to generate per-epoch statistics for the second individual in the sample-list.  Because we previosuly set `sig` to only load EEGs, we want to clear it now (i.e. otherwise the EMG and ECG signals will not be available).   That is - project-level options persist across different calls to `proc()` etc, and so be careful to keep them in track."
   ]
  },
  {
   "cell_type": "code",
   "execution_count": null,
   "id": "91c894c1-20e8-44c7-8827-e1cb8d0eec30",
   "metadata": {},
   "outputs": [],
   "source": [
    "proj.var( 'sig' )"
   ]
  },
  {
   "cell_type": "code",
   "execution_count": null,
   "id": "3d0a0da3-ed3c-4ad4-bd75-d574229b3dfb",
   "metadata": {},
   "outputs": [],
   "source": [
    "proj.var( 'sig', '') "
   ]
  },
  {
   "cell_type": "code",
   "execution_count": null,
   "id": "2e2e7a3f-a07c-4ee2-8b5e-80cccb2ea5f6",
   "metadata": {},
   "outputs": [],
   "source": [
    "p = proj.inst( 2 )\n",
    "p.eval( 'EPOCH & STATS sig=EMG,ECG epoch' )"
   ]
  },
  {
   "cell_type": "markdown",
   "id": "7665416c-8460-46e5-9c4e-96053ab1d337",
   "metadata": {},
   "source": [
    "As well as being applied only to the second EDF, this generates statistics only for the ECG and EMG signals. After defining 30-second epochs (the default from the EPOCH command), it generates basic statistics per-epoch (the epoch option for the STATS command), as well as whole-signal summaries. Note that 1195 epochs are generated, which corresponds to the stated duration of 9 hours, 57 and a half minutes (i.e. ( 9 * 60 + 57 ) * 2 + 1 = 1195)."
   ]
  },
  {
   "cell_type": "markdown",
   "id": "b6f74fa9-c1ea-4fb4-93f3-3ca6146e6828",
   "metadata": {},
   "source": [
    "The overall goal is to generate a plot of per-epoch RMS for the ECG. We can do that by extracting a table of _epoch-level_ RMS values:"
   ]
  },
  {
   "cell_type": "code",
   "execution_count": null,
   "id": "eda8ca89-6ad6-490f-8acb-8bcd652e21ea",
   "metadata": {},
   "outputs": [],
   "source": [
    "p.table( 'STATS' , 'CH_E' )"
   ]
  },
  {
   "cell_type": "code",
   "execution_count": null,
   "id": "daa37a23-2e4d-47f1-ae67-37e2a19c9180",
   "metadata": {},
   "outputs": [],
   "source": [
    "d = p.table( 'STATS' , 'CH_E' )\n",
    "d = d[ d['CH'] == 'ECG' ][ [ 'E', 'RMS' ] ] "
   ]
  },
  {
   "cell_type": "markdown",
   "id": "b2b5ec50-d2db-4e14-9fc4-14f1f82fa8a2",
   "metadata": {},
   "source": [
    "To make a basic plot of epoch-level ECG RMS:"
   ]
  },
  {
   "cell_type": "code",
   "execution_count": null,
   "id": "086ae1fa-3a90-41a2-b0f9-6efdbd42f091",
   "metadata": {},
   "outputs": [],
   "source": [
    "import matplotlib.pyplot as plt\n",
    "plt.plot( d[ 'E' ] , d[ 'RMS' ] )\n",
    "plt.xlabel('Epoch (N)')\n",
    "plt.ylabel('ECG RMS')\n",
    "plt.show()"
   ]
  },
  {
   "cell_type": "markdown",
   "id": "43ed8212-e6e5-4b51-8f96-8412524724dd",
   "metadata": {},
   "source": [
    "We can also extract the sleep stage labels, which align with the above-defined epochs, using the convenience `stages()` command:"
   ]
  },
  {
   "cell_type": "code",
   "execution_count": null,
   "id": "b7eb328b-150e-46b8-b11e-e616264315fb",
   "metadata": {},
   "outputs": [],
   "source": [
    "stages = p.stages()\n",
    "len( stages )"
   ]
  },
  {
   "cell_type": "markdown",
   "id": "355a8ef1-840d-41da-bf4b-2ce3d0dae1ec",
   "metadata": {},
   "source": [
    "Following the tutorial, we'll only plot epochs 1 to 950 in order to exclude the outliers at the end of the study (during wake / after recording stopped).  We'll use the stage labels to color the values for each epoch (W,R,N = green, red, blues):"
   ]
  },
  {
   "cell_type": "code",
   "execution_count": null,
   "id": "f515483d-d662-47c7-96c2-6a83d64e4f63",
   "metadata": {},
   "outputs": [],
   "source": [
    "d[ 'SS' ] = stages[ 'STAGE' ]\n",
    "d = d.loc[ d['E'] <= 950 , ] \n",
    "plt.scatter(d['E'], d['RMS'], c = lp.stgcol( d[ 'SS' ] ) , s=5 )\n",
    "plt.show()"
   ]
  },
  {
   "cell_type": "markdown",
   "id": "41ff633c-8d3c-4981-89b9-f02c4e0ac639",
   "metadata": {},
   "source": [
    "## Hypnograms"
   ]
  },
  {
   "cell_type": "markdown",
   "id": "12c033fc-1450-4c28-a968-b17354927152",
   "metadata": {},
   "source": [
    "Next, we extract hypnogram-based statistics using the `HYPNO` command, here running for all individuals:"
   ]
  },
  {
   "cell_type": "code",
   "execution_count": null,
   "id": "0e90e66d-5a73-4e4f-bed3-a42e5858e164",
   "metadata": {},
   "outputs": [],
   "source": [
    "res = proj.proc( 'HYPNO epoch' )"
   ]
  },
  {
   "cell_type": "markdown",
   "id": "937a8d13-4421-4404-9512-45154ed4dfa2",
   "metadata": {},
   "source": [
    "Here we extract the stage durations for each individual (note: this includes some pre-defined stage labels including `N4` which can be ignored here):"
   ]
  },
  {
   "cell_type": "code",
   "execution_count": null,
   "id": "ef9fca72-5516-4912-b1d9-ec695d3d971d",
   "metadata": {},
   "outputs": [],
   "source": [
    "t = proj.table( 'HYPNO' , 'SS' )\n",
    "pd.pivot( t , index = 'ID' , columns = 'SS' , values='MINS' )"
   ]
  },
  {
   "cell_type": "markdown",
   "id": "afd9a6e4-7ca4-4df7-a6ee-667179defb6e",
   "metadata": {},
   "source": [
    "Next we extract some cycle-based statistics:"
   ]
  },
  {
   "cell_type": "code",
   "execution_count": null,
   "id": "4cfadd61-e47f-45a6-9588-4fcb306d679d",
   "metadata": {},
   "outputs": [],
   "source": [
    "t = proj.table( 'HYPNO' , 'C' )\n",
    "t = t.astype( {\"C\": int } )   # makes the table format nicer\n",
    "pd.pivot( t , index = 'ID' , columns = 'C' , values=[ 'NREMC_START','NREMC_MINS'] )"
   ]
  },
  {
   "cell_type": "markdown",
   "id": "6bbdfb2e-8f49-4716-b834-7d048074b312",
   "metadata": {},
   "source": [
    "Finally, we get extract epoch-level statistics, for just for one individual.  All these metrics are described in detail in the [main Luna pages](https://zzz.bwh.harvard.edu/luna/ref/hypnograms/)."
   ]
  },
  {
   "cell_type": "code",
   "execution_count": null,
   "id": "a1c23f68-70aa-45a1-b2de-242990d5781f",
   "metadata": {},
   "outputs": [],
   "source": [
    "t = proj.table( 'HYPNO', 'E' )\n",
    "t.loc[ t['ID'] == 'learn-nsrr01' , ['E','STAGE','FLANKING','CLOCK_TIME'] ]"
   ]
  },
  {
   "cell_type": "markdown",
   "id": "b0dc0daa-4afe-4ad2-addc-2bd06d2abf8c",
   "metadata": {},
   "source": [
    "## Epoch-level masks"
   ]
  },
  {
   "cell_type": "markdown",
   "id": "a238ac3c-7c8f-41fa-83c2-5e77e06c10fc",
   "metadata": {},
   "source": [
    "To illustrate applying different epoch-level masks, consider the following (somewhat unrealistic) example - to select epochs that:\n",
    "\n",
    "   * occur between 11pm and 3am\n",
    "   * are in persistent sleep as defined above (i.e. at least 10 minutes of sleep prior)\n",
    "   * are during stage 2 NREM sleep\n",
    "   * do not contain any apnea or hypopnea events\n",
    "\n",
    "The following Luna command script (`cmd/third.txt`) shows one way of doing this, leveraging the ability of `HYPNO` to add annotations on-the-fly (to define persistent sleep):"
   ]
  },
  {
   "cell_type": "code",
   "execution_count": null,
   "id": "84778f9b-6a91-4e93-8a94-58e94cef32ab",
   "metadata": {},
   "outputs": [],
   "source": [
    "lp.cmdfile( 'tutorial/cmd/third.txt' )"
   ]
  },
  {
   "cell_type": "markdown",
   "id": "9cde9414-71d4-4b5d-a3c8-965a35139c8e",
   "metadata": {},
   "source": [
    "We'll run this only for the first individual, as in the original tutorial:"
   ]
  },
  {
   "cell_type": "code",
   "execution_count": null,
   "id": "4b164837-8e0e-40cb-b985-fe1ea5bd5950",
   "metadata": {},
   "outputs": [],
   "source": [
    "p = proj.inst(1)\n",
    "p.eval( lp.cmdfile( 'tutorial/cmd/third.txt' ) )"
   ]
  },
  {
   "cell_type": "markdown",
   "id": "fd878168-0d19-4efc-acba-5852c12469eb",
   "metadata": {},
   "source": [
    "Following the logic described in the [original tutorial](https://zzz.bwh.harvard.edu/luna/tut/tut3/#epoch-level-masks), we end up with 86 epochs following these steps.  The output of `MASK` above shows this to be the case here too. We can also pull this out explicitly - this shows all the mask steps, but from the script we know the final one if based on the apnea/hypopnea definitions - we see `N_RETAINED` equals 86:"
   ]
  },
  {
   "cell_type": "code",
   "execution_count": null,
   "id": "1eff26f8-f47d-4068-987f-d7e7a5c9f3fa",
   "metadata": {},
   "outputs": [],
   "source": [
    "p.table( 'MASK', 'EMASK' )"
   ]
  },
  {
   "cell_type": "markdown",
   "id": "173e27e8-d34f-491b-9cb1-ae16ff26fdd8",
   "metadata": {},
   "source": [
    "## Manipulating EDFs"
   ]
  },
  {
   "cell_type": "markdown",
   "id": "afad82c6-e2b6-4b0d-8421-1f81c2399de7",
   "metadata": {},
   "source": [
    "Here we give an overview of filtering, resampling, relabelling, re-referencing and re-writing signal data. Specifically, we want to:\n",
    "\n",
    "   * set EEG units to millivolts\n",
    "   * resample both EEGs to 100 Hz\n",
    "   * bandpass filter the signals between 0.3 and 35 Hz\n",
    "   * re-reference EEG2 to EEG1 (i.e. EEG2 = EEG2 - EEG1)\n",
    "   * write only the EEGs as a new EDF in the folder `newedfs/`\n",
    "\n",
    "The following command script (`cmd/fourth.txt`) illustrates the above features: "
   ]
  },
  {
   "cell_type": "code",
   "execution_count": null,
   "id": "264ece74-7510-449a-8863-2e6ad20cb908",
   "metadata": {},
   "outputs": [],
   "source": [
    "%%sh\n",
    "cat tutorial/cmd/fourth.txt"
   ]
  },
  {
   "cell_type": "markdown",
   "id": "82519848-a669-477c-a144-3eca9607a780",
   "metadata": {},
   "source": [
    "The original Luna script pulls out only the two EEGs, using this innovocation:"
   ]
  },
  {
   "cell_type": "raw",
   "id": "b3166e6c-606f-410f-8ef6-9ede9e7da23c",
   "metadata": {},
   "source": [
    "luna s.lst @cmd/vars.txt sig=EEG1,EEG2 < cmd/fourth.txt"
   ]
  },
  {
   "cell_type": "markdown",
   "id": "248fbd15-82d8-490e-8122-95453f759a18",
   "metadata": {},
   "source": [
    "Here, we'll make sure the `sig` variable is set such that only the EEGs are read in.  We'll start by setting it to be blank, and then use the alias terms `EEG1` and `EEG2` (see below):"
   ]
  },
  {
   "cell_type": "code",
   "execution_count": null,
   "id": "7a3cc6d5-6c96-403c-bed9-fd85aa3b95fb",
   "metadata": {},
   "outputs": [],
   "source": [
    "proj.vars('sig','')\n",
    "proj.vars('sig','EEG1,EEG2')\n",
    "proj.vars('sig')"
   ]
  },
  {
   "cell_type": "markdown",
   "id": "eb87f693-54ee-4bcc-8ed0-c05165722e53",
   "metadata": {},
   "source": [
    "We'll also read the options defined in the parmeter file `vars.txt`, which include setting aliases for the two EEGs (to `EEG1` and `EEG2`):"
   ]
  },
  {
   "cell_type": "code",
   "execution_count": null,
   "id": "b2428457-066b-4dcd-bec7-7b1a0466ce39",
   "metadata": {
    "scrolled": true
   },
   "outputs": [],
   "source": [
    "proj.include( 'tutorial/cmd/vars.txt' )"
   ]
  },
  {
   "cell_type": "markdown",
   "id": "0fa5f107-0689-4eb1-a2ec-1a7777f5f971",
   "metadata": {},
   "source": [
    "This means that we can use `EEG1` and `EEG2` in subsequent scripts; also, all outputs will be generated using these labels rather than the originals.  Note that although the EDFs do not contain labels `EEG1` or `EEG2` these were previously set as _aliases_ (via the included `vars.txt` file) and so we can use them here.  This is convenient when you have a many-to-one mapping of actually labels and the preferred term (as often happens across and within NSRR datasets, for example).  \n",
    "\n",
    "To see what the current alias mapping table looks like (i.e. that will be applied when first attaching a study), we can use `proj.aliases()`.  Note that this may include a number of predefined aliases (typically different sleep stage naming conventions) alongside any user-defined ones:"
   ]
  },
  {
   "cell_type": "code",
   "execution_count": null,
   "id": "7cc11eb1-6a79-4d7c-b31c-bb620623440d",
   "metadata": {
    "scrolled": true
   },
   "outputs": [],
   "source": [
    "proj.aliases()"
   ]
  },
  {
   "cell_type": "markdown",
   "id": "620f0401-e911-4d08-ad6f-8d0b18da9627",
   "metadata": {},
   "source": [
    "We can now run the script to generate the new EDFs:"
   ]
  },
  {
   "cell_type": "code",
   "execution_count": null,
   "id": "ae763afc-93c1-4973-8b29-7c093f140b2e",
   "metadata": {},
   "outputs": [],
   "source": [
    "res = proj.proc( lp.cmdfile( 'tutorial/cmd/fourth.txt' ) )"
   ]
  },
  {
   "cell_type": "markdown",
   "id": "5bf60e85-7245-4a95-a69a-7d7f748f2500",
   "metadata": {},
   "source": [
    "This also generates a new sample list `new.lst` (appending the new files on the end, if it already existed).  We can attach that and see the details of the newly-generated EDFs:"
   ]
  },
  {
   "cell_type": "code",
   "execution_count": null,
   "id": "36c104d9-31a3-4a5f-9a83-938e6212e85e",
   "metadata": {},
   "outputs": [],
   "source": [
    "proj.sample_list( 'new.lst' )"
   ]
  },
  {
   "cell_type": "code",
   "execution_count": null,
   "id": "c8de903f-320c-468b-90c1-483d62087083",
   "metadata": {},
   "outputs": [],
   "source": [
    "proj.sample_list()"
   ]
  },
  {
   "cell_type": "code",
   "execution_count": null,
   "id": "93edb89b-c51e-4ac3-9ccf-633fdcce724e",
   "metadata": {},
   "outputs": [],
   "source": [
    "proj.desc()"
   ]
  },
  {
   "cell_type": "markdown",
   "id": "a60a3dd0-8234-4e91-a019-31c7f221ec7b",
   "metadata": {},
   "source": [
    "As shown above, this has generated three new EDFs in the `newedfs` folder.  Note that they have the preferred alias labels swapped in too."
   ]
  },
  {
   "cell_type": "markdown",
   "id": "b3269c04-0b57-4668-bcf8-e8da0d399873",
   "metadata": {},
   "source": [
    "## Artifact detection"
   ]
  },
  {
   "cell_type": "markdown",
   "id": "9ab28eb3-7e15-4554-84bc-0bedbd753114",
   "metadata": {},
   "source": [
    "Here we run a very simple artifact detection pipeline, appropriate for typical limited-montage sleep-EEG studies.  \n",
    "\n",
    "To see a more advance EEG pipeline, see [this vignette](https://zzz.bwh.harvard.edu/luna/vignettes/chep/).\n",
    "\n",
    "As we made some project-level changes above, first we'll reset a few key project-level variables to make sure we're starting from fresh, i.e. including reattaching the original sample-list, and specifying that we'll only consider the first EEG (`EEG` or equivalently `EEG1`):"
   ]
  },
  {
   "cell_type": "code",
   "execution_count": null,
   "id": "f2db090a-e0d0-4110-94f1-0d3831dc1de0",
   "metadata": {},
   "outputs": [],
   "source": [
    "proj.reset()\n",
    "proj.sample_list( 'tutorial/s.lst' )\n",
    "proj.var( 'sig', '.' )\n",
    "proj.var( 'sig' , 'EEG' )"
   ]
  },
  {
   "cell_type": "markdown",
   "id": "1a0f0346-1ed0-4c81-a70a-0ccfb1a75ab9",
   "metadata": {},
   "source": [
    "This script is contained in `fifth.txt`:"
   ]
  },
  {
   "cell_type": "code",
   "execution_count": null,
   "id": "0d83b0eb-b9b6-4ece-8360-54900e08f8c6",
   "metadata": {},
   "outputs": [],
   "source": [
    "%%sh\n",
    "cat tutorial/cmd/fifth.txt"
   ]
  },
  {
   "cell_type": "markdown",
   "id": "9d9e39ae-86ef-443b-b3d5-99a80b0b3dc3",
   "metadata": {},
   "source": [
    "Here we'll run just for the first individual:"
   ]
  },
  {
   "cell_type": "code",
   "execution_count": null,
   "id": "b4210a4f-7b01-4f50-8725-ce6118969440",
   "metadata": {},
   "outputs": [],
   "source": [
    "p = proj.inst( 1 )\n",
    "p.eval( lp.cmdfile( 'tutorial/cmd/fifth.txt' ) )"
   ]
  },
  {
   "cell_type": "markdown",
   "id": "ab50cfcb-ed68-4a5a-8c76-5afe7069836d",
   "metadata": {},
   "source": [
    "These are the mean Hjorth parameter values across all sleep epochs:"
   ]
  },
  {
   "cell_type": "code",
   "execution_count": null,
   "id": "298c6267-0e6d-49c2-826e-9eedd2f695b6",
   "metadata": {},
   "outputs": [],
   "source": [
    "p.table( 'SIGSTATS', 'CH' )"
   ]
  },
  {
   "cell_type": "markdown",
   "id": "f0664ce4-2da7-47fc-b4a9-333f50f72e83",
   "metadata": {},
   "source": [
    "Now we'll add in additional commands to flag/remove epochs that are outliers, using `CHEP-MASK` and `CHEP` as described [here](https:/zzz.bwh.harvard.edu/luna/ref/artifacts/#chep-mask):"
   ]
  },
  {
   "cell_type": "code",
   "execution_count": null,
   "id": "4b53eb20-4e03-4f1e-ba55-6b66312a48c6",
   "metadata": {},
   "outputs": [],
   "source": [
    "%%sh\n",
    "cat tutorial/cmd/sixth.txt"
   ]
  },
  {
   "cell_type": "code",
   "execution_count": null,
   "id": "bc7efd27-7eef-4a78-bb8c-1a9b95ab20f1",
   "metadata": {},
   "outputs": [],
   "source": [
    "p.eval( lp.cmdfile( 'tutorial/cmd/sixth.txt' ) )"
   ]
  },
  {
   "cell_type": "markdown",
   "id": "7baf3e1d-2ad1-46a7-9862-e77a8e2a801c",
   "metadata": {},
   "source": [
    "To generate an equivalent plot as in the original tutorial, we'll pull out tables for the mask information (`tm`, was the epoch flagged as potential artifact or not) and epoch-level Hjorth parameters (`th`) and plot them:"
   ]
  },
  {
   "cell_type": "code",
   "execution_count": null,
   "id": "f22e5d80-e3bb-4dfe-94ca-ed43407e6128",
   "metadata": {},
   "outputs": [],
   "source": [
    "tm = p.table( 'DUMP_MASK' , 'E' )\n",
    "th = p.table( 'SIGSTATS' , 'CH_E' )"
   ]
  },
  {
   "cell_type": "code",
   "execution_count": null,
   "id": "e025deed-7ba2-4024-b889-3a8dd0f08b42",
   "metadata": {},
   "outputs": [],
   "source": [
    "import numpy as np\n",
    "cl = [ ['black','red'][e] for e in tm.EMASK ] \n",
    "sz = [ [1,5][e] for e in tm.EMASK ] \n",
    "fig, axs = plt.subplots(3, figsize=(10, 3) )\n",
    "fig.suptitle('EEG Hjorth parameters and masking')\n",
    "axs[0].scatter( th.E , th.H1 , s=sz, c = cl )\n",
    "axs[1].scatter( th.E , th.H2 , s=sz, c = cl ) \n",
    "axs[2].scatter( th.E , th.H3 , s=sz, c = cl )\n",
    "plt.show()"
   ]
  },
  {
   "cell_type": "markdown",
   "id": "97c6f474-66a4-4c63-8784-1c573b297eeb",
   "metadata": {},
   "source": [
    "These plots are similar to those generated in the original tutorial.   We can also mirror the plotting of raw signal data, e.g. for epochs flagged as potentially bad (e.g. here epoch 220 in the original EDF, and 145 in the masked version):"
   ]
  },
  {
   "cell_type": "code",
   "execution_count": null,
   "id": "ab9f7c15-5cb9-4515-a285-2e8919493523",
   "metadata": {},
   "outputs": [],
   "source": [
    "d = p.slice( p.e2i( 145 ) , chs = ['EEG' ] )\n",
    "plt.plot( d[1] )\n",
    "plt.show()"
   ]
  },
  {
   "cell_type": "markdown",
   "id": "7b14ddc6-2654-455c-8a3a-cde1afb72098",
   "metadata": {},
   "source": [
    "## Spectral & spindle analyses"
   ]
  },
  {
   "cell_type": "markdown",
   "id": "33492eb8-803f-4fc5-a6a3-0b56e43403a6",
   "metadata": {},
   "source": [
    "Finally, we'll repeat some of the spectral and spindle analyses performed in the tutorial, from `seventh.txt`, running just for the first `EEG` channel.   This also shows how we can exclude epochs based on the type of epoch-level artifact detection methods above."
   ]
  },
  {
   "cell_type": "code",
   "execution_count": null,
   "id": "a538c33d-e997-4b3f-85d7-677ca337bc4d",
   "metadata": {},
   "outputs": [],
   "source": [
    "proj.var('sig','')\n",
    "proj.var('sig','EEG')"
   ]
  },
  {
   "cell_type": "code",
   "execution_count": null,
   "id": "8adf35c3-8008-44d8-9076-47f957184f56",
   "metadata": {},
   "outputs": [],
   "source": [
    "%%sh\n",
    "cat tutorial/cmd/seventh.txt"
   ]
  },
  {
   "cell_type": "code",
   "execution_count": null,
   "id": "50485cef-2962-4408-ad27-d5018b830233",
   "metadata": {
    "scrolled": true
   },
   "outputs": [],
   "source": [
    "res = proj.proc( lp.cmdfile( 'tutorial/cmd/seventh.txt' ) ) "
   ]
  },
  {
   "cell_type": "markdown",
   "id": "c4ef778d-efb3-457d-b74f-1a6a48a53672",
   "metadata": {},
   "source": [
    "These are the output tables generated:"
   ]
  },
  {
   "cell_type": "code",
   "execution_count": null,
   "id": "9465b6fb-de99-481d-a641-ec390c0b70e1",
   "metadata": {},
   "outputs": [],
   "source": [
    "proj.strata()"
   ]
  },
  {
   "cell_type": "markdown",
   "id": "5060281c-aac8-4f38-9405-2d15793ab3f2",
   "metadata": {},
   "source": [
    "Here we pull out power spectra (metrics from `PSD` stratified by channel (`CH`) and frequency bin (`F`):"
   ]
  },
  {
   "cell_type": "code",
   "execution_count": null,
   "id": "ddf1b79a-f3c5-4d02-a013-177a947218ef",
   "metadata": {},
   "outputs": [],
   "source": [
    "t = proj.table( 'PSD' , 'CH_F' ) \n",
    "t"
   ]
  },
  {
   "cell_type": "markdown",
   "id": "50724fbd-68bf-4475-84e1-17237321309d",
   "metadata": {},
   "source": [
    "Plotting these, we see similar spectra as from the original tutorial:"
   ]
  },
  {
   "cell_type": "code",
   "execution_count": null,
   "id": "7efde00b-8ae5-45d3-8438-8bcb232434c7",
   "metadata": {},
   "outputs": [],
   "source": [
    "import numpy as np\n",
    "fig, (ax1, ax2, ax3) = plt.subplots(1, 3, figsize=(10, 3) )\n",
    "fig.suptitle('NREM EEG power spectra')\n",
    "ax1.plot( t[ t.ID == 'learn-nsrr01' ].F, 10*np.log10( t[ t.ID == 'learn-nsrr01' ].PSD.astype(float) ) )\n",
    "ax2.plot( t[ t.ID == 'learn-nsrr02' ].F, 10*np.log10( t[ t.ID == 'learn-nsrr02' ].PSD.astype(float) ) )\n",
    "ax3.plot( t[ t.ID == 'learn-nsrr03' ].F, 10*np.log10( t[ t.ID == 'learn-nsrr03' ].PSD.astype(float) ) )\n",
    "plt.show()"
   ]
  },
  {
   "cell_type": "markdown",
   "id": "f8ffa23c-b801-4642-a1eb-aa5ef1e1f9d4",
   "metadata": {},
   "source": [
    "Following the tutorial, we can repeat without any filtering to see the impact on the PSD: (here we'll include the second EEG channel also).  Note, as we use the results of the above run (in `res`) below, we'll save these output to a dummy object `xxx`.  Note that that internal cache from the above run will be over-written when running this. "
   ]
  },
  {
   "cell_type": "code",
   "execution_count": null,
   "id": "fe0ea958-2d67-4c39-8386-de2708fdb8f3",
   "metadata": {},
   "outputs": [],
   "source": [
    "proj.var( 'sig', 'EEG2' )\n",
    "xxx = proj.silent_proc( ' EPOCH & MASK if=W & PSD spectrum max=62 ' )"
   ]
  },
  {
   "cell_type": "code",
   "execution_count": null,
   "id": "19407d1e-8d7d-4c16-a239-fe8c00b6ab85",
   "metadata": {},
   "outputs": [],
   "source": [
    "display( proj.strata() )\n",
    "t = proj.table( 'PSD' , 'CH_F' ) "
   ]
  },
  {
   "cell_type": "code",
   "execution_count": null,
   "id": "e358da10-08ad-4081-a537-020da9c9c58b",
   "metadata": {},
   "outputs": [],
   "source": [
    "# plot all raw PSDs (rows = channels, cols = indivs)\n",
    "fig, axs = plt.subplots(2, 3, figsize=(10, 3) )\n",
    "fig.suptitle('NREM EEG power spectra')\n",
    "chs = t.CH.unique()\n",
    "ids = t.ID.unique()\n",
    "t.PSD = t.PSD.astype(float)\n",
    "for ch in list(range(0,2)):\n",
    "    for id in list(range(0,3)):\n",
    "        t1 = t[ ( t.ID == ids[id] ) & ( t.CH == chs[ch] ) ] \n",
    "        axs[ch][id].plot( t1.F, 10*np.log10( t1.PSD ) )\n"
   ]
  },
  {
   "cell_type": "markdown",
   "id": "3e989b87-83f1-4f70-b190-7406e40ab1ad",
   "metadata": {},
   "source": [
    "Finally, we can pull out the spindle results from the initial run (in `res`):"
   ]
  },
  {
   "cell_type": "code",
   "execution_count": null,
   "id": "6b27a1d3-8e9a-4a66-b907-292677e92005",
   "metadata": {},
   "outputs": [],
   "source": [
    "t = res['SPINDLES: CH_F']\n",
    "t"
   ]
  },
  {
   "cell_type": "markdown",
   "id": "b8171e26-e350-4a27-a953-b541436d6af3",
   "metadata": {},
   "source": [
    "We extract spindle density (`DENS`) for individual for fast and slow spindles, getting values that match the original tutorial."
   ]
  },
  {
   "cell_type": "code",
   "execution_count": null,
   "id": "71aa18d4-b54b-49ba-a12c-fc1cee891b28",
   "metadata": {},
   "outputs": [],
   "source": [
    "pd.pivot( t , index = 'ID' , columns = 'F' , values='DENS' )"
   ]
  },
  {
   "cell_type": "markdown",
   "id": "2c94c468-5961-4680-b24e-0034e9ba02ad",
   "metadata": {},
   "source": [
    "This concludes this tutorial for now."
   ]
  }
 ],
 "metadata": {
  "kernelspec": {
   "display_name": "Python 3 (ipykernel)",
   "language": "python",
   "name": "python3"
  },
  "language_info": {
   "codemirror_mode": {
    "name": "ipython",
    "version": 3
   },
   "file_extension": ".py",
   "mimetype": "text/x-python",
   "name": "python",
   "nbconvert_exporter": "python",
   "pygments_lexer": "ipython3",
   "version": "3.12.10"
  }
 },
 "nbformat": 4,
 "nbformat_minor": 5
}
