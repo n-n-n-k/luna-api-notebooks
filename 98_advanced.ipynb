{
 "cells": [
  {
   "cell_type": "markdown",
   "id": "41eb72a8-e31c-471b-a3eb-5a35b3c6f4e6",
   "metadata": {},
   "source": [
    "# LunAPI : advanced notes\n",
    "\n",
    "Links to notebooks in this repository: [Index](./00_overview.ipynb) | [Luna tutorial](./tutorial.ipynb) | \n",
    "[Individuals](./01_indivs.ipynb) | [Projects](./02_projects.ipynb) | [Staging](./03_staging.ipynb) | [Models](./04_models.ipynb) | [Advanced](./98_advanced.ipynb) | [Reference](./99_reference.ipynb)\n",
    "\n",
    "---"
   ]
  },
  {
   "cell_type": "markdown",
   "id": "fe88f9a3-6b44-4ed6-9b33-bfce82fd9575",
   "metadata": {},
   "source": [
    "___This notebook is under development - further notes and FAQs will be added over time.___  \n",
    "\n",
    "Also see the [reference](./99_reference.ipynb) notebook for a comprehensive list of all high-level lunapi functions."
   ]
  },
  {
   "cell_type": "code",
   "execution_count": 1,
   "id": "e2e37014-91eb-4480-b9b3-fd9ff421d47a",
   "metadata": {},
   "outputs": [
    {
     "name": "stdout",
     "output_type": "stream",
     "text": [
      "initiated lunapi v0.0.6 <lunapi.lunapi0.luna object at 0x128293fb0> \n",
      "\n"
     ]
    }
   ],
   "source": [
    "import lunapi as lp\n",
    "proj = lp.proj()"
   ]
  },
  {
   "cell_type": "markdown",
   "id": "237ef317-1272-4d34-9008-b948620e8e56",
   "metadata": {},
   "source": [
    "We'll attach one example individual (the first from the sample-list) to demonstrate features below."
   ]
  },
  {
   "cell_type": "code",
   "execution_count": 2,
   "id": "05185874-148c-4dc4-bd1b-1fd402e1a5a4",
   "metadata": {},
   "outputs": [
    {
     "name": "stdout",
     "output_type": "stream",
     "text": [
      "read 3 individuals from tutorial/s.lst\n"
     ]
    },
    {
     "name": "stderr",
     "output_type": "stream",
     "text": [
      "___________________________________________________________________\n",
      "Processing: learn-nsrr01 | tutorial/edfs/learn-nsrr01.edf\n",
      " duration 11.22.00, 40920s | time 21.58.17 - 09.20.17 | date 01.01.85\n",
      "\n",
      " signals: 14 (of 14) selected in a standard EDF file\n",
      "  SaO2 | PR | EEG_sec | ECG | EMG | EOG_L | EOG_R | EEG\n",
      "  AIRFLOW | THOR_RES | ABDO_RES | POSITION | LIGHT | OX_STAT\n"
     ]
    }
   ],
   "source": [
    "proj.sample_list( 'tutorial/s.lst' )\n",
    "p = proj.inst( 1 )"
   ]
  },
  {
   "cell_type": "markdown",
   "id": "dc64702a-bc84-4a84-95ea-b331d346ed16",
   "metadata": {},
   "source": [
    "## Package structure"
   ]
  },
  {
   "cell_type": "markdown",
   "id": "060fc8d2-61f5-4a43-95a2-3fb4a8ca7829",
   "metadata": {},
   "source": [
    "The `lunapi` package contains two levels of interface: a high-level (`lunapi1`) set of Python functions ([lunapi/lunapi1.py](https://github.com/remnrem/luna-api/blob/c592e23fe3ecec03774ed245062cab797aee200c/src/lunapi/lunapi1.py)), which are wrappers around lower-level Python bindings to the core Luna C/C++ API (`lunapi0`), based on the C/C++ code in [lunapi/lunapi0.cpp](https://github.com/remnrem/luna-api/blob/c592e23fe3ecec03774ed245062cab797aee200c/src/lunapi/lunapi0.cpp). Users will generally want to work with the higher-level functions. "
   ]
  },
  {
   "cell_type": "markdown",
   "id": "14e913a2-df1d-4d01-8244-046b843c3a1d",
   "metadata": {},
   "source": [
    "---\n",
    "## Luna to Python mapping"
   ]
  },
  {
   "cell_type": "markdown",
   "id": "ed3f8782-1aac-4bc1-aff4-6a2f494fc192",
   "metadata": {},
   "source": [
    "### Command-line\n",
    "\n",
    "If a standard command-line Luna sequence may look as follows: given a sample-list `s.lst` and a command script `cmd.txt`, a run may take the form (where `x=1` and `y=2` are _project-wide_ variables, i.e. presumably used in `cmd.txt`) and we also pass a _special variable_ to define some channel _aliases_ (i.e. here mapping `EKG` and `ECG1` both to `ECG`):\n",
    "\n",
    "```\n",
    "luna s.lst x=1 y=2 alias=\"ECG|EKG,ECG1\" -o out.db < cmd.txt\n",
    "```\n",
    "\n",
    "This would generate an output database `out.db`, which might be queried with `destrat`.  We can first check the contents of the database:\n",
    "```\n",
    "destrat out.db\n",
    "```\n",
    "If `cmd.txt` contained `PSD` commands, we might write something like (e.g. assuming these outputs where shown when running the above command): \n",
    "```\n",
    "destrat out.db +PSD -r B CH\n",
    "```\n",
    "to access the channel-by-band result strata.\n",
    "\n",
    "### Python\n",
    "\n",
    "Within `lunapi`, the above steps would be represented as follows: we first initiate the project:\n",
    "\n",
    "```\n",
    "import lunapi as lp\n",
    "proj = lp.proj()\n",
    "```\n",
    "We then attach a sample-list:\n",
    "```\n",
    "proj.sample_list( 's.lst' )\n",
    "```\n",
    "and set the project-level special variables\n",
    "```\n",
    "proj.varmap( { 'x':1 , 'y':2 , 'alias': 'ECG|EKG,ECG1' } )\n",
    "```\n",
    "and finally run the script in `cmd.txt`:\n",
    "```\n",
    "res = proj.eval( lp.cmdfile( 'cmd.txt' ) )\n",
    "```\n",
    "To see the results, we use `strata()`:\n",
    "```\n",
    "proj.strata()\n",
    "```\n",
    "We could then access the output using `table()`:\n",
    "```\n",
    "proj.table( 'PSD' , 'B_CH' )\n",
    "```\n",
    "for the same channel-by-band result strata as above.   \n",
    "\n",
    "The results should be similar, as exactly the same underlying C/C++ library is used in both cases.\n"
   ]
  },
  {
   "cell_type": "markdown",
   "id": "4d25493d-714b-45a4-9623-c9ccc590fe54",
   "metadata": {},
   "source": [
    "## Instance referencing"
   ]
  },
  {
   "cell_type": "markdown",
   "id": "f1561cbd-64ac-4ad3-b2f2-9e62e55d125a",
   "metadata": {},
   "source": [
    "When creating an individual instance, __the returned object is only a reference to the instance, not the instance itself__.  This distinction can be important to note when working with multiple instances, or trying to copy instances, etc.   In brief, if we start with this: "
   ]
  },
  {
   "cell_type": "raw",
   "id": "8c23fb37-989e-4c79-b907-ddd1829e09e7",
   "metadata": {},
   "source": [
    "p = proj.inst('id1')"
   ]
  },
  {
   "cell_type": "raw",
   "id": "e0814114-62cc-440c-a12b-0295f682a6dc",
   "metadata": {},
   "source": [
    "q = p"
   ]
  },
  {
   "cell_type": "markdown",
   "id": "5d42a9ae-7e72-444f-814d-41733251ba5a",
   "metadata": {},
   "source": [
    "At this point, the following statements hold:\n",
    "\n",
    " - `q` points to the same object as `p`\n",
    " - therefore, if `p` is changed, so is `q` (and vice versa)\n",
    " - if `p` is deleted (`del p`), `q` will continue to point to the same Luna instance `id1` however\n",
    " - if both `p` and `q` are deleted, then Python's garbage collector will release any resources used to store `id1` (i.e. based on Python's _reference-counting_ approach to memory management - meaning that you normally shouldn't have to worry about explicitly freeing resources)\n",
    "\n",
    "The figure below shows how two Luna instances (`id1` and `id2`) might be created and referenced by different Python objects (`p`, `q` and `r`), which should make the above distinctions clear."
   ]
  },
  {
   "cell_type": "markdown",
   "id": "ce5d0c54-937a-4c02-a301-286324507fc8",
   "metadata": {},
   "source": [
    "<img src=\"img/py-refs.png\" width=40% height=40%>"
   ]
  },
  {
   "cell_type": "markdown",
   "id": "a04cf63f-a01b-48a6-a662-13a0d78fde95",
   "metadata": {},
   "source": [
    "This of course begs the question: if you _do_ want to make a copy of an instance, how is that done?  Currently, the only way to do this is to repeat the steps loading the same data (but assigned to different references, e.g. here `p` and `q`), and then processing both objects (as now changes to `p` will not affect `q` and vice versa):"
   ]
  },
  {
   "cell_type": "raw",
   "id": "23c391df-63c2-42e6-946f-c2cb74717719",
   "metadata": {},
   "source": [
    "proj.sample_list( 's.lst' )\n",
    "\n",
    "# p & q point to the same data, but are independent copies\n",
    "p = proj.inst( 0 )\n",
    "q = proj.inst( 0 )\n",
    "\n",
    "# do stuff w/ p\n",
    "# do other stuff w/ q\n",
    "# etc..."
   ]
  },
  {
   "cell_type": "markdown",
   "id": "7c835ab0-08b6-47de-99c0-f86e04a87816",
   "metadata": {},
   "source": [
    "## Controlling inputs"
   ]
  },
  {
   "cell_type": "markdown",
   "id": "719a12cd-f07c-4474-b932-7e5cdc82f471",
   "metadata": {},
   "source": [
    "### Multi-line Luna scripts"
   ]
  },
  {
   "cell_type": "markdown",
   "id": "26093ab2-5052-458b-a0ab-264e1b09c244",
   "metadata": {},
   "source": [
    "You can use Python triple-quotes to write multi-line scripts; for longer scripts, it is better to read from a file (see below)."
   ]
  },
  {
   "cell_type": "code",
   "execution_count": 3,
   "id": "243c6cc6-a770-4b87-98a1-9163b0122d56",
   "metadata": {},
   "outputs": [
    {
     "name": "stderr",
     "output_type": "stream",
     "text": [
      " ..................................................................\n",
      " CMD #1: MASK\n",
      "   options: ifnot=N2 sig=*\n",
      "  set epochs, to default length 30, 1364 epochs\n",
      "  set masking mode to 'force'\n",
      "  annots: N2\n",
      "  applied annotation mask for 1 annotation(s)\n",
      "  523 epochs match; 841 newly masked, 0 unmasked, 523 unchanged\n",
      "  total of 523 of 1364 retained\n",
      " ..................................................................\n",
      " CMD #2: RE\n",
      "   options: sig=*\n",
      "  restructuring as an EDF+:  retaining 15690 of 40920 records\n",
      "  of 682 minutes, dropping 420.5, retaining 261.5\n",
      "  resetting mask\n",
      "  clearing any cached values and recording options\n",
      "  retaining 523 epochs\n",
      " ..................................................................\n",
      " CMD #3: RE\n",
      "   options: sig=*\n",
      "  no epoch mask set, no restructuring needed\n",
      " ..................................................................\n",
      " CMD #4: PSD\n",
      "   options: dB sig=EEG spectrum\n",
      "  calculating PSD from 0.5 to 25 for 1 signals\n"
     ]
    },
    {
     "data": {
      "text/html": [
       "<div>\n",
       "<style scoped>\n",
       "    .dataframe tbody tr th:only-of-type {\n",
       "        vertical-align: middle;\n",
       "    }\n",
       "\n",
       "    .dataframe tbody tr th {\n",
       "        vertical-align: top;\n",
       "    }\n",
       "\n",
       "    .dataframe thead th {\n",
       "        text-align: right;\n",
       "    }\n",
       "</style>\n",
       "<table border=\"1\" class=\"dataframe\">\n",
       "  <thead>\n",
       "    <tr style=\"text-align: right;\">\n",
       "      <th></th>\n",
       "      <th>Command</th>\n",
       "      <th>Stratum</th>\n",
       "    </tr>\n",
       "  </thead>\n",
       "  <tbody>\n",
       "    <tr>\n",
       "      <th>0</th>\n",
       "      <td>MASK</td>\n",
       "      <td>EMASK</td>\n",
       "    </tr>\n",
       "    <tr>\n",
       "      <th>1</th>\n",
       "      <td>PSD</td>\n",
       "      <td>B_CH</td>\n",
       "    </tr>\n",
       "    <tr>\n",
       "      <th>2</th>\n",
       "      <td>PSD</td>\n",
       "      <td>CH</td>\n",
       "    </tr>\n",
       "    <tr>\n",
       "      <th>3</th>\n",
       "      <td>PSD</td>\n",
       "      <td>CH_F</td>\n",
       "    </tr>\n",
       "    <tr>\n",
       "      <th>4</th>\n",
       "      <td>RE</td>\n",
       "      <td>BL</td>\n",
       "    </tr>\n",
       "  </tbody>\n",
       "</table>\n",
       "</div>"
      ],
      "text/plain": [
       "  Command Stratum\n",
       "0    MASK   EMASK\n",
       "1     PSD    B_CH\n",
       "2     PSD      CH\n",
       "3     PSD    CH_F\n",
       "4      RE      BL"
      ]
     },
     "execution_count": 3,
     "metadata": {},
     "output_type": "execute_result"
    }
   ],
   "source": [
    "p.eval( \"\"\" MASK ifnot=N2 & RE\n",
    "            RE\n",
    "            PSD sig=EEG spectrum dB \"\"\" )"
   ]
  },
  {
   "cell_type": "markdown",
   "id": "d31a39e5-cb20-4d1f-bbf5-d4236ab9daf8",
   "metadata": {},
   "source": [
    "### Running command files"
   ]
  },
  {
   "cell_type": "markdown",
   "id": "33653e03-9d4c-4bbd-81bb-955170aae045",
   "metadata": {},
   "source": [
    "The `lp.cmfile()` utility reads in a Luna script from a file, and correctly formats it (e.g. removing comments, etc) such that it can be used by `eval()` or `proc()`:"
   ]
  },
  {
   "cell_type": "code",
   "execution_count": 4,
   "id": "b136847a-5a9d-4cda-accd-640017c7a72e",
   "metadata": {},
   "outputs": [
    {
     "data": {
      "text/plain": [
       "'EPOCH len=30 & TAG tag=STAGE/${stage} & MASK ifnot=${stage} & RESTRUCTURE & STATS sig=EEG'"
      ]
     },
     "execution_count": 4,
     "metadata": {},
     "output_type": "execute_result"
    }
   ],
   "source": [
    "lp.cmdfile( 'tutorial/cmd/first.txt')"
   ]
  },
  {
   "cell_type": "code",
   "execution_count": 5,
   "id": "55277cf4-bb98-41ad-b634-34e57b2886ee",
   "metadata": {},
   "outputs": [
    {
     "name": "stderr",
     "output_type": "stream",
     "text": [
      " ..................................................................\n",
      " CMD #1: EPOCH\n",
      "   options: len=30 sig=*\n",
      "  set epochs, length 30 (step 30, offset 0), 523 epochs\n",
      " ..................................................................\n",
      " CMD #2: TAG\n",
      "   options: sig=* tag=STAGE/N2\n",
      "  setting analysis tag to [STAGE/N2]\n",
      " ..................................................................\n",
      " CMD #3: MASK\n",
      "   options: ifnot=N2 sig=*\n",
      "  set masking mode to 'force'\n",
      "  annots: N2\n",
      "  applied annotation mask for 1 annotation(s)\n",
      "  523 epochs match; 0 newly masked, 0 unmasked, 523 unchanged\n",
      "  total of 523 of 523 retained\n",
      " ..................................................................\n",
      " CMD #4: RESTRUCTURE\n",
      "   options: sig=*\n",
      " ..................................................................\n",
      " CMD #5: STATS\n",
      "   options: sig=EEG\n",
      " processing EEG ...\n",
      "\n",
      "  *** warning - running a command that pulls the whole trace\n",
      "  ***           but currently an epoch mask set has been set;\n",
      "  ***           for this operation to skip masked epochs,\n",
      "  ***           you need to run RE (RESTRUCTURE) beforehand\n"
     ]
    },
    {
     "data": {
      "text/html": [
       "<div>\n",
       "<style scoped>\n",
       "    .dataframe tbody tr th:only-of-type {\n",
       "        vertical-align: middle;\n",
       "    }\n",
       "\n",
       "    .dataframe tbody tr th {\n",
       "        vertical-align: top;\n",
       "    }\n",
       "\n",
       "    .dataframe thead th {\n",
       "        text-align: right;\n",
       "    }\n",
       "</style>\n",
       "<table border=\"1\" class=\"dataframe\">\n",
       "  <thead>\n",
       "    <tr style=\"text-align: right;\">\n",
       "      <th></th>\n",
       "      <th>Command</th>\n",
       "      <th>Stratum</th>\n",
       "    </tr>\n",
       "  </thead>\n",
       "  <tbody>\n",
       "    <tr>\n",
       "      <th>0</th>\n",
       "      <td>EPOCH</td>\n",
       "      <td>BL</td>\n",
       "    </tr>\n",
       "    <tr>\n",
       "      <th>1</th>\n",
       "      <td>MASK</td>\n",
       "      <td>EMASK_STAGE</td>\n",
       "    </tr>\n",
       "    <tr>\n",
       "      <th>2</th>\n",
       "      <td>RESTRUCTURE</td>\n",
       "      <td>STAGE</td>\n",
       "    </tr>\n",
       "    <tr>\n",
       "      <th>3</th>\n",
       "      <td>STATS</td>\n",
       "      <td>CH_STAGE</td>\n",
       "    </tr>\n",
       "  </tbody>\n",
       "</table>\n",
       "</div>"
      ],
      "text/plain": [
       "       Command      Stratum\n",
       "0        EPOCH           BL\n",
       "1         MASK  EMASK_STAGE\n",
       "2  RESTRUCTURE        STAGE\n",
       "3        STATS     CH_STAGE"
      ]
     },
     "execution_count": 5,
     "metadata": {},
     "output_type": "execute_result"
    }
   ],
   "source": [
    "proj.var( 'stage' , 'N2' )\n",
    "p.eval( lp.cmdfile( 'tutorial/cmd/first.txt') )"
   ]
  },
  {
   "cell_type": "markdown",
   "id": "f1cc479f-bc2d-4c73-b91b-64746f7cb8a7",
   "metadata": {},
   "source": [
    "### Import external databases"
   ]
  },
  {
   "cell_type": "markdown",
   "id": "608a065f-21c6-4c22-bd94-a993a0780e86",
   "metadata": {},
   "source": [
    "The `import_db()` command populates the project-level result cache with the contents of a previously-generated Luna output database.  For example, if you go to the Jupyter Lab Terminal and run the following Luna command (i.e. at the `bash` shell prompt) this should create an output database `out.db`, which we will then read in with `import_db()`:"
   ]
  },
  {
   "cell_type": "raw",
   "id": "150ec61c-bf07-481d-bc67-44f838ec7b35",
   "metadata": {},
   "source": [
    "luna tutorial/s.lst -o out.db -s 'MASK ifnot=N2 & RE & COH sig=${eeg}'"
   ]
  },
  {
   "cell_type": "code",
   "execution_count": 17,
   "id": "d00688d8-37fb-4652-9722-dfbe0546f6c0",
   "metadata": {
    "tags": []
   },
   "outputs": [
    {
     "name": "stderr",
     "output_type": "stream",
     "text": [
      "  read data on 3 individuals from out.db\n"
     ]
    },
    {
     "data": {
      "text/plain": [
       "['learn-nsrr01', 'learn-nsrr02', 'learn-nsrr03']"
      ]
     },
     "execution_count": 17,
     "metadata": {},
     "output_type": "execute_result"
    }
   ],
   "source": [
    "proj.import_db( 'out.db' ) "
   ]
  },
  {
   "cell_type": "code",
   "execution_count": 18,
   "id": "a0112253-358e-47cd-b90e-67fd2b557cd3",
   "metadata": {},
   "outputs": [
    {
     "data": {
      "text/html": [
       "<div>\n",
       "<style scoped>\n",
       "    .dataframe tbody tr th:only-of-type {\n",
       "        vertical-align: middle;\n",
       "    }\n",
       "\n",
       "    .dataframe tbody tr th {\n",
       "        vertical-align: top;\n",
       "    }\n",
       "\n",
       "    .dataframe thead th {\n",
       "        text-align: right;\n",
       "    }\n",
       "</style>\n",
       "<table border=\"1\" class=\"dataframe\">\n",
       "  <thead>\n",
       "    <tr style=\"text-align: right;\">\n",
       "      <th></th>\n",
       "      <th>Command</th>\n",
       "      <th>Stratum</th>\n",
       "    </tr>\n",
       "  </thead>\n",
       "  <tbody>\n",
       "    <tr>\n",
       "      <th>0</th>\n",
       "      <td>COH</td>\n",
       "      <td>B_CH1_CH2</td>\n",
       "    </tr>\n",
       "    <tr>\n",
       "      <th>1</th>\n",
       "      <td>MASK</td>\n",
       "      <td>EMASK</td>\n",
       "    </tr>\n",
       "    <tr>\n",
       "      <th>2</th>\n",
       "      <td>RE</td>\n",
       "      <td>BL</td>\n",
       "    </tr>\n",
       "  </tbody>\n",
       "</table>\n",
       "</div>"
      ],
      "text/plain": [
       "  Command    Stratum\n",
       "0     COH  B_CH1_CH2\n",
       "1    MASK      EMASK\n",
       "2      RE         BL"
      ]
     },
     "execution_count": 18,
     "metadata": {},
     "output_type": "execute_result"
    }
   ],
   "source": [
    "proj.strata()"
   ]
  },
  {
   "cell_type": "code",
   "execution_count": 19,
   "id": "98c36c22-62be-4302-b877-94726fb051f3",
   "metadata": {},
   "outputs": [
    {
     "data": {
      "text/html": [
       "<div>\n",
       "<style scoped>\n",
       "    .dataframe tbody tr th:only-of-type {\n",
       "        vertical-align: middle;\n",
       "    }\n",
       "\n",
       "    .dataframe tbody tr th {\n",
       "        vertical-align: top;\n",
       "    }\n",
       "\n",
       "    .dataframe thead th {\n",
       "        text-align: right;\n",
       "    }\n",
       "</style>\n",
       "<table border=\"1\" class=\"dataframe\">\n",
       "  <thead>\n",
       "    <tr style=\"text-align: right;\">\n",
       "      <th></th>\n",
       "      <th>ID</th>\n",
       "      <th>B</th>\n",
       "      <th>CH1</th>\n",
       "      <th>CH2</th>\n",
       "      <th>COH</th>\n",
       "      <th>ICOH</th>\n",
       "      <th>LCOH</th>\n",
       "    </tr>\n",
       "  </thead>\n",
       "  <tbody>\n",
       "    <tr>\n",
       "      <th>0</th>\n",
       "      <td>learn-nsrr01</td>\n",
       "      <td>ALPHA</td>\n",
       "      <td>EEG_sec</td>\n",
       "      <td>EEG</td>\n",
       "      <td>0.069673</td>\n",
       "      <td>0.087498</td>\n",
       "      <td>0.092641</td>\n",
       "    </tr>\n",
       "    <tr>\n",
       "      <th>1</th>\n",
       "      <td>learn-nsrr02</td>\n",
       "      <td>ALPHA</td>\n",
       "      <td>EEG_sec</td>\n",
       "      <td>EEG</td>\n",
       "      <td>0.054457</td>\n",
       "      <td>0.152542</td>\n",
       "      <td>0.155303</td>\n",
       "    </tr>\n",
       "    <tr>\n",
       "      <th>2</th>\n",
       "      <td>learn-nsrr03</td>\n",
       "      <td>ALPHA</td>\n",
       "      <td>EEG_sec</td>\n",
       "      <td>EEG</td>\n",
       "      <td>0.006022</td>\n",
       "      <td>-0.024393</td>\n",
       "      <td>-0.024439</td>\n",
       "    </tr>\n",
       "    <tr>\n",
       "      <th>3</th>\n",
       "      <td>learn-nsrr01</td>\n",
       "      <td>BETA</td>\n",
       "      <td>EEG_sec</td>\n",
       "      <td>EEG</td>\n",
       "      <td>0.047118</td>\n",
       "      <td>-0.16178</td>\n",
       "      <td>-0.162203</td>\n",
       "    </tr>\n",
       "    <tr>\n",
       "      <th>4</th>\n",
       "      <td>learn-nsrr02</td>\n",
       "      <td>BETA</td>\n",
       "      <td>EEG_sec</td>\n",
       "      <td>EEG</td>\n",
       "      <td>0.044931</td>\n",
       "      <td>0.18673</td>\n",
       "      <td>0.187452</td>\n",
       "    </tr>\n",
       "    <tr>\n",
       "      <th>5</th>\n",
       "      <td>learn-nsrr03</td>\n",
       "      <td>BETA</td>\n",
       "      <td>EEG_sec</td>\n",
       "      <td>EEG</td>\n",
       "      <td>0.008912</td>\n",
       "      <td>0.023351</td>\n",
       "      <td>0.023392</td>\n",
       "    </tr>\n",
       "    <tr>\n",
       "      <th>6</th>\n",
       "      <td>learn-nsrr01</td>\n",
       "      <td>DELTA</td>\n",
       "      <td>EEG_sec</td>\n",
       "      <td>EEG</td>\n",
       "      <td>0.439326</td>\n",
       "      <td>0.071883</td>\n",
       "      <td>0.096797</td>\n",
       "    </tr>\n",
       "    <tr>\n",
       "      <th>7</th>\n",
       "      <td>learn-nsrr02</td>\n",
       "      <td>DELTA</td>\n",
       "      <td>EEG_sec</td>\n",
       "      <td>EEG</td>\n",
       "      <td>0.299884</td>\n",
       "      <td>0.082897</td>\n",
       "      <td>0.097814</td>\n",
       "    </tr>\n",
       "    <tr>\n",
       "      <th>8</th>\n",
       "      <td>learn-nsrr03</td>\n",
       "      <td>DELTA</td>\n",
       "      <td>EEG_sec</td>\n",
       "      <td>EEG</td>\n",
       "      <td>0.186816</td>\n",
       "      <td>0.07357</td>\n",
       "      <td>0.08273</td>\n",
       "    </tr>\n",
       "    <tr>\n",
       "      <th>9</th>\n",
       "      <td>learn-nsrr01</td>\n",
       "      <td>FAST_SIGMA</td>\n",
       "      <td>EEG_sec</td>\n",
       "      <td>EEG</td>\n",
       "      <td>0.024616</td>\n",
       "      <td>0.023287</td>\n",
       "      <td>0.02389</td>\n",
       "    </tr>\n",
       "    <tr>\n",
       "      <th>10</th>\n",
       "      <td>learn-nsrr02</td>\n",
       "      <td>FAST_SIGMA</td>\n",
       "      <td>EEG_sec</td>\n",
       "      <td>EEG</td>\n",
       "      <td>0.283664</td>\n",
       "      <td>0.393236</td>\n",
       "      <td>0.423573</td>\n",
       "    </tr>\n",
       "    <tr>\n",
       "      <th>11</th>\n",
       "      <td>learn-nsrr03</td>\n",
       "      <td>FAST_SIGMA</td>\n",
       "      <td>EEG_sec</td>\n",
       "      <td>EEG</td>\n",
       "      <td>0.004612</td>\n",
       "      <td>-0.046378</td>\n",
       "      <td>-0.046431</td>\n",
       "    </tr>\n",
       "    <tr>\n",
       "      <th>12</th>\n",
       "      <td>learn-nsrr01</td>\n",
       "      <td>GAMMA</td>\n",
       "      <td>EEG_sec</td>\n",
       "      <td>EEG</td>\n",
       "      <td>0.018276</td>\n",
       "      <td>0.045756</td>\n",
       "      <td>0.046016</td>\n",
       "    </tr>\n",
       "    <tr>\n",
       "      <th>13</th>\n",
       "      <td>learn-nsrr02</td>\n",
       "      <td>GAMMA</td>\n",
       "      <td>EEG_sec</td>\n",
       "      <td>EEG</td>\n",
       "      <td>0.084686</td>\n",
       "      <td>0.103516</td>\n",
       "      <td>0.108212</td>\n",
       "    </tr>\n",
       "    <tr>\n",
       "      <th>14</th>\n",
       "      <td>learn-nsrr03</td>\n",
       "      <td>GAMMA</td>\n",
       "      <td>EEG_sec</td>\n",
       "      <td>EEG</td>\n",
       "      <td>0.019419</td>\n",
       "      <td>0.009823</td>\n",
       "      <td>0.009923</td>\n",
       "    </tr>\n",
       "    <tr>\n",
       "      <th>15</th>\n",
       "      <td>learn-nsrr01</td>\n",
       "      <td>SIGMA</td>\n",
       "      <td>EEG_sec</td>\n",
       "      <td>EEG</td>\n",
       "      <td>0.018452</td>\n",
       "      <td>0.002598</td>\n",
       "      <td>0.002985</td>\n",
       "    </tr>\n",
       "    <tr>\n",
       "      <th>16</th>\n",
       "      <td>learn-nsrr02</td>\n",
       "      <td>SIGMA</td>\n",
       "      <td>EEG_sec</td>\n",
       "      <td>EEG</td>\n",
       "      <td>0.286968</td>\n",
       "      <td>0.383421</td>\n",
       "      <td>0.415296</td>\n",
       "    </tr>\n",
       "    <tr>\n",
       "      <th>17</th>\n",
       "      <td>learn-nsrr03</td>\n",
       "      <td>SIGMA</td>\n",
       "      <td>EEG_sec</td>\n",
       "      <td>EEG</td>\n",
       "      <td>0.003266</td>\n",
       "      <td>-0.033081</td>\n",
       "      <td>-0.033116</td>\n",
       "    </tr>\n",
       "    <tr>\n",
       "      <th>18</th>\n",
       "      <td>learn-nsrr01</td>\n",
       "      <td>SLOW</td>\n",
       "      <td>EEG_sec</td>\n",
       "      <td>EEG</td>\n",
       "      <td>0.38655</td>\n",
       "      <td>0.031554</td>\n",
       "      <td>0.040283</td>\n",
       "    </tr>\n",
       "    <tr>\n",
       "      <th>19</th>\n",
       "      <td>learn-nsrr02</td>\n",
       "      <td>SLOW</td>\n",
       "      <td>EEG_sec</td>\n",
       "      <td>EEG</td>\n",
       "      <td>0.199742</td>\n",
       "      <td>-0.018802</td>\n",
       "      <td>-0.020511</td>\n",
       "    </tr>\n",
       "    <tr>\n",
       "      <th>20</th>\n",
       "      <td>learn-nsrr03</td>\n",
       "      <td>SLOW</td>\n",
       "      <td>EEG_sec</td>\n",
       "      <td>EEG</td>\n",
       "      <td>0.036644</td>\n",
       "      <td>-0.039169</td>\n",
       "      <td>-0.039877</td>\n",
       "    </tr>\n",
       "    <tr>\n",
       "      <th>21</th>\n",
       "      <td>learn-nsrr01</td>\n",
       "      <td>SLOW_SIGMA</td>\n",
       "      <td>EEG_sec</td>\n",
       "      <td>EEG</td>\n",
       "      <td>0.020217</td>\n",
       "      <td>0.021408</td>\n",
       "      <td>0.021863</td>\n",
       "    </tr>\n",
       "    <tr>\n",
       "      <th>22</th>\n",
       "      <td>learn-nsrr02</td>\n",
       "      <td>SLOW_SIGMA</td>\n",
       "      <td>EEG_sec</td>\n",
       "      <td>EEG</td>\n",
       "      <td>0.154023</td>\n",
       "      <td>0.247821</td>\n",
       "      <td>0.262642</td>\n",
       "    </tr>\n",
       "    <tr>\n",
       "      <th>23</th>\n",
       "      <td>learn-nsrr03</td>\n",
       "      <td>SLOW_SIGMA</td>\n",
       "      <td>EEG_sec</td>\n",
       "      <td>EEG</td>\n",
       "      <td>0.002854</td>\n",
       "      <td>0.007744</td>\n",
       "      <td>0.007775</td>\n",
       "    </tr>\n",
       "    <tr>\n",
       "      <th>24</th>\n",
       "      <td>learn-nsrr01</td>\n",
       "      <td>THETA</td>\n",
       "      <td>EEG_sec</td>\n",
       "      <td>EEG</td>\n",
       "      <td>0.3316</td>\n",
       "      <td>0.176364</td>\n",
       "      <td>0.209009</td>\n",
       "    </tr>\n",
       "    <tr>\n",
       "      <th>25</th>\n",
       "      <td>learn-nsrr02</td>\n",
       "      <td>THETA</td>\n",
       "      <td>EEG_sec</td>\n",
       "      <td>EEG</td>\n",
       "      <td>0.019266</td>\n",
       "      <td>0.06127</td>\n",
       "      <td>0.06192</td>\n",
       "    </tr>\n",
       "    <tr>\n",
       "      <th>26</th>\n",
       "      <td>learn-nsrr03</td>\n",
       "      <td>THETA</td>\n",
       "      <td>EEG_sec</td>\n",
       "      <td>EEG</td>\n",
       "      <td>0.036546</td>\n",
       "      <td>0.046438</td>\n",
       "      <td>0.048221</td>\n",
       "    </tr>\n",
       "  </tbody>\n",
       "</table>\n",
       "</div>"
      ],
      "text/plain": [
       "              ID           B      CH1  CH2       COH      ICOH      LCOH\n",
       "0   learn-nsrr01       ALPHA  EEG_sec  EEG  0.069673  0.087498  0.092641\n",
       "1   learn-nsrr02       ALPHA  EEG_sec  EEG  0.054457  0.152542  0.155303\n",
       "2   learn-nsrr03       ALPHA  EEG_sec  EEG  0.006022 -0.024393 -0.024439\n",
       "3   learn-nsrr01        BETA  EEG_sec  EEG  0.047118  -0.16178 -0.162203\n",
       "4   learn-nsrr02        BETA  EEG_sec  EEG  0.044931   0.18673  0.187452\n",
       "5   learn-nsrr03        BETA  EEG_sec  EEG  0.008912  0.023351  0.023392\n",
       "6   learn-nsrr01       DELTA  EEG_sec  EEG  0.439326  0.071883  0.096797\n",
       "7   learn-nsrr02       DELTA  EEG_sec  EEG  0.299884  0.082897  0.097814\n",
       "8   learn-nsrr03       DELTA  EEG_sec  EEG  0.186816   0.07357   0.08273\n",
       "9   learn-nsrr01  FAST_SIGMA  EEG_sec  EEG  0.024616  0.023287   0.02389\n",
       "10  learn-nsrr02  FAST_SIGMA  EEG_sec  EEG  0.283664  0.393236  0.423573\n",
       "11  learn-nsrr03  FAST_SIGMA  EEG_sec  EEG  0.004612 -0.046378 -0.046431\n",
       "12  learn-nsrr01       GAMMA  EEG_sec  EEG  0.018276  0.045756  0.046016\n",
       "13  learn-nsrr02       GAMMA  EEG_sec  EEG  0.084686  0.103516  0.108212\n",
       "14  learn-nsrr03       GAMMA  EEG_sec  EEG  0.019419  0.009823  0.009923\n",
       "15  learn-nsrr01       SIGMA  EEG_sec  EEG  0.018452  0.002598  0.002985\n",
       "16  learn-nsrr02       SIGMA  EEG_sec  EEG  0.286968  0.383421  0.415296\n",
       "17  learn-nsrr03       SIGMA  EEG_sec  EEG  0.003266 -0.033081 -0.033116\n",
       "18  learn-nsrr01        SLOW  EEG_sec  EEG   0.38655  0.031554  0.040283\n",
       "19  learn-nsrr02        SLOW  EEG_sec  EEG  0.199742 -0.018802 -0.020511\n",
       "20  learn-nsrr03        SLOW  EEG_sec  EEG  0.036644 -0.039169 -0.039877\n",
       "21  learn-nsrr01  SLOW_SIGMA  EEG_sec  EEG  0.020217  0.021408  0.021863\n",
       "22  learn-nsrr02  SLOW_SIGMA  EEG_sec  EEG  0.154023  0.247821  0.262642\n",
       "23  learn-nsrr03  SLOW_SIGMA  EEG_sec  EEG  0.002854  0.007744  0.007775\n",
       "24  learn-nsrr01       THETA  EEG_sec  EEG    0.3316  0.176364  0.209009\n",
       "25  learn-nsrr02       THETA  EEG_sec  EEG  0.019266   0.06127   0.06192\n",
       "26  learn-nsrr03       THETA  EEG_sec  EEG  0.036546  0.046438  0.048221"
      ]
     },
     "execution_count": 19,
     "metadata": {},
     "output_type": "execute_result"
    }
   ],
   "source": [
    "proj.table( 'COH' , 'B_CH1_CH2' )"
   ]
  },
  {
   "cell_type": "markdown",
   "id": "00d04d52-b8e1-4483-a037-d0103654bf62",
   "metadata": {},
   "source": [
    "## Controlling output"
   ]
  },
  {
   "cell_type": "markdown",
   "id": "347d3d1b-718f-4d70-b7d2-7332c5eb23eb",
   "metadata": {},
   "source": [
    "### Silencing log output"
   ]
  },
  {
   "cell_type": "code",
   "execution_count": 20,
   "id": "39f32789-8470-44f5-afa1-e08cdab1b193",
   "metadata": {},
   "outputs": [],
   "source": [
    "# turn off logging\n",
    "proj.silence()\n",
    "\n",
    "# turn it back on\n",
    "proj.silence( False )"
   ]
  },
  {
   "cell_type": "markdown",
   "id": "5427ed85-a3de-4db6-8621-3ae0fac38e43",
   "metadata": {},
   "source": [
    "### Writing to text-tables"
   ]
  },
  {
   "cell_type": "markdown",
   "id": "742f0eab-0958-4507-b433-a8474314255e",
   "metadata": {},
   "source": [
    "(to be added: to allow generating text-table outputs directly via `lunapi`, i.e. as may be useful for very large jobs)"
   ]
  },
  {
   "cell_type": "markdown",
   "id": "bf6bcc1d-6f09-4f1b-9a1d-d82e43c32f63",
   "metadata": {},
   "source": [
    "### Saving/loading results caches\n",
    "\n",
    "(to be added: to allow a single function to save/load project-level results into a cache)"
   ]
  },
  {
   "cell_type": "markdown",
   "id": "a203fa7a-59ba-45ff-8e61-9230d0a23084",
   "metadata": {},
   "source": [
    "# Advanced topics"
   ]
  },
  {
   "cell_type": "markdown",
   "id": "26b7e2d9-7b58-4f7a-b4e9-104f7e819ed9",
   "metadata": {},
   "source": [
    "This section will briefly cover more advanced topics to help orient working with `lunapi`"
   ]
  },
  {
   "cell_type": "markdown",
   "id": "4a0d0d0f-f60e-48a0-966f-032effabfd71",
   "metadata": {},
   "source": [
    "## `lunapi1` and `lunapi0` functions"
   ]
  },
  {
   "cell_type": "markdown",
   "id": "b6b71583-d4c6-4433-8d21-efa12773c3ea",
   "metadata": {},
   "source": [
    "In the example below, `edf` is the level-1 object (i.e. wrapper plus instance), whereas `raw` is the level-0 object (i.e. a vanilla instance).   Most functions are similar - it is just the output format that is different (e.g. a pandas dataframe versus a list-of-lists, etc)."
   ]
  },
  {
   "cell_type": "code",
   "execution_count": 21,
   "id": "747f38bc-fe6b-4132-8b64-e9ae18e7bb08",
   "metadata": {},
   "outputs": [
    {
     "data": {
      "text/plain": [
       "<lunapi-instance id:learn-nsrr01 edf:tutorial/edfs/learn-nsrr01.edf annot:tutorial/edfs/learn-nsrr01.xml>"
      ]
     },
     "execution_count": 21,
     "metadata": {},
     "output_type": "execute_result"
    }
   ],
   "source": [
    "p"
   ]
  },
  {
   "cell_type": "markdown",
   "id": "c573e7a2-a10e-4bff-a503-06b4016b66c2",
   "metadata": {},
   "source": [
    "Here we get the raw, level-0 instance (the `edf` member of the level-1 instance):"
   ]
  },
  {
   "cell_type": "code",
   "execution_count": 22,
   "id": "1cbd4998-a187-4cda-ab26-6acfe1e0221b",
   "metadata": {},
   "outputs": [],
   "source": [
    "raw = p.edf"
   ]
  },
  {
   "cell_type": "code",
   "execution_count": 23,
   "id": "2aafc27c-c305-4ecf-8206-6ccc4bacfa1f",
   "metadata": {},
   "outputs": [
    {
     "data": {
      "text/plain": [
       "<lunapi-instance id:learn-nsrr01 edf:tutorial/edfs/learn-nsrr01.edf annot:tutorial/edfs/learn-nsrr01.xml>"
      ]
     },
     "execution_count": 23,
     "metadata": {},
     "output_type": "execute_result"
    }
   ],
   "source": [
    "raw"
   ]
  },
  {
   "cell_type": "markdown",
   "id": "1891d1e3-5b2c-4cc2-ad4b-c8ffc9b2f17b",
   "metadata": {},
   "source": [
    "We can compare the output of various functions: e.g. channel listings:"
   ]
  },
  {
   "cell_type": "code",
   "execution_count": 24,
   "id": "e1778f96-7ad3-429c-b608-f73ea950c541",
   "metadata": {},
   "outputs": [
    {
     "data": {
      "text/html": [
       "<div>\n",
       "<style scoped>\n",
       "    .dataframe tbody tr th:only-of-type {\n",
       "        vertical-align: middle;\n",
       "    }\n",
       "\n",
       "    .dataframe tbody tr th {\n",
       "        vertical-align: top;\n",
       "    }\n",
       "\n",
       "    .dataframe thead th {\n",
       "        text-align: right;\n",
       "    }\n",
       "</style>\n",
       "<table border=\"1\" class=\"dataframe\">\n",
       "  <thead>\n",
       "    <tr style=\"text-align: right;\">\n",
       "      <th></th>\n",
       "      <th>Channels</th>\n",
       "    </tr>\n",
       "  </thead>\n",
       "  <tbody>\n",
       "    <tr>\n",
       "      <th>0</th>\n",
       "      <td>SaO2</td>\n",
       "    </tr>\n",
       "    <tr>\n",
       "      <th>1</th>\n",
       "      <td>PR</td>\n",
       "    </tr>\n",
       "    <tr>\n",
       "      <th>2</th>\n",
       "      <td>EEG_sec</td>\n",
       "    </tr>\n",
       "    <tr>\n",
       "      <th>3</th>\n",
       "      <td>ECG</td>\n",
       "    </tr>\n",
       "    <tr>\n",
       "      <th>4</th>\n",
       "      <td>EMG</td>\n",
       "    </tr>\n",
       "    <tr>\n",
       "      <th>5</th>\n",
       "      <td>EOG_L</td>\n",
       "    </tr>\n",
       "    <tr>\n",
       "      <th>6</th>\n",
       "      <td>EOG_R</td>\n",
       "    </tr>\n",
       "    <tr>\n",
       "      <th>7</th>\n",
       "      <td>EEG</td>\n",
       "    </tr>\n",
       "    <tr>\n",
       "      <th>8</th>\n",
       "      <td>AIRFLOW</td>\n",
       "    </tr>\n",
       "    <tr>\n",
       "      <th>9</th>\n",
       "      <td>THOR_RES</td>\n",
       "    </tr>\n",
       "    <tr>\n",
       "      <th>10</th>\n",
       "      <td>ABDO_RES</td>\n",
       "    </tr>\n",
       "    <tr>\n",
       "      <th>11</th>\n",
       "      <td>POSITION</td>\n",
       "    </tr>\n",
       "    <tr>\n",
       "      <th>12</th>\n",
       "      <td>LIGHT</td>\n",
       "    </tr>\n",
       "    <tr>\n",
       "      <th>13</th>\n",
       "      <td>OX_STAT</td>\n",
       "    </tr>\n",
       "  </tbody>\n",
       "</table>\n",
       "</div>"
      ],
      "text/plain": [
       "    Channels\n",
       "0       SaO2\n",
       "1         PR\n",
       "2    EEG_sec\n",
       "3        ECG\n",
       "4        EMG\n",
       "5      EOG_L\n",
       "6      EOG_R\n",
       "7        EEG\n",
       "8    AIRFLOW\n",
       "9   THOR_RES\n",
       "10  ABDO_RES\n",
       "11  POSITION\n",
       "12     LIGHT\n",
       "13   OX_STAT"
      ]
     },
     "execution_count": 24,
     "metadata": {},
     "output_type": "execute_result"
    }
   ],
   "source": [
    "p.channels()"
   ]
  },
  {
   "cell_type": "code",
   "execution_count": 25,
   "id": "19d46e58-77d9-45e6-8ad6-3c41e9061526",
   "metadata": {
    "tags": []
   },
   "outputs": [
    {
     "data": {
      "text/plain": [
       "['SaO2',\n",
       " 'PR',\n",
       " 'EEG_sec',\n",
       " 'ECG',\n",
       " 'EMG',\n",
       " 'EOG_L',\n",
       " 'EOG_R',\n",
       " 'EEG',\n",
       " 'AIRFLOW',\n",
       " 'THOR_RES',\n",
       " 'ABDO_RES',\n",
       " 'POSITION',\n",
       " 'LIGHT',\n",
       " 'OX_STAT']"
      ]
     },
     "execution_count": 25,
     "metadata": {},
     "output_type": "execute_result"
    }
   ],
   "source": [
    "raw.channels()"
   ]
  },
  {
   "cell_type": "markdown",
   "id": "baafd04d-58bc-4d32-9caa-f911ee973b93",
   "metadata": {},
   "source": [
    "As a second example, using `stat()`:"
   ]
  },
  {
   "cell_type": "code",
   "execution_count": 26,
   "id": "0f885236-e3f5-48ed-82b7-d9e2742e867d",
   "metadata": {},
   "outputs": [
    {
     "data": {
      "text/html": [
       "<div>\n",
       "<style scoped>\n",
       "    .dataframe tbody tr th:only-of-type {\n",
       "        vertical-align: middle;\n",
       "    }\n",
       "\n",
       "    .dataframe tbody tr th {\n",
       "        vertical-align: top;\n",
       "    }\n",
       "\n",
       "    .dataframe thead th {\n",
       "        text-align: right;\n",
       "    }\n",
       "</style>\n",
       "<table border=\"1\" class=\"dataframe\">\n",
       "  <thead>\n",
       "    <tr style=\"text-align: right;\">\n",
       "      <th></th>\n",
       "      <th>Value</th>\n",
       "    </tr>\n",
       "  </thead>\n",
       "  <tbody>\n",
       "    <tr>\n",
       "      <th>annotation_files</th>\n",
       "      <td>tutorial/edfs/learn-nsrr01.xml</td>\n",
       "    </tr>\n",
       "    <tr>\n",
       "      <th>duration</th>\n",
       "      <td>04.21.30.000</td>\n",
       "    </tr>\n",
       "    <tr>\n",
       "      <th>edf_file</th>\n",
       "      <td>tutorial/edfs/learn-nsrr01.edf</td>\n",
       "    </tr>\n",
       "    <tr>\n",
       "      <th>elen</th>\n",
       "      <td>30.0</td>\n",
       "    </tr>\n",
       "    <tr>\n",
       "      <th>id</th>\n",
       "      <td>learn-nsrr01</td>\n",
       "    </tr>\n",
       "    <tr>\n",
       "      <th>na</th>\n",
       "      <td>10</td>\n",
       "    </tr>\n",
       "    <tr>\n",
       "      <th>ne</th>\n",
       "      <td>523</td>\n",
       "    </tr>\n",
       "    <tr>\n",
       "      <th>nem</th>\n",
       "      <td>0</td>\n",
       "    </tr>\n",
       "    <tr>\n",
       "      <th>ns</th>\n",
       "      <td>14</td>\n",
       "    </tr>\n",
       "    <tr>\n",
       "      <th>nt</th>\n",
       "      <td>14</td>\n",
       "    </tr>\n",
       "    <tr>\n",
       "      <th>state</th>\n",
       "      <td>1</td>\n",
       "    </tr>\n",
       "  </tbody>\n",
       "</table>\n",
       "</div>"
      ],
      "text/plain": [
       "                                           Value\n",
       "annotation_files  tutorial/edfs/learn-nsrr01.xml\n",
       "duration                            04.21.30.000\n",
       "edf_file          tutorial/edfs/learn-nsrr01.edf\n",
       "elen                                        30.0\n",
       "id                                  learn-nsrr01\n",
       "na                                            10\n",
       "ne                                           523\n",
       "nem                                            0\n",
       "ns                                            14\n",
       "nt                                            14\n",
       "state                                          1"
      ]
     },
     "execution_count": 26,
     "metadata": {},
     "output_type": "execute_result"
    }
   ],
   "source": [
    "p.stat()"
   ]
  },
  {
   "cell_type": "code",
   "execution_count": 27,
   "id": "7050e595-21b9-4474-9a4d-2adb33fc8282",
   "metadata": {},
   "outputs": [
    {
     "data": {
      "text/plain": [
       "{'annotation_files': 'tutorial/edfs/learn-nsrr01.xml',\n",
       " 'duration': '04.21.30.000',\n",
       " 'edf_file': 'tutorial/edfs/learn-nsrr01.edf',\n",
       " 'elen': 30.0,\n",
       " 'id': 'learn-nsrr01',\n",
       " 'na': 10,\n",
       " 'ne': 523,\n",
       " 'nem': 0,\n",
       " 'ns': 14,\n",
       " 'nt': 14,\n",
       " 'state': 1}"
      ]
     },
     "execution_count": 27,
     "metadata": {},
     "output_type": "execute_result"
    }
   ],
   "source": [
    "raw.stat()"
   ]
  },
  {
   "cell_type": "markdown",
   "id": "fab5cde3-9de0-49c4-9576-e46d6f69eaaf",
   "metadata": {},
   "source": [
    "There may be some programmatic cases where you want to avoid the overhead of Pandas dataframe, and so it may be more convenient to extract the simpler built-in Python objects.    For most purposes, the higher-level functions will typically be preferrable."
   ]
  }
 ],
 "metadata": {
  "kernelspec": {
   "display_name": "Python 3 (ipykernel)",
   "language": "python",
   "name": "python3"
  },
  "language_info": {
   "codemirror_mode": {
    "name": "ipython",
    "version": 3
   },
   "file_extension": ".py",
   "mimetype": "text/x-python",
   "name": "python",
   "nbconvert_exporter": "python",
   "pygments_lexer": "ipython3",
   "version": "3.9.6"
  }
 },
 "nbformat": 4,
 "nbformat_minor": 5
}
