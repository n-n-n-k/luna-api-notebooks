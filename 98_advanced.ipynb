{
 "cells": [
  {
   "cell_type": "markdown",
   "id": "41eb72a8-e31c-471b-a3eb-5a35b3c6f4e6",
   "metadata": {},
   "source": [
    "# LunAPI : advanced notes\n",
    "\n",
    "Links to notebooks in this repository: [Index](./00_overview.ipynb) | [Individuals](./01_indivs.ipynb) | [Projects](./02_projects.ipynb) | [Staging](./03_staging.ipynb) | [Models](./04_models.ipynb) | [Advanced](./98_advanced.ipynb) | [Reference](./99_reference.ipynb)"
   ]
  },
  {
   "cell_type": "code",
   "execution_count": 6,
   "id": "e2e37014-91eb-4480-b9b3-fd9ff421d47a",
   "metadata": {},
   "outputs": [
    {
     "name": "stdout",
     "output_type": "stream",
     "text": [
      "initiated lunapi v0.0.4 <lunapi.lunapi0.luna object at 0xffff6c1a3cf0> \n",
      "\n",
      "enabling console outputs\n"
     ]
    }
   ],
   "source": [
    "import lunapi as lp\n",
    "proj = lp.proj()"
   ]
  },
  {
   "cell_type": "markdown",
   "id": "dc64702a-bc84-4a84-95ea-b331d346ed16",
   "metadata": {},
   "source": [
    "## Structure of the `lunapi` package"
   ]
  },
  {
   "cell_type": "markdown",
   "id": "060fc8d2-61f5-4a43-95a2-3fb4a8ca7829",
   "metadata": {},
   "source": [
    "\n",
    "[lunapi/lunapi1.py](https://github.com/remnrem/luna-api/blob/c592e23fe3ecec03774ed245062cab797aee200c/src/lunapi/lunapi1.py)\n",
    "\n",
    "[lunapi/lunapi0.cpp](https://github.com/remnrem/luna-api/blob/c592e23fe3ecec03774ed245062cab797aee200c/src/lunapi/lunapi0.cpp)"
   ]
  },
  {
   "cell_type": "markdown",
   "id": "c72edc3f-d74d-4e75-9ea2-a1549e032b9c",
   "metadata": {},
   "source": [
    "### lunapi1"
   ]
  },
  {
   "cell_type": "markdown",
   "id": "ee1e95ef-a921-4b69-ab6f-5f38a65af5c3",
   "metadata": {},
   "source": [
    "### lunapi0"
   ]
  },
  {
   "cell_type": "markdown",
   "id": "14e913a2-df1d-4d01-8244-046b843c3a1d",
   "metadata": {},
   "source": [
    "## Luna variables"
   ]
  },
  {
   "cell_type": "code",
   "execution_count": null,
   "id": "9dee466c-087f-49c1-af57-23ec46ab103d",
   "metadata": {},
   "outputs": [],
   "source": [
    "correspondence w/ luna command line"
   ]
  },
  {
   "cell_type": "markdown",
   "id": "7c835ab0-08b6-47de-99c0-f86e04a87816",
   "metadata": {},
   "source": [
    "## Controlling inputs"
   ]
  },
  {
   "cell_type": "code",
   "execution_count": 10,
   "id": "4e995560-ed77-4bd3-8540-00c0aa05e745",
   "metadata": {},
   "outputs": [],
   "source": [
    "### Setting Luna variables"
   ]
  },
  {
   "cell_type": "code",
   "execution_count": null,
   "id": "c8c92ac3-0f9f-4cb5-af5e-646a70218313",
   "metadata": {},
   "outputs": [],
   "source": [
    "### Multi-line Luna commands"
   ]
  },
  {
   "cell_type": "code",
   "execution_count": 10,
   "id": "243c6cc6-a770-4b87-98a1-9163b0122d56",
   "metadata": {},
   "outputs": [
    {
     "name": "stderr",
     "output_type": "stream",
     "text": [
      " ..................................................................\n",
      " CMD #1: MASK\n",
      "   options: ifnot=N2 sig=*\n",
      "  set masking mode to 'force'\n",
      "  annots: N2\n",
      "  applied annotation mask for 1 annotation(s)\n",
      "  399 epochs match; 796 newly masked, 0 unmasked, 399 unchanged\n",
      "  total of 399 of 1195 retained\n",
      " ..................................................................\n",
      " CMD #2: RE\n",
      "   options: sig=*\n",
      "  restructuring as an EDF+:  retaining 11970 of 35850 records\n",
      "  of 597.5 minutes, dropping 398, retaining 199.5\n",
      "  resetting mask\n",
      "  clearing any cached values and recording options\n",
      "  retaining 399 epochs\n",
      " ..................................................................\n",
      " CMD #3: PSD\n",
      "   options: dB sig=EEG spectrum\n",
      "  calculating PSD from 0.5 to 25 for 1 signals\n"
     ]
    },
    {
     "data": {
      "text/html": [
       "<div>\n",
       "<style scoped>\n",
       "    .dataframe tbody tr th:only-of-type {\n",
       "        vertical-align: middle;\n",
       "    }\n",
       "\n",
       "    .dataframe tbody tr th {\n",
       "        vertical-align: top;\n",
       "    }\n",
       "\n",
       "    .dataframe thead th {\n",
       "        text-align: right;\n",
       "    }\n",
       "</style>\n",
       "<table border=\"1\" class=\"dataframe\">\n",
       "  <thead>\n",
       "    <tr style=\"text-align: right;\">\n",
       "      <th></th>\n",
       "      <th>Command</th>\n",
       "      <th>Stata</th>\n",
       "    </tr>\n",
       "  </thead>\n",
       "  <tbody>\n",
       "    <tr>\n",
       "      <th>0</th>\n",
       "      <td>MASK</td>\n",
       "      <td>EMASK</td>\n",
       "    </tr>\n",
       "    <tr>\n",
       "      <th>1</th>\n",
       "      <td>PSD</td>\n",
       "      <td>B_CH</td>\n",
       "    </tr>\n",
       "    <tr>\n",
       "      <th>2</th>\n",
       "      <td>PSD</td>\n",
       "      <td>CH</td>\n",
       "    </tr>\n",
       "    <tr>\n",
       "      <th>3</th>\n",
       "      <td>PSD</td>\n",
       "      <td>CH_F</td>\n",
       "    </tr>\n",
       "    <tr>\n",
       "      <th>4</th>\n",
       "      <td>RE</td>\n",
       "      <td>BL</td>\n",
       "    </tr>\n",
       "  </tbody>\n",
       "</table>\n",
       "</div>"
      ],
      "text/plain": [
       "  Command  Stata\n",
       "0    MASK  EMASK\n",
       "1     PSD   B_CH\n",
       "2     PSD     CH\n",
       "3     PSD   CH_F\n",
       "4      RE     BL"
      ]
     },
     "execution_count": 10,
     "metadata": {},
     "output_type": "execute_result"
    }
   ],
   "source": [
    "p.eval( \"\"\" MASK ifnot=N2\n",
    "            RE\n",
    "            PSD sig=EEG spectrum dB \"\"\" )"
   ]
  },
  {
   "cell_type": "markdown",
   "id": "4d2dfe1d-e65a-41eb-9026-185f81dd4fe1",
   "metadata": {},
   "source": [
    "### Parsing command line files"
   ]
  },
  {
   "cell_type": "markdown",
   "id": "d31a39e5-cb20-4d1f-bbf5-d4236ab9daf8",
   "metadata": {},
   "source": [
    "### Running command files"
   ]
  },
  {
   "cell_type": "code",
   "execution_count": null,
   "id": "b136847a-5a9d-4cda-accd-640017c7a72e",
   "metadata": {},
   "outputs": [],
   "source": [
    "lp.cmdfile( 'tutorial/cmd/first.txt')"
   ]
  },
  {
   "cell_type": "code",
   "execution_count": null,
   "id": "55277cf4-bb98-41ad-b634-34e57b2886ee",
   "metadata": {},
   "outputs": [],
   "source": [
    "proj.opt( 'stage' , 'N2' )\n",
    "p.eval( lp.cmdfile( 'tutorial/cmd/first.txt') )b"
   ]
  },
  {
   "cell_type": "code",
   "execution_count": null,
   "id": "6231a496-c7b3-4a76-8ba5-f4ed2c750cbc",
   "metadata": {},
   "outputs": [],
   "source": [
    "p.strata()"
   ]
  },
  {
   "cell_type": "code",
   "execution_count": null,
   "id": "179066f5-00c9-427f-a1d6-cff9da11a578",
   "metadata": {},
   "outputs": [],
   "source": [
    "p.table( 'STATS' , 'CH_STAGE' )"
   ]
  },
  {
   "cell_type": "markdown",
   "id": "f1cc479f-bc2d-4c73-b91b-64746f7cb8a7",
   "metadata": {},
   "source": [
    "### Import external databases"
   ]
  },
  {
   "cell_type": "code",
   "execution_count": null,
   "id": "d00688d8-37fb-4652-9722-dfbe0546f6c0",
   "metadata": {},
   "outputs": [],
   "source": [
    "proj.import_db( 'out.db' ) "
   ]
  },
  {
   "cell_type": "code",
   "execution_count": null,
   "id": "a0112253-358e-47cd-b90e-67fd2b557cd3",
   "metadata": {},
   "outputs": [],
   "source": [
    "proj.commands()"
   ]
  },
  {
   "cell_type": "code",
   "execution_count": null,
   "id": "99d7009a-499d-4bf6-8e0c-721bc791dc4d",
   "metadata": {},
   "outputs": [],
   "source": [
    "proj.table( 'HEADERS' )"
   ]
  },
  {
   "cell_type": "markdown",
   "id": "00d04d52-b8e1-4483-a037-d0103654bf62",
   "metadata": {},
   "source": [
    "## Controlling output"
   ]
  },
  {
   "cell_type": "markdown",
   "id": "347d3d1b-718f-4d70-b7d2-7332c5eb23eb",
   "metadata": {},
   "source": [
    "### Silencing log output"
   ]
  },
  {
   "cell_type": "markdown",
   "id": "5427ed85-a3de-4db6-8621-3ae0fac38e43",
   "metadata": {},
   "source": [
    "### Writing to text-tables"
   ]
  },
  {
   "cell_type": "markdown",
   "id": "4d25493d-714b-45a4-9623-c9ccc590fe54",
   "metadata": {},
   "source": [
    "## Instance referencing"
   ]
  },
  {
   "cell_type": "markdown",
   "id": "f1561cbd-64ac-4ad3-b2f2-9e62e55d125a",
   "metadata": {},
   "source": [
    "When creating an individual instance, __the returned object is only a reference to the instance, not the instance itself__.  This distinction can be important to note when working with multiple instances, or trying to copy instances, etc.   In brief, if we start with this: "
   ]
  },
  {
   "cell_type": "code",
   "execution_count": 13,
   "id": "c070769d-1b43-4c52-a663-15caa80c08cf",
   "metadata": {},
   "outputs": [],
   "source": [
    "p = proj.inst('id1')"
   ]
  },
  {
   "cell_type": "code",
   "execution_count": 15,
   "id": "33070eba-9814-41a6-8ed8-daf40e8074cc",
   "metadata": {},
   "outputs": [],
   "source": [
    "q = p"
   ]
  },
  {
   "cell_type": "markdown",
   "id": "5d42a9ae-7e72-444f-814d-41733251ba5a",
   "metadata": {},
   "source": [
    "At this point, the following statements hold:\n",
    "\n",
    " - `q` points to the same object as `p`\n",
    " - therefore, if `p` is changed, so is `q` (and vice versa)\n",
    " - if `p` is deleted (`del p`), `q` will continue to point to the same Luna instance `id1` however\n",
    " - if both `p` and `q` are deleted, then Python's garbage collector will release any resources used to store `id1` (i.e. based on Python's _reference-counting_ approach to memory management - meaning that you normally shouldn't have to worry about explicitly freeing resources"
   ]
  },
  {
   "cell_type": "markdown",
   "id": "a04cf63f-a01b-48a6-a662-13a0d78fde95",
   "metadata": {},
   "source": [
    "This of course begs the question: if you _do_ want to make a copy of an instance, how is that done?   This is done by "
   ]
  },
  {
   "cell_type": "markdown",
   "id": "ce5d0c54-937a-4c02-a301-286324507fc8",
   "metadata": {},
   "source": [
    "<img src=\"img/py-refs.png\" width=40% height=40%>"
   ]
  },
  {
   "cell_type": "code",
   "execution_count": null,
   "id": "77e8e6bd-2906-4eb8-8390-823322241698",
   "metadata": {},
   "outputs": [],
   "source": []
  },
  {
   "cell_type": "markdown",
   "id": "a203fa7a-59ba-45ff-8e61-9230d0a23084",
   "metadata": {},
   "source": [
    "# Advanced topics"
   ]
  },
  {
   "cell_type": "markdown",
   "id": "26b7e2d9-7b58-4f7a-b4e9-104f7e819ed9",
   "metadata": {},
   "source": [
    "This section briefly covers a few more advanced topics to help orient working with `lunapi`"
   ]
  },
  {
   "cell_type": "markdown",
   "id": "4a0d0d0f-f60e-48a0-966f-032effabfd71",
   "metadata": {},
   "source": [
    "## `lunapi1` and `lunapi0` functions"
   ]
  },
  {
   "cell_type": "markdown",
   "id": "b6b71583-d4c6-4433-8d21-efa12773c3ea",
   "metadata": {},
   "source": [
    "In the example below, `edf` is the level-1 object (i.e. wrapper plus instance), whereas `raw` is the level-0 object (i.e. a vanilla instance).   Most functions are similar - it is just the output format that is different (e.g. a pandas dataframe versus a list-of-lists, etc)."
   ]
  },
  {
   "cell_type": "code",
   "execution_count": null,
   "id": "747f38bc-fe6b-4132-8b64-e9ae18e7bb08",
   "metadata": {},
   "outputs": [],
   "source": [
    "edf"
   ]
  },
  {
   "cell_type": "code",
   "execution_count": null,
   "id": "e1778f96-7ad3-429c-b608-f73ea950c541",
   "metadata": {},
   "outputs": [],
   "source": [
    "edf.channels()"
   ]
  },
  {
   "cell_type": "markdown",
   "id": "c573e7a2-a10e-4bff-a503-06b4016b66c2",
   "metadata": {},
   "source": [
    "Here we get the raw, level-0 instance (the `edf` member of the level-1 instance):"
   ]
  },
  {
   "cell_type": "code",
   "execution_count": null,
   "id": "1cbd4998-a187-4cda-ab26-6acfe1e0221b",
   "metadata": {},
   "outputs": [],
   "source": [
    "raw = edf.edf"
   ]
  },
  {
   "cell_type": "code",
   "execution_count": null,
   "id": "19d46e58-77d9-45e6-8ad6-3c41e9061526",
   "metadata": {
    "tags": []
   },
   "outputs": [],
   "source": [
    "raw.channels()"
   ]
  },
  {
   "cell_type": "code",
   "execution_count": null,
   "id": "2aafc27c-c305-4ecf-8206-6ccc4bacfa1f",
   "metadata": {},
   "outputs": [],
   "source": [
    "raw"
   ]
  },
  {
   "cell_type": "markdown",
   "id": "baafd04d-58bc-4d32-9caa-f911ee973b93",
   "metadata": {},
   "source": [
    "As a second example, using `stat()`:"
   ]
  },
  {
   "cell_type": "code",
   "execution_count": null,
   "id": "0f885236-e3f5-48ed-82b7-d9e2742e867d",
   "metadata": {},
   "outputs": [],
   "source": [
    "edf.stat()"
   ]
  },
  {
   "cell_type": "code",
   "execution_count": null,
   "id": "7050e595-21b9-4474-9a4d-2adb33fc8282",
   "metadata": {},
   "outputs": [],
   "source": [
    "raw.stat()"
   ]
  },
  {
   "cell_type": "markdown",
   "id": "9881e79d-b54d-4534-9c9c-e6d5516fb295",
   "metadata": {},
   "source": [
    "## `lunapi-inst` objects are references"
   ]
  },
  {
   "cell_type": "markdown",
   "id": "1230f648-4131-4c5b-bb54-babc168aa6f5",
   "metadata": {},
   "source": [
    "When a new instance is created, this happens _internally_ within the Luna C/C++ library.  The lunapi Python wrapper contains objects that point to this single reference.  This means that if you copy an instance, both instances point to the same underlying data.  If you change one, you'll see the other is also changed."
   ]
  },
  {
   "cell_type": "markdown",
   "id": "b6875802-7be0-43a8-93b3-f334b5a6ed46",
   "metadata": {},
   "source": [
    "We can also access multiple individuals at the same time:"
   ]
  },
  {
   "cell_type": "code",
   "execution_count": null,
   "id": "836e1bda-1366-4aa7-b145-ec6a27e72260",
   "metadata": {},
   "outputs": [],
   "source": [
    "a = proj.inst(1)\n",
    "b = proj.inst(2)"
   ]
  },
  {
   "cell_type": "code",
   "execution_count": null,
   "id": "5d3030b8-df2c-410e-9417-b4236d1e9347",
   "metadata": {},
   "outputs": [],
   "source": [
    "a"
   ]
  },
  {
   "cell_type": "code",
   "execution_count": null,
   "id": "89b161a4-41da-41d0-8036-dd6d80f3d007",
   "metadata": {},
   "outputs": [],
   "source": [
    "b"
   ]
  },
  {
   "cell_type": "markdown",
   "id": "5764eb6e-bd54-4a62-9a61-5e301b8874f0",
   "metadata": {},
   "source": [
    "Note that `a` and `b` are simply references to the underlying data, which are stored within the core Luna C/C++ library.  "
   ]
  },
  {
   "cell_type": "code",
   "execution_count": null,
   "id": "9bfb61e3-a9e1-4c37-b169-9b15d7c01adf",
   "metadata": {},
   "outputs": [],
   "source": [
    "a = proj.inst(0)\n",
    "a"
   ]
  },
  {
   "cell_type": "code",
   "execution_count": null,
   "id": "e167c4cb-9332-4e6d-8e33-f6d485f002ff",
   "metadata": {},
   "outputs": [],
   "source": [
    "b = a\n",
    "b"
   ]
  },
  {
   "cell_type": "code",
   "execution_count": null,
   "id": "bd364aff-97c8-404f-a23b-b4c019683fdd",
   "metadata": {},
   "outputs": [],
   "source": [
    "a.stat()"
   ]
  },
  {
   "cell_type": "code",
   "execution_count": null,
   "id": "6b31aeb3-3469-4004-b6e0-5be7aedf0caf",
   "metadata": {},
   "outputs": [],
   "source": [
    "b.stat()"
   ]
  },
  {
   "cell_type": "code",
   "execution_count": null,
   "id": "913d9703-abf0-41e9-b43f-19b10e8c8606",
   "metadata": {},
   "outputs": [],
   "source": [
    "a.eval( 'MASK ifnot=N2 & RE' )\n",
    "a.stat()"
   ]
  },
  {
   "cell_type": "code",
   "execution_count": null,
   "id": "9e3568d7-a276-4369-a300-20dd260958ff",
   "metadata": {},
   "outputs": [],
   "source": [
    "b.stat()"
   ]
  },
  {
   "cell_type": "markdown",
   "id": "6484d95c-0091-44d1-9859-8585db4f92d8",
   "metadata": {},
   "source": [
    "However... if you create two... can be diff"
   ]
  },
  {
   "cell_type": "code",
   "execution_count": null,
   "id": "4b7db4c8-abe0-452d-948b-b86afbcb020a",
   "metadata": {},
   "outputs": [],
   "source": [
    "p1 = proj.inst(0)\n",
    "p2 = proj.inst(0)"
   ]
  },
  {
   "cell_type": "code",
   "execution_count": null,
   "id": "319d1cd1-d43b-4dc1-8026-de454209e7d3",
   "metadata": {},
   "outputs": [],
   "source": [
    "p1"
   ]
  },
  {
   "cell_type": "code",
   "execution_count": null,
   "id": "fe7b3328-f6de-4e2c-be38-9c1ce64742ae",
   "metadata": {},
   "outputs": [],
   "source": [
    "p2"
   ]
  },
  {
   "cell_type": "code",
   "execution_count": null,
   "id": "08503adf-5a61-4e4c-8196-cec31268595c",
   "metadata": {},
   "outputs": [],
   "source": [
    "p1.stat()"
   ]
  },
  {
   "cell_type": "code",
   "execution_count": null,
   "id": "8460b816-0d1e-4c50-98fd-646b16bd85bb",
   "metadata": {},
   "outputs": [],
   "source": [
    "p2.stat()"
   ]
  },
  {
   "cell_type": "code",
   "execution_count": null,
   "id": "bf23d8c9-43b1-4533-9508-a842b7315fbb",
   "metadata": {},
   "outputs": [],
   "source": [
    "p1.eval('MASK ifnot=N2 & RE')"
   ]
  },
  {
   "cell_type": "code",
   "execution_count": null,
   "id": "7dba75b6-b6fd-405d-a16a-4cde786dee3f",
   "metadata": {},
   "outputs": [],
   "source": [
    "p1.stat()"
   ]
  },
  {
   "cell_type": "code",
   "execution_count": null,
   "id": "bd790075-0c09-4cf5-a335-4bf2f745c101",
   "metadata": {},
   "outputs": [],
   "source": [
    "p2.stat()"
   ]
  },
  {
   "cell_type": "markdown",
   "id": "81d7d7ab-f5b0-4b7c-82e9-4a59815eaa30",
   "metadata": {},
   "source": [
    "That is, the unique underlying instances are created by the `inst()` function.  One innvocation of `inst()` == one instance. "
   ]
  },
  {
   "cell_type": "markdown",
   "id": "d71d9d1b-2e06-41b9-8808-0cbbe4389166",
   "metadata": {},
   "source": []
  }
 ],
 "metadata": {
  "kernelspec": {
   "display_name": "Python 3 (ipykernel)",
   "language": "python",
   "name": "python3"
  },
  "language_info": {
   "codemirror_mode": {
    "name": "ipython",
    "version": 3
   },
   "file_extension": ".py",
   "mimetype": "text/x-python",
   "name": "python",
   "nbconvert_exporter": "python",
   "pygments_lexer": "ipython3",
   "version": "3.11.7"
  }
 },
 "nbformat": 4,
 "nbformat_minor": 5
}
