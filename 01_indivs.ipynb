{
 "cells": [
  {
   "cell_type": "markdown",
   "id": "58747097-066e-4217-bdf5-a9791d51716b",
   "metadata": {},
   "source": [
    "# LunAPI : individuals\n",
    "\n",
    "Links to notebooks in this repository: [Index](./00_overview.ipynb) | [Luna tutorial](./tutorial.ipynb) | \n",
    "[Individuals](./01_indivs.ipynb) | [Projects](./02_projects.ipynb) | [Staging](./03_staging.ipynb) | [Models](./04_models.ipynb) | [Advanced](./98_advanced.ipynb) | [Reference](./99_reference.ipynb)\n",
    "\n",
    "---"
   ]
  },
  {
   "cell_type": "markdown",
   "id": "d9ee612d-f3a6-46ff-ad83-6641a54369c2",
   "metadata": {},
   "source": [
    "First, we import `lunapi` and initiate a _project_:"
   ]
  },
  {
   "cell_type": "code",
   "execution_count": 1,
   "id": "b51e53cc-fec2-4dca-b272-fef740a827b5",
   "metadata": {},
   "outputs": [
    {
     "name": "stdout",
     "output_type": "stream",
     "text": [
      "initiated lunapi v0.0.7 <lunapi.lunapi0.luna object at 0x11b2d9330> \n",
      "\n"
     ]
    }
   ],
   "source": [
    "import lunapi as lp\n",
    "proj = lp.proj()"
   ]
  },
  {
   "cell_type": "markdown",
   "id": "ff7827a0-2c14-4905-87bf-b34306078ca3",
   "metadata": {},
   "source": [
    "We then create a single _instance_: here to match the NSRR tutorial individual `learn-nsrr02`"
   ]
  },
  {
   "cell_type": "code",
   "execution_count": 2,
   "id": "417e1c57-6757-421b-89e4-9f442317db48",
   "metadata": {},
   "outputs": [],
   "source": [
    "p = proj.inst( 'learn-nsrr02' )"
   ]
  },
  {
   "cell_type": "markdown",
   "id": "29468d00-096b-44e2-91e8-0ee1ee3a91ed",
   "metadata": {},
   "source": [
    "<div class=\"alert alert-block alert-info\"><b>Note:</b> Here we use the convention of calling the <em>project</em> <tt>proj</tt> and the current/main <em>instance</em> <tt>p</tt>.</div>"
   ]
  },
  {
   "cell_type": "markdown",
   "id": "1bafc95a-8c54-4ae0-9a45-56aec07c7753",
   "metadata": {},
   "source": [
    "We can then attach the corresponding EDF file from disk using `attach_edf()`:"
   ]
  },
  {
   "cell_type": "code",
   "execution_count": 3,
   "id": "0cce3ee4-e18e-41e9-94f6-fc2ca26705c4",
   "metadata": {},
   "outputs": [
    {
     "name": "stderr",
     "output_type": "stream",
     "text": [
      "___________________________________________________________________\n",
      "Processing: learn-nsrr02 | tutorial/edfs/learn-nsrr02.edf\n",
      " duration 09.57.30, 35850s | time 21.18.06 - 07.15.36 | date 01.01.85\n",
      "\n",
      " signals: 14 (of 14) selected in a standard EDF file\n",
      "  SaO2 | PR | EEG_sec | ECG | EMG | EOG_L | EOG_R | EEG\n",
      "  AIRFLOW | THOR_RES | ABDO_RES | POSITION | LIGHT | OX_STAT\n"
     ]
    },
    {
     "data": {
      "text/plain": [
       "True"
      ]
     },
     "execution_count": 3,
     "metadata": {},
     "output_type": "execute_result"
    }
   ],
   "source": [
    "p.attach_edf( 'tutorial/edfs/learn-nsrr02.edf' )"
   ]
  },
  {
   "cell_type": "markdown",
   "id": "b381d4be-8b6e-4d4b-8abf-327fcd095c04",
   "metadata": {},
   "source": [
    "Second, we can also attach the XML annotations associated with that individual using `attach_annot()`:"
   ]
  },
  {
   "cell_type": "code",
   "execution_count": 4,
   "id": "c0427df4-2d7c-44da-ac30-bba8cb259c3e",
   "metadata": {},
   "outputs": [
    {
     "data": {
      "text/plain": [
       "True"
      ]
     },
     "execution_count": 4,
     "metadata": {},
     "output_type": "execute_result"
    }
   ],
   "source": [
    "p.attach_annot( 'tutorial/edfs/learn-nsrr02.xml' )"
   ]
  },
  {
   "cell_type": "markdown",
   "id": "4fe2f57a-1f62-439f-91c3-86685a59718a",
   "metadata": {},
   "source": [
    "To get a short description of the instance, just enter its name:"
   ]
  },
  {
   "cell_type": "code",
   "execution_count": 5,
   "id": "f81453bb-53c1-4585-bc24-2eb226cc9911",
   "metadata": {},
   "outputs": [
    {
     "data": {
      "text/plain": [
       "<lunapi-instance id:learn-nsrr02 edf:tutorial/edfs/learn-nsrr02.edf annot:tutorial/edfs/learn-nsrr02.xml>"
      ]
     },
     "execution_count": 5,
     "metadata": {},
     "output_type": "execute_result"
    }
   ],
   "source": [
    "p"
   ]
  },
  {
   "cell_type": "markdown",
   "id": "eee00bd1-6494-4050-b843-2faf54cff533",
   "metadata": {},
   "source": [
    "Above, we see the ID, the attached EDF and the annotation file(s) are listed, as expected."
   ]
  },
  {
   "cell_type": "markdown",
   "id": "9037a79d-c1b8-477c-8a1d-cd2978f6db3a",
   "metadata": {},
   "source": [
    "## Simple summaries"
   ]
  },
  {
   "cell_type": "markdown",
   "id": "8ebb1233-5770-4dce-aa10-9e3b89e391d6",
   "metadata": {},
   "source": [
    "Next, we'll get some basic summary information on the attached individual.  First some overall descriptives:"
   ]
  },
  {
   "cell_type": "code",
   "execution_count": 6,
   "id": "6bffa85d-29ef-4d71-8838-99d4e985822d",
   "metadata": {},
   "outputs": [
    {
     "data": {
      "text/html": [
       "<div>\n",
       "<style scoped>\n",
       "    .dataframe tbody tr th:only-of-type {\n",
       "        vertical-align: middle;\n",
       "    }\n",
       "\n",
       "    .dataframe tbody tr th {\n",
       "        vertical-align: top;\n",
       "    }\n",
       "\n",
       "    .dataframe thead th {\n",
       "        text-align: right;\n",
       "    }\n",
       "</style>\n",
       "<table border=\"1\" class=\"dataframe\">\n",
       "  <thead>\n",
       "    <tr style=\"text-align: right;\">\n",
       "      <th></th>\n",
       "      <th>Value</th>\n",
       "    </tr>\n",
       "  </thead>\n",
       "  <tbody>\n",
       "    <tr>\n",
       "      <th>annotation_files</th>\n",
       "      <td>tutorial/edfs/learn-nsrr02.xml</td>\n",
       "    </tr>\n",
       "    <tr>\n",
       "      <th>duration</th>\n",
       "      <td>09.57.30.000</td>\n",
       "    </tr>\n",
       "    <tr>\n",
       "      <th>edf_file</th>\n",
       "      <td>tutorial/edfs/learn-nsrr02.edf</td>\n",
       "    </tr>\n",
       "    <tr>\n",
       "      <th>id</th>\n",
       "      <td>learn-nsrr02</td>\n",
       "    </tr>\n",
       "    <tr>\n",
       "      <th>na</th>\n",
       "      <td>10</td>\n",
       "    </tr>\n",
       "    <tr>\n",
       "      <th>ns</th>\n",
       "      <td>14</td>\n",
       "    </tr>\n",
       "    <tr>\n",
       "      <th>nt</th>\n",
       "      <td>14</td>\n",
       "    </tr>\n",
       "    <tr>\n",
       "      <th>state</th>\n",
       "      <td>1</td>\n",
       "    </tr>\n",
       "  </tbody>\n",
       "</table>\n",
       "</div>"
      ],
      "text/plain": [
       "                                           Value\n",
       "annotation_files  tutorial/edfs/learn-nsrr02.xml\n",
       "duration                            09.57.30.000\n",
       "edf_file          tutorial/edfs/learn-nsrr02.edf\n",
       "id                                  learn-nsrr02\n",
       "na                                            10\n",
       "ns                                            14\n",
       "nt                                            14\n",
       "state                                          1"
      ]
     },
     "execution_count": 6,
     "metadata": {},
     "output_type": "execute_result"
    }
   ],
   "source": [
    "p.stat()"
   ]
  },
  {
   "cell_type": "markdown",
   "id": "ce469da5-f331-4b47-9ff8-018aa4b4dbf0",
   "metadata": {},
   "source": [
    "Next, a list of current channels in the (attached/in-memory) EDF:"
   ]
  },
  {
   "cell_type": "code",
   "execution_count": 7,
   "id": "2ee31f06-7531-48c9-9f54-9ca0c77b2754",
   "metadata": {},
   "outputs": [
    {
     "data": {
      "text/html": [
       "<div>\n",
       "<style scoped>\n",
       "    .dataframe tbody tr th:only-of-type {\n",
       "        vertical-align: middle;\n",
       "    }\n",
       "\n",
       "    .dataframe tbody tr th {\n",
       "        vertical-align: top;\n",
       "    }\n",
       "\n",
       "    .dataframe thead th {\n",
       "        text-align: right;\n",
       "    }\n",
       "</style>\n",
       "<table border=\"1\" class=\"dataframe\">\n",
       "  <thead>\n",
       "    <tr style=\"text-align: right;\">\n",
       "      <th></th>\n",
       "      <th>Channels</th>\n",
       "    </tr>\n",
       "  </thead>\n",
       "  <tbody>\n",
       "    <tr>\n",
       "      <th>0</th>\n",
       "      <td>SaO2</td>\n",
       "    </tr>\n",
       "    <tr>\n",
       "      <th>1</th>\n",
       "      <td>PR</td>\n",
       "    </tr>\n",
       "    <tr>\n",
       "      <th>2</th>\n",
       "      <td>EEG_sec</td>\n",
       "    </tr>\n",
       "    <tr>\n",
       "      <th>3</th>\n",
       "      <td>ECG</td>\n",
       "    </tr>\n",
       "    <tr>\n",
       "      <th>4</th>\n",
       "      <td>EMG</td>\n",
       "    </tr>\n",
       "    <tr>\n",
       "      <th>5</th>\n",
       "      <td>EOG_L</td>\n",
       "    </tr>\n",
       "    <tr>\n",
       "      <th>6</th>\n",
       "      <td>EOG_R</td>\n",
       "    </tr>\n",
       "    <tr>\n",
       "      <th>7</th>\n",
       "      <td>EEG</td>\n",
       "    </tr>\n",
       "    <tr>\n",
       "      <th>8</th>\n",
       "      <td>AIRFLOW</td>\n",
       "    </tr>\n",
       "    <tr>\n",
       "      <th>9</th>\n",
       "      <td>THOR_RES</td>\n",
       "    </tr>\n",
       "    <tr>\n",
       "      <th>10</th>\n",
       "      <td>ABDO_RES</td>\n",
       "    </tr>\n",
       "    <tr>\n",
       "      <th>11</th>\n",
       "      <td>POSITION</td>\n",
       "    </tr>\n",
       "    <tr>\n",
       "      <th>12</th>\n",
       "      <td>LIGHT</td>\n",
       "    </tr>\n",
       "    <tr>\n",
       "      <th>13</th>\n",
       "      <td>OX_STAT</td>\n",
       "    </tr>\n",
       "  </tbody>\n",
       "</table>\n",
       "</div>"
      ],
      "text/plain": [
       "    Channels\n",
       "0       SaO2\n",
       "1         PR\n",
       "2    EEG_sec\n",
       "3        ECG\n",
       "4        EMG\n",
       "5      EOG_L\n",
       "6      EOG_R\n",
       "7        EEG\n",
       "8    AIRFLOW\n",
       "9   THOR_RES\n",
       "10  ABDO_RES\n",
       "11  POSITION\n",
       "12     LIGHT\n",
       "13   OX_STAT"
      ]
     },
     "execution_count": 7,
     "metadata": {},
     "output_type": "execute_result"
    }
   ],
   "source": [
    "p.channels()"
   ]
  },
  {
   "cell_type": "markdown",
   "id": "0453cc84-bafe-41d7-a222-6898716f6f8e",
   "metadata": {},
   "source": [
    "The above, but with more information from `headers()`:"
   ]
  },
  {
   "cell_type": "code",
   "execution_count": 8,
   "id": "3f3d345b-cf30-402c-9e1c-87a13afdedca",
   "metadata": {},
   "outputs": [
    {
     "data": {
      "text/html": [
       "<div>\n",
       "<style scoped>\n",
       "    .dataframe tbody tr th:only-of-type {\n",
       "        vertical-align: middle;\n",
       "    }\n",
       "\n",
       "    .dataframe tbody tr th {\n",
       "        vertical-align: top;\n",
       "    }\n",
       "\n",
       "    .dataframe thead th {\n",
       "        text-align: right;\n",
       "    }\n",
       "</style>\n",
       "<table border=\"1\" class=\"dataframe\">\n",
       "  <thead>\n",
       "    <tr style=\"text-align: right;\">\n",
       "      <th></th>\n",
       "      <th>ID</th>\n",
       "      <th>CH</th>\n",
       "      <th>DMAX</th>\n",
       "      <th>DMIN</th>\n",
       "      <th>PDIM</th>\n",
       "      <th>PMAX</th>\n",
       "      <th>PMIN</th>\n",
       "      <th>POS</th>\n",
       "      <th>SENS</th>\n",
       "      <th>SR</th>\n",
       "      <th>TRANS</th>\n",
       "      <th>TYPE</th>\n",
       "    </tr>\n",
       "  </thead>\n",
       "  <tbody>\n",
       "    <tr>\n",
       "      <th>0</th>\n",
       "      <td>learn-nsrr02</td>\n",
       "      <td>ABDO_RES</td>\n",
       "      <td>127</td>\n",
       "      <td>-128</td>\n",
       "      <td>.</td>\n",
       "      <td>-1.0</td>\n",
       "      <td>1.0</td>\n",
       "      <td>11</td>\n",
       "      <td>-0.007843</td>\n",
       "      <td>10.0</td>\n",
       "      <td>.</td>\n",
       "      <td>EFFORT</td>\n",
       "    </tr>\n",
       "    <tr>\n",
       "      <th>1</th>\n",
       "      <td>learn-nsrr02</td>\n",
       "      <td>AIRFLOW</td>\n",
       "      <td>127</td>\n",
       "      <td>-128</td>\n",
       "      <td>.</td>\n",
       "      <td>-1.0</td>\n",
       "      <td>1.0</td>\n",
       "      <td>9</td>\n",
       "      <td>-0.007843</td>\n",
       "      <td>10.0</td>\n",
       "      <td>.</td>\n",
       "      <td>AIRFLOW</td>\n",
       "    </tr>\n",
       "    <tr>\n",
       "      <th>2</th>\n",
       "      <td>learn-nsrr02</td>\n",
       "      <td>ECG</td>\n",
       "      <td>127</td>\n",
       "      <td>-128</td>\n",
       "      <td>mV</td>\n",
       "      <td>1.25</td>\n",
       "      <td>-1.25</td>\n",
       "      <td>4</td>\n",
       "      <td>0.009804</td>\n",
       "      <td>250.0</td>\n",
       "      <td>.</td>\n",
       "      <td>ECG</td>\n",
       "    </tr>\n",
       "    <tr>\n",
       "      <th>3</th>\n",
       "      <td>learn-nsrr02</td>\n",
       "      <td>EEG</td>\n",
       "      <td>127</td>\n",
       "      <td>-128</td>\n",
       "      <td>uV</td>\n",
       "      <td>125.0</td>\n",
       "      <td>-125.0</td>\n",
       "      <td>8</td>\n",
       "      <td>0.980392</td>\n",
       "      <td>125.0</td>\n",
       "      <td>.</td>\n",
       "      <td>EEG</td>\n",
       "    </tr>\n",
       "    <tr>\n",
       "      <th>4</th>\n",
       "      <td>learn-nsrr02</td>\n",
       "      <td>EEG_sec</td>\n",
       "      <td>127</td>\n",
       "      <td>-128</td>\n",
       "      <td>uV</td>\n",
       "      <td>125.0</td>\n",
       "      <td>-125.0</td>\n",
       "      <td>3</td>\n",
       "      <td>0.980392</td>\n",
       "      <td>125.0</td>\n",
       "      <td>.</td>\n",
       "      <td>EEG</td>\n",
       "    </tr>\n",
       "    <tr>\n",
       "      <th>5</th>\n",
       "      <td>learn-nsrr02</td>\n",
       "      <td>EMG</td>\n",
       "      <td>127</td>\n",
       "      <td>-128</td>\n",
       "      <td>uV</td>\n",
       "      <td>31.5</td>\n",
       "      <td>-31.5</td>\n",
       "      <td>5</td>\n",
       "      <td>0.247059</td>\n",
       "      <td>125.0</td>\n",
       "      <td>.</td>\n",
       "      <td>EMG</td>\n",
       "    </tr>\n",
       "    <tr>\n",
       "      <th>6</th>\n",
       "      <td>learn-nsrr02</td>\n",
       "      <td>EOG_L</td>\n",
       "      <td>127</td>\n",
       "      <td>-128</td>\n",
       "      <td>uV</td>\n",
       "      <td>125.0</td>\n",
       "      <td>-125.0</td>\n",
       "      <td>6</td>\n",
       "      <td>0.980392</td>\n",
       "      <td>50.0</td>\n",
       "      <td>.</td>\n",
       "      <td>EOG</td>\n",
       "    </tr>\n",
       "    <tr>\n",
       "      <th>7</th>\n",
       "      <td>learn-nsrr02</td>\n",
       "      <td>EOG_R</td>\n",
       "      <td>127</td>\n",
       "      <td>-128</td>\n",
       "      <td>uV</td>\n",
       "      <td>125.0</td>\n",
       "      <td>-125.0</td>\n",
       "      <td>7</td>\n",
       "      <td>0.980392</td>\n",
       "      <td>50.0</td>\n",
       "      <td>.</td>\n",
       "      <td>EOG</td>\n",
       "    </tr>\n",
       "    <tr>\n",
       "      <th>8</th>\n",
       "      <td>learn-nsrr02</td>\n",
       "      <td>LIGHT</td>\n",
       "      <td>1</td>\n",
       "      <td>0</td>\n",
       "      <td>.</td>\n",
       "      <td>1.0</td>\n",
       "      <td>0.0</td>\n",
       "      <td>13</td>\n",
       "      <td>1.0</td>\n",
       "      <td>1.0</td>\n",
       "      <td>.</td>\n",
       "      <td>LIGHT</td>\n",
       "    </tr>\n",
       "    <tr>\n",
       "      <th>9</th>\n",
       "      <td>learn-nsrr02</td>\n",
       "      <td>OX_STAT</td>\n",
       "      <td>3</td>\n",
       "      <td>0</td>\n",
       "      <td>.</td>\n",
       "      <td>3.0</td>\n",
       "      <td>0.0</td>\n",
       "      <td>14</td>\n",
       "      <td>1.0</td>\n",
       "      <td>1.0</td>\n",
       "      <td>.</td>\n",
       "      <td>OXYGEN</td>\n",
       "    </tr>\n",
       "    <tr>\n",
       "      <th>10</th>\n",
       "      <td>learn-nsrr02</td>\n",
       "      <td>POSITION</td>\n",
       "      <td>3</td>\n",
       "      <td>0</td>\n",
       "      <td>.</td>\n",
       "      <td>3.0</td>\n",
       "      <td>0.0</td>\n",
       "      <td>12</td>\n",
       "      <td>1.0</td>\n",
       "      <td>1.0</td>\n",
       "      <td>.</td>\n",
       "      <td>POSITION</td>\n",
       "    </tr>\n",
       "    <tr>\n",
       "      <th>11</th>\n",
       "      <td>learn-nsrr02</td>\n",
       "      <td>PR</td>\n",
       "      <td>32767</td>\n",
       "      <td>-32768</td>\n",
       "      <td>BPM</td>\n",
       "      <td>200.0</td>\n",
       "      <td>0.0</td>\n",
       "      <td>2</td>\n",
       "      <td>0.003052</td>\n",
       "      <td>1.0</td>\n",
       "      <td>.</td>\n",
       "      <td>HR</td>\n",
       "    </tr>\n",
       "    <tr>\n",
       "      <th>12</th>\n",
       "      <td>learn-nsrr02</td>\n",
       "      <td>SaO2</td>\n",
       "      <td>32767</td>\n",
       "      <td>-32768</td>\n",
       "      <td>%</td>\n",
       "      <td>100.0</td>\n",
       "      <td>0.0</td>\n",
       "      <td>1</td>\n",
       "      <td>0.001526</td>\n",
       "      <td>1.0</td>\n",
       "      <td>.</td>\n",
       "      <td>OXYGEN</td>\n",
       "    </tr>\n",
       "    <tr>\n",
       "      <th>13</th>\n",
       "      <td>learn-nsrr02</td>\n",
       "      <td>THOR_RES</td>\n",
       "      <td>127</td>\n",
       "      <td>-128</td>\n",
       "      <td>.</td>\n",
       "      <td>-1.0</td>\n",
       "      <td>1.0</td>\n",
       "      <td>10</td>\n",
       "      <td>-0.007843</td>\n",
       "      <td>10.0</td>\n",
       "      <td>.</td>\n",
       "      <td>EFFORT</td>\n",
       "    </tr>\n",
       "  </tbody>\n",
       "</table>\n",
       "</div>"
      ],
      "text/plain": [
       "              ID        CH   DMAX    DMIN PDIM   PMAX   PMIN POS      SENS  \\\n",
       "0   learn-nsrr02  ABDO_RES    127    -128    .   -1.0    1.0  11 -0.007843   \n",
       "1   learn-nsrr02   AIRFLOW    127    -128    .   -1.0    1.0   9 -0.007843   \n",
       "2   learn-nsrr02       ECG    127    -128   mV   1.25  -1.25   4  0.009804   \n",
       "3   learn-nsrr02       EEG    127    -128   uV  125.0 -125.0   8  0.980392   \n",
       "4   learn-nsrr02   EEG_sec    127    -128   uV  125.0 -125.0   3  0.980392   \n",
       "5   learn-nsrr02       EMG    127    -128   uV   31.5  -31.5   5  0.247059   \n",
       "6   learn-nsrr02     EOG_L    127    -128   uV  125.0 -125.0   6  0.980392   \n",
       "7   learn-nsrr02     EOG_R    127    -128   uV  125.0 -125.0   7  0.980392   \n",
       "8   learn-nsrr02     LIGHT      1       0    .    1.0    0.0  13       1.0   \n",
       "9   learn-nsrr02   OX_STAT      3       0    .    3.0    0.0  14       1.0   \n",
       "10  learn-nsrr02  POSITION      3       0    .    3.0    0.0  12       1.0   \n",
       "11  learn-nsrr02        PR  32767  -32768  BPM  200.0    0.0   2  0.003052   \n",
       "12  learn-nsrr02      SaO2  32767  -32768    %  100.0    0.0   1  0.001526   \n",
       "13  learn-nsrr02  THOR_RES    127    -128    .   -1.0    1.0  10 -0.007843   \n",
       "\n",
       "       SR TRANS      TYPE  \n",
       "0    10.0     .    EFFORT  \n",
       "1    10.0     .   AIRFLOW  \n",
       "2   250.0     .       ECG  \n",
       "3   125.0     .       EEG  \n",
       "4   125.0     .       EEG  \n",
       "5   125.0     .       EMG  \n",
       "6    50.0     .       EOG  \n",
       "7    50.0     .       EOG  \n",
       "8     1.0     .     LIGHT  \n",
       "9     1.0     .    OXYGEN  \n",
       "10    1.0     .  POSITION  \n",
       "11    1.0     .        HR  \n",
       "12    1.0     .    OXYGEN  \n",
       "13   10.0     .    EFFORT  "
      ]
     },
     "execution_count": 8,
     "metadata": {},
     "output_type": "execute_result"
    }
   ],
   "source": [
    "p.headers()"
   ]
  },
  {
   "cell_type": "markdown",
   "id": "fa284d63-6607-4100-a320-ceb05f0629ce",
   "metadata": {},
   "source": [
    "And also list of associated annotations:"
   ]
  },
  {
   "cell_type": "code",
   "execution_count": 9,
   "id": "6ef9acc8-0007-4cb8-b1c9-fc7fb06d7076",
   "metadata": {},
   "outputs": [
    {
     "data": {
      "text/html": [
       "<div>\n",
       "<style scoped>\n",
       "    .dataframe tbody tr th:only-of-type {\n",
       "        vertical-align: middle;\n",
       "    }\n",
       "\n",
       "    .dataframe tbody tr th {\n",
       "        vertical-align: top;\n",
       "    }\n",
       "\n",
       "    .dataframe thead th {\n",
       "        text-align: right;\n",
       "    }\n",
       "</style>\n",
       "<table border=\"1\" class=\"dataframe\">\n",
       "  <thead>\n",
       "    <tr style=\"text-align: right;\">\n",
       "      <th></th>\n",
       "      <th>Annotations</th>\n",
       "    </tr>\n",
       "  </thead>\n",
       "  <tbody>\n",
       "    <tr>\n",
       "      <th>0</th>\n",
       "      <td>Arousal</td>\n",
       "    </tr>\n",
       "    <tr>\n",
       "      <th>1</th>\n",
       "      <td>Hypopnea</td>\n",
       "    </tr>\n",
       "    <tr>\n",
       "      <th>2</th>\n",
       "      <td>N1</td>\n",
       "    </tr>\n",
       "    <tr>\n",
       "      <th>3</th>\n",
       "      <td>N2</td>\n",
       "    </tr>\n",
       "    <tr>\n",
       "      <th>4</th>\n",
       "      <td>N3</td>\n",
       "    </tr>\n",
       "    <tr>\n",
       "      <th>5</th>\n",
       "      <td>Obstructive_Apnea</td>\n",
       "    </tr>\n",
       "    <tr>\n",
       "      <th>6</th>\n",
       "      <td>R</td>\n",
       "    </tr>\n",
       "    <tr>\n",
       "      <th>7</th>\n",
       "      <td>SpO2_artifact</td>\n",
       "    </tr>\n",
       "    <tr>\n",
       "      <th>8</th>\n",
       "      <td>SpO2_desaturation</td>\n",
       "    </tr>\n",
       "    <tr>\n",
       "      <th>9</th>\n",
       "      <td>W</td>\n",
       "    </tr>\n",
       "  </tbody>\n",
       "</table>\n",
       "</div>"
      ],
      "text/plain": [
       "         Annotations\n",
       "0            Arousal\n",
       "1           Hypopnea\n",
       "2                 N1\n",
       "3                 N2\n",
       "4                 N3\n",
       "5  Obstructive_Apnea\n",
       "6                  R\n",
       "7      SpO2_artifact\n",
       "8  SpO2_desaturation\n",
       "9                  W"
      ]
     },
     "execution_count": 9,
     "metadata": {},
     "output_type": "execute_result"
    }
   ],
   "source": [
    "p.annots()"
   ]
  },
  {
   "cell_type": "markdown",
   "id": "31ec7dfd-5a8a-4bd4-bca9-7fafa155ae31",
   "metadata": {},
   "source": [
    "## Applying Luna commands"
   ]
  },
  {
   "cell_type": "markdown",
   "id": "1e916df0-2589-44fc-82ac-82320ecf0fb5",
   "metadata": {},
   "source": [
    "Rather than providing a specific Python function for every single command Luna supports, Luna command scripts can be passed as text to the `eval()` or `proc()` functions and will be processed in exactly the same manner as the command line version of Luna would do.  This is the primary mode of using `lunapi` as an interface to Luna."
   ]
  },
  {
   "cell_type": "markdown",
   "id": "68bcd130-1970-47bd-9789-3db4f9d30350",
   "metadata": {},
   "source": [
    "### A simple example"
   ]
  },
  {
   "cell_type": "markdown",
   "id": "51561827-f7df-4a5d-9b29-e89fd189a69f",
   "metadata": {},
   "source": [
    "There are two main ways to evaluate Luna commands on a single attached _instance_: `eval()` and `proc()`.  These differ only in how they return outputs.  \n",
    "\n",
    "The `eval()` function keeps any outputs within the _instance_ (i.e. here, the object reference by `p`) and returns only the equivalent _console_ outputs.  Outputs are then accessed via `strata()` and `table()` functions (i.e. similar to using `destrat` after a command-line Luna run).   \n",
    "\n",
    "Alternatively, `proc()` returns all outputs in a single Python data-frame (along with the console output).  \n",
    "\n",
    "Which of these two to use is really just a matter of preference/context.  We'll demonstrate both below, first using `eval()`:"
   ]
  },
  {
   "cell_type": "code",
   "execution_count": 10,
   "id": "1cbb8a49-ed46-47c6-b273-9096a9b0fa69",
   "metadata": {},
   "outputs": [
    {
     "name": "stderr",
     "output_type": "stream",
     "text": [
      " ..................................................................\n",
      " CMD #1: HEADERS\n",
      "   options: sig=*\n"
     ]
    },
    {
     "data": {
      "text/html": [
       "<div>\n",
       "<style scoped>\n",
       "    .dataframe tbody tr th:only-of-type {\n",
       "        vertical-align: middle;\n",
       "    }\n",
       "\n",
       "    .dataframe tbody tr th {\n",
       "        vertical-align: top;\n",
       "    }\n",
       "\n",
       "    .dataframe thead th {\n",
       "        text-align: right;\n",
       "    }\n",
       "</style>\n",
       "<table border=\"1\" class=\"dataframe\">\n",
       "  <thead>\n",
       "    <tr style=\"text-align: right;\">\n",
       "      <th></th>\n",
       "      <th>Command</th>\n",
       "      <th>Strata</th>\n",
       "    </tr>\n",
       "  </thead>\n",
       "  <tbody>\n",
       "    <tr>\n",
       "      <th>0</th>\n",
       "      <td>HEADERS</td>\n",
       "      <td>BL</td>\n",
       "    </tr>\n",
       "    <tr>\n",
       "      <th>1</th>\n",
       "      <td>HEADERS</td>\n",
       "      <td>CH</td>\n",
       "    </tr>\n",
       "  </tbody>\n",
       "</table>\n",
       "</div>"
      ],
      "text/plain": [
       "   Command Strata\n",
       "0  HEADERS     BL\n",
       "1  HEADERS     CH"
      ]
     },
     "execution_count": 10,
     "metadata": {},
     "output_type": "execute_result"
    }
   ],
   "source": [
    "p.eval('HEADERS')"
   ]
  },
  {
   "cell_type": "markdown",
   "id": "84b64542-ff0f-4ed1-a635-30e1aeec0074",
   "metadata": {},
   "source": [
    "The table returned automatically by `eval()` is identical to the result of calling `strata()` explicitly after one or Luna commands have been evaluated:"
   ]
  },
  {
   "cell_type": "code",
   "execution_count": 11,
   "id": "78e47e83-7d0e-4a06-95eb-43730e99b6c1",
   "metadata": {},
   "outputs": [
    {
     "data": {
      "text/html": [
       "<div>\n",
       "<style scoped>\n",
       "    .dataframe tbody tr th:only-of-type {\n",
       "        vertical-align: middle;\n",
       "    }\n",
       "\n",
       "    .dataframe tbody tr th {\n",
       "        vertical-align: top;\n",
       "    }\n",
       "\n",
       "    .dataframe thead th {\n",
       "        text-align: right;\n",
       "    }\n",
       "</style>\n",
       "<table border=\"1\" class=\"dataframe\">\n",
       "  <thead>\n",
       "    <tr style=\"text-align: right;\">\n",
       "      <th></th>\n",
       "      <th>Command</th>\n",
       "      <th>Strata</th>\n",
       "    </tr>\n",
       "  </thead>\n",
       "  <tbody>\n",
       "    <tr>\n",
       "      <th>0</th>\n",
       "      <td>HEADERS</td>\n",
       "      <td>BL</td>\n",
       "    </tr>\n",
       "    <tr>\n",
       "      <th>1</th>\n",
       "      <td>HEADERS</td>\n",
       "      <td>CH</td>\n",
       "    </tr>\n",
       "  </tbody>\n",
       "</table>\n",
       "</div>"
      ],
      "text/plain": [
       "   Command Strata\n",
       "0  HEADERS     BL\n",
       "1  HEADERS     CH"
      ]
     },
     "execution_count": 11,
     "metadata": {},
     "output_type": "execute_result"
    }
   ],
   "source": [
    "p.strata()"
   ]
  },
  {
   "cell_type": "markdown",
   "id": "b164bd42-166f-4936-bf1c-167431809c8c",
   "metadata": {},
   "source": [
    "That is, we see the `HEADERS` command has returned two tables: one _baseline_ table (the `BL` code effectively means there are no stratifying factors in the output) and one stratied by channel (`CH`).  We can use `table()` to obtain either table.  First, the baseline results (i.e. only one value for each output variable for that individual):"
   ]
  },
  {
   "cell_type": "code",
   "execution_count": 12,
   "id": "ca685bbd-4d0b-4cdd-b47b-e0a73d368691",
   "metadata": {},
   "outputs": [
    {
     "data": {
      "text/html": [
       "<div>\n",
       "<style scoped>\n",
       "    .dataframe tbody tr th:only-of-type {\n",
       "        vertical-align: middle;\n",
       "    }\n",
       "\n",
       "    .dataframe tbody tr th {\n",
       "        vertical-align: top;\n",
       "    }\n",
       "\n",
       "    .dataframe thead th {\n",
       "        text-align: right;\n",
       "    }\n",
       "</style>\n",
       "<table border=\"1\" class=\"dataframe\">\n",
       "  <thead>\n",
       "    <tr style=\"text-align: right;\">\n",
       "      <th></th>\n",
       "      <th>ID</th>\n",
       "      <th>EDF_ID</th>\n",
       "      <th>EDF_TYPE</th>\n",
       "      <th>NR</th>\n",
       "      <th>NS</th>\n",
       "      <th>NS_ALL</th>\n",
       "      <th>REC_DUR</th>\n",
       "      <th>REC_DUR_HMS</th>\n",
       "      <th>REC_DUR_SEC</th>\n",
       "      <th>START_DATE</th>\n",
       "      <th>START_TIME</th>\n",
       "      <th>STOP_TIME</th>\n",
       "      <th>TOT_DUR_HMS</th>\n",
       "      <th>TOT_DUR_SEC</th>\n",
       "    </tr>\n",
       "  </thead>\n",
       "  <tbody>\n",
       "    <tr>\n",
       "      <th>0</th>\n",
       "      <td>learn-nsrr02</td>\n",
       "      <td>.</td>\n",
       "      <td>EDF</td>\n",
       "      <td>35850</td>\n",
       "      <td>14</td>\n",
       "      <td>14</td>\n",
       "      <td>1.0</td>\n",
       "      <td>09:57:30</td>\n",
       "      <td>35850.0</td>\n",
       "      <td>01.01.85</td>\n",
       "      <td>21.18.06</td>\n",
       "      <td>07.15.36</td>\n",
       "      <td>09:57:30</td>\n",
       "      <td>35850.0</td>\n",
       "    </tr>\n",
       "  </tbody>\n",
       "</table>\n",
       "</div>"
      ],
      "text/plain": [
       "             ID EDF_ID EDF_TYPE     NR  NS NS_ALL REC_DUR REC_DUR_HMS  \\\n",
       "0  learn-nsrr02      .      EDF  35850  14     14     1.0    09:57:30   \n",
       "\n",
       "  REC_DUR_SEC START_DATE START_TIME STOP_TIME TOT_DUR_HMS TOT_DUR_SEC  \n",
       "0     35850.0   01.01.85   21.18.06  07.15.36    09:57:30     35850.0  "
      ]
     },
     "execution_count": 12,
     "metadata": {},
     "output_type": "execute_result"
    }
   ],
   "source": [
    "p.table('HEADERS','BL')"
   ]
  },
  {
   "cell_type": "markdown",
   "id": "8cfe4fbd-525b-43bf-9127-a4f0ab7f9866",
   "metadata": {},
   "source": [
    "Note that if second strata argument is omitted when calling `table()`, it defaults to the baseline (`BL`).  Therefore, the above is equivalent to simply writing this:"
   ]
  },
  {
   "cell_type": "code",
   "execution_count": 13,
   "id": "2058032b-902a-4809-a05a-84dbdd41f50f",
   "metadata": {},
   "outputs": [
    {
     "data": {
      "text/html": [
       "<div>\n",
       "<style scoped>\n",
       "    .dataframe tbody tr th:only-of-type {\n",
       "        vertical-align: middle;\n",
       "    }\n",
       "\n",
       "    .dataframe tbody tr th {\n",
       "        vertical-align: top;\n",
       "    }\n",
       "\n",
       "    .dataframe thead th {\n",
       "        text-align: right;\n",
       "    }\n",
       "</style>\n",
       "<table border=\"1\" class=\"dataframe\">\n",
       "  <thead>\n",
       "    <tr style=\"text-align: right;\">\n",
       "      <th></th>\n",
       "      <th>ID</th>\n",
       "      <th>EDF_ID</th>\n",
       "      <th>EDF_TYPE</th>\n",
       "      <th>NR</th>\n",
       "      <th>NS</th>\n",
       "      <th>NS_ALL</th>\n",
       "      <th>REC_DUR</th>\n",
       "      <th>REC_DUR_HMS</th>\n",
       "      <th>REC_DUR_SEC</th>\n",
       "      <th>START_DATE</th>\n",
       "      <th>START_TIME</th>\n",
       "      <th>STOP_TIME</th>\n",
       "      <th>TOT_DUR_HMS</th>\n",
       "      <th>TOT_DUR_SEC</th>\n",
       "    </tr>\n",
       "  </thead>\n",
       "  <tbody>\n",
       "    <tr>\n",
       "      <th>0</th>\n",
       "      <td>learn-nsrr02</td>\n",
       "      <td>.</td>\n",
       "      <td>EDF</td>\n",
       "      <td>35850</td>\n",
       "      <td>14</td>\n",
       "      <td>14</td>\n",
       "      <td>1.0</td>\n",
       "      <td>09:57:30</td>\n",
       "      <td>35850.0</td>\n",
       "      <td>01.01.85</td>\n",
       "      <td>21.18.06</td>\n",
       "      <td>07.15.36</td>\n",
       "      <td>09:57:30</td>\n",
       "      <td>35850.0</td>\n",
       "    </tr>\n",
       "  </tbody>\n",
       "</table>\n",
       "</div>"
      ],
      "text/plain": [
       "             ID EDF_ID EDF_TYPE     NR  NS NS_ALL REC_DUR REC_DUR_HMS  \\\n",
       "0  learn-nsrr02      .      EDF  35850  14     14     1.0    09:57:30   \n",
       "\n",
       "  REC_DUR_SEC START_DATE START_TIME STOP_TIME TOT_DUR_HMS TOT_DUR_SEC  \n",
       "0     35850.0   01.01.85   21.18.06  07.15.36    09:57:30     35850.0  "
      ]
     },
     "execution_count": 13,
     "metadata": {},
     "output_type": "execute_result"
    }
   ],
   "source": [
    "p.table('HEADERS')"
   ]
  },
  {
   "cell_type": "markdown",
   "id": "f99cf06f-f449-4b6e-89da-b254dbff2e3c",
   "metadata": {},
   "source": [
    "To look at the second channel-specific table, we change the strata to `CH`:"
   ]
  },
  {
   "cell_type": "code",
   "execution_count": 14,
   "id": "aed81f48-f68c-4f21-9075-f92896fec496",
   "metadata": {},
   "outputs": [
    {
     "data": {
      "text/html": [
       "<div>\n",
       "<style scoped>\n",
       "    .dataframe tbody tr th:only-of-type {\n",
       "        vertical-align: middle;\n",
       "    }\n",
       "\n",
       "    .dataframe tbody tr th {\n",
       "        vertical-align: top;\n",
       "    }\n",
       "\n",
       "    .dataframe thead th {\n",
       "        text-align: right;\n",
       "    }\n",
       "</style>\n",
       "<table border=\"1\" class=\"dataframe\">\n",
       "  <thead>\n",
       "    <tr style=\"text-align: right;\">\n",
       "      <th></th>\n",
       "      <th>ID</th>\n",
       "      <th>CH</th>\n",
       "      <th>DMAX</th>\n",
       "      <th>DMIN</th>\n",
       "      <th>PDIM</th>\n",
       "      <th>PMAX</th>\n",
       "      <th>PMIN</th>\n",
       "      <th>POS</th>\n",
       "      <th>SENS</th>\n",
       "      <th>SR</th>\n",
       "      <th>TRANS</th>\n",
       "      <th>TYPE</th>\n",
       "    </tr>\n",
       "  </thead>\n",
       "  <tbody>\n",
       "    <tr>\n",
       "      <th>0</th>\n",
       "      <td>learn-nsrr02</td>\n",
       "      <td>ABDO_RES</td>\n",
       "      <td>127</td>\n",
       "      <td>-128</td>\n",
       "      <td>.</td>\n",
       "      <td>-1.0</td>\n",
       "      <td>1.0</td>\n",
       "      <td>11</td>\n",
       "      <td>-0.007843</td>\n",
       "      <td>10.0</td>\n",
       "      <td>.</td>\n",
       "      <td>EFFORT</td>\n",
       "    </tr>\n",
       "    <tr>\n",
       "      <th>1</th>\n",
       "      <td>learn-nsrr02</td>\n",
       "      <td>AIRFLOW</td>\n",
       "      <td>127</td>\n",
       "      <td>-128</td>\n",
       "      <td>.</td>\n",
       "      <td>-1.0</td>\n",
       "      <td>1.0</td>\n",
       "      <td>9</td>\n",
       "      <td>-0.007843</td>\n",
       "      <td>10.0</td>\n",
       "      <td>.</td>\n",
       "      <td>AIRFLOW</td>\n",
       "    </tr>\n",
       "    <tr>\n",
       "      <th>2</th>\n",
       "      <td>learn-nsrr02</td>\n",
       "      <td>ECG</td>\n",
       "      <td>127</td>\n",
       "      <td>-128</td>\n",
       "      <td>mV</td>\n",
       "      <td>1.25</td>\n",
       "      <td>-1.25</td>\n",
       "      <td>4</td>\n",
       "      <td>0.009804</td>\n",
       "      <td>250.0</td>\n",
       "      <td>.</td>\n",
       "      <td>ECG</td>\n",
       "    </tr>\n",
       "    <tr>\n",
       "      <th>3</th>\n",
       "      <td>learn-nsrr02</td>\n",
       "      <td>EEG</td>\n",
       "      <td>127</td>\n",
       "      <td>-128</td>\n",
       "      <td>uV</td>\n",
       "      <td>125.0</td>\n",
       "      <td>-125.0</td>\n",
       "      <td>8</td>\n",
       "      <td>0.980392</td>\n",
       "      <td>125.0</td>\n",
       "      <td>.</td>\n",
       "      <td>EEG</td>\n",
       "    </tr>\n",
       "    <tr>\n",
       "      <th>4</th>\n",
       "      <td>learn-nsrr02</td>\n",
       "      <td>EEG_sec</td>\n",
       "      <td>127</td>\n",
       "      <td>-128</td>\n",
       "      <td>uV</td>\n",
       "      <td>125.0</td>\n",
       "      <td>-125.0</td>\n",
       "      <td>3</td>\n",
       "      <td>0.980392</td>\n",
       "      <td>125.0</td>\n",
       "      <td>.</td>\n",
       "      <td>EEG</td>\n",
       "    </tr>\n",
       "    <tr>\n",
       "      <th>5</th>\n",
       "      <td>learn-nsrr02</td>\n",
       "      <td>EMG</td>\n",
       "      <td>127</td>\n",
       "      <td>-128</td>\n",
       "      <td>uV</td>\n",
       "      <td>31.5</td>\n",
       "      <td>-31.5</td>\n",
       "      <td>5</td>\n",
       "      <td>0.247059</td>\n",
       "      <td>125.0</td>\n",
       "      <td>.</td>\n",
       "      <td>EMG</td>\n",
       "    </tr>\n",
       "    <tr>\n",
       "      <th>6</th>\n",
       "      <td>learn-nsrr02</td>\n",
       "      <td>EOG_L</td>\n",
       "      <td>127</td>\n",
       "      <td>-128</td>\n",
       "      <td>uV</td>\n",
       "      <td>125.0</td>\n",
       "      <td>-125.0</td>\n",
       "      <td>6</td>\n",
       "      <td>0.980392</td>\n",
       "      <td>50.0</td>\n",
       "      <td>.</td>\n",
       "      <td>EOG</td>\n",
       "    </tr>\n",
       "    <tr>\n",
       "      <th>7</th>\n",
       "      <td>learn-nsrr02</td>\n",
       "      <td>EOG_R</td>\n",
       "      <td>127</td>\n",
       "      <td>-128</td>\n",
       "      <td>uV</td>\n",
       "      <td>125.0</td>\n",
       "      <td>-125.0</td>\n",
       "      <td>7</td>\n",
       "      <td>0.980392</td>\n",
       "      <td>50.0</td>\n",
       "      <td>.</td>\n",
       "      <td>EOG</td>\n",
       "    </tr>\n",
       "    <tr>\n",
       "      <th>8</th>\n",
       "      <td>learn-nsrr02</td>\n",
       "      <td>LIGHT</td>\n",
       "      <td>1</td>\n",
       "      <td>0</td>\n",
       "      <td>.</td>\n",
       "      <td>1.0</td>\n",
       "      <td>0.0</td>\n",
       "      <td>13</td>\n",
       "      <td>1.0</td>\n",
       "      <td>1.0</td>\n",
       "      <td>.</td>\n",
       "      <td>LIGHT</td>\n",
       "    </tr>\n",
       "    <tr>\n",
       "      <th>9</th>\n",
       "      <td>learn-nsrr02</td>\n",
       "      <td>OX_STAT</td>\n",
       "      <td>3</td>\n",
       "      <td>0</td>\n",
       "      <td>.</td>\n",
       "      <td>3.0</td>\n",
       "      <td>0.0</td>\n",
       "      <td>14</td>\n",
       "      <td>1.0</td>\n",
       "      <td>1.0</td>\n",
       "      <td>.</td>\n",
       "      <td>OXYGEN</td>\n",
       "    </tr>\n",
       "    <tr>\n",
       "      <th>10</th>\n",
       "      <td>learn-nsrr02</td>\n",
       "      <td>POSITION</td>\n",
       "      <td>3</td>\n",
       "      <td>0</td>\n",
       "      <td>.</td>\n",
       "      <td>3.0</td>\n",
       "      <td>0.0</td>\n",
       "      <td>12</td>\n",
       "      <td>1.0</td>\n",
       "      <td>1.0</td>\n",
       "      <td>.</td>\n",
       "      <td>POSITION</td>\n",
       "    </tr>\n",
       "    <tr>\n",
       "      <th>11</th>\n",
       "      <td>learn-nsrr02</td>\n",
       "      <td>PR</td>\n",
       "      <td>32767</td>\n",
       "      <td>-32768</td>\n",
       "      <td>BPM</td>\n",
       "      <td>200.0</td>\n",
       "      <td>0.0</td>\n",
       "      <td>2</td>\n",
       "      <td>0.003052</td>\n",
       "      <td>1.0</td>\n",
       "      <td>.</td>\n",
       "      <td>HR</td>\n",
       "    </tr>\n",
       "    <tr>\n",
       "      <th>12</th>\n",
       "      <td>learn-nsrr02</td>\n",
       "      <td>SaO2</td>\n",
       "      <td>32767</td>\n",
       "      <td>-32768</td>\n",
       "      <td>%</td>\n",
       "      <td>100.0</td>\n",
       "      <td>0.0</td>\n",
       "      <td>1</td>\n",
       "      <td>0.001526</td>\n",
       "      <td>1.0</td>\n",
       "      <td>.</td>\n",
       "      <td>OXYGEN</td>\n",
       "    </tr>\n",
       "    <tr>\n",
       "      <th>13</th>\n",
       "      <td>learn-nsrr02</td>\n",
       "      <td>THOR_RES</td>\n",
       "      <td>127</td>\n",
       "      <td>-128</td>\n",
       "      <td>.</td>\n",
       "      <td>-1.0</td>\n",
       "      <td>1.0</td>\n",
       "      <td>10</td>\n",
       "      <td>-0.007843</td>\n",
       "      <td>10.0</td>\n",
       "      <td>.</td>\n",
       "      <td>EFFORT</td>\n",
       "    </tr>\n",
       "  </tbody>\n",
       "</table>\n",
       "</div>"
      ],
      "text/plain": [
       "              ID        CH   DMAX    DMIN PDIM   PMAX   PMIN POS      SENS  \\\n",
       "0   learn-nsrr02  ABDO_RES    127    -128    .   -1.0    1.0  11 -0.007843   \n",
       "1   learn-nsrr02   AIRFLOW    127    -128    .   -1.0    1.0   9 -0.007843   \n",
       "2   learn-nsrr02       ECG    127    -128   mV   1.25  -1.25   4  0.009804   \n",
       "3   learn-nsrr02       EEG    127    -128   uV  125.0 -125.0   8  0.980392   \n",
       "4   learn-nsrr02   EEG_sec    127    -128   uV  125.0 -125.0   3  0.980392   \n",
       "5   learn-nsrr02       EMG    127    -128   uV   31.5  -31.5   5  0.247059   \n",
       "6   learn-nsrr02     EOG_L    127    -128   uV  125.0 -125.0   6  0.980392   \n",
       "7   learn-nsrr02     EOG_R    127    -128   uV  125.0 -125.0   7  0.980392   \n",
       "8   learn-nsrr02     LIGHT      1       0    .    1.0    0.0  13       1.0   \n",
       "9   learn-nsrr02   OX_STAT      3       0    .    3.0    0.0  14       1.0   \n",
       "10  learn-nsrr02  POSITION      3       0    .    3.0    0.0  12       1.0   \n",
       "11  learn-nsrr02        PR  32767  -32768  BPM  200.0    0.0   2  0.003052   \n",
       "12  learn-nsrr02      SaO2  32767  -32768    %  100.0    0.0   1  0.001526   \n",
       "13  learn-nsrr02  THOR_RES    127    -128    .   -1.0    1.0  10 -0.007843   \n",
       "\n",
       "       SR TRANS      TYPE  \n",
       "0    10.0     .    EFFORT  \n",
       "1    10.0     .   AIRFLOW  \n",
       "2   250.0     .       ECG  \n",
       "3   125.0     .       EEG  \n",
       "4   125.0     .       EEG  \n",
       "5   125.0     .       EMG  \n",
       "6    50.0     .       EOG  \n",
       "7    50.0     .       EOG  \n",
       "8     1.0     .     LIGHT  \n",
       "9     1.0     .    OXYGEN  \n",
       "10    1.0     .  POSITION  \n",
       "11    1.0     .        HR  \n",
       "12    1.0     .    OXYGEN  \n",
       "13   10.0     .    EFFORT  "
      ]
     },
     "execution_count": 14,
     "metadata": {},
     "output_type": "execute_result"
    }
   ],
   "source": [
    "p.table('HEADERS','CH')"
   ]
  },
  {
   "cell_type": "markdown",
   "id": "933597d2-7631-48f3-bcd7-fc3528e907c8",
   "metadata": {},
   "source": [
    "In this particular example, this output is identical to `headers()` above, but obviously the advantage here is that `eval()` lets you run any arbitrary sequence of Luna commands.   See the main [Luna pages](http://zzz.bwh.harvard.edu/luna/ref/summaries/#headers) for descriptions of each strata and associated variables for a given command.   "
   ]
  },
  {
   "cell_type": "markdown",
   "id": "7339a2ec-3a59-49b7-9356-678c0c48f4e1",
   "metadata": {},
   "source": [
    "Alternatively, we can run the same command but using `proc()` instead.  Here we'd typically want to explicitly assign the output to a new variable (here `res`):"
   ]
  },
  {
   "cell_type": "code",
   "execution_count": 15,
   "id": "e83cdd97-0379-4b0a-a16c-b81209096bfb",
   "metadata": {},
   "outputs": [
    {
     "name": "stderr",
     "output_type": "stream",
     "text": [
      " ..................................................................\n",
      " CMD #1: HEADERS\n",
      "   options: sig=*\n"
     ]
    }
   ],
   "source": [
    "res = p.proc( 'HEADERS' )"
   ]
  },
  {
   "cell_type": "markdown",
   "id": "68b215b5-51ab-4134-8013-4e469066597a",
   "metadata": {},
   "source": [
    "The return object `res` is a dictionary object with command/strata labels as keys, and dataframes as the values."
   ]
  },
  {
   "cell_type": "code",
   "execution_count": 16,
   "id": "7dbcccd4-0bbe-490e-96aa-d731e5eade00",
   "metadata": {},
   "outputs": [
    {
     "data": {
      "text/plain": [
       "dict"
      ]
     },
     "execution_count": 16,
     "metadata": {},
     "output_type": "execute_result"
    }
   ],
   "source": [
    "type(res)"
   ]
  },
  {
   "cell_type": "code",
   "execution_count": 17,
   "id": "48816195-2401-414c-abbd-94c8e99926bb",
   "metadata": {},
   "outputs": [
    {
     "data": {
      "text/plain": [
       "dict_keys(['HEADERS: BL', 'HEADERS: CH'])"
      ]
     },
     "execution_count": 17,
     "metadata": {},
     "output_type": "execute_result"
    }
   ],
   "source": [
    "res.keys()"
   ]
  },
  {
   "cell_type": "markdown",
   "id": "44f885da-e2e2-4025-b2ae-6c3ceb77868d",
   "metadata": {},
   "source": [
    "This is the entire result object:"
   ]
  },
  {
   "cell_type": "code",
   "execution_count": 18,
   "id": "4041c4e9-557d-4e50-acc9-400918d4f87c",
   "metadata": {
    "scrolled": true
   },
   "outputs": [
    {
     "data": {
      "text/plain": [
       "{'HEADERS: BL':              ID EDF_ID EDF_TYPE     NR  NS NS_ALL REC_DUR REC_DUR_HMS  \\\n",
       " 0  learn-nsrr02      .      EDF  35850  14     14     1.0    09:57:30   \n",
       " \n",
       "   REC_DUR_SEC START_DATE START_TIME STOP_TIME TOT_DUR_HMS TOT_DUR_SEC  \n",
       " 0     35850.0   01.01.85   21.18.06  07.15.36    09:57:30     35850.0  ,\n",
       " 'HEADERS: CH':               ID        CH   DMAX    DMIN PDIM   PMAX   PMIN POS      SENS  \\\n",
       " 0   learn-nsrr02  ABDO_RES    127    -128    .   -1.0    1.0  11 -0.007843   \n",
       " 1   learn-nsrr02   AIRFLOW    127    -128    .   -1.0    1.0   9 -0.007843   \n",
       " 2   learn-nsrr02       ECG    127    -128   mV   1.25  -1.25   4  0.009804   \n",
       " 3   learn-nsrr02       EEG    127    -128   uV  125.0 -125.0   8  0.980392   \n",
       " 4   learn-nsrr02   EEG_sec    127    -128   uV  125.0 -125.0   3  0.980392   \n",
       " 5   learn-nsrr02       EMG    127    -128   uV   31.5  -31.5   5  0.247059   \n",
       " 6   learn-nsrr02     EOG_L    127    -128   uV  125.0 -125.0   6  0.980392   \n",
       " 7   learn-nsrr02     EOG_R    127    -128   uV  125.0 -125.0   7  0.980392   \n",
       " 8   learn-nsrr02     LIGHT      1       0    .    1.0    0.0  13       1.0   \n",
       " 9   learn-nsrr02   OX_STAT      3       0    .    3.0    0.0  14       1.0   \n",
       " 10  learn-nsrr02  POSITION      3       0    .    3.0    0.0  12       1.0   \n",
       " 11  learn-nsrr02        PR  32767  -32768  BPM  200.0    0.0   2  0.003052   \n",
       " 12  learn-nsrr02      SaO2  32767  -32768    %  100.0    0.0   1  0.001526   \n",
       " 13  learn-nsrr02  THOR_RES    127    -128    .   -1.0    1.0  10 -0.007843   \n",
       " \n",
       "        SR TRANS      TYPE  \n",
       " 0    10.0     .    EFFORT  \n",
       " 1    10.0     .   AIRFLOW  \n",
       " 2   250.0     .       ECG  \n",
       " 3   125.0     .       EEG  \n",
       " 4   125.0     .       EEG  \n",
       " 5   125.0     .       EMG  \n",
       " 6    50.0     .       EOG  \n",
       " 7    50.0     .       EOG  \n",
       " 8     1.0     .     LIGHT  \n",
       " 9     1.0     .    OXYGEN  \n",
       " 10    1.0     .  POSITION  \n",
       " 11    1.0     .        HR  \n",
       " 12    1.0     .    OXYGEN  \n",
       " 13   10.0     .    EFFORT  }"
      ]
     },
     "execution_count": 18,
     "metadata": {},
     "output_type": "execute_result"
    }
   ],
   "source": [
    "res"
   ]
  },
  {
   "cell_type": "markdown",
   "id": "9a886ce6-7ad6-4a04-a5ea-6bc27c66960f",
   "metadata": {},
   "source": [
    "To extract a single table, e.g. here for the channel-stratified result table:"
   ]
  },
  {
   "cell_type": "code",
   "execution_count": 19,
   "id": "b01fef4a-fc2a-4391-8806-032e10ea78f2",
   "metadata": {},
   "outputs": [
    {
     "data": {
      "text/plain": [
       "pandas.core.frame.DataFrame"
      ]
     },
     "execution_count": 19,
     "metadata": {},
     "output_type": "execute_result"
    }
   ],
   "source": [
    "t = res[ 'HEADERS: CH' ]\n",
    "type(t)"
   ]
  },
  {
   "cell_type": "code",
   "execution_count": 20,
   "id": "a944ebb4-3f95-4a87-afaf-1fc32f73c405",
   "metadata": {},
   "outputs": [
    {
     "data": {
      "text/html": [
       "<div>\n",
       "<style scoped>\n",
       "    .dataframe tbody tr th:only-of-type {\n",
       "        vertical-align: middle;\n",
       "    }\n",
       "\n",
       "    .dataframe tbody tr th {\n",
       "        vertical-align: top;\n",
       "    }\n",
       "\n",
       "    .dataframe thead th {\n",
       "        text-align: right;\n",
       "    }\n",
       "</style>\n",
       "<table border=\"1\" class=\"dataframe\">\n",
       "  <thead>\n",
       "    <tr style=\"text-align: right;\">\n",
       "      <th></th>\n",
       "      <th>ID</th>\n",
       "      <th>CH</th>\n",
       "      <th>DMAX</th>\n",
       "      <th>DMIN</th>\n",
       "      <th>PDIM</th>\n",
       "      <th>PMAX</th>\n",
       "      <th>PMIN</th>\n",
       "      <th>POS</th>\n",
       "      <th>SENS</th>\n",
       "      <th>SR</th>\n",
       "      <th>TRANS</th>\n",
       "      <th>TYPE</th>\n",
       "    </tr>\n",
       "  </thead>\n",
       "  <tbody>\n",
       "    <tr>\n",
       "      <th>0</th>\n",
       "      <td>learn-nsrr02</td>\n",
       "      <td>ABDO_RES</td>\n",
       "      <td>127</td>\n",
       "      <td>-128</td>\n",
       "      <td>.</td>\n",
       "      <td>-1.0</td>\n",
       "      <td>1.0</td>\n",
       "      <td>11</td>\n",
       "      <td>-0.007843</td>\n",
       "      <td>10.0</td>\n",
       "      <td>.</td>\n",
       "      <td>EFFORT</td>\n",
       "    </tr>\n",
       "    <tr>\n",
       "      <th>1</th>\n",
       "      <td>learn-nsrr02</td>\n",
       "      <td>AIRFLOW</td>\n",
       "      <td>127</td>\n",
       "      <td>-128</td>\n",
       "      <td>.</td>\n",
       "      <td>-1.0</td>\n",
       "      <td>1.0</td>\n",
       "      <td>9</td>\n",
       "      <td>-0.007843</td>\n",
       "      <td>10.0</td>\n",
       "      <td>.</td>\n",
       "      <td>AIRFLOW</td>\n",
       "    </tr>\n",
       "    <tr>\n",
       "      <th>2</th>\n",
       "      <td>learn-nsrr02</td>\n",
       "      <td>ECG</td>\n",
       "      <td>127</td>\n",
       "      <td>-128</td>\n",
       "      <td>mV</td>\n",
       "      <td>1.25</td>\n",
       "      <td>-1.25</td>\n",
       "      <td>4</td>\n",
       "      <td>0.009804</td>\n",
       "      <td>250.0</td>\n",
       "      <td>.</td>\n",
       "      <td>ECG</td>\n",
       "    </tr>\n",
       "    <tr>\n",
       "      <th>3</th>\n",
       "      <td>learn-nsrr02</td>\n",
       "      <td>EEG</td>\n",
       "      <td>127</td>\n",
       "      <td>-128</td>\n",
       "      <td>uV</td>\n",
       "      <td>125.0</td>\n",
       "      <td>-125.0</td>\n",
       "      <td>8</td>\n",
       "      <td>0.980392</td>\n",
       "      <td>125.0</td>\n",
       "      <td>.</td>\n",
       "      <td>EEG</td>\n",
       "    </tr>\n",
       "    <tr>\n",
       "      <th>4</th>\n",
       "      <td>learn-nsrr02</td>\n",
       "      <td>EEG_sec</td>\n",
       "      <td>127</td>\n",
       "      <td>-128</td>\n",
       "      <td>uV</td>\n",
       "      <td>125.0</td>\n",
       "      <td>-125.0</td>\n",
       "      <td>3</td>\n",
       "      <td>0.980392</td>\n",
       "      <td>125.0</td>\n",
       "      <td>.</td>\n",
       "      <td>EEG</td>\n",
       "    </tr>\n",
       "    <tr>\n",
       "      <th>5</th>\n",
       "      <td>learn-nsrr02</td>\n",
       "      <td>EMG</td>\n",
       "      <td>127</td>\n",
       "      <td>-128</td>\n",
       "      <td>uV</td>\n",
       "      <td>31.5</td>\n",
       "      <td>-31.5</td>\n",
       "      <td>5</td>\n",
       "      <td>0.247059</td>\n",
       "      <td>125.0</td>\n",
       "      <td>.</td>\n",
       "      <td>EMG</td>\n",
       "    </tr>\n",
       "    <tr>\n",
       "      <th>6</th>\n",
       "      <td>learn-nsrr02</td>\n",
       "      <td>EOG_L</td>\n",
       "      <td>127</td>\n",
       "      <td>-128</td>\n",
       "      <td>uV</td>\n",
       "      <td>125.0</td>\n",
       "      <td>-125.0</td>\n",
       "      <td>6</td>\n",
       "      <td>0.980392</td>\n",
       "      <td>50.0</td>\n",
       "      <td>.</td>\n",
       "      <td>EOG</td>\n",
       "    </tr>\n",
       "    <tr>\n",
       "      <th>7</th>\n",
       "      <td>learn-nsrr02</td>\n",
       "      <td>EOG_R</td>\n",
       "      <td>127</td>\n",
       "      <td>-128</td>\n",
       "      <td>uV</td>\n",
       "      <td>125.0</td>\n",
       "      <td>-125.0</td>\n",
       "      <td>7</td>\n",
       "      <td>0.980392</td>\n",
       "      <td>50.0</td>\n",
       "      <td>.</td>\n",
       "      <td>EOG</td>\n",
       "    </tr>\n",
       "    <tr>\n",
       "      <th>8</th>\n",
       "      <td>learn-nsrr02</td>\n",
       "      <td>LIGHT</td>\n",
       "      <td>1</td>\n",
       "      <td>0</td>\n",
       "      <td>.</td>\n",
       "      <td>1.0</td>\n",
       "      <td>0.0</td>\n",
       "      <td>13</td>\n",
       "      <td>1.0</td>\n",
       "      <td>1.0</td>\n",
       "      <td>.</td>\n",
       "      <td>LIGHT</td>\n",
       "    </tr>\n",
       "    <tr>\n",
       "      <th>9</th>\n",
       "      <td>learn-nsrr02</td>\n",
       "      <td>OX_STAT</td>\n",
       "      <td>3</td>\n",
       "      <td>0</td>\n",
       "      <td>.</td>\n",
       "      <td>3.0</td>\n",
       "      <td>0.0</td>\n",
       "      <td>14</td>\n",
       "      <td>1.0</td>\n",
       "      <td>1.0</td>\n",
       "      <td>.</td>\n",
       "      <td>OXYGEN</td>\n",
       "    </tr>\n",
       "    <tr>\n",
       "      <th>10</th>\n",
       "      <td>learn-nsrr02</td>\n",
       "      <td>POSITION</td>\n",
       "      <td>3</td>\n",
       "      <td>0</td>\n",
       "      <td>.</td>\n",
       "      <td>3.0</td>\n",
       "      <td>0.0</td>\n",
       "      <td>12</td>\n",
       "      <td>1.0</td>\n",
       "      <td>1.0</td>\n",
       "      <td>.</td>\n",
       "      <td>POSITION</td>\n",
       "    </tr>\n",
       "    <tr>\n",
       "      <th>11</th>\n",
       "      <td>learn-nsrr02</td>\n",
       "      <td>PR</td>\n",
       "      <td>32767</td>\n",
       "      <td>-32768</td>\n",
       "      <td>BPM</td>\n",
       "      <td>200.0</td>\n",
       "      <td>0.0</td>\n",
       "      <td>2</td>\n",
       "      <td>0.003052</td>\n",
       "      <td>1.0</td>\n",
       "      <td>.</td>\n",
       "      <td>HR</td>\n",
       "    </tr>\n",
       "    <tr>\n",
       "      <th>12</th>\n",
       "      <td>learn-nsrr02</td>\n",
       "      <td>SaO2</td>\n",
       "      <td>32767</td>\n",
       "      <td>-32768</td>\n",
       "      <td>%</td>\n",
       "      <td>100.0</td>\n",
       "      <td>0.0</td>\n",
       "      <td>1</td>\n",
       "      <td>0.001526</td>\n",
       "      <td>1.0</td>\n",
       "      <td>.</td>\n",
       "      <td>OXYGEN</td>\n",
       "    </tr>\n",
       "    <tr>\n",
       "      <th>13</th>\n",
       "      <td>learn-nsrr02</td>\n",
       "      <td>THOR_RES</td>\n",
       "      <td>127</td>\n",
       "      <td>-128</td>\n",
       "      <td>.</td>\n",
       "      <td>-1.0</td>\n",
       "      <td>1.0</td>\n",
       "      <td>10</td>\n",
       "      <td>-0.007843</td>\n",
       "      <td>10.0</td>\n",
       "      <td>.</td>\n",
       "      <td>EFFORT</td>\n",
       "    </tr>\n",
       "  </tbody>\n",
       "</table>\n",
       "</div>"
      ],
      "text/plain": [
       "              ID        CH   DMAX    DMIN PDIM   PMAX   PMIN POS      SENS  \\\n",
       "0   learn-nsrr02  ABDO_RES    127    -128    .   -1.0    1.0  11 -0.007843   \n",
       "1   learn-nsrr02   AIRFLOW    127    -128    .   -1.0    1.0   9 -0.007843   \n",
       "2   learn-nsrr02       ECG    127    -128   mV   1.25  -1.25   4  0.009804   \n",
       "3   learn-nsrr02       EEG    127    -128   uV  125.0 -125.0   8  0.980392   \n",
       "4   learn-nsrr02   EEG_sec    127    -128   uV  125.0 -125.0   3  0.980392   \n",
       "5   learn-nsrr02       EMG    127    -128   uV   31.5  -31.5   5  0.247059   \n",
       "6   learn-nsrr02     EOG_L    127    -128   uV  125.0 -125.0   6  0.980392   \n",
       "7   learn-nsrr02     EOG_R    127    -128   uV  125.0 -125.0   7  0.980392   \n",
       "8   learn-nsrr02     LIGHT      1       0    .    1.0    0.0  13       1.0   \n",
       "9   learn-nsrr02   OX_STAT      3       0    .    3.0    0.0  14       1.0   \n",
       "10  learn-nsrr02  POSITION      3       0    .    3.0    0.0  12       1.0   \n",
       "11  learn-nsrr02        PR  32767  -32768  BPM  200.0    0.0   2  0.003052   \n",
       "12  learn-nsrr02      SaO2  32767  -32768    %  100.0    0.0   1  0.001526   \n",
       "13  learn-nsrr02  THOR_RES    127    -128    .   -1.0    1.0  10 -0.007843   \n",
       "\n",
       "       SR TRANS      TYPE  \n",
       "0    10.0     .    EFFORT  \n",
       "1    10.0     .   AIRFLOW  \n",
       "2   250.0     .       ECG  \n",
       "3   125.0     .       EEG  \n",
       "4   125.0     .       EEG  \n",
       "5   125.0     .       EMG  \n",
       "6    50.0     .       EOG  \n",
       "7    50.0     .       EOG  \n",
       "8     1.0     .     LIGHT  \n",
       "9     1.0     .    OXYGEN  \n",
       "10    1.0     .  POSITION  \n",
       "11    1.0     .        HR  \n",
       "12    1.0     .    OXYGEN  \n",
       "13   10.0     .    EFFORT  "
      ]
     },
     "execution_count": 20,
     "metadata": {},
     "output_type": "execute_result"
    }
   ],
   "source": [
    "t"
   ]
  },
  {
   "cell_type": "markdown",
   "id": "59e0f5e8-542b-4d87-8bb3-37f9c1ecf3fa",
   "metadata": {},
   "source": [
    "A convenience function `lp.show()` will take a dictionary of this form and display all the tables:"
   ]
  },
  {
   "cell_type": "code",
   "execution_count": 21,
   "id": "55ff83d4-8145-4166-be5c-880168f4f400",
   "metadata": {},
   "outputs": [
    {
     "name": "stdout",
     "output_type": "stream",
     "text": [
      "\u001b[1m\u001b[36mHEADERS: BL\u001b[0m\n"
     ]
    },
    {
     "data": {
      "text/html": [
       "<div>\n",
       "<style scoped>\n",
       "    .dataframe tbody tr th:only-of-type {\n",
       "        vertical-align: middle;\n",
       "    }\n",
       "\n",
       "    .dataframe tbody tr th {\n",
       "        vertical-align: top;\n",
       "    }\n",
       "\n",
       "    .dataframe thead th {\n",
       "        text-align: right;\n",
       "    }\n",
       "</style>\n",
       "<table border=\"1\" class=\"dataframe\">\n",
       "  <thead>\n",
       "    <tr style=\"text-align: right;\">\n",
       "      <th></th>\n",
       "      <th>ID</th>\n",
       "      <th>EDF_ID</th>\n",
       "      <th>EDF_TYPE</th>\n",
       "      <th>NR</th>\n",
       "      <th>NS</th>\n",
       "      <th>NS_ALL</th>\n",
       "      <th>REC_DUR</th>\n",
       "      <th>REC_DUR_HMS</th>\n",
       "      <th>REC_DUR_SEC</th>\n",
       "      <th>START_DATE</th>\n",
       "      <th>START_TIME</th>\n",
       "      <th>STOP_TIME</th>\n",
       "      <th>TOT_DUR_HMS</th>\n",
       "      <th>TOT_DUR_SEC</th>\n",
       "    </tr>\n",
       "  </thead>\n",
       "  <tbody>\n",
       "    <tr>\n",
       "      <th>0</th>\n",
       "      <td>learn-nsrr02</td>\n",
       "      <td>.</td>\n",
       "      <td>EDF</td>\n",
       "      <td>35850</td>\n",
       "      <td>14</td>\n",
       "      <td>14</td>\n",
       "      <td>1.0</td>\n",
       "      <td>09:57:30</td>\n",
       "      <td>35850.0</td>\n",
       "      <td>01.01.85</td>\n",
       "      <td>21.18.06</td>\n",
       "      <td>07.15.36</td>\n",
       "      <td>09:57:30</td>\n",
       "      <td>35850.0</td>\n",
       "    </tr>\n",
       "  </tbody>\n",
       "</table>\n",
       "</div>"
      ],
      "text/plain": [
       "             ID EDF_ID EDF_TYPE     NR  NS NS_ALL REC_DUR REC_DUR_HMS  \\\n",
       "0  learn-nsrr02      .      EDF  35850  14     14     1.0    09:57:30   \n",
       "\n",
       "  REC_DUR_SEC START_DATE START_TIME STOP_TIME TOT_DUR_HMS TOT_DUR_SEC  \n",
       "0     35850.0   01.01.85   21.18.06  07.15.36    09:57:30     35850.0  "
      ]
     },
     "metadata": {},
     "output_type": "display_data"
    },
    {
     "name": "stdout",
     "output_type": "stream",
     "text": [
      "\u001b[1m\u001b[36mHEADERS: CH\u001b[0m\n"
     ]
    },
    {
     "data": {
      "text/html": [
       "<div>\n",
       "<style scoped>\n",
       "    .dataframe tbody tr th:only-of-type {\n",
       "        vertical-align: middle;\n",
       "    }\n",
       "\n",
       "    .dataframe tbody tr th {\n",
       "        vertical-align: top;\n",
       "    }\n",
       "\n",
       "    .dataframe thead th {\n",
       "        text-align: right;\n",
       "    }\n",
       "</style>\n",
       "<table border=\"1\" class=\"dataframe\">\n",
       "  <thead>\n",
       "    <tr style=\"text-align: right;\">\n",
       "      <th></th>\n",
       "      <th>ID</th>\n",
       "      <th>CH</th>\n",
       "      <th>DMAX</th>\n",
       "      <th>DMIN</th>\n",
       "      <th>PDIM</th>\n",
       "      <th>PMAX</th>\n",
       "      <th>PMIN</th>\n",
       "      <th>POS</th>\n",
       "      <th>SENS</th>\n",
       "      <th>SR</th>\n",
       "      <th>TRANS</th>\n",
       "      <th>TYPE</th>\n",
       "    </tr>\n",
       "  </thead>\n",
       "  <tbody>\n",
       "    <tr>\n",
       "      <th>0</th>\n",
       "      <td>learn-nsrr02</td>\n",
       "      <td>ABDO_RES</td>\n",
       "      <td>127</td>\n",
       "      <td>-128</td>\n",
       "      <td>.</td>\n",
       "      <td>-1.0</td>\n",
       "      <td>1.0</td>\n",
       "      <td>11</td>\n",
       "      <td>-0.007843</td>\n",
       "      <td>10.0</td>\n",
       "      <td>.</td>\n",
       "      <td>EFFORT</td>\n",
       "    </tr>\n",
       "    <tr>\n",
       "      <th>1</th>\n",
       "      <td>learn-nsrr02</td>\n",
       "      <td>AIRFLOW</td>\n",
       "      <td>127</td>\n",
       "      <td>-128</td>\n",
       "      <td>.</td>\n",
       "      <td>-1.0</td>\n",
       "      <td>1.0</td>\n",
       "      <td>9</td>\n",
       "      <td>-0.007843</td>\n",
       "      <td>10.0</td>\n",
       "      <td>.</td>\n",
       "      <td>AIRFLOW</td>\n",
       "    </tr>\n",
       "    <tr>\n",
       "      <th>2</th>\n",
       "      <td>learn-nsrr02</td>\n",
       "      <td>ECG</td>\n",
       "      <td>127</td>\n",
       "      <td>-128</td>\n",
       "      <td>mV</td>\n",
       "      <td>1.25</td>\n",
       "      <td>-1.25</td>\n",
       "      <td>4</td>\n",
       "      <td>0.009804</td>\n",
       "      <td>250.0</td>\n",
       "      <td>.</td>\n",
       "      <td>ECG</td>\n",
       "    </tr>\n",
       "    <tr>\n",
       "      <th>3</th>\n",
       "      <td>learn-nsrr02</td>\n",
       "      <td>EEG</td>\n",
       "      <td>127</td>\n",
       "      <td>-128</td>\n",
       "      <td>uV</td>\n",
       "      <td>125.0</td>\n",
       "      <td>-125.0</td>\n",
       "      <td>8</td>\n",
       "      <td>0.980392</td>\n",
       "      <td>125.0</td>\n",
       "      <td>.</td>\n",
       "      <td>EEG</td>\n",
       "    </tr>\n",
       "    <tr>\n",
       "      <th>4</th>\n",
       "      <td>learn-nsrr02</td>\n",
       "      <td>EEG_sec</td>\n",
       "      <td>127</td>\n",
       "      <td>-128</td>\n",
       "      <td>uV</td>\n",
       "      <td>125.0</td>\n",
       "      <td>-125.0</td>\n",
       "      <td>3</td>\n",
       "      <td>0.980392</td>\n",
       "      <td>125.0</td>\n",
       "      <td>.</td>\n",
       "      <td>EEG</td>\n",
       "    </tr>\n",
       "    <tr>\n",
       "      <th>5</th>\n",
       "      <td>learn-nsrr02</td>\n",
       "      <td>EMG</td>\n",
       "      <td>127</td>\n",
       "      <td>-128</td>\n",
       "      <td>uV</td>\n",
       "      <td>31.5</td>\n",
       "      <td>-31.5</td>\n",
       "      <td>5</td>\n",
       "      <td>0.247059</td>\n",
       "      <td>125.0</td>\n",
       "      <td>.</td>\n",
       "      <td>EMG</td>\n",
       "    </tr>\n",
       "    <tr>\n",
       "      <th>6</th>\n",
       "      <td>learn-nsrr02</td>\n",
       "      <td>EOG_L</td>\n",
       "      <td>127</td>\n",
       "      <td>-128</td>\n",
       "      <td>uV</td>\n",
       "      <td>125.0</td>\n",
       "      <td>-125.0</td>\n",
       "      <td>6</td>\n",
       "      <td>0.980392</td>\n",
       "      <td>50.0</td>\n",
       "      <td>.</td>\n",
       "      <td>EOG</td>\n",
       "    </tr>\n",
       "    <tr>\n",
       "      <th>7</th>\n",
       "      <td>learn-nsrr02</td>\n",
       "      <td>EOG_R</td>\n",
       "      <td>127</td>\n",
       "      <td>-128</td>\n",
       "      <td>uV</td>\n",
       "      <td>125.0</td>\n",
       "      <td>-125.0</td>\n",
       "      <td>7</td>\n",
       "      <td>0.980392</td>\n",
       "      <td>50.0</td>\n",
       "      <td>.</td>\n",
       "      <td>EOG</td>\n",
       "    </tr>\n",
       "    <tr>\n",
       "      <th>8</th>\n",
       "      <td>learn-nsrr02</td>\n",
       "      <td>LIGHT</td>\n",
       "      <td>1</td>\n",
       "      <td>0</td>\n",
       "      <td>.</td>\n",
       "      <td>1.0</td>\n",
       "      <td>0.0</td>\n",
       "      <td>13</td>\n",
       "      <td>1.0</td>\n",
       "      <td>1.0</td>\n",
       "      <td>.</td>\n",
       "      <td>LIGHT</td>\n",
       "    </tr>\n",
       "    <tr>\n",
       "      <th>9</th>\n",
       "      <td>learn-nsrr02</td>\n",
       "      <td>OX_STAT</td>\n",
       "      <td>3</td>\n",
       "      <td>0</td>\n",
       "      <td>.</td>\n",
       "      <td>3.0</td>\n",
       "      <td>0.0</td>\n",
       "      <td>14</td>\n",
       "      <td>1.0</td>\n",
       "      <td>1.0</td>\n",
       "      <td>.</td>\n",
       "      <td>OXYGEN</td>\n",
       "    </tr>\n",
       "    <tr>\n",
       "      <th>10</th>\n",
       "      <td>learn-nsrr02</td>\n",
       "      <td>POSITION</td>\n",
       "      <td>3</td>\n",
       "      <td>0</td>\n",
       "      <td>.</td>\n",
       "      <td>3.0</td>\n",
       "      <td>0.0</td>\n",
       "      <td>12</td>\n",
       "      <td>1.0</td>\n",
       "      <td>1.0</td>\n",
       "      <td>.</td>\n",
       "      <td>POSITION</td>\n",
       "    </tr>\n",
       "    <tr>\n",
       "      <th>11</th>\n",
       "      <td>learn-nsrr02</td>\n",
       "      <td>PR</td>\n",
       "      <td>32767</td>\n",
       "      <td>-32768</td>\n",
       "      <td>BPM</td>\n",
       "      <td>200.0</td>\n",
       "      <td>0.0</td>\n",
       "      <td>2</td>\n",
       "      <td>0.003052</td>\n",
       "      <td>1.0</td>\n",
       "      <td>.</td>\n",
       "      <td>HR</td>\n",
       "    </tr>\n",
       "    <tr>\n",
       "      <th>12</th>\n",
       "      <td>learn-nsrr02</td>\n",
       "      <td>SaO2</td>\n",
       "      <td>32767</td>\n",
       "      <td>-32768</td>\n",
       "      <td>%</td>\n",
       "      <td>100.0</td>\n",
       "      <td>0.0</td>\n",
       "      <td>1</td>\n",
       "      <td>0.001526</td>\n",
       "      <td>1.0</td>\n",
       "      <td>.</td>\n",
       "      <td>OXYGEN</td>\n",
       "    </tr>\n",
       "    <tr>\n",
       "      <th>13</th>\n",
       "      <td>learn-nsrr02</td>\n",
       "      <td>THOR_RES</td>\n",
       "      <td>127</td>\n",
       "      <td>-128</td>\n",
       "      <td>.</td>\n",
       "      <td>-1.0</td>\n",
       "      <td>1.0</td>\n",
       "      <td>10</td>\n",
       "      <td>-0.007843</td>\n",
       "      <td>10.0</td>\n",
       "      <td>.</td>\n",
       "      <td>EFFORT</td>\n",
       "    </tr>\n",
       "  </tbody>\n",
       "</table>\n",
       "</div>"
      ],
      "text/plain": [
       "              ID        CH   DMAX    DMIN PDIM   PMAX   PMIN POS      SENS  \\\n",
       "0   learn-nsrr02  ABDO_RES    127    -128    .   -1.0    1.0  11 -0.007843   \n",
       "1   learn-nsrr02   AIRFLOW    127    -128    .   -1.0    1.0   9 -0.007843   \n",
       "2   learn-nsrr02       ECG    127    -128   mV   1.25  -1.25   4  0.009804   \n",
       "3   learn-nsrr02       EEG    127    -128   uV  125.0 -125.0   8  0.980392   \n",
       "4   learn-nsrr02   EEG_sec    127    -128   uV  125.0 -125.0   3  0.980392   \n",
       "5   learn-nsrr02       EMG    127    -128   uV   31.5  -31.5   5  0.247059   \n",
       "6   learn-nsrr02     EOG_L    127    -128   uV  125.0 -125.0   6  0.980392   \n",
       "7   learn-nsrr02     EOG_R    127    -128   uV  125.0 -125.0   7  0.980392   \n",
       "8   learn-nsrr02     LIGHT      1       0    .    1.0    0.0  13       1.0   \n",
       "9   learn-nsrr02   OX_STAT      3       0    .    3.0    0.0  14       1.0   \n",
       "10  learn-nsrr02  POSITION      3       0    .    3.0    0.0  12       1.0   \n",
       "11  learn-nsrr02        PR  32767  -32768  BPM  200.0    0.0   2  0.003052   \n",
       "12  learn-nsrr02      SaO2  32767  -32768    %  100.0    0.0   1  0.001526   \n",
       "13  learn-nsrr02  THOR_RES    127    -128    .   -1.0    1.0  10 -0.007843   \n",
       "\n",
       "       SR TRANS      TYPE  \n",
       "0    10.0     .    EFFORT  \n",
       "1    10.0     .   AIRFLOW  \n",
       "2   250.0     .       ECG  \n",
       "3   125.0     .       EEG  \n",
       "4   125.0     .       EEG  \n",
       "5   125.0     .       EMG  \n",
       "6    50.0     .       EOG  \n",
       "7    50.0     .       EOG  \n",
       "8     1.0     .     LIGHT  \n",
       "9     1.0     .    OXYGEN  \n",
       "10    1.0     .  POSITION  \n",
       "11    1.0     .        HR  \n",
       "12    1.0     .    OXYGEN  \n",
       "13   10.0     .    EFFORT  "
      ]
     },
     "metadata": {},
     "output_type": "display_data"
    }
   ],
   "source": [
    "lp.show(res)"
   ]
  },
  {
   "cell_type": "markdown",
   "id": "363154b8-5c00-4603-bfef-79b4d637297b",
   "metadata": {},
   "source": [
    "### Fuller workflows"
   ]
  },
  {
   "cell_type": "markdown",
   "id": "edd05371-e7c3-4ab1-af39-c4f380ba1dd6",
   "metadata": {},
   "source": [
    "Here we consider a slightly fuller example, using a multi-part Luna script that is read from a text file and uses _variables_ in that script.  First, we'll look at the example script (`misc/cmd1.txt`):"
   ]
  },
  {
   "cell_type": "code",
   "execution_count": 22,
   "id": "4c5f2301-4a8d-45fb-b9bb-e6121d5aeee3",
   "metadata": {},
   "outputs": [
    {
     "name": "stdout",
     "output_type": "stream",
     "text": [
      "% this is a test Luna script that uses variables\n",
      "FILTER sig=${s} bandpass=${lwr},${upr} ripple=0.002 tw=1\n",
      "MASK ifnot=${stage}\n",
      "PSD sig=${s} spectrum dB\n"
     ]
    }
   ],
   "source": [
    "%%sh\n",
    "cat misc/cmd1.txt"
   ]
  },
  {
   "cell_type": "markdown",
   "id": "fc496260-7a4e-4be0-a65c-51f47396e6b3",
   "metadata": {},
   "source": [
    "The `lp.cmdfile()` utility function is useful for reading in Luna command files and returning a text string of the contents (i.e. it will strip out any comments and add the required `&` delimiters between different Luna commands, etc):"
   ]
  },
  {
   "cell_type": "code",
   "execution_count": 23,
   "id": "4b41081d-0ceb-409d-9b49-ab35bafc8644",
   "metadata": {},
   "outputs": [
    {
     "data": {
      "text/plain": [
       "'FILTER sig=${s} bandpass=${lwr},${upr} ripple=0.002 tw=1 & MASK ifnot=${stage} & PSD sig=${s} spectrum dB'"
      ]
     },
     "execution_count": 23,
     "metadata": {},
     "output_type": "execute_result"
    }
   ],
   "source": [
    "cmds = lp.cmdfile( 'misc/cmd1.txt' )\n",
    "cmds"
   ]
  },
  {
   "cell_type": "markdown",
   "id": "c0b53bca-9080-4d01-a42f-8c61af8bdcb7",
   "metadata": {},
   "source": [
    "We can now run this via `eval()` (or `proc()`):  [ Note: as we expect this to give an error, for didactic purposes, the cell below is not run as a code cell, see below; instead we've pasted in the error message that _would_ have been given in this code was run ]"
   ]
  },
  {
   "cell_type": "raw",
   "id": "3b50093b-0cf5-4fed-b800-af8599b98128",
   "metadata": {},
   "source": [
    "p.eval( cmds )"
   ]
  },
  {
   "cell_type": "raw",
   "id": "26ed087d-3b10-4930-9f70-36314e520cb0",
   "metadata": {},
   "source": [
    "---------------------------------------------------------------------------\n",
    "RuntimeError                              Traceback (most recent call last)\n",
    "Cell In[25], line 2\n",
    "      1 cmds = lp.cmdfile( 'cmd1.txt' )\n",
    "----> 2 p.eval( cmds )\n",
    "\n",
    "File /opt/conda/lib/python3.11/site-packages/lunapi/lunapi1.py:418, in inst.eval(self, cmdstr)\n",
    "    416 def eval( self, cmdstr ):\n",
    "    417    \"\"\"Evaluate one or more Luna commands, storing results internally\"\"\"\n",
    "--> 418    self.edf.eval( cmdstr )\n",
    "    419    return self.strata()\n",
    "\n",
    "RuntimeError: variable ${s} was not specified"
   ]
  },
  {
   "cell_type": "markdown",
   "id": "2008a946-bc62-4523-9846-535f50edcf0e",
   "metadata": {},
   "source": [
    "As expected, we get an error here.  This `RuntimeError` is generated by Luna itself, correctly complaining that the script uses a variable that has not been defined (i.e. the first encountered was `${s}`.   If using Luna on the command line, one might use something like this (i.e. assuming that the same EDF is the first entry in the sample list `s.lst` and specifying an output database for Luna `out.db`, which is not necessary here):"
   ]
  },
  {
   "cell_type": "raw",
   "id": "5862fcc1-40f5-4223-8b7e-37c2ce36746b",
   "metadata": {},
   "source": [
    "luna s.lst 1 -o out.db s=EEG stage=N2 lwr=1 upr=20 < cmds.txt"
   ]
  },
  {
   "cell_type": "markdown",
   "id": "ed0a9671-8106-4f77-8edd-2a3b99ee2dbc",
   "metadata": {},
   "source": [
    "Here, using `lunapi` we can set variables via the `var()` or `vars()` functions.  The former are _project-wide_ variables, equivalent to the variables in the above example - i.e. the value of `${s}` is fixed for all individuals in that run of Luna (which happens to be one person in the example above, but the general point remains).  In contrast, _individual-specific_ variables may change from person-to-person.  In this case, it doesn't matter which we use when considering only this one attached file."
   ]
  },
  {
   "cell_type": "code",
   "execution_count": 24,
   "id": "366b9e54-9c24-404d-9608-d2e1b67993b9",
   "metadata": {},
   "outputs": [],
   "source": [
    "p.vars( { 's': 'EEG' , 'stage': 'N2' , 'lwr': 1 , 'upr': 20 } )"
   ]
  },
  {
   "cell_type": "markdown",
   "id": "d832ff71-5c94-4961-a9a7-dccdfdcd8e4a",
   "metadata": {},
   "source": [
    "Note that all values are passed as strings: _this will be relaxed in future releases_ so that numeric values can be set directly.  We can now check that these variables have been set:"
   ]
  },
  {
   "cell_type": "code",
   "execution_count": 25,
   "id": "d1404d54-be6a-46e4-80d8-5265b346c047",
   "metadata": {},
   "outputs": [
    {
     "data": {
      "text/plain": [
       "{'airflow': 'AIRFLOW',\n",
       " 'ecg': 'ECG',\n",
       " 'eeg': 'EEG_sec,EEG',\n",
       " 'effort': 'THOR_RES,ABDO_RES',\n",
       " 'emg': 'EMG',\n",
       " 'eog': 'EOG_L,EOG_R',\n",
       " 'generic': '',\n",
       " 'hr': 'PR',\n",
       " 'ic': '',\n",
       " 'ignore': '',\n",
       " 'imf': '',\n",
       " 'leg': '',\n",
       " 'light': 'LIGHT',\n",
       " 'lwr': '1',\n",
       " 'oxygen': 'SaO2,OX_STAT',\n",
       " 'position': 'POSITION',\n",
       " 'ref': '',\n",
       " 's': 'EEG',\n",
       " 'snore': '',\n",
       " 'stage': 'N2',\n",
       " 'upr': '20'}"
      ]
     },
     "execution_count": 25,
     "metadata": {},
     "output_type": "execute_result"
    }
   ],
   "source": [
    "p.vars()"
   ]
  },
  {
   "cell_type": "markdown",
   "id": "dea5d528-2ae9-4637-847f-781411166078",
   "metadata": {},
   "source": [
    "Here we see the correct values have been set, along with a bunch of special variables that are automatically set when first attaching an EDF (i.e. Luna tries to guess the type of each channel label, such that the variable `${eeg}` can be used to refer to all EEG channels).  \n",
    "\n",
    "Having set the variables required by the script, we can now run it:"
   ]
  },
  {
   "cell_type": "code",
   "execution_count": 26,
   "id": "0ac85885-0c6a-40af-a99f-fe6dc7d950ef",
   "metadata": {},
   "outputs": [
    {
     "name": "stderr",
     "output_type": "stream",
     "text": [
      " ..................................................................\n",
      " CMD #1: FILTER\n",
      "   options: bandpass=1,20 ripple=0.002 sig=EEG tw=1\n",
      "  filtering channel(s): EEG\n",
      " ..................................................................\n",
      " CMD #2: MASK\n",
      "   options: ifnot=N2 sig=*\n",
      "  set epochs, to default length 30, 1195 epochs\n",
      "  set masking mode to 'force'\n",
      "  annots: N2\n",
      "  applied annotation mask for 1 annotation(s)\n",
      "  399 epochs match; 796 newly masked, 0 unmasked, 399 unchanged\n",
      "  total of 399 of 1195 retained\n",
      " ..................................................................\n",
      " CMD #3: PSD\n",
      "   options: dB sig=EEG spectrum\n",
      "  calculating PSD from 0.5 to 25 for 1 signals\n"
     ]
    },
    {
     "data": {
      "text/html": [
       "<div>\n",
       "<style scoped>\n",
       "    .dataframe tbody tr th:only-of-type {\n",
       "        vertical-align: middle;\n",
       "    }\n",
       "\n",
       "    .dataframe tbody tr th {\n",
       "        vertical-align: top;\n",
       "    }\n",
       "\n",
       "    .dataframe thead th {\n",
       "        text-align: right;\n",
       "    }\n",
       "</style>\n",
       "<table border=\"1\" class=\"dataframe\">\n",
       "  <thead>\n",
       "    <tr style=\"text-align: right;\">\n",
       "      <th></th>\n",
       "      <th>Command</th>\n",
       "      <th>Strata</th>\n",
       "    </tr>\n",
       "  </thead>\n",
       "  <tbody>\n",
       "    <tr>\n",
       "      <th>0</th>\n",
       "      <td>MASK</td>\n",
       "      <td>EMASK</td>\n",
       "    </tr>\n",
       "    <tr>\n",
       "      <th>1</th>\n",
       "      <td>PSD</td>\n",
       "      <td>B_CH</td>\n",
       "    </tr>\n",
       "    <tr>\n",
       "      <th>2</th>\n",
       "      <td>PSD</td>\n",
       "      <td>CH</td>\n",
       "    </tr>\n",
       "    <tr>\n",
       "      <th>3</th>\n",
       "      <td>PSD</td>\n",
       "      <td>CH_F</td>\n",
       "    </tr>\n",
       "  </tbody>\n",
       "</table>\n",
       "</div>"
      ],
      "text/plain": [
       "  Command Strata\n",
       "0    MASK  EMASK\n",
       "1     PSD   B_CH\n",
       "2     PSD     CH\n",
       "3     PSD   CH_F"
      ]
     },
     "execution_count": 26,
     "metadata": {},
     "output_type": "execute_result"
    }
   ],
   "source": [
    "p.eval( cmds )"
   ]
  },
  {
   "cell_type": "markdown",
   "id": "f336922e-2429-4048-bf2f-0657a49a4db3",
   "metadata": {},
   "source": [
    "This appears to have run without warning or error, generating the output from `PSD` as described in [these Luna pages](http://zzz.bwh.harvard.edu/luna/ref/power-spectra/#psd).  We will extract the PSD, which is the table with both channel (`CH`) and frequency-bin (`F`) stratifiers. Note how `lunapi` will concatenate these in alphabetic order with an underscore delimiter, so we want the table `CH_F`:"
   ]
  },
  {
   "cell_type": "code",
   "execution_count": 27,
   "id": "baffb65d-1465-4dcc-b37e-3d73ea985743",
   "metadata": {},
   "outputs": [],
   "source": [
    "res = p.table( 'PSD' , 'CH_F' )"
   ]
  },
  {
   "cell_type": "code",
   "execution_count": 28,
   "id": "53c4abf7-f25d-4f45-a9c4-7bc71b32bdca",
   "metadata": {},
   "outputs": [
    {
     "data": {
      "text/html": [
       "<div>\n",
       "<style scoped>\n",
       "    .dataframe tbody tr th:only-of-type {\n",
       "        vertical-align: middle;\n",
       "    }\n",
       "\n",
       "    .dataframe tbody tr th {\n",
       "        vertical-align: top;\n",
       "    }\n",
       "\n",
       "    .dataframe thead th {\n",
       "        text-align: right;\n",
       "    }\n",
       "</style>\n",
       "<table border=\"1\" class=\"dataframe\">\n",
       "  <thead>\n",
       "    <tr style=\"text-align: right;\">\n",
       "      <th></th>\n",
       "      <th>ID</th>\n",
       "      <th>CH</th>\n",
       "      <th>F</th>\n",
       "      <th>PSD</th>\n",
       "      <th>RELPSD</th>\n",
       "    </tr>\n",
       "  </thead>\n",
       "  <tbody>\n",
       "    <tr>\n",
       "      <th>0</th>\n",
       "      <td>learn-nsrr02</td>\n",
       "      <td>EEG</td>\n",
       "      <td>0.5</td>\n",
       "      <td>-4.489919</td>\n",
       "      <td>-0.009712</td>\n",
       "    </tr>\n",
       "    <tr>\n",
       "      <th>1</th>\n",
       "      <td>learn-nsrr02</td>\n",
       "      <td>EEG</td>\n",
       "      <td>0.75</td>\n",
       "      <td>3.945191</td>\n",
       "      <td>0.008534</td>\n",
       "    </tr>\n",
       "    <tr>\n",
       "      <th>2</th>\n",
       "      <td>learn-nsrr02</td>\n",
       "      <td>EEG</td>\n",
       "      <td>1.0</td>\n",
       "      <td>12.010083</td>\n",
       "      <td>0.025979</td>\n",
       "    </tr>\n",
       "    <tr>\n",
       "      <th>3</th>\n",
       "      <td>learn-nsrr02</td>\n",
       "      <td>EEG</td>\n",
       "      <td>1.25</td>\n",
       "      <td>14.683595</td>\n",
       "      <td>0.031762</td>\n",
       "    </tr>\n",
       "    <tr>\n",
       "      <th>4</th>\n",
       "      <td>learn-nsrr02</td>\n",
       "      <td>EEG</td>\n",
       "      <td>1.5</td>\n",
       "      <td>15.322219</td>\n",
       "      <td>0.033143</td>\n",
       "    </tr>\n",
       "    <tr>\n",
       "      <th>...</th>\n",
       "      <td>...</td>\n",
       "      <td>...</td>\n",
       "      <td>...</td>\n",
       "      <td>...</td>\n",
       "      <td>...</td>\n",
       "    </tr>\n",
       "    <tr>\n",
       "      <th>94</th>\n",
       "      <td>learn-nsrr02</td>\n",
       "      <td>EEG</td>\n",
       "      <td>24.0</td>\n",
       "      <td>-67.166124</td>\n",
       "      <td>-0.145287</td>\n",
       "    </tr>\n",
       "    <tr>\n",
       "      <th>95</th>\n",
       "      <td>learn-nsrr02</td>\n",
       "      <td>EEG</td>\n",
       "      <td>24.25</td>\n",
       "      <td>-67.538261</td>\n",
       "      <td>-0.146092</td>\n",
       "    </tr>\n",
       "    <tr>\n",
       "      <th>96</th>\n",
       "      <td>learn-nsrr02</td>\n",
       "      <td>EEG</td>\n",
       "      <td>24.5</td>\n",
       "      <td>-67.571492</td>\n",
       "      <td>-0.146163</td>\n",
       "    </tr>\n",
       "    <tr>\n",
       "      <th>97</th>\n",
       "      <td>learn-nsrr02</td>\n",
       "      <td>EEG</td>\n",
       "      <td>24.75</td>\n",
       "      <td>-67.74399</td>\n",
       "      <td>-0.146537</td>\n",
       "    </tr>\n",
       "    <tr>\n",
       "      <th>98</th>\n",
       "      <td>learn-nsrr02</td>\n",
       "      <td>EEG</td>\n",
       "      <td>25.0</td>\n",
       "      <td>-67.733134</td>\n",
       "      <td>-0.146513</td>\n",
       "    </tr>\n",
       "  </tbody>\n",
       "</table>\n",
       "<p>99 rows × 5 columns</p>\n",
       "</div>"
      ],
      "text/plain": [
       "              ID   CH      F        PSD    RELPSD\n",
       "0   learn-nsrr02  EEG    0.5  -4.489919 -0.009712\n",
       "1   learn-nsrr02  EEG   0.75   3.945191  0.008534\n",
       "2   learn-nsrr02  EEG    1.0  12.010083  0.025979\n",
       "3   learn-nsrr02  EEG   1.25  14.683595  0.031762\n",
       "4   learn-nsrr02  EEG    1.5  15.322219  0.033143\n",
       "..           ...  ...    ...        ...       ...\n",
       "94  learn-nsrr02  EEG   24.0 -67.166124 -0.145287\n",
       "95  learn-nsrr02  EEG  24.25 -67.538261 -0.146092\n",
       "96  learn-nsrr02  EEG   24.5 -67.571492 -0.146163\n",
       "97  learn-nsrr02  EEG  24.75  -67.74399 -0.146537\n",
       "98  learn-nsrr02  EEG   25.0 -67.733134 -0.146513\n",
       "\n",
       "[99 rows x 5 columns]"
      ]
     },
     "execution_count": 28,
     "metadata": {},
     "output_type": "execute_result"
    }
   ],
   "source": [
    "res"
   ]
  },
  {
   "cell_type": "markdown",
   "id": "ba595193-c4a6-48aa-b92a-94b3cc924ec8",
   "metadata": {},
   "source": [
    "Using `matplotlib` to make a quick power spectrum, adding the two transition frequencies of the bandpass filter:"
   ]
  },
  {
   "cell_type": "code",
   "execution_count": 29,
   "id": "f450e1d7-17c6-45fe-baf8-270004a1df4a",
   "metadata": {},
   "outputs": [
    {
     "data": {
      "image/png": "[encoded data removed]",
      "text/plain": [
       "<Figure size 640x480 with 1 Axes>"
      ]
     },
     "metadata": {},
     "output_type": "display_data"
    }
   ],
   "source": [
    "import matplotlib.pyplot as plt\n",
    "plt.plot( res[ 'F' ] , res[ 'PSD' ] )\n",
    "plt.xlabel('Frequency (Hz)')\n",
    "plt.ylabel('Power (dB)')\n",
    "[plt.axvline(_x, linewidth=1, color='r') for _x in [1,20] ]\n",
    "plt.show()"
   ]
  },
  {
   "cell_type": "markdown",
   "id": "af82efb9-365e-4851-be73-1b56a2a7be52",
   "metadata": {},
   "source": [
    "## Refreshing the instance"
   ]
  },
  {
   "cell_type": "markdown",
   "id": "395a9fe8-7570-4e79-b542-6b7c6fe40051",
   "metadata": {},
   "source": [
    "Having completed the last example, it is important to remember that the _instance_ referenced by `p` has now been changed and that __these changes persist__.  This is different from the typical command-line invocation of `luna`, where each new `luna` command starts afresh from the EDF on disk.  Thus, if we now re-ran `stat()` we'd see different values from above:"
   ]
  },
  {
   "cell_type": "code",
   "execution_count": 30,
   "id": "66990a0a-55be-43f4-9352-bc8116476a22",
   "metadata": {},
   "outputs": [
    {
     "data": {
      "text/html": [
       "<div>\n",
       "<style scoped>\n",
       "    .dataframe tbody tr th:only-of-type {\n",
       "        vertical-align: middle;\n",
       "    }\n",
       "\n",
       "    .dataframe tbody tr th {\n",
       "        vertical-align: top;\n",
       "    }\n",
       "\n",
       "    .dataframe thead th {\n",
       "        text-align: right;\n",
       "    }\n",
       "</style>\n",
       "<table border=\"1\" class=\"dataframe\">\n",
       "  <thead>\n",
       "    <tr style=\"text-align: right;\">\n",
       "      <th></th>\n",
       "      <th>Value</th>\n",
       "    </tr>\n",
       "  </thead>\n",
       "  <tbody>\n",
       "    <tr>\n",
       "      <th>annotation_files</th>\n",
       "      <td>tutorial/edfs/learn-nsrr02.xml</td>\n",
       "    </tr>\n",
       "    <tr>\n",
       "      <th>duration</th>\n",
       "      <td>09.57.30.000</td>\n",
       "    </tr>\n",
       "    <tr>\n",
       "      <th>edf_file</th>\n",
       "      <td>tutorial/edfs/learn-nsrr02.edf</td>\n",
       "    </tr>\n",
       "    <tr>\n",
       "      <th>elen</th>\n",
       "      <td>30.0</td>\n",
       "    </tr>\n",
       "    <tr>\n",
       "      <th>id</th>\n",
       "      <td>learn-nsrr02</td>\n",
       "    </tr>\n",
       "    <tr>\n",
       "      <th>na</th>\n",
       "      <td>10</td>\n",
       "    </tr>\n",
       "    <tr>\n",
       "      <th>ne</th>\n",
       "      <td>399</td>\n",
       "    </tr>\n",
       "    <tr>\n",
       "      <th>nem</th>\n",
       "      <td>796</td>\n",
       "    </tr>\n",
       "    <tr>\n",
       "      <th>ns</th>\n",
       "      <td>14</td>\n",
       "    </tr>\n",
       "    <tr>\n",
       "      <th>nt</th>\n",
       "      <td>14</td>\n",
       "    </tr>\n",
       "    <tr>\n",
       "      <th>state</th>\n",
       "      <td>1</td>\n",
       "    </tr>\n",
       "  </tbody>\n",
       "</table>\n",
       "</div>"
      ],
      "text/plain": [
       "                                           Value\n",
       "annotation_files  tutorial/edfs/learn-nsrr02.xml\n",
       "duration                            09.57.30.000\n",
       "edf_file          tutorial/edfs/learn-nsrr02.edf\n",
       "elen                                        30.0\n",
       "id                                  learn-nsrr02\n",
       "na                                            10\n",
       "ne                                           399\n",
       "nem                                          796\n",
       "ns                                            14\n",
       "nt                                            14\n",
       "state                                          1"
      ]
     },
     "execution_count": 30,
     "metadata": {},
     "output_type": "execute_result"
    }
   ],
   "source": [
    "p.stat()"
   ]
  },
  {
   "cell_type": "markdown",
   "id": "8c3f3f35-cc63-4f5c-b175-ae6905619cdb",
   "metadata": {},
   "source": [
    "Because we dropped epochs (by running `MASK` and `RE`) the current _instance_ now has only N2 epochs.  This is reflected by `ne` now equally 399 (the number of N2 epochs mentioned in the console output above) whereas the initial `stat()` output did not even include `ne` as the data had not at that point been epoched.  (Here, `nem` is the number of _masked_ epochs, 796.)   Whether or not one wants changes to persist depends on the sequence of analyses being performed, of course - either way, it is important to keep track of the current state (this is perhaps a general challenge of working with interactive, notebook-style environments).  \n",
    "\n",
    "To _refresh_ the instance to its original state, the easiest way is to call `refresh()`, which returns the _instance_ to the original state (i.e. after `attach_edf()` and `attach_annot()` functions were run):"
   ]
  },
  {
   "cell_type": "code",
   "execution_count": 31,
   "id": "f1f40364-ec24-4d63-a19e-e38d8dffa4f3",
   "metadata": {},
   "outputs": [
    {
     "name": "stderr",
     "output_type": "stream",
     "text": [
      "___________________________________________________________________\n",
      "Processing: learn-nsrr02 | tutorial/edfs/learn-nsrr02.edf\n",
      " duration 09.57.30, 35850s | time 21.18.06 - 07.15.36 | date 01.01.85\n",
      "\n",
      " signals: 14 (of 14) selected in a standard EDF file\n",
      "  SaO2 | PR | EEG_sec | ECG | EMG | EOG_L | EOG_R | EEG\n",
      "  AIRFLOW | THOR_RES | ABDO_RES | POSITION | LIGHT | OX_STAT\n"
     ]
    }
   ],
   "source": [
    "p.refresh()"
   ]
  },
  {
   "cell_type": "markdown",
   "id": "b9c9e94a-dd2d-47fd-aafe-c5e00f2075af",
   "metadata": {},
   "source": [
    "We now see that `stat()` returns the original values, i.e. \"internally\", we are back to having the entire EDF in memory, not just the selected N2 epochs."
   ]
  },
  {
   "cell_type": "code",
   "execution_count": 32,
   "id": "9bcd5e8e-052e-492f-ace0-8c42e46ce8ae",
   "metadata": {},
   "outputs": [
    {
     "data": {
      "text/html": [
       "<div>\n",
       "<style scoped>\n",
       "    .dataframe tbody tr th:only-of-type {\n",
       "        vertical-align: middle;\n",
       "    }\n",
       "\n",
       "    .dataframe tbody tr th {\n",
       "        vertical-align: top;\n",
       "    }\n",
       "\n",
       "    .dataframe thead th {\n",
       "        text-align: right;\n",
       "    }\n",
       "</style>\n",
       "<table border=\"1\" class=\"dataframe\">\n",
       "  <thead>\n",
       "    <tr style=\"text-align: right;\">\n",
       "      <th></th>\n",
       "      <th>Value</th>\n",
       "    </tr>\n",
       "  </thead>\n",
       "  <tbody>\n",
       "    <tr>\n",
       "      <th>annotation_files</th>\n",
       "      <td>tutorial/edfs/learn-nsrr02.xml</td>\n",
       "    </tr>\n",
       "    <tr>\n",
       "      <th>duration</th>\n",
       "      <td>09.57.30.000</td>\n",
       "    </tr>\n",
       "    <tr>\n",
       "      <th>edf_file</th>\n",
       "      <td>tutorial/edfs/learn-nsrr02.edf</td>\n",
       "    </tr>\n",
       "    <tr>\n",
       "      <th>id</th>\n",
       "      <td>learn-nsrr02</td>\n",
       "    </tr>\n",
       "    <tr>\n",
       "      <th>na</th>\n",
       "      <td>10</td>\n",
       "    </tr>\n",
       "    <tr>\n",
       "      <th>ns</th>\n",
       "      <td>14</td>\n",
       "    </tr>\n",
       "    <tr>\n",
       "      <th>nt</th>\n",
       "      <td>14</td>\n",
       "    </tr>\n",
       "    <tr>\n",
       "      <th>state</th>\n",
       "      <td>1</td>\n",
       "    </tr>\n",
       "  </tbody>\n",
       "</table>\n",
       "</div>"
      ],
      "text/plain": [
       "                                           Value\n",
       "annotation_files  tutorial/edfs/learn-nsrr02.xml\n",
       "duration                            09.57.30.000\n",
       "edf_file          tutorial/edfs/learn-nsrr02.edf\n",
       "id                                  learn-nsrr02\n",
       "na                                            10\n",
       "ns                                            14\n",
       "nt                                            14\n",
       "state                                          1"
      ]
     },
     "execution_count": 32,
     "metadata": {},
     "output_type": "execute_result"
    }
   ],
   "source": [
    "p.stat()"
   ]
  },
  {
   "cell_type": "markdown",
   "id": "ec59dd54-bbe6-419b-9435-a06cc0ba250b",
   "metadata": {},
   "source": [
    "Note, simply trying to re-attach the EDF (with `p.attach_edf()` instead of `refresh()`) __would not work__ - you'll get an error about not being able to re-initialize the timeline.   If you really wanted to do this, you'd have to delete `p`, then re-create it, i.e. something like this:"
   ]
  },
  {
   "cell_type": "raw",
   "id": "21e1162c-e874-42c0-8af0-cf13b45cd77b",
   "metadata": {},
   "source": [
    "del p\n",
    "p = proj.inst( 'learn-nsrr02' )\n",
    "p.attach_edf( '/tutorial/edfs/learn-nsrr02.edf')"
   ]
  },
  {
   "cell_type": "markdown",
   "id": "1b60b5b2-aee5-4bb4-b5bb-3839244df0fe",
   "metadata": {},
   "source": [
    "Alternatively, you could use Luna's [FREEZE & THAW commands](http://zzz.bwh.harvard.edu/luna/ref/freezes) to give finer-grained control over snapshots certain states of an _instance_.  \n",
    "\n",
    "For now, the bottom line is that is you're expecting a given command to run from the original version of the data, you might want to run `refresh()` beforehand to ensure this is the case."
   ]
  },
  {
   "cell_type": "markdown",
   "id": "8ff0a637-2048-4025-8023-12bc451911e6",
   "metadata": {
    "tags": []
   },
   "source": [
    "## Accessing raw signal/annotation data "
   ]
  },
  {
   "cell_type": "markdown",
   "id": "4c98b782-a29d-4978-bb30-14d5b40c7760",
   "metadata": {},
   "source": [
    "Although the primary way to invoke Luna is via the `eval()` mechanism, it is also possible to extract the raw signal and/or annotation information.  Note, as above, one feature is that returned signals will respect the current state of the in-memory _instance_ - i.e. if prior Luna commands had masked all non-N2 epochs as above, then the commands below would only return N2 signals/annotations, etc. \n",
    "\n",
    "To pull signal and/or annotations, use the `data()` function, which expects a list of channels (`chs`) and annotations (`annots`). This will return an array of sample-points (rows) by channels (two columns): [TODO: supply default `None` values]"
   ]
  },
  {
   "cell_type": "code",
   "execution_count": 33,
   "id": "3de377c2-a12d-4ce3-92e5-4ee1deb38dd1",
   "metadata": {},
   "outputs": [],
   "source": [
    "d = p.data( chs = [ 'EEG' , 'EEG_sec' ] , annots = [] )"
   ]
  },
  {
   "cell_type": "markdown",
   "id": "8184c880-2dff-4945-9e74-f040c73d7427",
   "metadata": {},
   "source": [
    "`data()` returns a tuple, where the first element is a list of column labels, and the second element is the array itself.  All signals must have similar sample rates, or else you'll get an error message."
   ]
  },
  {
   "cell_type": "code",
   "execution_count": 34,
   "id": "09304fef-b33c-4ce1-aa8b-d2090efbacab",
   "metadata": {},
   "outputs": [
    {
     "data": {
      "text/plain": [
       "tuple"
      ]
     },
     "execution_count": 34,
     "metadata": {},
     "output_type": "execute_result"
    }
   ],
   "source": [
    "type(d)"
   ]
  },
  {
   "cell_type": "code",
   "execution_count": 35,
   "id": "02413c30-c0d8-45d5-a532-035f9db18e09",
   "metadata": {},
   "outputs": [
    {
     "data": {
      "text/plain": [
       "['EEG', 'EEG_sec']"
      ]
     },
     "execution_count": 35,
     "metadata": {},
     "output_type": "execute_result"
    }
   ],
   "source": [
    "d[0]"
   ]
  },
  {
   "cell_type": "code",
   "execution_count": 36,
   "id": "5872f9c5-878c-4ac4-b178-89148f0bedf6",
   "metadata": {},
   "outputs": [
    {
     "data": {
      "text/plain": [
       "numpy.ndarray"
      ]
     },
     "execution_count": 36,
     "metadata": {},
     "output_type": "execute_result"
    }
   ],
   "source": [
    "type( d[1] )"
   ]
  },
  {
   "cell_type": "code",
   "execution_count": 37,
   "id": "bb6f844c-fadf-44e3-a2dc-146f0928e298",
   "metadata": {},
   "outputs": [
    {
     "data": {
      "text/plain": [
       "(4481250, 2)"
      ]
     },
     "execution_count": 37,
     "metadata": {},
     "output_type": "execute_result"
    }
   ],
   "source": [
    "d[1].shape"
   ]
  },
  {
   "cell_type": "markdown",
   "id": "e92809d2-1850-40b3-8537-9a1019a5d512",
   "metadata": {},
   "source": [
    "As an example, here we'll plot the first 1000 samples for `EEG` (column 0):"
   ]
  },
  {
   "cell_type": "code",
   "execution_count": 38,
   "id": "f982807a-7a41-4412-b083-73d805503554",
   "metadata": {},
   "outputs": [
    {
     "data": {
      "text/plain": [
       "array([[  -8.33333333,    4.41176471],\n",
       "       [ -15.19607843,   -0.49019608],\n",
       "       [ -16.17647059,   -6.37254902],\n",
       "       ...,\n",
       "       [  71.07843137,   25.        ],\n",
       "       [  84.80392157,   10.29411765],\n",
       "       [  51.47058824, -110.29411765]])"
      ]
     },
     "execution_count": 38,
     "metadata": {},
     "output_type": "execute_result"
    }
   ],
   "source": [
    "d[1]"
   ]
  },
  {
   "cell_type": "code",
   "execution_count": 39,
   "id": "a5d8f156-8e8a-49e5-8aea-6a2223130643",
   "metadata": {},
   "outputs": [
    {
     "data": {
      "image/png": "[encoded data removed]",
      "text/plain": [
       "<Figure size 2000x200 with 1 Axes>"
      ]
     },
     "metadata": {},
     "output_type": "display_data"
    }
   ],
   "source": [
    "import matplotlib.pyplot as plt\n",
    "plt.figure(figsize=(20,2))\n",
    "plt.plot( d[1][1:1000:,0] , c = 'gray' , lw = 0.5 )\n",
    "plt.show()"
   ]
  },
  {
   "cell_type": "markdown",
   "id": "7c66a296-c969-4e41-8079-c2fae53362e8",
   "metadata": {},
   "source": [
    "### Extracting subsets of recordings\n",
    "\n",
    "The above application of `data()` returned an array with 4481250 rows.  We can check, this should correspond to the entire size of the EDF. First, we'll check the number of records and the sample rate of the EEG channels, using `HEADERS` as above:"
   ]
  },
  {
   "cell_type": "code",
   "execution_count": 40,
   "id": "b4715be5-328a-4201-b7ad-47c96e130cb6",
   "metadata": {},
   "outputs": [
    {
     "name": "stdout",
     "output_type": "stream",
     "text": [
      "\u001b[1m\u001b[36mHEADERS: BL\u001b[0m\n"
     ]
    },
    {
     "name": "stderr",
     "output_type": "stream",
     "text": [
      " ..................................................................\n",
      " CMD #1: HEADERS\n",
      "   options: sig=EEG,EEG_sec\n"
     ]
    },
    {
     "data": {
      "text/html": [
       "<div>\n",
       "<style scoped>\n",
       "    .dataframe tbody tr th:only-of-type {\n",
       "        vertical-align: middle;\n",
       "    }\n",
       "\n",
       "    .dataframe tbody tr th {\n",
       "        vertical-align: top;\n",
       "    }\n",
       "\n",
       "    .dataframe thead th {\n",
       "        text-align: right;\n",
       "    }\n",
       "</style>\n",
       "<table border=\"1\" class=\"dataframe\">\n",
       "  <thead>\n",
       "    <tr style=\"text-align: right;\">\n",
       "      <th></th>\n",
       "      <th>ID</th>\n",
       "      <th>EDF_ID</th>\n",
       "      <th>EDF_TYPE</th>\n",
       "      <th>NR</th>\n",
       "      <th>NS</th>\n",
       "      <th>NS_ALL</th>\n",
       "      <th>REC_DUR</th>\n",
       "      <th>REC_DUR_HMS</th>\n",
       "      <th>REC_DUR_SEC</th>\n",
       "      <th>START_DATE</th>\n",
       "      <th>START_TIME</th>\n",
       "      <th>STOP_TIME</th>\n",
       "      <th>TOT_DUR_HMS</th>\n",
       "      <th>TOT_DUR_SEC</th>\n",
       "    </tr>\n",
       "  </thead>\n",
       "  <tbody>\n",
       "    <tr>\n",
       "      <th>0</th>\n",
       "      <td>learn-nsrr02</td>\n",
       "      <td>.</td>\n",
       "      <td>EDF</td>\n",
       "      <td>35850</td>\n",
       "      <td>2</td>\n",
       "      <td>14</td>\n",
       "      <td>1.0</td>\n",
       "      <td>09:57:30</td>\n",
       "      <td>35850.0</td>\n",
       "      <td>01.01.85</td>\n",
       "      <td>21.18.06</td>\n",
       "      <td>07.15.36</td>\n",
       "      <td>09:57:30</td>\n",
       "      <td>35850.0</td>\n",
       "    </tr>\n",
       "  </tbody>\n",
       "</table>\n",
       "</div>"
      ],
      "text/plain": [
       "             ID EDF_ID EDF_TYPE     NR NS NS_ALL REC_DUR REC_DUR_HMS  \\\n",
       "0  learn-nsrr02      .      EDF  35850  2     14     1.0    09:57:30   \n",
       "\n",
       "  REC_DUR_SEC START_DATE START_TIME STOP_TIME TOT_DUR_HMS TOT_DUR_SEC  \n",
       "0     35850.0   01.01.85   21.18.06  07.15.36    09:57:30     35850.0  "
      ]
     },
     "metadata": {},
     "output_type": "display_data"
    },
    {
     "name": "stdout",
     "output_type": "stream",
     "text": [
      "\u001b[1m\u001b[36mHEADERS: CH\u001b[0m\n"
     ]
    },
    {
     "data": {
      "text/html": [
       "<div>\n",
       "<style scoped>\n",
       "    .dataframe tbody tr th:only-of-type {\n",
       "        vertical-align: middle;\n",
       "    }\n",
       "\n",
       "    .dataframe tbody tr th {\n",
       "        vertical-align: top;\n",
       "    }\n",
       "\n",
       "    .dataframe thead th {\n",
       "        text-align: right;\n",
       "    }\n",
       "</style>\n",
       "<table border=\"1\" class=\"dataframe\">\n",
       "  <thead>\n",
       "    <tr style=\"text-align: right;\">\n",
       "      <th></th>\n",
       "      <th>ID</th>\n",
       "      <th>CH</th>\n",
       "      <th>DMAX</th>\n",
       "      <th>DMIN</th>\n",
       "      <th>PDIM</th>\n",
       "      <th>PMAX</th>\n",
       "      <th>PMIN</th>\n",
       "      <th>POS</th>\n",
       "      <th>SENS</th>\n",
       "      <th>SR</th>\n",
       "      <th>TRANS</th>\n",
       "      <th>TYPE</th>\n",
       "    </tr>\n",
       "  </thead>\n",
       "  <tbody>\n",
       "    <tr>\n",
       "      <th>0</th>\n",
       "      <td>learn-nsrr02</td>\n",
       "      <td>EEG</td>\n",
       "      <td>127</td>\n",
       "      <td>-128</td>\n",
       "      <td>uV</td>\n",
       "      <td>125.0</td>\n",
       "      <td>-125.0</td>\n",
       "      <td>8</td>\n",
       "      <td>0.980392</td>\n",
       "      <td>125.0</td>\n",
       "      <td>.</td>\n",
       "      <td>EEG</td>\n",
       "    </tr>\n",
       "    <tr>\n",
       "      <th>1</th>\n",
       "      <td>learn-nsrr02</td>\n",
       "      <td>EEG_sec</td>\n",
       "      <td>127</td>\n",
       "      <td>-128</td>\n",
       "      <td>uV</td>\n",
       "      <td>125.0</td>\n",
       "      <td>-125.0</td>\n",
       "      <td>3</td>\n",
       "      <td>0.980392</td>\n",
       "      <td>125.0</td>\n",
       "      <td>.</td>\n",
       "      <td>EEG</td>\n",
       "    </tr>\n",
       "  </tbody>\n",
       "</table>\n",
       "</div>"
      ],
      "text/plain": [
       "             ID       CH DMAX  DMIN PDIM   PMAX   PMIN POS      SENS     SR  \\\n",
       "0  learn-nsrr02      EEG  127  -128   uV  125.0 -125.0   8  0.980392  125.0   \n",
       "1  learn-nsrr02  EEG_sec  127  -128   uV  125.0 -125.0   3  0.980392  125.0   \n",
       "\n",
       "  TRANS TYPE  \n",
       "0     .  EEG  \n",
       "1     .  EEG  "
      ]
     },
     "metadata": {},
     "output_type": "display_data"
    }
   ],
   "source": [
    "lp.show( p.proc( 'HEADERS sig=EEG,EEG_sec' ) ) "
   ]
  },
  {
   "cell_type": "markdown",
   "id": "81eb8f00-50b3-414f-ad56-3377d9345180",
   "metadata": {},
   "source": [
    "Here we see a sample rate (`SR`) of 125 Hz for the EEG, and a total duration of 35850 seconds (that mant records, each of 1 second, i.e. with 125 samples).  Thus the expected size of the array is:"
   ]
  },
  {
   "cell_type": "code",
   "execution_count": 41,
   "id": "df9b1158-7c8b-48dc-860b-e2ae11e8f456",
   "metadata": {},
   "outputs": [
    {
     "data": {
      "text/plain": [
       "4481250"
      ]
     },
     "execution_count": 41,
     "metadata": {},
     "output_type": "execute_result"
    }
   ],
   "source": [
    "125 * 35850"
   ]
  },
  {
   "cell_type": "markdown",
   "id": "799f75a3-3071-46f0-98e1-a9cc5642ad66",
   "metadata": {},
   "source": [
    "which happily matches the size of the array returned by `data()` above.   As a check of how `data()` works, let's repeat this for N2 epochs only:"
   ]
  },
  {
   "cell_type": "code",
   "execution_count": 42,
   "id": "37a924c5-8b72-4b33-8d1d-00911d424dd1",
   "metadata": {},
   "outputs": [
    {
     "name": "stderr",
     "output_type": "stream",
     "text": [
      " ..................................................................\n",
      " CMD #1: MASK\n",
      "   options: ifnot=N2 sig=*\n",
      "  set epochs, to default length 30, 1195 epochs\n",
      "  set masking mode to 'force'\n",
      "  annots: N2\n",
      "  applied annotation mask for 1 annotation(s)\n",
      "  399 epochs match; 796 newly masked, 0 unmasked, 399 unchanged\n",
      "  total of 399 of 1195 retained\n",
      " ..................................................................\n",
      " CMD #2: RE\n",
      "   options: sig=*\n",
      "  restructuring as an EDF+:  retaining 11970 of 35850 records\n",
      "  of 597.5 minutes, dropping 398, retaining 199.5\n",
      "  resetting mask\n",
      "  clearing any cached values and recording options\n",
      "  retaining 399 epochs\n"
     ]
    },
    {
     "data": {
      "text/plain": [
       "(1496250, 2)"
      ]
     },
     "execution_count": 42,
     "metadata": {},
     "output_type": "execute_result"
    }
   ],
   "source": [
    "p.eval( ' MASK ifnot=N2 & RE ' ) \n",
    "d = p.data( chs = [ 'EEG' , 'EEG_sec' ] , annots = [] )\n",
    "d = d[1]\n",
    "d.shape"
   ]
  },
  {
   "cell_type": "markdown",
   "id": "00fa5f75-bac4-4629-9e2d-b1327d1fc1a2",
   "metadata": {},
   "source": [
    "As there are 399 30-second epochs, this number if consistent with what we'd expect for the number of rows:"
   ]
  },
  {
   "cell_type": "code",
   "execution_count": 43,
   "id": "2a4ac872-9cb2-4192-9a8a-4e2215858d03",
   "metadata": {},
   "outputs": [
    {
     "data": {
      "text/plain": [
       "1496250"
      ]
     },
     "execution_count": 43,
     "metadata": {},
     "output_type": "execute_result"
    }
   ],
   "source": [
    "125 * 399 * 30 "
   ]
  },
  {
   "cell_type": "markdown",
   "id": "d8486793-33be-4ca5-95db-dae2e7eb7f62",
   "metadata": {},
   "source": [
    "The above array will of course concatenate all N2 epochs and lose information about timing.  We'll see below how we can retain this by using `slide()` or `slices()` instead of `data()`.  But first, let's remember to _refresh()_ before continuing:"
   ]
  },
  {
   "cell_type": "code",
   "execution_count": 44,
   "id": "7855e870-8f24-4c6b-b48c-f4bebac15678",
   "metadata": {},
   "outputs": [
    {
     "name": "stderr",
     "output_type": "stream",
     "text": [
      "___________________________________________________________________\n",
      "Processing: learn-nsrr02 | tutorial/edfs/learn-nsrr02.edf\n",
      " duration 09.57.30, 35850s | time 21.18.06 - 07.15.36 | date 01.01.85\n",
      "\n",
      " signals: 14 (of 14) selected in a standard EDF file\n",
      "  SaO2 | PR | EEG_sec | ECG | EMG | EOG_L | EOG_R | EEG\n",
      "  AIRFLOW | THOR_RES | ABDO_RES | POSITION | LIGHT | OX_STAT\n"
     ]
    }
   ],
   "source": [
    "p.refresh()"
   ]
  },
  {
   "cell_type": "markdown",
   "id": "b6285f86-a810-4b63-a5b6-a843e70b4527",
   "metadata": {},
   "source": [
    "### Get data by epoch or interval"
   ]
  },
  {
   "cell_type": "markdown",
   "id": "d1e85ca6-e2cb-409d-808e-6ce6b4cd1d72",
   "metadata": {},
   "source": [
    "Whereas `data()` returns all available (unmasked) records, `slice()` and `slices()` structure their output by the requested intervals/epochs.\n",
    "\n",
    "For example, to return epochs 5 to 10 (using a 1-based indexes) all in a single array, we can use the `e2i` (epoch-to-interval) helper function to define the required intervals in _time-points_ (1e9 sec units): i.e. here we have five start/stop pairs for the five epochs, i.e. the first is 120-150 seconds, etc:  (`e2i()` uses the default epoch duration for that instance, here 30 seconds):"
   ]
  },
  {
   "cell_type": "code",
   "execution_count": 45,
   "id": "913b8846-28c7-4ab7-b95d-072b0511a896",
   "metadata": {},
   "outputs": [
    {
     "name": "stderr",
     "output_type": "stream",
     "text": [
      "  set epochs to default 30 seconds, 1195 epochs\n"
     ]
    },
    {
     "data": {
      "text/plain": [
       "(['EEG', 'EEG_sec'],\n",
       " array([[  3.43137255, -16.17647059],\n",
       "        [  0.49019608, -11.2745098 ],\n",
       "        [  1.47058824,  -4.41176471],\n",
       "        ...,\n",
       "        [ -5.39215686, -11.2745098 ],\n",
       "        [ -2.45098039,   5.39215686],\n",
       "        [ 12.25490196,   0.49019608]]))"
      ]
     },
     "execution_count": 45,
     "metadata": {},
     "output_type": "execute_result"
    }
   ],
   "source": [
    "d = p.slice( p.e2i( list( range(5,10 ) ) ) , chs = ['EEG' , 'EEG_sec' ] )\n",
    "d"
   ]
  },
  {
   "cell_type": "markdown",
   "id": "516c9ef7-5919-421f-a3dc-be3ee3bc71a1",
   "metadata": {},
   "source": [
    "We'd expect this many rows from 5 epochs, which matches the output:"
   ]
  },
  {
   "cell_type": "code",
   "execution_count": 46,
   "id": "84e634c7-e9fa-4039-8c6b-bff66b38f41b",
   "metadata": {},
   "outputs": [
    {
     "data": {
      "text/plain": [
       "18750"
      ]
     },
     "execution_count": 46,
     "metadata": {},
     "output_type": "execute_result"
    }
   ],
   "source": [
    "125 * 5 * 30"
   ]
  },
  {
   "cell_type": "code",
   "execution_count": 47,
   "id": "e50c8d53-6776-4040-b0ea-2d1e4b968e95",
   "metadata": {},
   "outputs": [
    {
     "data": {
      "text/plain": [
       "(18750, 2)"
      ]
     },
     "execution_count": 47,
     "metadata": {},
     "output_type": "execute_result"
    }
   ],
   "source": [
    "d[1].shape"
   ]
  },
  {
   "cell_type": "markdown",
   "id": "6112e991-b184-4fbd-9bea-6f19360d1163",
   "metadata": {},
   "source": [
    "Note that `slice()` accepts arbitrary intervals (a list of start/stop tuples in time-point units) - you do not need to use `e2i()`.\n",
    "\n",
    "A slight variant on the above, `slices()` (versus `slice()`) returns each interval (here, epoch) as a separate array: here is an example but now with a single signal but also adding an annotation and time-track:"
   ]
  },
  {
   "cell_type": "code",
   "execution_count": 48,
   "id": "b0233c49-9a30-47f1-b63a-d753ca6e4bd5",
   "metadata": {},
   "outputs": [
    {
     "data": {
      "text/plain": [
       "(['T', 'W', 'EEG'],\n",
       " [array([[120.        ,   1.        ,   3.43137255],\n",
       "         [120.008     ,   1.        ,   0.49019608],\n",
       "         [120.016     ,   1.        ,   1.47058824],\n",
       "         ...,\n",
       "         [149.976     ,   1.        ,   3.43137255],\n",
       "         [149.984     ,   1.        ,  20.09803922],\n",
       "         [149.992     ,   1.        ,   4.41176471]]),\n",
       "  array([[150.        ,   1.        , -11.2745098 ],\n",
       "         [150.008     ,   1.        , -10.29411765],\n",
       "         [150.016     ,   1.        , -11.2745098 ],\n",
       "         ...,\n",
       "         [179.976     ,   1.        ,  -6.37254902],\n",
       "         [179.984     ,   1.        ,  -7.35294118],\n",
       "         [179.992     ,   1.        ,  -1.47058824]]),\n",
       "  array([[180.        ,   1.        ,   3.43137255],\n",
       "         [180.008     ,   1.        ,  -3.43137255],\n",
       "         [180.016     ,   1.        ,  -7.35294118],\n",
       "         ...,\n",
       "         [209.976     ,   1.        ,   1.47058824],\n",
       "         [209.984     ,   1.        ,   3.43137255],\n",
       "         [209.992     ,   1.        ,  10.29411765]]),\n",
       "  array([[210.        ,   1.        ,  19.11764706],\n",
       "         [210.008     ,   1.        ,  17.15686275],\n",
       "         [210.016     ,   1.        ,   5.39215686],\n",
       "         ...,\n",
       "         [239.976     ,   1.        ,  -0.49019608],\n",
       "         [239.984     ,   1.        ,   8.33333333],\n",
       "         [239.992     ,   1.        ,  -0.49019608]]),\n",
       "  array([[240.        ,   1.        , -12.25490196],\n",
       "         [240.008     ,   1.        ,  -2.45098039],\n",
       "         [240.016     ,   1.        ,  10.29411765],\n",
       "         ...,\n",
       "         [269.976     ,   1.        ,  -5.39215686],\n",
       "         [269.984     ,   1.        ,  -2.45098039],\n",
       "         [269.992     ,   1.        ,  12.25490196]])])"
      ]
     },
     "execution_count": 48,
     "metadata": {},
     "output_type": "execute_result"
    }
   ],
   "source": [
    "d = p.slices( p.e2i( list( range(5,10 ) ) ) , chs = 'EEG' , annots = 'W' , time = True )\n",
    "d"
   ]
  },
  {
   "cell_type": "markdown",
   "id": "7f210436-7aef-42c9-af01-839687e9c816",
   "metadata": {
    "tags": []
   },
   "source": [
    "### Updating/inserting new signal data"
   ]
  },
  {
   "cell_type": "markdown",
   "id": "32bfd678-7a41-4766-a3fb-2d1964a1b29b",
   "metadata": {},
   "source": [
    "It is also possible to insert signal data back into the _instance_, via either `insert_signal()` or (if that signal already exists in the EDF) `update_signal()`.  \n",
    "\n",
    "For example, we'll first pull both EEGs for the whole recording:"
   ]
  },
  {
   "cell_type": "code",
   "execution_count": 49,
   "id": "2d51fbf4-d34c-4c5a-9747-a5d67db3a978",
   "metadata": {},
   "outputs": [],
   "source": [
    "d = p.data( chs = [ 'EEG' , 'EEG_sec' ] , annots = [] )[1]\n",
    "eeg1 = d[:,0]\n",
    "eeg2 = d[:,1]"
   ]
  },
  {
   "cell_type": "markdown",
   "id": "eee13aae-8a1f-462d-8e45-e78100833b8b",
   "metadata": {},
   "source": [
    "First, we'll create a new signal that is the mirror image of the first EEG:"
   ]
  },
  {
   "cell_type": "code",
   "execution_count": 50,
   "id": "5351e0dd-a78b-4163-b645-1664b52cb0c4",
   "metadata": {},
   "outputs": [],
   "source": [
    "gee1 = eeg1 * -1 "
   ]
  },
  {
   "cell_type": "code",
   "execution_count": 51,
   "id": "28061cf8-03b2-4329-be76-9060eb0ed7ae",
   "metadata": {},
   "outputs": [
    {
     "data": {
      "image/png": "[encoded data removed]",
      "text/plain": [
       "<Figure size 640x480 with 1 Axes>"
      ]
     },
     "metadata": {},
     "output_type": "display_data"
    }
   ],
   "source": [
    "plt.plot( gee1[1:100] )\n",
    "plt.plot( eeg1[1:100] )\n",
    "plt.show()"
   ]
  },
  {
   "cell_type": "markdown",
   "id": "fa0166de-93b7-476b-8591-a08a7ca5d85e",
   "metadata": {},
   "source": [
    "We will then insert this new signal (`GEE`) back into the EDF:"
   ]
  },
  {
   "cell_type": "code",
   "execution_count": 52,
   "id": "54778bbb-c85f-49ab-9376-4b93b4de551b",
   "metadata": {},
   "outputs": [
    {
     "data": {
      "text/plain": [
       "True"
      ]
     },
     "execution_count": 52,
     "metadata": {},
     "output_type": "execute_result"
    }
   ],
   "source": [
    "p.insert_signal( label = 'GEE' , data = gee1 , sr = 125 )"
   ]
  },
  {
   "cell_type": "code",
   "execution_count": 53,
   "id": "8fbd6a29-1745-4fe1-b182-605cf4410932",
   "metadata": {},
   "outputs": [
    {
     "data": {
      "text/html": [
       "<div>\n",
       "<style scoped>\n",
       "    .dataframe tbody tr th:only-of-type {\n",
       "        vertical-align: middle;\n",
       "    }\n",
       "\n",
       "    .dataframe tbody tr th {\n",
       "        vertical-align: top;\n",
       "    }\n",
       "\n",
       "    .dataframe thead th {\n",
       "        text-align: right;\n",
       "    }\n",
       "</style>\n",
       "<table border=\"1\" class=\"dataframe\">\n",
       "  <thead>\n",
       "    <tr style=\"text-align: right;\">\n",
       "      <th></th>\n",
       "      <th>Channels</th>\n",
       "    </tr>\n",
       "  </thead>\n",
       "  <tbody>\n",
       "    <tr>\n",
       "      <th>0</th>\n",
       "      <td>SaO2</td>\n",
       "    </tr>\n",
       "    <tr>\n",
       "      <th>1</th>\n",
       "      <td>PR</td>\n",
       "    </tr>\n",
       "    <tr>\n",
       "      <th>2</th>\n",
       "      <td>EEG_sec</td>\n",
       "    </tr>\n",
       "    <tr>\n",
       "      <th>3</th>\n",
       "      <td>ECG</td>\n",
       "    </tr>\n",
       "    <tr>\n",
       "      <th>4</th>\n",
       "      <td>EMG</td>\n",
       "    </tr>\n",
       "    <tr>\n",
       "      <th>5</th>\n",
       "      <td>EOG_L</td>\n",
       "    </tr>\n",
       "    <tr>\n",
       "      <th>6</th>\n",
       "      <td>EOG_R</td>\n",
       "    </tr>\n",
       "    <tr>\n",
       "      <th>7</th>\n",
       "      <td>EEG</td>\n",
       "    </tr>\n",
       "    <tr>\n",
       "      <th>8</th>\n",
       "      <td>AIRFLOW</td>\n",
       "    </tr>\n",
       "    <tr>\n",
       "      <th>9</th>\n",
       "      <td>THOR_RES</td>\n",
       "    </tr>\n",
       "    <tr>\n",
       "      <th>10</th>\n",
       "      <td>ABDO_RES</td>\n",
       "    </tr>\n",
       "    <tr>\n",
       "      <th>11</th>\n",
       "      <td>POSITION</td>\n",
       "    </tr>\n",
       "    <tr>\n",
       "      <th>12</th>\n",
       "      <td>LIGHT</td>\n",
       "    </tr>\n",
       "    <tr>\n",
       "      <th>13</th>\n",
       "      <td>OX_STAT</td>\n",
       "    </tr>\n",
       "    <tr>\n",
       "      <th>14</th>\n",
       "      <td>GEE</td>\n",
       "    </tr>\n",
       "  </tbody>\n",
       "</table>\n",
       "</div>"
      ],
      "text/plain": [
       "    Channels\n",
       "0       SaO2\n",
       "1         PR\n",
       "2    EEG_sec\n",
       "3        ECG\n",
       "4        EMG\n",
       "5      EOG_L\n",
       "6      EOG_R\n",
       "7        EEG\n",
       "8    AIRFLOW\n",
       "9   THOR_RES\n",
       "10  ABDO_RES\n",
       "11  POSITION\n",
       "12     LIGHT\n",
       "13   OX_STAT\n",
       "14       GEE"
      ]
     },
     "execution_count": 53,
     "metadata": {},
     "output_type": "execute_result"
    }
   ],
   "source": [
    "p.channels()"
   ]
  },
  {
   "cell_type": "markdown",
   "id": "1830d2ee-8b80-4318-adc3-a13168e13f8c",
   "metadata": {},
   "source": [
    "Next, we'll update the second EEG (`EEG_sec`) to be an exact copy of the first EEG channel (`EEG`) - this assumes the same sample rate, and so we do not need that argument:"
   ]
  },
  {
   "cell_type": "code",
   "execution_count": 54,
   "id": "49dd402d-bbdf-4963-bd94-4627c598ef71",
   "metadata": {},
   "outputs": [
    {
     "data": {
      "text/plain": [
       "True"
      ]
     },
     "execution_count": 54,
     "metadata": {},
     "output_type": "execute_result"
    }
   ],
   "source": [
    "p.update_signal( label = 'EEG_sec' , data = eeg1 ) "
   ]
  },
  {
   "cell_type": "markdown",
   "id": "ba6ac414-aa9c-4719-8200-8edbf8a1d6bc",
   "metadata": {},
   "source": [
    "We now have an EDF with three EEG channels: compared to the original `EEG`, the updated `EEG_sec` should be identical, whereas the new `GEE` channel should be perfectly anti-correlated.   We can use Luna's `CORREL` function to check this: "
   ]
  },
  {
   "cell_type": "code",
   "execution_count": 55,
   "id": "cb91da21-db23-41b4-8afb-799737a57b84",
   "metadata": {},
   "outputs": [
    {
     "name": "stderr",
     "output_type": "stream",
     "text": [
      " ..................................................................\n",
      " CMD #1: CORREL\n",
      "   options: sig=* sig1=EEG sig2=EEG_sec,GEE\n",
      "  calculating correlation for 2 channel pairs\n"
     ]
    },
    {
     "data": {
      "text/html": [
       "<div>\n",
       "<style scoped>\n",
       "    .dataframe tbody tr th:only-of-type {\n",
       "        vertical-align: middle;\n",
       "    }\n",
       "\n",
       "    .dataframe tbody tr th {\n",
       "        vertical-align: top;\n",
       "    }\n",
       "\n",
       "    .dataframe thead th {\n",
       "        text-align: right;\n",
       "    }\n",
       "</style>\n",
       "<table border=\"1\" class=\"dataframe\">\n",
       "  <thead>\n",
       "    <tr style=\"text-align: right;\">\n",
       "      <th></th>\n",
       "      <th>Command</th>\n",
       "      <th>Strata</th>\n",
       "    </tr>\n",
       "  </thead>\n",
       "  <tbody>\n",
       "    <tr>\n",
       "      <th>0</th>\n",
       "      <td>CORREL</td>\n",
       "      <td>CH1_CH2</td>\n",
       "    </tr>\n",
       "  </tbody>\n",
       "</table>\n",
       "</div>"
      ],
      "text/plain": [
       "  Command   Strata\n",
       "0  CORREL  CH1_CH2"
      ]
     },
     "execution_count": 55,
     "metadata": {},
     "output_type": "execute_result"
    }
   ],
   "source": [
    "p.eval( 'CORREL sig1=EEG sig2=EEG_sec,GEE' )"
   ]
  },
  {
   "cell_type": "code",
   "execution_count": 56,
   "id": "a861bf3e-46c1-4a4f-b417-ab79a44581fe",
   "metadata": {},
   "outputs": [
    {
     "data": {
      "text/html": [
       "<div>\n",
       "<style scoped>\n",
       "    .dataframe tbody tr th:only-of-type {\n",
       "        vertical-align: middle;\n",
       "    }\n",
       "\n",
       "    .dataframe tbody tr th {\n",
       "        vertical-align: top;\n",
       "    }\n",
       "\n",
       "    .dataframe thead th {\n",
       "        text-align: right;\n",
       "    }\n",
       "</style>\n",
       "<table border=\"1\" class=\"dataframe\">\n",
       "  <thead>\n",
       "    <tr style=\"text-align: right;\">\n",
       "      <th></th>\n",
       "      <th>ID</th>\n",
       "      <th>CH1</th>\n",
       "      <th>CH2</th>\n",
       "      <th>R</th>\n",
       "    </tr>\n",
       "  </thead>\n",
       "  <tbody>\n",
       "    <tr>\n",
       "      <th>0</th>\n",
       "      <td>learn-nsrr02</td>\n",
       "      <td>EEG</td>\n",
       "      <td>EEG_sec</td>\n",
       "      <td>1.0</td>\n",
       "    </tr>\n",
       "    <tr>\n",
       "      <th>1</th>\n",
       "      <td>learn-nsrr02</td>\n",
       "      <td>EEG</td>\n",
       "      <td>GEE</td>\n",
       "      <td>-1.0</td>\n",
       "    </tr>\n",
       "  </tbody>\n",
       "</table>\n",
       "</div>"
      ],
      "text/plain": [
       "             ID  CH1      CH2    R\n",
       "0  learn-nsrr02  EEG  EEG_sec  1.0\n",
       "1  learn-nsrr02  EEG      GEE -1.0"
      ]
     },
     "execution_count": 56,
     "metadata": {},
     "output_type": "execute_result"
    }
   ],
   "source": [
    "p.table( 'CORREL' , 'CH1_CH2' )"
   ]
  },
  {
   "cell_type": "markdown",
   "id": "54de919f-bab2-4448-9c24-b3aecc2f819a",
   "metadata": {},
   "source": [
    "Good, the above is as expected."
   ]
  },
  {
   "cell_type": "markdown",
   "id": "63b4829d-d79f-4940-b43a-2b1516cc1607",
   "metadata": {},
   "source": [
    "## Writing new files"
   ]
  },
  {
   "cell_type": "markdown",
   "id": "2d82620c-ec28-4b5b-bd80-12ac97f1efff",
   "metadata": {},
   "source": [
    "You can write new EDF or annotation files (i.e. after modifying the data) using the standard Luna [WRITE](http://zzz.bwh.harvard.edu/luna/ref/outputs/#write) or [WRITE-ANNOTS](http://zzz.bwh.harvard.edu/luna/ref/annotations/#write-annots) functions, called via `eval()`."
   ]
  },
  {
   "cell_type": "code",
   "execution_count": 57,
   "id": "9cdd7191-6cbe-4aa2-9134-06505568e64a",
   "metadata": {},
   "outputs": [
    {
     "name": "stderr",
     "output_type": "stream",
     "text": [
      " ..................................................................\n",
      " CMD #1: WRITE\n",
      "   options: edf=new1 sig=*\n",
      "  no epoch mask set, no restructuring needed\n",
      "  data are not truly discontinuous\n",
      "  writing as a standard EDF\n",
      "  writing 15 channels\n",
      "  saved new EDF, new1.edf\n"
     ]
    },
    {
     "data": {
      "text/html": [
       "<div>\n",
       "<style scoped>\n",
       "    .dataframe tbody tr th:only-of-type {\n",
       "        vertical-align: middle;\n",
       "    }\n",
       "\n",
       "    .dataframe tbody tr th {\n",
       "        vertical-align: top;\n",
       "    }\n",
       "\n",
       "    .dataframe thead th {\n",
       "        text-align: right;\n",
       "    }\n",
       "</style>\n",
       "<table border=\"1\" class=\"dataframe\">\n",
       "  <thead>\n",
       "    <tr style=\"text-align: right;\">\n",
       "      <th></th>\n",
       "      <th>Command</th>\n",
       "      <th>Strata</th>\n",
       "    </tr>\n",
       "  </thead>\n",
       "  <tbody>\n",
       "    <tr>\n",
       "      <th>0</th>\n",
       "      <td>WRITE</td>\n",
       "      <td>BL</td>\n",
       "    </tr>\n",
       "  </tbody>\n",
       "</table>\n",
       "</div>"
      ],
      "text/plain": [
       "  Command Strata\n",
       "0   WRITE     BL"
      ]
     },
     "execution_count": 57,
     "metadata": {},
     "output_type": "execute_result"
    }
   ],
   "source": [
    "p.eval( 'WRITE edf=new1' ) "
   ]
  },
  {
   "cell_type": "markdown",
   "id": "656ef20f-9e61-43eb-af0d-f210af6eab05",
   "metadata": {},
   "source": [
    "To confirm that a new EDF has been generated, we could load it back in here, or use the command-line Luna to confirm.  The `remnrem/lunapi` Docker image includes a terminal as part of the JupyterLab envionrment.  Try opening one, do `ls` to list the files, and then run `luna` to check it is as expected.   In JupyterLab, go to the top-right `File -> New` menu and create a new `Terminal`.  Then list the contents (you'll see `new1.edf` along with these these notebooks and the `cmd1.txt` we create earlier):"
   ]
  },
  {
   "cell_type": "raw",
   "id": "034a0767-18d1-44bb-8e68-fd7025d7e30f",
   "metadata": {},
   "source": [
    "(base) jovyan@b2271d81c647:/lunapi$ ls -lrt\n",
    "total 64552\n",
    "-rw-rw-r-- 1 jovyan users     5629 Jan 26 21:48 README.md\n",
    "drwxr-xr-x 9 jovyan users      288 Jan 28 19:26 img\n",
    "-rw-r--r-- 1 jovyan users     4457 Jan 29 03:44 99_reference.ipynb\n",
    "-rw-r--r-- 1 jovyan users    18328 Jan 29 03:56 98_advanced.ipynb\n",
    "-rw-r--r-- 1 jovyan users  1279281 Jan 29 04:04 04_models.ipynb\n",
    "-rw-r--r-- 1 jovyan users   164129 Jan 29 04:04 03_staging.ipynb\n",
    "-rw-r--r-- 1 jovyan users   145757 Jan 29 04:05 02_projects.ipynb\n",
    "-rw-r--r-- 1 jovyan users    25332 Jan 29 11:11 00_overview.ipynb\n",
    "-rw-r--r-- 1 jovyan users      151 Jan 29 12:42 cmd1.txt\n",
    "-rw-r--r-- 1 jovyan users 63458596 Jan 29 13:34 new1.edf\n",
    "-rw-r--r-- 1 jovyan users   262530 Jan 29 13:35 01_indivs.ipynb"
   ]
  },
  {
   "cell_type": "markdown",
   "id": "9bf51056-2cca-4330-b73b-f4bbfca61e55",
   "metadata": {},
   "source": [
    "As command-line Luna is installed in the Docker, you can invoke it there too, to confirm the properties of the new EDF:"
   ]
  },
  {
   "cell_type": "raw",
   "id": "ca60e84d-8fe3-419a-a0ab-d51ead9448c9",
   "metadata": {},
   "source": [
    "luna new1.edf -s DESC"
   ]
  },
  {
   "cell_type": "raw",
   "id": "f25261e1-cef5-4b50-9733-dffefcc952c4",
   "metadata": {},
   "source": [
    "(base) jovyan@b2271d81c647:/lunapi$ luna new1.edf -s DESC\n",
    "===================================================================\n",
    "+++ luna | v0.99d, 02-Jan-2024 | starting 29-Jan-2024 13:39:40 +++\n",
    "===================================================================\n",
    "input(s): new1.edf\n",
    "output  : .\n",
    "commands: c1    DESC\n",
    "\n",
    "___________________________________________________________________\n",
    "Processing: new1 [ #1 ]\n",
    " duration 09.57.30, 35850s | time 21.18.06 - 07.15.36 | date 01.01.85\n",
    "\n",
    " signals: 15 (of 15) selected in a standard EDF file\n",
    "  SaO2 | PR | EEG_sec | ECG | EMG | EOG_L | EOG_R | EEG\n",
    "  AIRFLOW | THOR_RES | ABDO_RES | POSITION | LIGHT | OX_STAT | GEE\n",
    "\n",
    "\n",
    " variables:\n",
    "  airflow=AIRFLOW | ecg=ECG | eeg=EEG_sec,EEG | effort=THOR_RES,A...\n",
    "  emg=EMG | eog=EOG_L,EOG_R | generic=GEE | hr=PR | id=new1\n",
    "  light=LIGHT | oxygen=SaO2,OX_STAT | position=POSITION\n",
    " ..................................................................\n",
    " CMD #1: DESC\n",
    "   options: sig=*\n",
    "EDF filename      : new1.edf\n",
    "ID                : new1\n",
    "Clock time        : 21.18.06 - 07.15.36\n",
    "Duration          : 09:57:30  35850 sec\n",
    "# signals         : 15\n",
    "Signals           : SaO2[1] PR[1] EEG_sec[125] ECG[250] EMG[125] EOG_L[50]\n",
    "                    EOG_R[50] EEG[125] AIRFLOW[10] THOR_RES[10] ABDO_RES[10] POSITION[1]\n",
    "                    LIGHT[1] OX_STAT[1] GEE[125]\n",
    "\n",
    "\n",
    "___________________________________________________________________\n",
    "...processed 1 EDFs, done.\n",
    "...processed 1 command set(s),  all of which passed\n",
    "-------------------------------------------------------------------\n",
    "+++ luna | finishing 29-Jan-2024 13:39:40                       +++\n",
    "==================================================================="
   ]
  },
  {
   "cell_type": "markdown",
   "id": "aea007a0-5dfb-4fe8-bb99-614a506e1c48",
   "metadata": {},
   "source": [
    "That is, everything is as expected - we now have a new version of the original EDF, but with a new `GEE` channel. "
   ]
  },
  {
   "cell_type": "markdown",
   "id": "c8339b6c-4fe1-4d6f-90de-706e196ac96d",
   "metadata": {},
   "source": [
    "That completes this individual-level overview of the `lunapi` workflow.  You can see how to work with multiple individuals more easily in the [next notebook](./02_projects.ipynb)."
   ]
  }
 ],
 "metadata": {
  "kernelspec": {
   "display_name": "Python 3 (ipykernel)",
   "language": "python",
   "name": "python3"
  },
  "language_info": {
   "codemirror_mode": {
    "name": "ipython",
    "version": 3
   },
   "file_extension": ".py",
   "mimetype": "text/x-python",
   "name": "python",
   "nbconvert_exporter": "python",
   "pygments_lexer": "ipython3",
   "version": "3.9.6"
  },
  "toc-autonumbering": false,
  "toc-showcode": false,
  "toc-showmarkdowntxt": false,
  "toc-showtags": false
 },
 "nbformat": 4,
 "nbformat_minor": 5
}
