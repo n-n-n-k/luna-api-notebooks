{
 "cells": [
  {
   "cell_type": "markdown",
   "id": "58747097-066e-4217-bdf5-a9791d51716b",
   "metadata": {},
   "source": [
    "# LunAPI : individuals\n",
    "\n",
    "Links to notebooks in this repository: [Index](./00_overview.ipynb) | [Individuals](./01_indivs.ipynb) | [Projects](./02_projects.ipynb) | [Staging](./03_staging.ipynb) | [Models](./04_models.ipynb) | [Advanced](./98_advanced.ipynb) | [Reference](./99_reference.ipynb)"
   ]
  },
  {
   "cell_type": "markdown",
   "id": "d9ee612d-f3a6-46ff-ad83-6641a54369c2",
   "metadata": {},
   "source": [
    "First, we import `lunapi` and initiate a project:"
   ]
  },
  {
   "cell_type": "code",
   "execution_count": 1,
   "id": "b51e53cc-fec2-4dca-b272-fef740a827b5",
   "metadata": {},
   "outputs": [
    {
     "name": "stdout",
     "output_type": "stream",
     "text": [
      "initiated lunapi v0.0.4 <lunapi.lunapi0.luna object at 0xffff829bcf30> \n",
      "\n",
      "enabling console outputs\n"
     ]
    }
   ],
   "source": [
    "import lunapi as lp\n",
    "proj = lp.proj()"
   ]
  },
  {
   "cell_type": "markdown",
   "id": "ff7827a0-2c14-4905-87bf-b34306078ca3",
   "metadata": {},
   "source": [
    "We then create a single instance: here to match the tutorial individual `nsrr02`"
   ]
  },
  {
   "cell_type": "code",
   "execution_count": 2,
   "id": "417e1c57-6757-421b-89e4-9f442317db48",
   "metadata": {},
   "outputs": [],
   "source": [
    "p = proj.inst( 'learn-nsrr02' )"
   ]
  },
  {
   "cell_type": "markdown",
   "id": "1bafc95a-8c54-4ae0-9a45-56aec07c7753",
   "metadata": {},
   "source": [
    "We can then attach an EDF:"
   ]
  },
  {
   "cell_type": "code",
   "execution_count": 3,
   "id": "0cce3ee4-e18e-41e9-94f6-fc2ca26705c4",
   "metadata": {},
   "outputs": [
    {
     "name": "stderr",
     "output_type": "stream",
     "text": [
      "___________________________________________________________________\n",
      "Processing: learn-nsrr02 | /tutorial/edfs/learn-nsrr02.edf\n",
      " duration 09.57.30, 35850s | time 21.18.06 - 07.15.36 | date 01.01.85\n",
      "\n",
      " signals: 14 (of 14) selected in a standard EDF file\n",
      "  SaO2 | PR | EEG_sec | ECG | EMG | EOG_L | EOG_R | EEG\n",
      "  AIRFLOW | THOR_RES | ABDO_RES | POSITION | LIGHT | OX_STAT\n"
     ]
    },
    {
     "data": {
      "text/plain": [
       "True"
      ]
     },
     "execution_count": 3,
     "metadata": {},
     "output_type": "execute_result"
    }
   ],
   "source": [
    "p.attach_edf( '/tutorial/edfs/learn-nsrr02.edf' )"
   ]
  },
  {
   "cell_type": "markdown",
   "id": "b381d4be-8b6e-4d4b-8abf-327fcd095c04",
   "metadata": {},
   "source": [
    "Second, we can attach the XML annotations associated with that individual:"
   ]
  },
  {
   "cell_type": "code",
   "execution_count": 4,
   "id": "c0427df4-2d7c-44da-ac30-bba8cb259c3e",
   "metadata": {},
   "outputs": [
    {
     "data": {
      "text/plain": [
       "True"
      ]
     },
     "execution_count": 4,
     "metadata": {},
     "output_type": "execute_result"
    }
   ],
   "source": [
    "p.attach_annot( '/tutorial/edfs/learn-nsrr02-profusion.xml' )"
   ]
  },
  {
   "cell_type": "markdown",
   "id": "4fe2f57a-1f62-439f-91c3-86685a59718a",
   "metadata": {},
   "source": [
    "To get a short description of the instance, just enter its name:"
   ]
  },
  {
   "cell_type": "code",
   "execution_count": 5,
   "id": "f81453bb-53c1-4585-bc24-2eb226cc9911",
   "metadata": {},
   "outputs": [
    {
     "data": {
      "text/plain": [
       "<lunapi-instance id:learn-nsrr02 edf:/tutorial/edfs/learn-nsrr02.edf annot:/tutorial/edfs/learn-nsrr02-profusion.xml>"
      ]
     },
     "execution_count": 5,
     "metadata": {},
     "output_type": "execute_result"
    }
   ],
   "source": [
    "p"
   ]
  },
  {
   "cell_type": "markdown",
   "id": "eee00bd1-6494-4050-b843-2faf54cff533",
   "metadata": {},
   "source": [
    "Above, we see the ID, the attached EDF and the annotation file(s) are listed, as expected."
   ]
  },
  {
   "cell_type": "markdown",
   "id": "9037a79d-c1b8-477c-8a1d-cd2978f6db3a",
   "metadata": {},
   "source": [
    "## Simple summaries"
   ]
  },
  {
   "cell_type": "markdown",
   "id": "8ebb1233-5770-4dce-aa10-9e3b89e391d6",
   "metadata": {},
   "source": [
    "To get some basic summary information on the attached individual: overall descriptives:"
   ]
  },
  {
   "cell_type": "code",
   "execution_count": 6,
   "id": "6bffa85d-29ef-4d71-8838-99d4e985822d",
   "metadata": {},
   "outputs": [
    {
     "data": {
      "text/html": [
       "<div>\n",
       "<style scoped>\n",
       "    .dataframe tbody tr th:only-of-type {\n",
       "        vertical-align: middle;\n",
       "    }\n",
       "\n",
       "    .dataframe tbody tr th {\n",
       "        vertical-align: top;\n",
       "    }\n",
       "\n",
       "    .dataframe thead th {\n",
       "        text-align: right;\n",
       "    }\n",
       "</style>\n",
       "<table border=\"1\" class=\"dataframe\">\n",
       "  <thead>\n",
       "    <tr style=\"text-align: right;\">\n",
       "      <th></th>\n",
       "      <th>Value</th>\n",
       "    </tr>\n",
       "  </thead>\n",
       "  <tbody>\n",
       "    <tr>\n",
       "      <th>annotation_files</th>\n",
       "      <td>/tutorial/edfs/learn-nsrr02-profusion.xml</td>\n",
       "    </tr>\n",
       "    <tr>\n",
       "      <th>duration</th>\n",
       "      <td>09.57.30.000</td>\n",
       "    </tr>\n",
       "    <tr>\n",
       "      <th>edf_file</th>\n",
       "      <td>/tutorial/edfs/learn-nsrr02.edf</td>\n",
       "    </tr>\n",
       "    <tr>\n",
       "      <th>id</th>\n",
       "      <td>learn-nsrr02</td>\n",
       "    </tr>\n",
       "    <tr>\n",
       "      <th>na</th>\n",
       "      <td>10</td>\n",
       "    </tr>\n",
       "    <tr>\n",
       "      <th>ns</th>\n",
       "      <td>14</td>\n",
       "    </tr>\n",
       "    <tr>\n",
       "      <th>nt</th>\n",
       "      <td>14</td>\n",
       "    </tr>\n",
       "    <tr>\n",
       "      <th>state</th>\n",
       "      <td>1</td>\n",
       "    </tr>\n",
       "  </tbody>\n",
       "</table>\n",
       "</div>"
      ],
      "text/plain": [
       "                                                      Value\n",
       "annotation_files  /tutorial/edfs/learn-nsrr02-profusion.xml\n",
       "duration                                       09.57.30.000\n",
       "edf_file                    /tutorial/edfs/learn-nsrr02.edf\n",
       "id                                             learn-nsrr02\n",
       "na                                                       10\n",
       "ns                                                       14\n",
       "nt                                                       14\n",
       "state                                                     1"
      ]
     },
     "execution_count": 6,
     "metadata": {},
     "output_type": "execute_result"
    }
   ],
   "source": [
    "p.stat()"
   ]
  },
  {
   "cell_type": "markdown",
   "id": "ce469da5-f331-4b47-9ff8-018aa4b4dbf0",
   "metadata": {},
   "source": [
    "A list of channels in the EDF:"
   ]
  },
  {
   "cell_type": "code",
   "execution_count": 7,
   "id": "2ee31f06-7531-48c9-9f54-9ca0c77b2754",
   "metadata": {},
   "outputs": [
    {
     "data": {
      "text/html": [
       "<div>\n",
       "<style scoped>\n",
       "    .dataframe tbody tr th:only-of-type {\n",
       "        vertical-align: middle;\n",
       "    }\n",
       "\n",
       "    .dataframe tbody tr th {\n",
       "        vertical-align: top;\n",
       "    }\n",
       "\n",
       "    .dataframe thead th {\n",
       "        text-align: right;\n",
       "    }\n",
       "</style>\n",
       "<table border=\"1\" class=\"dataframe\">\n",
       "  <thead>\n",
       "    <tr style=\"text-align: right;\">\n",
       "      <th></th>\n",
       "      <th>Channels</th>\n",
       "    </tr>\n",
       "  </thead>\n",
       "  <tbody>\n",
       "    <tr>\n",
       "      <th>0</th>\n",
       "      <td>SaO2</td>\n",
       "    </tr>\n",
       "    <tr>\n",
       "      <th>1</th>\n",
       "      <td>PR</td>\n",
       "    </tr>\n",
       "    <tr>\n",
       "      <th>2</th>\n",
       "      <td>EEG_sec</td>\n",
       "    </tr>\n",
       "    <tr>\n",
       "      <th>3</th>\n",
       "      <td>ECG</td>\n",
       "    </tr>\n",
       "    <tr>\n",
       "      <th>4</th>\n",
       "      <td>EMG</td>\n",
       "    </tr>\n",
       "    <tr>\n",
       "      <th>5</th>\n",
       "      <td>EOG_L</td>\n",
       "    </tr>\n",
       "    <tr>\n",
       "      <th>6</th>\n",
       "      <td>EOG_R</td>\n",
       "    </tr>\n",
       "    <tr>\n",
       "      <th>7</th>\n",
       "      <td>EEG</td>\n",
       "    </tr>\n",
       "    <tr>\n",
       "      <th>8</th>\n",
       "      <td>AIRFLOW</td>\n",
       "    </tr>\n",
       "    <tr>\n",
       "      <th>9</th>\n",
       "      <td>THOR_RES</td>\n",
       "    </tr>\n",
       "    <tr>\n",
       "      <th>10</th>\n",
       "      <td>ABDO_RES</td>\n",
       "    </tr>\n",
       "    <tr>\n",
       "      <th>11</th>\n",
       "      <td>POSITION</td>\n",
       "    </tr>\n",
       "    <tr>\n",
       "      <th>12</th>\n",
       "      <td>LIGHT</td>\n",
       "    </tr>\n",
       "    <tr>\n",
       "      <th>13</th>\n",
       "      <td>OX_STAT</td>\n",
       "    </tr>\n",
       "  </tbody>\n",
       "</table>\n",
       "</div>"
      ],
      "text/plain": [
       "    Channels\n",
       "0       SaO2\n",
       "1         PR\n",
       "2    EEG_sec\n",
       "3        ECG\n",
       "4        EMG\n",
       "5      EOG_L\n",
       "6      EOG_R\n",
       "7        EEG\n",
       "8    AIRFLOW\n",
       "9   THOR_RES\n",
       "10  ABDO_RES\n",
       "11  POSITION\n",
       "12     LIGHT\n",
       "13   OX_STAT"
      ]
     },
     "execution_count": 7,
     "metadata": {},
     "output_type": "execute_result"
    }
   ],
   "source": [
    "p.channels()"
   ]
  },
  {
   "cell_type": "markdown",
   "id": "fa284d63-6607-4100-a320-ceb05f0629ce",
   "metadata": {},
   "source": [
    "And a list of associated annotations:"
   ]
  },
  {
   "cell_type": "code",
   "execution_count": 8,
   "id": "6ef9acc8-0007-4cb8-b1c9-fc7fb06d7076",
   "metadata": {},
   "outputs": [
    {
     "data": {
      "text/html": [
       "<div>\n",
       "<style scoped>\n",
       "    .dataframe tbody tr th:only-of-type {\n",
       "        vertical-align: middle;\n",
       "    }\n",
       "\n",
       "    .dataframe tbody tr th {\n",
       "        vertical-align: top;\n",
       "    }\n",
       "\n",
       "    .dataframe thead th {\n",
       "        text-align: right;\n",
       "    }\n",
       "</style>\n",
       "<table border=\"1\" class=\"dataframe\">\n",
       "  <thead>\n",
       "    <tr style=\"text-align: right;\">\n",
       "      <th></th>\n",
       "      <th>Annotations</th>\n",
       "    </tr>\n",
       "  </thead>\n",
       "  <tbody>\n",
       "    <tr>\n",
       "      <th>0</th>\n",
       "      <td>Arousal</td>\n",
       "    </tr>\n",
       "    <tr>\n",
       "      <th>1</th>\n",
       "      <td>Hypopnea</td>\n",
       "    </tr>\n",
       "    <tr>\n",
       "      <th>2</th>\n",
       "      <td>N1</td>\n",
       "    </tr>\n",
       "    <tr>\n",
       "      <th>3</th>\n",
       "      <td>N2</td>\n",
       "    </tr>\n",
       "    <tr>\n",
       "      <th>4</th>\n",
       "      <td>N3</td>\n",
       "    </tr>\n",
       "    <tr>\n",
       "      <th>5</th>\n",
       "      <td>Obstructive_Apnea</td>\n",
       "    </tr>\n",
       "    <tr>\n",
       "      <th>6</th>\n",
       "      <td>R</td>\n",
       "    </tr>\n",
       "    <tr>\n",
       "      <th>7</th>\n",
       "      <td>SpO2_artifact</td>\n",
       "    </tr>\n",
       "    <tr>\n",
       "      <th>8</th>\n",
       "      <td>SpO2_desaturation</td>\n",
       "    </tr>\n",
       "    <tr>\n",
       "      <th>9</th>\n",
       "      <td>W</td>\n",
       "    </tr>\n",
       "  </tbody>\n",
       "</table>\n",
       "</div>"
      ],
      "text/plain": [
       "         Annotations\n",
       "0            Arousal\n",
       "1           Hypopnea\n",
       "2                 N1\n",
       "3                 N2\n",
       "4                 N3\n",
       "5  Obstructive_Apnea\n",
       "6                  R\n",
       "7      SpO2_artifact\n",
       "8  SpO2_desaturation\n",
       "9                  W"
      ]
     },
     "execution_count": 8,
     "metadata": {},
     "output_type": "execute_result"
    }
   ],
   "source": [
    "p.annots()"
   ]
  },
  {
   "cell_type": "markdown",
   "id": "29468d00-096b-44e2-91e8-0ee1ee3a91ed",
   "metadata": {},
   "source": [
    "Below we will use the convention of calling the project variable `proj` and the current instance variable will typically be `p`.  Note that we use `p` to remind us that this is only a _pointer_ to the underlying data, that is the `p` object does not contain the signal data themselves."
   ]
  },
  {
   "cell_type": "markdown",
   "id": "31ec7dfd-5a8a-4bd4-bca9-7fafa155ae31",
   "metadata": {},
   "source": [
    "## Applying Luna commands"
   ]
  },
  {
   "cell_type": "markdown",
   "id": "1e916df0-2589-44fc-82ac-82320ecf0fb5",
   "metadata": {},
   "source": [
    "Rather than provide specific Python functions for every command Luna supports, the same Luna command scripts (either as text files or directly specified in Python) drive all major analyses."
   ]
  },
  {
   "cell_type": "markdown",
   "id": "68bcd130-1970-47bd-9789-3db4f9d30350",
   "metadata": {},
   "source": [
    "### Simple example"
   ]
  },
  {
   "cell_type": "markdown",
   "id": "51561827-f7df-4a5d-9b29-e89fd189a69f",
   "metadata": {},
   "source": [
    "There are two main ways to evaluate Luna commands, `eval()` and `proc()`.  These differ only in how they return output.   `eval()` keeps any output in the internal instance and returns only the equivalent _console_ outputs.  Outputs are then accessed via `strata()` and `table()` functions (i.e. similar to using `detstrat` after the command-line luna).   Alternatively, `proc()` returns all outputs in a single Python data-frame (along with the console output).  Some utility functions help working with the output, as below."
   ]
  },
  {
   "cell_type": "code",
   "execution_count": 9,
   "id": "1cbb8a49-ed46-47c6-b273-9096a9b0fa69",
   "metadata": {},
   "outputs": [
    {
     "name": "stderr",
     "output_type": "stream",
     "text": [
      " ..................................................................\n",
      " CMD #1: HEADERS\n",
      "   options: sig=*\n"
     ]
    },
    {
     "data": {
      "text/html": [
       "<div>\n",
       "<style scoped>\n",
       "    .dataframe tbody tr th:only-of-type {\n",
       "        vertical-align: middle;\n",
       "    }\n",
       "\n",
       "    .dataframe tbody tr th {\n",
       "        vertical-align: top;\n",
       "    }\n",
       "\n",
       "    .dataframe thead th {\n",
       "        text-align: right;\n",
       "    }\n",
       "</style>\n",
       "<table border=\"1\" class=\"dataframe\">\n",
       "  <thead>\n",
       "    <tr style=\"text-align: right;\">\n",
       "      <th></th>\n",
       "      <th>Command</th>\n",
       "      <th>Stata</th>\n",
       "    </tr>\n",
       "  </thead>\n",
       "  <tbody>\n",
       "    <tr>\n",
       "      <th>0</th>\n",
       "      <td>HEADERS</td>\n",
       "      <td>BL</td>\n",
       "    </tr>\n",
       "    <tr>\n",
       "      <th>1</th>\n",
       "      <td>HEADERS</td>\n",
       "      <td>CH</td>\n",
       "    </tr>\n",
       "  </tbody>\n",
       "</table>\n",
       "</div>"
      ],
      "text/plain": [
       "   Command Stata\n",
       "0  HEADERS    BL\n",
       "1  HEADERS    CH"
      ]
     },
     "execution_count": 9,
     "metadata": {},
     "output_type": "execute_result"
    }
   ],
   "source": [
    "p.eval('HEADERS')"
   ]
  },
  {
   "cell_type": "code",
   "execution_count": 10,
   "id": "78e47e83-7d0e-4a06-95eb-43730e99b6c1",
   "metadata": {},
   "outputs": [
    {
     "data": {
      "text/html": [
       "<div>\n",
       "<style scoped>\n",
       "    .dataframe tbody tr th:only-of-type {\n",
       "        vertical-align: middle;\n",
       "    }\n",
       "\n",
       "    .dataframe tbody tr th {\n",
       "        vertical-align: top;\n",
       "    }\n",
       "\n",
       "    .dataframe thead th {\n",
       "        text-align: right;\n",
       "    }\n",
       "</style>\n",
       "<table border=\"1\" class=\"dataframe\">\n",
       "  <thead>\n",
       "    <tr style=\"text-align: right;\">\n",
       "      <th></th>\n",
       "      <th>Command</th>\n",
       "      <th>Stata</th>\n",
       "    </tr>\n",
       "  </thead>\n",
       "  <tbody>\n",
       "    <tr>\n",
       "      <th>0</th>\n",
       "      <td>HEADERS</td>\n",
       "      <td>BL</td>\n",
       "    </tr>\n",
       "    <tr>\n",
       "      <th>1</th>\n",
       "      <td>HEADERS</td>\n",
       "      <td>CH</td>\n",
       "    </tr>\n",
       "  </tbody>\n",
       "</table>\n",
       "</div>"
      ],
      "text/plain": [
       "   Command Stata\n",
       "0  HEADERS    BL\n",
       "1  HEADERS    CH"
      ]
     },
     "execution_count": 10,
     "metadata": {},
     "output_type": "execute_result"
    }
   ],
   "source": [
    "p.strata()"
   ]
  },
  {
   "cell_type": "code",
   "execution_count": 11,
   "id": "2058032b-902a-4809-a05a-84dbdd41f50f",
   "metadata": {},
   "outputs": [
    {
     "data": {
      "text/html": [
       "<div>\n",
       "<style scoped>\n",
       "    .dataframe tbody tr th:only-of-type {\n",
       "        vertical-align: middle;\n",
       "    }\n",
       "\n",
       "    .dataframe tbody tr th {\n",
       "        vertical-align: top;\n",
       "    }\n",
       "\n",
       "    .dataframe thead th {\n",
       "        text-align: right;\n",
       "    }\n",
       "</style>\n",
       "<table border=\"1\" class=\"dataframe\">\n",
       "  <thead>\n",
       "    <tr style=\"text-align: right;\">\n",
       "      <th></th>\n",
       "      <th>ID</th>\n",
       "      <th>EDF_ID</th>\n",
       "      <th>EDF_TYPE</th>\n",
       "      <th>NR</th>\n",
       "      <th>NS</th>\n",
       "      <th>NS_ALL</th>\n",
       "      <th>REC_DUR</th>\n",
       "      <th>REC_DUR_HMS</th>\n",
       "      <th>REC_DUR_SEC</th>\n",
       "      <th>START_DATE</th>\n",
       "      <th>START_TIME</th>\n",
       "      <th>STOP_TIME</th>\n",
       "      <th>TOT_DUR_HMS</th>\n",
       "      <th>TOT_DUR_SEC</th>\n",
       "    </tr>\n",
       "  </thead>\n",
       "  <tbody>\n",
       "    <tr>\n",
       "      <th>0</th>\n",
       "      <td>learn-nsrr02</td>\n",
       "      <td>.</td>\n",
       "      <td>EDF</td>\n",
       "      <td>35850</td>\n",
       "      <td>14</td>\n",
       "      <td>14</td>\n",
       "      <td>1.0</td>\n",
       "      <td>09:57:30</td>\n",
       "      <td>35850.0</td>\n",
       "      <td>01.01.85</td>\n",
       "      <td>21.18.06</td>\n",
       "      <td>07.15.36</td>\n",
       "      <td>09.57.30</td>\n",
       "      <td>35850.0</td>\n",
       "    </tr>\n",
       "  </tbody>\n",
       "</table>\n",
       "</div>"
      ],
      "text/plain": [
       "             ID EDF_ID EDF_TYPE     NR  NS NS_ALL REC_DUR REC_DUR_HMS  \\\n",
       "0  learn-nsrr02      .      EDF  35850  14     14     1.0    09:57:30   \n",
       "\n",
       "  REC_DUR_SEC START_DATE START_TIME STOP_TIME TOT_DUR_HMS TOT_DUR_SEC  \n",
       "0     35850.0   01.01.85   21.18.06  07.15.36    09.57.30     35850.0  "
      ]
     },
     "execution_count": 11,
     "metadata": {},
     "output_type": "execute_result"
    }
   ],
   "source": [
    "p.table('HEADERS')"
   ]
  },
  {
   "cell_type": "code",
   "execution_count": 12,
   "id": "aed81f48-f68c-4f21-9075-f92896fec496",
   "metadata": {},
   "outputs": [
    {
     "data": {
      "text/html": [
       "<div>\n",
       "<style scoped>\n",
       "    .dataframe tbody tr th:only-of-type {\n",
       "        vertical-align: middle;\n",
       "    }\n",
       "\n",
       "    .dataframe tbody tr th {\n",
       "        vertical-align: top;\n",
       "    }\n",
       "\n",
       "    .dataframe thead th {\n",
       "        text-align: right;\n",
       "    }\n",
       "</style>\n",
       "<table border=\"1\" class=\"dataframe\">\n",
       "  <thead>\n",
       "    <tr style=\"text-align: right;\">\n",
       "      <th></th>\n",
       "      <th>ID</th>\n",
       "      <th>CH</th>\n",
       "      <th>DMAX</th>\n",
       "      <th>DMIN</th>\n",
       "      <th>PDIM</th>\n",
       "      <th>PMAX</th>\n",
       "      <th>PMIN</th>\n",
       "      <th>POS</th>\n",
       "      <th>SENS</th>\n",
       "      <th>SR</th>\n",
       "      <th>TRANS</th>\n",
       "      <th>TYPE</th>\n",
       "    </tr>\n",
       "  </thead>\n",
       "  <tbody>\n",
       "    <tr>\n",
       "      <th>0</th>\n",
       "      <td>learn-nsrr02</td>\n",
       "      <td>ABDO_RES</td>\n",
       "      <td>127</td>\n",
       "      <td>-128</td>\n",
       "      <td>.</td>\n",
       "      <td>-1.0</td>\n",
       "      <td>1.0</td>\n",
       "      <td>11</td>\n",
       "      <td>-0.007843</td>\n",
       "      <td>10.0</td>\n",
       "      <td>.</td>\n",
       "      <td>EFFORT</td>\n",
       "    </tr>\n",
       "    <tr>\n",
       "      <th>1</th>\n",
       "      <td>learn-nsrr02</td>\n",
       "      <td>AIRFLOW</td>\n",
       "      <td>127</td>\n",
       "      <td>-128</td>\n",
       "      <td>.</td>\n",
       "      <td>-1.0</td>\n",
       "      <td>1.0</td>\n",
       "      <td>9</td>\n",
       "      <td>-0.007843</td>\n",
       "      <td>10.0</td>\n",
       "      <td>.</td>\n",
       "      <td>AIRFLOW</td>\n",
       "    </tr>\n",
       "    <tr>\n",
       "      <th>2</th>\n",
       "      <td>learn-nsrr02</td>\n",
       "      <td>ECG</td>\n",
       "      <td>127</td>\n",
       "      <td>-128</td>\n",
       "      <td>mV</td>\n",
       "      <td>1.25</td>\n",
       "      <td>-1.25</td>\n",
       "      <td>4</td>\n",
       "      <td>0.009804</td>\n",
       "      <td>250.0</td>\n",
       "      <td>.</td>\n",
       "      <td>ECG</td>\n",
       "    </tr>\n",
       "    <tr>\n",
       "      <th>3</th>\n",
       "      <td>learn-nsrr02</td>\n",
       "      <td>EEG</td>\n",
       "      <td>127</td>\n",
       "      <td>-128</td>\n",
       "      <td>uV</td>\n",
       "      <td>125.0</td>\n",
       "      <td>-125.0</td>\n",
       "      <td>8</td>\n",
       "      <td>0.980392</td>\n",
       "      <td>125.0</td>\n",
       "      <td>.</td>\n",
       "      <td>EEG</td>\n",
       "    </tr>\n",
       "    <tr>\n",
       "      <th>4</th>\n",
       "      <td>learn-nsrr02</td>\n",
       "      <td>EEG_sec</td>\n",
       "      <td>127</td>\n",
       "      <td>-128</td>\n",
       "      <td>uV</td>\n",
       "      <td>125.0</td>\n",
       "      <td>-125.0</td>\n",
       "      <td>3</td>\n",
       "      <td>0.980392</td>\n",
       "      <td>125.0</td>\n",
       "      <td>.</td>\n",
       "      <td>EEG</td>\n",
       "    </tr>\n",
       "    <tr>\n",
       "      <th>5</th>\n",
       "      <td>learn-nsrr02</td>\n",
       "      <td>EMG</td>\n",
       "      <td>127</td>\n",
       "      <td>-128</td>\n",
       "      <td>uV</td>\n",
       "      <td>31.5</td>\n",
       "      <td>-31.5</td>\n",
       "      <td>5</td>\n",
       "      <td>0.247059</td>\n",
       "      <td>125.0</td>\n",
       "      <td>.</td>\n",
       "      <td>EMG</td>\n",
       "    </tr>\n",
       "    <tr>\n",
       "      <th>6</th>\n",
       "      <td>learn-nsrr02</td>\n",
       "      <td>EOG_L</td>\n",
       "      <td>127</td>\n",
       "      <td>-128</td>\n",
       "      <td>uV</td>\n",
       "      <td>125.0</td>\n",
       "      <td>-125.0</td>\n",
       "      <td>6</td>\n",
       "      <td>0.980392</td>\n",
       "      <td>50.0</td>\n",
       "      <td>.</td>\n",
       "      <td>EOG</td>\n",
       "    </tr>\n",
       "    <tr>\n",
       "      <th>7</th>\n",
       "      <td>learn-nsrr02</td>\n",
       "      <td>EOG_R</td>\n",
       "      <td>127</td>\n",
       "      <td>-128</td>\n",
       "      <td>uV</td>\n",
       "      <td>125.0</td>\n",
       "      <td>-125.0</td>\n",
       "      <td>7</td>\n",
       "      <td>0.980392</td>\n",
       "      <td>50.0</td>\n",
       "      <td>.</td>\n",
       "      <td>EOG</td>\n",
       "    </tr>\n",
       "    <tr>\n",
       "      <th>8</th>\n",
       "      <td>learn-nsrr02</td>\n",
       "      <td>LIGHT</td>\n",
       "      <td>1</td>\n",
       "      <td>0</td>\n",
       "      <td>.</td>\n",
       "      <td>1.0</td>\n",
       "      <td>0.0</td>\n",
       "      <td>13</td>\n",
       "      <td>1.0</td>\n",
       "      <td>1.0</td>\n",
       "      <td>.</td>\n",
       "      <td>LIGHT</td>\n",
       "    </tr>\n",
       "    <tr>\n",
       "      <th>9</th>\n",
       "      <td>learn-nsrr02</td>\n",
       "      <td>OX_STAT</td>\n",
       "      <td>3</td>\n",
       "      <td>0</td>\n",
       "      <td>.</td>\n",
       "      <td>3.0</td>\n",
       "      <td>0.0</td>\n",
       "      <td>14</td>\n",
       "      <td>1.0</td>\n",
       "      <td>1.0</td>\n",
       "      <td>.</td>\n",
       "      <td>OXYGEN</td>\n",
       "    </tr>\n",
       "    <tr>\n",
       "      <th>10</th>\n",
       "      <td>learn-nsrr02</td>\n",
       "      <td>POSITION</td>\n",
       "      <td>3</td>\n",
       "      <td>0</td>\n",
       "      <td>.</td>\n",
       "      <td>3.0</td>\n",
       "      <td>0.0</td>\n",
       "      <td>12</td>\n",
       "      <td>1.0</td>\n",
       "      <td>1.0</td>\n",
       "      <td>.</td>\n",
       "      <td>POSITION</td>\n",
       "    </tr>\n",
       "    <tr>\n",
       "      <th>11</th>\n",
       "      <td>learn-nsrr02</td>\n",
       "      <td>PR</td>\n",
       "      <td>32767</td>\n",
       "      <td>-32768</td>\n",
       "      <td>BPM</td>\n",
       "      <td>200.0</td>\n",
       "      <td>0.0</td>\n",
       "      <td>2</td>\n",
       "      <td>0.003052</td>\n",
       "      <td>1.0</td>\n",
       "      <td>.</td>\n",
       "      <td>HR</td>\n",
       "    </tr>\n",
       "    <tr>\n",
       "      <th>12</th>\n",
       "      <td>learn-nsrr02</td>\n",
       "      <td>SaO2</td>\n",
       "      <td>32767</td>\n",
       "      <td>-32768</td>\n",
       "      <td>%</td>\n",
       "      <td>100.0</td>\n",
       "      <td>0.0</td>\n",
       "      <td>1</td>\n",
       "      <td>0.001526</td>\n",
       "      <td>1.0</td>\n",
       "      <td>.</td>\n",
       "      <td>OXYGEN</td>\n",
       "    </tr>\n",
       "    <tr>\n",
       "      <th>13</th>\n",
       "      <td>learn-nsrr02</td>\n",
       "      <td>THOR_RES</td>\n",
       "      <td>127</td>\n",
       "      <td>-128</td>\n",
       "      <td>.</td>\n",
       "      <td>-1.0</td>\n",
       "      <td>1.0</td>\n",
       "      <td>10</td>\n",
       "      <td>-0.007843</td>\n",
       "      <td>10.0</td>\n",
       "      <td>.</td>\n",
       "      <td>EFFORT</td>\n",
       "    </tr>\n",
       "  </tbody>\n",
       "</table>\n",
       "</div>"
      ],
      "text/plain": [
       "              ID        CH   DMAX    DMIN PDIM   PMAX   PMIN POS      SENS  \\\n",
       "0   learn-nsrr02  ABDO_RES    127    -128    .   -1.0    1.0  11 -0.007843   \n",
       "1   learn-nsrr02   AIRFLOW    127    -128    .   -1.0    1.0   9 -0.007843   \n",
       "2   learn-nsrr02       ECG    127    -128   mV   1.25  -1.25   4  0.009804   \n",
       "3   learn-nsrr02       EEG    127    -128   uV  125.0 -125.0   8  0.980392   \n",
       "4   learn-nsrr02   EEG_sec    127    -128   uV  125.0 -125.0   3  0.980392   \n",
       "5   learn-nsrr02       EMG    127    -128   uV   31.5  -31.5   5  0.247059   \n",
       "6   learn-nsrr02     EOG_L    127    -128   uV  125.0 -125.0   6  0.980392   \n",
       "7   learn-nsrr02     EOG_R    127    -128   uV  125.0 -125.0   7  0.980392   \n",
       "8   learn-nsrr02     LIGHT      1       0    .    1.0    0.0  13       1.0   \n",
       "9   learn-nsrr02   OX_STAT      3       0    .    3.0    0.0  14       1.0   \n",
       "10  learn-nsrr02  POSITION      3       0    .    3.0    0.0  12       1.0   \n",
       "11  learn-nsrr02        PR  32767  -32768  BPM  200.0    0.0   2  0.003052   \n",
       "12  learn-nsrr02      SaO2  32767  -32768    %  100.0    0.0   1  0.001526   \n",
       "13  learn-nsrr02  THOR_RES    127    -128    .   -1.0    1.0  10 -0.007843   \n",
       "\n",
       "       SR TRANS      TYPE  \n",
       "0    10.0     .    EFFORT  \n",
       "1    10.0     .   AIRFLOW  \n",
       "2   250.0     .       ECG  \n",
       "3   125.0     .       EEG  \n",
       "4   125.0     .       EEG  \n",
       "5   125.0     .       EMG  \n",
       "6    50.0     .       EOG  \n",
       "7    50.0     .       EOG  \n",
       "8     1.0     .     LIGHT  \n",
       "9     1.0     .    OXYGEN  \n",
       "10    1.0     .  POSITION  \n",
       "11    1.0     .        HR  \n",
       "12    1.0     .    OXYGEN  \n",
       "13   10.0     .    EFFORT  "
      ]
     },
     "execution_count": 12,
     "metadata": {},
     "output_type": "execute_result"
    }
   ],
   "source": [
    "p.table('HEADERS','CH')"
   ]
  },
  {
   "cell_type": "markdown",
   "id": "7339a2ec-3a59-49b7-9356-678c0c48f4e1",
   "metadata": {},
   "source": [
    "Alternatively, we can do the same but using the `proc()` function:"
   ]
  },
  {
   "cell_type": "code",
   "execution_count": 13,
   "id": "e83cdd97-0379-4b0a-a16c-b81209096bfb",
   "metadata": {},
   "outputs": [
    {
     "name": "stderr",
     "output_type": "stream",
     "text": [
      " ..................................................................\n",
      " CMD #1: HEADERS\n",
      "   options: sig=*\n"
     ]
    }
   ],
   "source": [
    "res = p.proc( 'HEADERS' )"
   ]
  },
  {
   "cell_type": "markdown",
   "id": "68b215b5-51ab-4134-8013-4e469066597a",
   "metadata": {},
   "source": [
    "By itself, the return object `res` is a dictionary of command/strata keys, and dataframes as values."
   ]
  },
  {
   "cell_type": "code",
   "execution_count": 14,
   "id": "4041c4e9-557d-4e50-acc9-400918d4f87c",
   "metadata": {},
   "outputs": [
    {
     "data": {
      "text/plain": [
       "{'HEADERS: BL':              ID EDF_ID EDF_TYPE     NR  NS NS_ALL REC_DUR REC_DUR_HMS  \\\n",
       " 0  learn-nsrr02      .      EDF  35850  14     14     1.0    09:57:30   \n",
       " \n",
       "   REC_DUR_SEC START_DATE START_TIME STOP_TIME TOT_DUR_HMS TOT_DUR_SEC  \n",
       " 0     35850.0   01.01.85   21.18.06  07.15.36    09.57.30     35850.0  ,\n",
       " 'HEADERS: CH':               ID        CH   DMAX    DMIN PDIM   PMAX   PMIN POS      SENS  \\\n",
       " 0   learn-nsrr02  ABDO_RES    127    -128    .   -1.0    1.0  11 -0.007843   \n",
       " 1   learn-nsrr02   AIRFLOW    127    -128    .   -1.0    1.0   9 -0.007843   \n",
       " 2   learn-nsrr02       ECG    127    -128   mV   1.25  -1.25   4  0.009804   \n",
       " 3   learn-nsrr02       EEG    127    -128   uV  125.0 -125.0   8  0.980392   \n",
       " 4   learn-nsrr02   EEG_sec    127    -128   uV  125.0 -125.0   3  0.980392   \n",
       " 5   learn-nsrr02       EMG    127    -128   uV   31.5  -31.5   5  0.247059   \n",
       " 6   learn-nsrr02     EOG_L    127    -128   uV  125.0 -125.0   6  0.980392   \n",
       " 7   learn-nsrr02     EOG_R    127    -128   uV  125.0 -125.0   7  0.980392   \n",
       " 8   learn-nsrr02     LIGHT      1       0    .    1.0    0.0  13       1.0   \n",
       " 9   learn-nsrr02   OX_STAT      3       0    .    3.0    0.0  14       1.0   \n",
       " 10  learn-nsrr02  POSITION      3       0    .    3.0    0.0  12       1.0   \n",
       " 11  learn-nsrr02        PR  32767  -32768  BPM  200.0    0.0   2  0.003052   \n",
       " 12  learn-nsrr02      SaO2  32767  -32768    %  100.0    0.0   1  0.001526   \n",
       " 13  learn-nsrr02  THOR_RES    127    -128    .   -1.0    1.0  10 -0.007843   \n",
       " \n",
       "        SR TRANS      TYPE  \n",
       " 0    10.0     .    EFFORT  \n",
       " 1    10.0     .   AIRFLOW  \n",
       " 2   250.0     .       ECG  \n",
       " 3   125.0     .       EEG  \n",
       " 4   125.0     .       EEG  \n",
       " 5   125.0     .       EMG  \n",
       " 6    50.0     .       EOG  \n",
       " 7    50.0     .       EOG  \n",
       " 8     1.0     .     LIGHT  \n",
       " 9     1.0     .    OXYGEN  \n",
       " 10    1.0     .  POSITION  \n",
       " 11    1.0     .        HR  \n",
       " 12    1.0     .    OXYGEN  \n",
       " 13   10.0     .    EFFORT  }"
      ]
     },
     "execution_count": 14,
     "metadata": {},
     "output_type": "execute_result"
    }
   ],
   "source": [
    "res"
   ]
  },
  {
   "cell_type": "markdown",
   "id": "363154b8-5c00-4603-bfef-79b4d637297b",
   "metadata": {},
   "source": [
    "### Fuller workflows"
   ]
  },
  {
   "cell_type": "markdown",
   "id": "edd05371-e7c3-4ab1-af39-c4f380ba1dd6",
   "metadata": {},
   "source": [
    "Here we consider a fuller ... (reading from a file w/ variables)"
   ]
  },
  {
   "cell_type": "markdown",
   "id": "8ff0a637-2048-4025-8023-12bc451911e6",
   "metadata": {
    "tags": []
   },
   "source": [
    "## Accessing raw signal/annotation data "
   ]
  },
  {
   "cell_type": "code",
   "execution_count": 15,
   "id": "3de377c2-a12d-4ce3-92e5-4ee1deb38dd1",
   "metadata": {},
   "outputs": [],
   "source": [
    "d = p.data( chs = [ 'EEG' , 'EEG_sec' ] , annots = [] )"
   ]
  },
  {
   "cell_type": "code",
   "execution_count": 16,
   "id": "5965cbb7-5353-4915-a3c4-afe0e2bc5e38",
   "metadata": {},
   "outputs": [
    {
     "data": {
      "text/plain": [
       "(['EEG', 'EEG_sec'],\n",
       " array([[  -8.33333333,    4.41176471],\n",
       "        [ -15.19607843,   -0.49019608],\n",
       "        [ -16.17647059,   -6.37254902],\n",
       "        ...,\n",
       "        [  71.07843137,   25.        ],\n",
       "        [  84.80392157,   10.29411765],\n",
       "        [  51.47058824, -110.29411765]]))"
      ]
     },
     "execution_count": 16,
     "metadata": {},
     "output_type": "execute_result"
    }
   ],
   "source": [
    "d"
   ]
  },
  {
   "cell_type": "code",
   "execution_count": 17,
   "id": "a5d8f156-8e8a-49e5-8aea-6a2223130643",
   "metadata": {},
   "outputs": [
    {
     "data": {
      "image/png": "[encoded data removed]",
      "text/plain": [
       "<Figure size 2000x200 with 1 Axes>"
      ]
     },
     "metadata": {},
     "output_type": "display_data"
    }
   ],
   "source": [
    "import matplotlib.pyplot as plt\n",
    "plt.figure(figsize=(20,2))\n",
    "plt.plot( d[1][1:1000:,0] , c = 'gray' , lw = 0.5 )\n",
    "plt.show()"
   ]
  },
  {
   "cell_type": "markdown",
   "id": "b6285f86-a810-4b63-a5b6-a843e70b4527",
   "metadata": {},
   "source": [
    "### Get data by epoch or interval"
   ]
  },
  {
   "cell_type": "markdown",
   "id": "d1e85ca6-e2cb-409d-808e-6ce6b4cd1d72",
   "metadata": {},
   "source": [
    "Return epochs 5 to 10 (1-based indexes) all in a single slice:"
   ]
  },
  {
   "cell_type": "code",
   "execution_count": 18,
   "id": "fa9ef73d-9b3b-4578-add6-af6c3108a776",
   "metadata": {},
   "outputs": [
    {
     "name": "stderr",
     "output_type": "stream",
     "text": [
      "  set epochs to default 30 seconds, 1195 epochs\n"
     ]
    },
    {
     "data": {
      "text/plain": [
       "(['EEG'],\n",
       " array([[ 3.43137255],\n",
       "        [ 0.49019608],\n",
       "        [ 1.47058824],\n",
       "        ...,\n",
       "        [-5.39215686],\n",
       "        [-2.45098039],\n",
       "        [12.25490196]]))"
      ]
     },
     "execution_count": 18,
     "metadata": {},
     "output_type": "execute_result"
    }
   ],
   "source": [
    "p.e2i( range(5,10 ) )\n",
    "d = p.slice( p.e2i( range(5,10 ) ) , chs = [ 'EEG' ] , annots = [ ] )\n",
    "d"
   ]
  },
  {
   "cell_type": "markdown",
   "id": "6112e991-b184-4fbd-9bea-6f19360d1163",
   "metadata": {},
   "source": [
    "As above, except return each epoch/interval as a separate array (i.e. `slices()` versus `slice()`):"
   ]
  },
  {
   "cell_type": "code",
   "execution_count": 19,
   "id": "091f72a3-995e-412d-bc9d-4996aba9aaf7",
   "metadata": {},
   "outputs": [],
   "source": [
    "#d = p.slices( p.e2i( range(5,10 ) ) , chs = [ 'EEG' ] , annots = [ ] )\n",
    "# issue w/ the above, do not run "
   ]
  },
  {
   "cell_type": "markdown",
   "id": "7f210436-7aef-42c9-af01-839687e9c816",
   "metadata": {
    "tags": []
   },
   "source": [
    "### Updating signal data"
   ]
  },
  {
   "cell_type": "code",
   "execution_count": 24,
   "id": "07e3928a-407f-41a2-9ad3-030a8fd69069",
   "metadata": {},
   "outputs": [
    {
     "name": "stderr",
     "output_type": "stream",
     "text": [
      " ..................................................................\n",
      " CMD #1: PSD\n",
      "   options: dB sig=EEG spectrum\n",
      "  calculating PSD from 0.5 to 25 for 1 signals\n"
     ]
    },
    {
     "data": {
      "text/html": [
       "<div>\n",
       "<style scoped>\n",
       "    .dataframe tbody tr th:only-of-type {\n",
       "        vertical-align: middle;\n",
       "    }\n",
       "\n",
       "    .dataframe tbody tr th {\n",
       "        vertical-align: top;\n",
       "    }\n",
       "\n",
       "    .dataframe thead th {\n",
       "        text-align: right;\n",
       "    }\n",
       "</style>\n",
       "<table border=\"1\" class=\"dataframe\">\n",
       "  <thead>\n",
       "    <tr style=\"text-align: right;\">\n",
       "      <th></th>\n",
       "      <th>Command</th>\n",
       "      <th>Stata</th>\n",
       "    </tr>\n",
       "  </thead>\n",
       "  <tbody>\n",
       "    <tr>\n",
       "      <th>0</th>\n",
       "      <td>PSD</td>\n",
       "      <td>B_CH</td>\n",
       "    </tr>\n",
       "    <tr>\n",
       "      <th>1</th>\n",
       "      <td>PSD</td>\n",
       "      <td>CH</td>\n",
       "    </tr>\n",
       "    <tr>\n",
       "      <th>2</th>\n",
       "      <td>PSD</td>\n",
       "      <td>CH_F</td>\n",
       "    </tr>\n",
       "  </tbody>\n",
       "</table>\n",
       "</div>"
      ],
      "text/plain": [
       "  Command Stata\n",
       "0     PSD  B_CH\n",
       "1     PSD    CH\n",
       "2     PSD  CH_F"
      ]
     },
     "execution_count": 24,
     "metadata": {},
     "output_type": "execute_result"
    }
   ],
   "source": [
    "p.eval( 'PSD sig=EEG spectrum dB' )"
   ]
  },
  {
   "cell_type": "markdown",
   "id": "fa0166de-93b7-476b-8591-a08a7ca5d85e",
   "metadata": {},
   "source": [
    "To load and parse (i.e. splicing in `&` characters between commands and removing comments starting `%`) a Luna script from a file, use `lp.cmdfile()`:"
   ]
  },
  {
   "cell_type": "markdown",
   "id": "af82efb9-365e-4851-be73-1b56a2a7be52",
   "metadata": {},
   "source": [
    "## Resetting the instance"
   ]
  },
  {
   "cell_type": "markdown",
   "id": "6750048a-25e8-45b5-a183-3042cf91a598",
   "metadata": {},
   "source": [
    "after making edits. can refesh()"
   ]
  },
  {
   "cell_type": "markdown",
   "id": "63b4829d-d79f-4940-b43a-2b1516cc1607",
   "metadata": {},
   "source": [
    "## Writing new files"
   ]
  },
  {
   "cell_type": "markdown",
   "id": "2d82620c-ec28-4b5b-bd80-12ac97f1efff",
   "metadata": {},
   "source": [
    "To output new EDFs or annotation files, use the standard Luna `WRITE` or `WRITE-ANNOTS` functions, called from `eval()`."
   ]
  },
  {
   "cell_type": "code",
   "execution_count": null,
   "id": "9cdd7191-6cbe-4aa2-9134-06505568e64a",
   "metadata": {},
   "outputs": [],
   "source": []
  }
 ],
 "metadata": {
  "kernelspec": {
   "display_name": "Python 3 (ipykernel)",
   "language": "python",
   "name": "python3"
  },
  "language_info": {
   "codemirror_mode": {
    "name": "ipython",
    "version": 3
   },
   "file_extension": ".py",
   "mimetype": "text/x-python",
   "name": "python",
   "nbconvert_exporter": "python",
   "pygments_lexer": "ipython3",
   "version": "3.11.7"
  },
  "toc-autonumbering": false,
  "toc-showcode": false,
  "toc-showmarkdowntxt": false,
  "toc-showtags": false
 },
 "nbformat": 4,
 "nbformat_minor": 5
}
