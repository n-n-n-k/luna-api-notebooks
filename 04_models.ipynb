{
 "cells": [
  {
   "cell_type": "markdown",
   "id": "251d2f16-c5d8-4789-820c-bf8fb9070255",
   "metadata": {},
   "source": [
    "# LunAPI : models\n",
    "\n",
    "Links to notebooks in this repository: [Index](./00_overview.ipynb) | [Luna tutorial](./tutorial.ipynb) | \n",
    "[Individuals](./01_indivs.ipynb) | [Projects](./02_projects.ipynb) | [Staging](./03_staging.ipynb) | [Models](./04_models.ipynb) | [Advanced](./98_advanced.ipynb) | [Reference](./99_reference.ipynb)\n",
    "\n",
    "---"
   ]
  },
  {
   "cell_type": "markdown",
   "id": "9ca575c9-7151-42a8-973b-191f924a7a02",
   "metadata": {},
   "source": [
    "This page shows how to run prediction models using `lunapi`. Currently we are only distributing a single model (brain-age prediction based on the sleep EEG) as an example.  We plan to add more models in the near future."
   ]
  },
  {
   "cell_type": "code",
   "execution_count": 1,
   "id": "91ec42f6-1658-4608-b194-c4c90a4dcf36",
   "metadata": {},
   "outputs": [
    {
     "name": "stdout",
     "output_type": "stream",
     "text": [
      "initiated lunapi v0.0.7 <lunapi.lunapi0.luna object at 0x117ad6a70> \n",
      "\n"
     ]
    }
   ],
   "source": [
    "import lunapi as lp\n",
    "proj = lp.proj()"
   ]
  },
  {
   "cell_type": "code",
   "execution_count": 2,
   "id": "7c953813-668f-4726-ba3c-99ce97f3d601",
   "metadata": {},
   "outputs": [
    {
     "name": "stdout",
     "output_type": "stream",
     "text": [
      "read 3 individuals from tutorial/s.lst\n"
     ]
    }
   ],
   "source": [
    "proj.sample_list( 'tutorial/s.lst' )"
   ]
  },
  {
   "cell_type": "code",
   "execution_count": 3,
   "id": "a07e62f2-7d24-49c4-803f-ee94ca698cc7",
   "metadata": {},
   "outputs": [
    {
     "data": {
      "text/html": [
       "<div>\n",
       "<style scoped>\n",
       "    .dataframe tbody tr th:only-of-type {\n",
       "        vertical-align: middle;\n",
       "    }\n",
       "\n",
       "    .dataframe tbody tr th {\n",
       "        vertical-align: top;\n",
       "    }\n",
       "\n",
       "    .dataframe thead th {\n",
       "        text-align: right;\n",
       "    }\n",
       "</style>\n",
       "<table border=\"1\" class=\"dataframe\">\n",
       "  <thead>\n",
       "    <tr style=\"text-align: right;\">\n",
       "      <th></th>\n",
       "      <th>ID</th>\n",
       "      <th>EDF</th>\n",
       "      <th>Annotations</th>\n",
       "    </tr>\n",
       "  </thead>\n",
       "  <tbody>\n",
       "    <tr>\n",
       "      <th>1</th>\n",
       "      <td>learn-nsrr01</td>\n",
       "      <td>tutorial/edfs/learn-nsrr01.edf</td>\n",
       "      <td>{tutorial/edfs/learn-nsrr01.xml}</td>\n",
       "    </tr>\n",
       "    <tr>\n",
       "      <th>2</th>\n",
       "      <td>learn-nsrr02</td>\n",
       "      <td>tutorial/edfs/learn-nsrr02.edf</td>\n",
       "      <td>{tutorial/edfs/learn-nsrr02.xml}</td>\n",
       "    </tr>\n",
       "    <tr>\n",
       "      <th>3</th>\n",
       "      <td>learn-nsrr03</td>\n",
       "      <td>tutorial/edfs/learn-nsrr03.edf</td>\n",
       "      <td>{tutorial/edfs/learn-nsrr03.xml}</td>\n",
       "    </tr>\n",
       "  </tbody>\n",
       "</table>\n",
       "</div>"
      ],
      "text/plain": [
       "             ID                             EDF  \\\n",
       "1  learn-nsrr01  tutorial/edfs/learn-nsrr01.edf   \n",
       "2  learn-nsrr02  tutorial/edfs/learn-nsrr02.edf   \n",
       "3  learn-nsrr03  tutorial/edfs/learn-nsrr03.edf   \n",
       "\n",
       "                        Annotations  \n",
       "1  {tutorial/edfs/learn-nsrr01.xml}  \n",
       "2  {tutorial/edfs/learn-nsrr02.xml}  \n",
       "3  {tutorial/edfs/learn-nsrr03.xml}  "
      ]
     },
     "execution_count": 3,
     "metadata": {},
     "output_type": "execute_result"
    }
   ],
   "source": [
    "proj.sample_list()"
   ]
  },
  {
   "cell_type": "markdown",
   "id": "d38ecce5-b399-48fa-ac2e-dddc4023d566",
   "metadata": {},
   "source": [
    "## Pointing to model resources"
   ]
  },
  {
   "cell_type": "markdown",
   "id": "46b2dcba-d0ea-4581-849c-2c3a11c256dc",
   "metadata": {},
   "source": [
    "This notebook contains the `models` folder in the root directory: setting it here means this section will work whether you are running this inside the Docker container, or locally.  (The Docker which has the resources for this function already bundled and the default value of `MODEL_PATH` is already set to point to the Docker resources.):"
   ]
  },
  {
   "cell_type": "code",
   "execution_count": 4,
   "id": "293e4b22-b5c7-47c4-a668-dbf97bc69596",
   "metadata": {},
   "outputs": [],
   "source": [
    "lp.resources.MODEL_PATH = 'models'"
   ]
  },
  {
   "cell_type": "markdown",
   "id": "5da9e799-9b1c-4e36-a1a4-a726edc21e80",
   "metadata": {},
   "source": [
    "## Single individual"
   ]
  },
  {
   "cell_type": "markdown",
   "id": "a1b2848f-bc41-4c5b-98bf-e194098452fb",
   "metadata": {},
   "source": [
    "This fits the Sun _et al._ (2019) model of brain age based on the sleep EEG as described [here](https://zzz.bwh.harvard.edu/luna/ref/predict/#sun2019) using Luna's [PREDICT](http://zzz.bwh.harvard.edu/luna/ref/predict/) framework.\n",
    "\n",
    "__Note:__ we're making up the true ages of these three test individuals for now, as true values of these anonymized, randomly selected PSGs are not currently available to us. \n",
    "\n",
    "As this function produces a lot of output, we'll also silence the verbose log outputs.  The main workhorse is `predict_SUN2019()`.  See the [reference](./99_reference.ipynb) page for more information on this function.   As with `pops()`, this function has both project-level and individual-level variants (both give identical results).  We'll start with the individual-level variant, using the second individual from the sample-list:"
   ]
  },
  {
   "cell_type": "code",
   "execution_count": 5,
   "id": "50ebfbfc-e8c6-4b58-bfb9-ce6a90c5beab",
   "metadata": {},
   "outputs": [
    {
     "data": {
      "text/html": [
       "<div>\n",
       "<style scoped>\n",
       "    .dataframe tbody tr th:only-of-type {\n",
       "        vertical-align: middle;\n",
       "    }\n",
       "\n",
       "    .dataframe tbody tr th {\n",
       "        vertical-align: top;\n",
       "    }\n",
       "\n",
       "    .dataframe thead th {\n",
       "        text-align: right;\n",
       "    }\n",
       "</style>\n",
       "<table border=\"1\" class=\"dataframe\">\n",
       "  <thead>\n",
       "    <tr style=\"text-align: right;\">\n",
       "      <th></th>\n",
       "      <th>ID</th>\n",
       "      <th>NF</th>\n",
       "      <th>NF_OBS</th>\n",
       "      <th>OKAY</th>\n",
       "      <th>Y</th>\n",
       "      <th>Y1</th>\n",
       "      <th>YOBS</th>\n",
       "    </tr>\n",
       "  </thead>\n",
       "  <tbody>\n",
       "    <tr>\n",
       "      <th>0</th>\n",
       "      <td>learn-nsrr02</td>\n",
       "      <td>13</td>\n",
       "      <td>13</td>\n",
       "      <td>1</td>\n",
       "      <td>60.597311</td>\n",
       "      <td>67.582365</td>\n",
       "      <td>62.0</td>\n",
       "    </tr>\n",
       "  </tbody>\n",
       "</table>\n",
       "</div>"
      ],
      "text/plain": [
       "             ID  NF NF_OBS OKAY          Y         Y1  YOBS\n",
       "0  learn-nsrr02  13     13    1  60.597311  67.582365  62.0"
      ]
     },
     "execution_count": 5,
     "metadata": {},
     "output_type": "execute_result"
    }
   ],
   "source": [
    "proj.silence()\n",
    "p = proj.inst( 2 ) \n",
    "p.predict_SUN2019( 'EEG' , age = 62 )"
   ]
  },
  {
   "cell_type": "markdown",
   "id": "57c24b66-bf41-4ecf-8a79-ab226cd1b943",
   "metadata": {},
   "source": [
    "The primary output is `Y1`, the bias-corrected age prediction.  The observed age (as input above) is `YOBS`:"
   ]
  },
  {
   "cell_type": "code",
   "execution_count": 6,
   "id": "0649211e-1e3c-4dae-9b54-0eb8002adcd1",
   "metadata": {},
   "outputs": [
    {
     "data": {
      "text/html": [
       "<div>\n",
       "<style scoped>\n",
       "    .dataframe tbody tr th:only-of-type {\n",
       "        vertical-align: middle;\n",
       "    }\n",
       "\n",
       "    .dataframe tbody tr th {\n",
       "        vertical-align: top;\n",
       "    }\n",
       "\n",
       "    .dataframe thead th {\n",
       "        text-align: right;\n",
       "    }\n",
       "</style>\n",
       "<table border=\"1\" class=\"dataframe\">\n",
       "  <thead>\n",
       "    <tr style=\"text-align: right;\">\n",
       "      <th></th>\n",
       "      <th>ID</th>\n",
       "      <th>NF</th>\n",
       "      <th>NF_OBS</th>\n",
       "      <th>OKAY</th>\n",
       "      <th>Y</th>\n",
       "      <th>Y1</th>\n",
       "      <th>YOBS</th>\n",
       "    </tr>\n",
       "  </thead>\n",
       "  <tbody>\n",
       "    <tr>\n",
       "      <th>0</th>\n",
       "      <td>learn-nsrr02</td>\n",
       "      <td>13</td>\n",
       "      <td>13</td>\n",
       "      <td>1</td>\n",
       "      <td>60.597311</td>\n",
       "      <td>67.582365</td>\n",
       "      <td>62.0</td>\n",
       "    </tr>\n",
       "  </tbody>\n",
       "</table>\n",
       "</div>"
      ],
      "text/plain": [
       "             ID  NF NF_OBS OKAY          Y         Y1  YOBS\n",
       "0  learn-nsrr02  13     13    1  60.597311  67.582365  62.0"
      ]
     },
     "execution_count": 6,
     "metadata": {},
     "output_type": "execute_result"
    }
   ],
   "source": [
    "p.table( 'PREDICT' )"
   ]
  },
  {
   "cell_type": "markdown",
   "id": "a75e9ce9-2c9b-4eaf-9b2a-131b6cf01cce",
   "metadata": {},
   "source": [
    "In other words, for this individual, the PAD (_predicted age difference_) is 67.6 - 62 = 5.6 years.\n",
    "\n",
    "It is also possible to look at the individual features from the model - in this case, there are 13.  See the main Luna documentation for more information on these outputs."
   ]
  },
  {
   "cell_type": "code",
   "execution_count": 7,
   "id": "de287b6e-47b3-4e8e-90c0-2afb7530de57",
   "metadata": {},
   "outputs": [
    {
     "data": {
      "text/html": [
       "<div>\n",
       "<style scoped>\n",
       "    .dataframe tbody tr th:only-of-type {\n",
       "        vertical-align: middle;\n",
       "    }\n",
       "\n",
       "    .dataframe tbody tr th {\n",
       "        vertical-align: top;\n",
       "    }\n",
       "\n",
       "    .dataframe thead th {\n",
       "        text-align: right;\n",
       "    }\n",
       "</style>\n",
       "<table border=\"1\" class=\"dataframe\">\n",
       "  <thead>\n",
       "    <tr style=\"text-align: right;\">\n",
       "      <th></th>\n",
       "      <th>ID</th>\n",
       "      <th>FTR</th>\n",
       "      <th>B</th>\n",
       "      <th>D</th>\n",
       "      <th>IMP</th>\n",
       "      <th>M</th>\n",
       "      <th>REIMP</th>\n",
       "      <th>SD</th>\n",
       "      <th>X</th>\n",
       "      <th>Z</th>\n",
       "    </tr>\n",
       "  </thead>\n",
       "  <tbody>\n",
       "    <tr>\n",
       "      <th>0</th>\n",
       "      <td>learn-nsrr02</td>\n",
       "      <td>COUPL_OVERLAP_C</td>\n",
       "      <td>-0.804678</td>\n",
       "      <td>-0.449101</td>\n",
       "      <td>0</td>\n",
       "      <td>366.302452</td>\n",
       "      <td>0</td>\n",
       "      <td>191.716141</td>\n",
       "      <td>256.0</td>\n",
       "      <td>-0.575343</td>\n",
       "    </tr>\n",
       "    <tr>\n",
       "      <th>1</th>\n",
       "      <td>learn-nsrr02</td>\n",
       "      <td>DENS_C</td>\n",
       "      <td>-1.665346</td>\n",
       "      <td>-0.667626</td>\n",
       "      <td>0</td>\n",
       "      <td>4.513583</td>\n",
       "      <td>0</td>\n",
       "      <td>1.9116</td>\n",
       "      <td>3.438596</td>\n",
       "      <td>-0.562349</td>\n",
       "    </tr>\n",
       "    <tr>\n",
       "      <th>2</th>\n",
       "      <td>learn-nsrr02</td>\n",
       "      <td>alpha_bandpower_kurtosis_C_N2</td>\n",
       "      <td>-3.184509</td>\n",
       "      <td>-0.271177</td>\n",
       "      <td>0</td>\n",
       "      <td>7.331549</td>\n",
       "      <td>0</td>\n",
       "      <td>2.598451</td>\n",
       "      <td>7.701239</td>\n",
       "      <td>0.142273</td>\n",
       "    </tr>\n",
       "    <tr>\n",
       "      <th>3</th>\n",
       "      <td>learn-nsrr02</td>\n",
       "      <td>alpha_bandpower_mean_C_N1</td>\n",
       "      <td>2.29108</td>\n",
       "      <td>-0.992484</td>\n",
       "      <td>0</td>\n",
       "      <td>0.068193</td>\n",
       "      <td>0</td>\n",
       "      <td>0.047436</td>\n",
       "      <td>0.039154</td>\n",
       "      <td>-0.612167</td>\n",
       "    </tr>\n",
       "    <tr>\n",
       "      <th>4</th>\n",
       "      <td>learn-nsrr02</td>\n",
       "      <td>delta_alpha_mean_C_N3</td>\n",
       "      <td>-1.348501</td>\n",
       "      <td>-0.514881</td>\n",
       "      <td>0</td>\n",
       "      <td>1.343991</td>\n",
       "      <td>0</td>\n",
       "      <td>0.548411</td>\n",
       "      <td>0.512308</td>\n",
       "      <td>-1.516532</td>\n",
       "    </tr>\n",
       "    <tr>\n",
       "      <th>5</th>\n",
       "      <td>learn-nsrr02</td>\n",
       "      <td>delta_bandpower_kurtosis_C_N2</td>\n",
       "      <td>-1.868672</td>\n",
       "      <td>-0.512531</td>\n",
       "      <td>0</td>\n",
       "      <td>17.017404</td>\n",
       "      <td>0</td>\n",
       "      <td>4.071176</td>\n",
       "      <td>11.987432</td>\n",
       "      <td>-1.235508</td>\n",
       "    </tr>\n",
       "    <tr>\n",
       "      <th>6</th>\n",
       "      <td>learn-nsrr02</td>\n",
       "      <td>delta_bandpower_mean_C_N3</td>\n",
       "      <td>-2.620558</td>\n",
       "      <td>-0.522081</td>\n",
       "      <td>0</td>\n",
       "      <td>1.445</td>\n",
       "      <td>0</td>\n",
       "      <td>0.618704</td>\n",
       "      <td>0.528062</td>\n",
       "      <td>-1.482031</td>\n",
       "    </tr>\n",
       "    <tr>\n",
       "      <th>7</th>\n",
       "      <td>learn-nsrr02</td>\n",
       "      <td>delta_theta_mean_C_N3</td>\n",
       "      <td>1.386207</td>\n",
       "      <td>-0.615108</td>\n",
       "      <td>0</td>\n",
       "      <td>1.224915</td>\n",
       "      <td>0</td>\n",
       "      <td>0.458186</td>\n",
       "      <td>0.487287</td>\n",
       "      <td>-1.60989</td>\n",
       "    </tr>\n",
       "    <tr>\n",
       "      <th>8</th>\n",
       "      <td>learn-nsrr02</td>\n",
       "      <td>kurtosis_N2_C</td>\n",
       "      <td>-0.052233</td>\n",
       "      <td>0.418827</td>\n",
       "      <td>0</td>\n",
       "      <td>2.851093</td>\n",
       "      <td>0</td>\n",
       "      <td>1.34911</td>\n",
       "      <td>1.838891</td>\n",
       "      <td>-0.750274</td>\n",
       "    </tr>\n",
       "    <tr>\n",
       "      <th>9</th>\n",
       "      <td>learn-nsrr02</td>\n",
       "      <td>kurtosis_N3_C</td>\n",
       "      <td>-1.247537</td>\n",
       "      <td>0.216441</td>\n",
       "      <td>0</td>\n",
       "      <td>1.086065</td>\n",
       "      <td>0</td>\n",
       "      <td>0.576482</td>\n",
       "      <td>0.600127</td>\n",
       "      <td>-0.842936</td>\n",
       "    </tr>\n",
       "    <tr>\n",
       "      <th>10</th>\n",
       "      <td>learn-nsrr02</td>\n",
       "      <td>sigma_bandpower_kurtosis_C_N2</td>\n",
       "      <td>1.2479</td>\n",
       "      <td>2.999929</td>\n",
       "      <td>0</td>\n",
       "      <td>15.196505</td>\n",
       "      <td>0</td>\n",
       "      <td>4.749287</td>\n",
       "      <td>27.245119</td>\n",
       "      <td>2.536931</td>\n",
       "    </tr>\n",
       "    <tr>\n",
       "      <th>11</th>\n",
       "      <td>learn-nsrr02</td>\n",
       "      <td>theta_bandpower_kurtosis_C_N2</td>\n",
       "      <td>-3.744439</td>\n",
       "      <td>0.226069</td>\n",
       "      <td>0</td>\n",
       "      <td>7.46163</td>\n",
       "      <td>0</td>\n",
       "      <td>2.55744</td>\n",
       "      <td>6.207508</td>\n",
       "      <td>-0.490382</td>\n",
       "    </tr>\n",
       "    <tr>\n",
       "      <th>12</th>\n",
       "      <td>learn-nsrr02</td>\n",
       "      <td>theta_bandpower_kurtosis_C_N3</td>\n",
       "      <td>0.157282</td>\n",
       "      <td>0.447961</td>\n",
       "      <td>0</td>\n",
       "      <td>5.36434</td>\n",
       "      <td>0</td>\n",
       "      <td>2.045928</td>\n",
       "      <td>5.369665</td>\n",
       "      <td>0.002602</td>\n",
       "    </tr>\n",
       "  </tbody>\n",
       "</table>\n",
       "</div>"
      ],
      "text/plain": [
       "              ID                            FTR         B         D IMP  \\\n",
       "0   learn-nsrr02                COUPL_OVERLAP_C -0.804678 -0.449101   0   \n",
       "1   learn-nsrr02                         DENS_C -1.665346 -0.667626   0   \n",
       "2   learn-nsrr02  alpha_bandpower_kurtosis_C_N2 -3.184509 -0.271177   0   \n",
       "3   learn-nsrr02      alpha_bandpower_mean_C_N1   2.29108 -0.992484   0   \n",
       "4   learn-nsrr02          delta_alpha_mean_C_N3 -1.348501 -0.514881   0   \n",
       "5   learn-nsrr02  delta_bandpower_kurtosis_C_N2 -1.868672 -0.512531   0   \n",
       "6   learn-nsrr02      delta_bandpower_mean_C_N3 -2.620558 -0.522081   0   \n",
       "7   learn-nsrr02          delta_theta_mean_C_N3  1.386207 -0.615108   0   \n",
       "8   learn-nsrr02                  kurtosis_N2_C -0.052233  0.418827   0   \n",
       "9   learn-nsrr02                  kurtosis_N3_C -1.247537  0.216441   0   \n",
       "10  learn-nsrr02  sigma_bandpower_kurtosis_C_N2    1.2479  2.999929   0   \n",
       "11  learn-nsrr02  theta_bandpower_kurtosis_C_N2 -3.744439  0.226069   0   \n",
       "12  learn-nsrr02  theta_bandpower_kurtosis_C_N3  0.157282  0.447961   0   \n",
       "\n",
       "             M REIMP          SD          X         Z  \n",
       "0   366.302452     0  191.716141      256.0 -0.575343  \n",
       "1     4.513583     0      1.9116   3.438596 -0.562349  \n",
       "2     7.331549     0    2.598451   7.701239  0.142273  \n",
       "3     0.068193     0    0.047436   0.039154 -0.612167  \n",
       "4     1.343991     0    0.548411   0.512308 -1.516532  \n",
       "5    17.017404     0    4.071176  11.987432 -1.235508  \n",
       "6        1.445     0    0.618704   0.528062 -1.482031  \n",
       "7     1.224915     0    0.458186   0.487287  -1.60989  \n",
       "8     2.851093     0     1.34911   1.838891 -0.750274  \n",
       "9     1.086065     0    0.576482   0.600127 -0.842936  \n",
       "10   15.196505     0    4.749287  27.245119  2.536931  \n",
       "11     7.46163     0     2.55744   6.207508 -0.490382  \n",
       "12     5.36434     0    2.045928   5.369665  0.002602  "
      ]
     },
     "execution_count": 7,
     "metadata": {},
     "output_type": "execute_result"
    }
   ],
   "source": [
    "p.table( 'PREDICT' , 'FTR' ) "
   ]
  },
  {
   "cell_type": "markdown",
   "id": "acd08c40-75e1-4b6c-8725-a6a0aea44e6c",
   "metadata": {},
   "source": [
    "## Project-level invocation"
   ]
  },
  {
   "cell_type": "markdown",
   "id": "449a529c-0e0e-4a8f-8909-c6da7e5640ec",
   "metadata": {},
   "source": [
    "The primary difference when running in _project_ mode is how to specify the observed age for each individaul.  Internally, the script that drives expects a variable called `${age}` to be set for each individual.    We can specify this for each person in a sample-list by individual them as _individual-level variables_, which can be imported from a simple tab-delimited file (with `ID` as the first column, which must align with the sample-list IDs). Here we've a previously-made file with the ages of each individual, `misc/vars.txt`:"
   ]
  },
  {
   "cell_type": "code",
   "execution_count": 8,
   "id": "8ee5b158-e9bd-4594-95a2-e2e450290f48",
   "metadata": {},
   "outputs": [
    {
     "name": "stdout",
     "output_type": "stream",
     "text": [
      "ID\tage\n",
      "learn-nsrr01\t60\n",
      "learn-nsrr02\t61\n",
      "learn-nsrr03\t62\n"
     ]
    }
   ],
   "source": [
    "%%sh\n",
    "cat misc/vars.txt"
   ]
  },
  {
   "cell_type": "markdown",
   "id": "0e4bcdf5-ebaa-42f8-961e-ffdb5cf1e51f",
   "metadata": {},
   "source": [
    "Having generated such a file, use the `vars` _special variable_ to attach a set of individual-level variables to the project.  When processing each individual, the appropriate value of `${age}` will be swapped into the script. (Note: this mechanism is general, and not specific to this `predict_*()` function _per se_.)"
   ]
  },
  {
   "cell_type": "code",
   "execution_count": 9,
   "id": "4762e94d-1d9a-422f-b21e-dfb9a605696a",
   "metadata": {},
   "outputs": [
    {
     "data": {
      "text/html": [
       "<div>\n",
       "<style scoped>\n",
       "    .dataframe tbody tr th:only-of-type {\n",
       "        vertical-align: middle;\n",
       "    }\n",
       "\n",
       "    .dataframe tbody tr th {\n",
       "        vertical-align: top;\n",
       "    }\n",
       "\n",
       "    .dataframe thead th {\n",
       "        text-align: right;\n",
       "    }\n",
       "</style>\n",
       "<table border=\"1\" class=\"dataframe\">\n",
       "  <thead>\n",
       "    <tr style=\"text-align: right;\">\n",
       "      <th></th>\n",
       "      <th>ID</th>\n",
       "      <th>NF</th>\n",
       "      <th>NF_OBS</th>\n",
       "      <th>OKAY</th>\n",
       "      <th>Y</th>\n",
       "      <th>Y1</th>\n",
       "      <th>YOBS</th>\n",
       "    </tr>\n",
       "  </thead>\n",
       "  <tbody>\n",
       "    <tr>\n",
       "      <th>0</th>\n",
       "      <td>learn-nsrr01</td>\n",
       "      <td>13</td>\n",
       "      <td>13</td>\n",
       "      <td>1</td>\n",
       "      <td>48.989031</td>\n",
       "      <td>54.903227</td>\n",
       "      <td>60.0</td>\n",
       "    </tr>\n",
       "    <tr>\n",
       "      <th>1</th>\n",
       "      <td>learn-nsrr02</td>\n",
       "      <td>13</td>\n",
       "      <td>13</td>\n",
       "      <td>1</td>\n",
       "      <td>60.597311</td>\n",
       "      <td>67.046936</td>\n",
       "      <td>61.0</td>\n",
       "    </tr>\n",
       "    <tr>\n",
       "      <th>2</th>\n",
       "      <td>learn-nsrr03</td>\n",
       "      <td>13</td>\n",
       "      <td>13</td>\n",
       "      <td>1</td>\n",
       "      <td>50.259777</td>\n",
       "      <td>57.244831</td>\n",
       "      <td>62.0</td>\n",
       "    </tr>\n",
       "  </tbody>\n",
       "</table>\n",
       "</div>"
      ],
      "text/plain": [
       "             ID  NF NF_OBS OKAY          Y         Y1  YOBS\n",
       "0  learn-nsrr01  13     13    1  48.989031  54.903227  60.0\n",
       "1  learn-nsrr02  13     13    1  60.597311  67.046936  61.0\n",
       "2  learn-nsrr03  13     13    1  50.259777  57.244831  62.0"
      ]
     },
     "execution_count": 9,
     "metadata": {},
     "output_type": "execute_result"
    }
   ],
   "source": [
    "proj.var( 'vars' , 'misc/vars.txt' )\n",
    "proj.predict_SUN2019( 'EEG' )"
   ]
  },
  {
   "cell_type": "markdown",
   "id": "61eef609-e52e-4a03-9957-b72f43c953cb",
   "metadata": {},
   "source": [
    "As shown above, the project-level `predict_*()` functions return a small object with the key predictions for each individual.  You can explore the full set of results (which includes all the individual Luna commands performed in order to generate the features for the prediction model) as follows:"
   ]
  },
  {
   "cell_type": "code",
   "execution_count": 10,
   "id": "7dbfc9a5-748a-4a2d-b73a-7fd6f9dbe90c",
   "metadata": {},
   "outputs": [
    {
     "data": {
      "text/html": [
       "<div>\n",
       "<style scoped>\n",
       "    .dataframe tbody tr th:only-of-type {\n",
       "        vertical-align: middle;\n",
       "    }\n",
       "\n",
       "    .dataframe tbody tr th {\n",
       "        vertical-align: top;\n",
       "    }\n",
       "\n",
       "    .dataframe thead th {\n",
       "        text-align: right;\n",
       "    }\n",
       "</style>\n",
       "<table border=\"1\" class=\"dataframe\">\n",
       "  <thead>\n",
       "    <tr style=\"text-align: right;\">\n",
       "      <th></th>\n",
       "      <th>Command</th>\n",
       "      <th>Strata</th>\n",
       "    </tr>\n",
       "  </thead>\n",
       "  <tbody>\n",
       "    <tr>\n",
       "      <th>0</th>\n",
       "      <td>EPOCH</td>\n",
       "      <td>BL</td>\n",
       "    </tr>\n",
       "    <tr>\n",
       "      <th>1</th>\n",
       "      <td>MASK</td>\n",
       "      <td>EMASK_STG</td>\n",
       "    </tr>\n",
       "    <tr>\n",
       "      <th>2</th>\n",
       "      <td>MTM</td>\n",
       "      <td>B1_B2_CH_STG</td>\n",
       "    </tr>\n",
       "    <tr>\n",
       "      <th>3</th>\n",
       "      <td>MTM</td>\n",
       "      <td>B_CH_STG</td>\n",
       "    </tr>\n",
       "    <tr>\n",
       "      <th>4</th>\n",
       "      <td>MTM</td>\n",
       "      <td>B_STG</td>\n",
       "    </tr>\n",
       "    <tr>\n",
       "      <th>5</th>\n",
       "      <td>MTM</td>\n",
       "      <td>CH_F_STG</td>\n",
       "    </tr>\n",
       "    <tr>\n",
       "      <th>6</th>\n",
       "      <td>PREDICT</td>\n",
       "      <td>BL</td>\n",
       "    </tr>\n",
       "    <tr>\n",
       "      <th>7</th>\n",
       "      <td>PREDICT</td>\n",
       "      <td>FTR</td>\n",
       "    </tr>\n",
       "    <tr>\n",
       "      <th>8</th>\n",
       "      <td>RE</td>\n",
       "      <td>BL</td>\n",
       "    </tr>\n",
       "    <tr>\n",
       "      <th>9</th>\n",
       "      <td>RE</td>\n",
       "      <td>STG</td>\n",
       "    </tr>\n",
       "    <tr>\n",
       "      <th>10</th>\n",
       "      <td>SPINDLES</td>\n",
       "      <td>CH_F_STG</td>\n",
       "    </tr>\n",
       "    <tr>\n",
       "      <th>11</th>\n",
       "      <td>SPINDLES</td>\n",
       "      <td>CH_STG</td>\n",
       "    </tr>\n",
       "    <tr>\n",
       "      <th>12</th>\n",
       "      <td>STATS</td>\n",
       "      <td>CH_E_STG</td>\n",
       "    </tr>\n",
       "    <tr>\n",
       "      <th>13</th>\n",
       "      <td>STATS</td>\n",
       "      <td>CH_STG</td>\n",
       "    </tr>\n",
       "  </tbody>\n",
       "</table>\n",
       "</div>"
      ],
      "text/plain": [
       "     Command        Strata\n",
       "0      EPOCH            BL\n",
       "1       MASK     EMASK_STG\n",
       "2        MTM  B1_B2_CH_STG\n",
       "3        MTM      B_CH_STG\n",
       "4        MTM         B_STG\n",
       "5        MTM      CH_F_STG\n",
       "6    PREDICT            BL\n",
       "7    PREDICT           FTR\n",
       "8         RE            BL\n",
       "9         RE           STG\n",
       "10  SPINDLES      CH_F_STG\n",
       "11  SPINDLES        CH_STG\n",
       "12     STATS      CH_E_STG\n",
       "13     STATS        CH_STG"
      ]
     },
     "execution_count": 10,
     "metadata": {},
     "output_type": "execute_result"
    }
   ],
   "source": [
    "proj.strata()"
   ]
  },
  {
   "cell_type": "code",
   "execution_count": 11,
   "id": "7a62fd8d-6b34-437d-bc6e-a989632e88e0",
   "metadata": {},
   "outputs": [
    {
     "data": {
      "text/html": [
       "<div>\n",
       "<style scoped>\n",
       "    .dataframe tbody tr th:only-of-type {\n",
       "        vertical-align: middle;\n",
       "    }\n",
       "\n",
       "    .dataframe tbody tr th {\n",
       "        vertical-align: top;\n",
       "    }\n",
       "\n",
       "    .dataframe thead th {\n",
       "        text-align: right;\n",
       "    }\n",
       "</style>\n",
       "<table border=\"1\" class=\"dataframe\">\n",
       "  <thead>\n",
       "    <tr style=\"text-align: right;\">\n",
       "      <th></th>\n",
       "      <th>ID</th>\n",
       "      <th>NF</th>\n",
       "      <th>NF_OBS</th>\n",
       "      <th>OKAY</th>\n",
       "      <th>Y</th>\n",
       "      <th>Y1</th>\n",
       "      <th>YOBS</th>\n",
       "    </tr>\n",
       "  </thead>\n",
       "  <tbody>\n",
       "    <tr>\n",
       "      <th>0</th>\n",
       "      <td>learn-nsrr01</td>\n",
       "      <td>13</td>\n",
       "      <td>13</td>\n",
       "      <td>1</td>\n",
       "      <td>48.989031</td>\n",
       "      <td>54.903227</td>\n",
       "      <td>60.0</td>\n",
       "    </tr>\n",
       "    <tr>\n",
       "      <th>1</th>\n",
       "      <td>learn-nsrr02</td>\n",
       "      <td>13</td>\n",
       "      <td>13</td>\n",
       "      <td>1</td>\n",
       "      <td>60.597311</td>\n",
       "      <td>67.046936</td>\n",
       "      <td>61.0</td>\n",
       "    </tr>\n",
       "    <tr>\n",
       "      <th>2</th>\n",
       "      <td>learn-nsrr03</td>\n",
       "      <td>13</td>\n",
       "      <td>13</td>\n",
       "      <td>1</td>\n",
       "      <td>50.259777</td>\n",
       "      <td>57.244831</td>\n",
       "      <td>62.0</td>\n",
       "    </tr>\n",
       "  </tbody>\n",
       "</table>\n",
       "</div>"
      ],
      "text/plain": [
       "             ID  NF NF_OBS OKAY          Y         Y1  YOBS\n",
       "0  learn-nsrr01  13     13    1  48.989031  54.903227  60.0\n",
       "1  learn-nsrr02  13     13    1  60.597311  67.046936  61.0\n",
       "2  learn-nsrr03  13     13    1  50.259777  57.244831  62.0"
      ]
     },
     "execution_count": 11,
     "metadata": {},
     "output_type": "execute_result"
    }
   ],
   "source": [
    "proj.table( 'PREDICT' )"
   ]
  },
  {
   "cell_type": "markdown",
   "id": "619143c9-45e8-4947-9de8-6a7ca9fe16c7",
   "metadata": {},
   "source": [
    "(As noted above - the true ages are unknown for these test individuals: the values of 60, 61 and 62 were entered randomly for the purpose of this tutorial. Naturally, in real analysis, it will be critical to supply the individuals' known ages.)"
   ]
  },
  {
   "cell_type": "markdown",
   "id": "f0e8842b-ef08-4434-b710-b0bc642a1e93",
   "metadata": {},
   "source": [
    "---\n",
    "## Notes"
   ]
  },
  {
   "cell_type": "markdown",
   "id": "e79fb8d7-8f28-43e0-b1e1-b43ac349a68e",
   "metadata": {},
   "source": [
    "### Timing \n",
    "It takes approximately 15-20 seconds for each individual - for larger samples, you should use parallel approaches "
   ]
  },
  {
   "cell_type": "markdown",
   "id": "e16da3c6-d229-4699-b363-60fb7d6fe55e",
   "metadata": {},
   "source": [
    "### Training model location\n",
    "\n",
    "If the model training data are located elsewhere, set it before running the `predict_*()` functions."
   ]
  },
  {
   "cell_type": "raw",
   "id": "09b60b1e-a8b9-410c-ae71-5236d59f38a5",
   "metadata": {},
   "source": [
    "lp.resources.MODEL_PATH = '/Users/john/dropbox/models/'"
   ]
  },
  {
   "cell_type": "markdown",
   "id": "cea52543-8a2d-4b4a-8443-fe7ccc83711d",
   "metadata": {},
   "source": [
    "### Running with multiple central EEGs\n",
    "\n",
    "Use a comma-delimited list of channels (e.g. `'C3,C4'` ), or a Python list (e.g. `[ 'C3', 'C4' ]` ); features will be computed for all channels and then averaged:"
   ]
  },
  {
   "cell_type": "code",
   "execution_count": 12,
   "id": "0bce6649-388b-4ec0-8458-4011ba76beaa",
   "metadata": {},
   "outputs": [
    {
     "data": {
      "text/html": [
       "<div>\n",
       "<style scoped>\n",
       "    .dataframe tbody tr th:only-of-type {\n",
       "        vertical-align: middle;\n",
       "    }\n",
       "\n",
       "    .dataframe tbody tr th {\n",
       "        vertical-align: top;\n",
       "    }\n",
       "\n",
       "    .dataframe thead th {\n",
       "        text-align: right;\n",
       "    }\n",
       "</style>\n",
       "<table border=\"1\" class=\"dataframe\">\n",
       "  <thead>\n",
       "    <tr style=\"text-align: right;\">\n",
       "      <th></th>\n",
       "      <th>ID</th>\n",
       "      <th>NF</th>\n",
       "      <th>NF_OBS</th>\n",
       "      <th>OKAY</th>\n",
       "      <th>Y</th>\n",
       "      <th>Y1</th>\n",
       "      <th>YOBS</th>\n",
       "    </tr>\n",
       "  </thead>\n",
       "  <tbody>\n",
       "    <tr>\n",
       "      <th>0</th>\n",
       "      <td>learn-nsrr02</td>\n",
       "      <td>13</td>\n",
       "      <td>13</td>\n",
       "      <td>1</td>\n",
       "      <td>60.954578</td>\n",
       "      <td>67.939631</td>\n",
       "      <td>62.0</td>\n",
       "    </tr>\n",
       "  </tbody>\n",
       "</table>\n",
       "</div>"
      ],
      "text/plain": [
       "             ID  NF NF_OBS OKAY          Y         Y1  YOBS\n",
       "0  learn-nsrr02  13     13    1  60.954578  67.939631  62.0"
      ]
     },
     "execution_count": 12,
     "metadata": {},
     "output_type": "execute_result"
    }
   ],
   "source": [
    "p.predict_SUN2019( 'EEG,EEG_sec' , age = 62 )"
   ]
  }
 ],
 "metadata": {
  "kernelspec": {
   "display_name": "Python 3 (ipykernel)",
   "language": "python",
   "name": "python3"
  },
  "language_info": {
   "codemirror_mode": {
    "name": "ipython",
    "version": 3
   },
   "file_extension": ".py",
   "mimetype": "text/x-python",
   "name": "python",
   "nbconvert_exporter": "python",
   "pygments_lexer": "ipython3",
   "version": "3.9.6"
  }
 },
 "nbformat": 4,
 "nbformat_minor": 5
}
