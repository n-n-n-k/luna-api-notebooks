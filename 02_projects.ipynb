{
 "cells": [
  {
   "cell_type": "markdown",
   "id": "935492f0-a1d7-4082-8c4c-23b19c06e5ab",
   "metadata": {},
   "source": [
    "# LunAPI : projects\n",
    "\n",
    "Links to notebooks in this repository: [Index](./00_overview.ipynb) | [Luna tutorial](./tutorial.ipynb) | \n",
    "[Individuals](./01_indivs.ipynb) | [Projects](./02_projects.ipynb) | [Staging](./03_staging.ipynb) | [Models](./04_models.ipynb) | [Advanced](./98_advanced.ipynb) | [Reference](./99_reference.ipynb)\n",
    "\n",
    "---"
   ]
  },
  {
   "cell_type": "markdown",
   "id": "480735be-05fb-4ca0-a73f-00903969e086",
   "metadata": {},
   "source": [
    "Here we show how to use the package to work with multiple individuals, applying a set of Luna commands to an entire _sample-list_."
   ]
  },
  {
   "cell_type": "code",
   "execution_count": 1,
   "id": "0c6a6d1a-fc36-49df-af75-b7948273202d",
   "metadata": {},
   "outputs": [
    {
     "name": "stdout",
     "output_type": "stream",
     "text": [
      "initiated lunapi v0.0.7 <lunapi.lunapi0.luna object at 0x12fbd7570> \n",
      "\n"
     ]
    }
   ],
   "source": [
    "import lunapi as lp\n",
    "proj = lp.proj()"
   ]
  },
  {
   "cell_type": "markdown",
   "id": "65216a10-c4ab-4a26-93f1-64d4f4a0d0bf",
   "metadata": {},
   "source": [
    "### Working with projects"
   ]
  },
  {
   "cell_type": "markdown",
   "id": "80101d05-b3c2-48cf-8ade-63a71d5839b0",
   "metadata": {},
   "source": [
    "A _project_ is defined by a list of individual samples (EDFs/annotations).  We can then attach a sample list, either from a file (`read_sample_list()`) or build one on-the-fly.  This function returns the number of observations (EDF/annotation pairs), which is 3 in this case, but stores the information on the samples internally."
   ]
  },
  {
   "cell_type": "markdown",
   "id": "4fef8fe5-3766-44d4-a435-7f8e678c11f7",
   "metadata": {},
   "source": [
    "We can then attach a sample list, either from a file (`read_sample_list()`) or build one on-the-fly.  This function returns the number of observations (EDF/annotation pairs), but stores the information on the samples internally."
   ]
  },
  {
   "cell_type": "code",
   "execution_count": 2,
   "id": "e9229ebd-8e65-422a-9ca8-a7ab42625fcf",
   "metadata": {},
   "outputs": [
    {
     "data": {
      "text/plain": [
       "3"
      ]
     },
     "execution_count": 2,
     "metadata": {},
     "output_type": "execute_result"
    }
   ],
   "source": [
    "proj.build( [ 'tutorial/edfs' ] )"
   ]
  },
  {
   "cell_type": "markdown",
   "id": "241dbd4f-fbd6-4c29-9e13-88412621812d",
   "metadata": {
    "tags": []
   },
   "source": [
    "You can see the information of the attached sample list as follows:"
   ]
  },
  {
   "cell_type": "code",
   "execution_count": 3,
   "id": "71cef2b7-112f-47eb-8cd2-aeb5e190a203",
   "metadata": {
    "tags": []
   },
   "outputs": [
    {
     "data": {
      "text/html": [
       "<div>\n",
       "<style scoped>\n",
       "    .dataframe tbody tr th:only-of-type {\n",
       "        vertical-align: middle;\n",
       "    }\n",
       "\n",
       "    .dataframe tbody tr th {\n",
       "        vertical-align: top;\n",
       "    }\n",
       "\n",
       "    .dataframe thead th {\n",
       "        text-align: right;\n",
       "    }\n",
       "</style>\n",
       "<table border=\"1\" class=\"dataframe\">\n",
       "  <thead>\n",
       "    <tr style=\"text-align: right;\">\n",
       "      <th></th>\n",
       "      <th>ID</th>\n",
       "      <th>EDF</th>\n",
       "      <th>Annotations</th>\n",
       "    </tr>\n",
       "  </thead>\n",
       "  <tbody>\n",
       "    <tr>\n",
       "      <th>1</th>\n",
       "      <td>learn-nsrr01</td>\n",
       "      <td>tutorial/edfs/learn-nsrr01.edf</td>\n",
       "      <td>{tutorial/edfs/learn-nsrr01.xml}</td>\n",
       "    </tr>\n",
       "    <tr>\n",
       "      <th>2</th>\n",
       "      <td>learn-nsrr02</td>\n",
       "      <td>tutorial/edfs/learn-nsrr02.edf</td>\n",
       "      <td>{tutorial/edfs/learn-nsrr02.xml}</td>\n",
       "    </tr>\n",
       "    <tr>\n",
       "      <th>3</th>\n",
       "      <td>learn-nsrr03</td>\n",
       "      <td>tutorial/edfs/learn-nsrr03.edf</td>\n",
       "      <td>{tutorial/edfs/learn-nsrr03.xml}</td>\n",
       "    </tr>\n",
       "  </tbody>\n",
       "</table>\n",
       "</div>"
      ],
      "text/plain": [
       "             ID                             EDF  \\\n",
       "1  learn-nsrr01  tutorial/edfs/learn-nsrr01.edf   \n",
       "2  learn-nsrr02  tutorial/edfs/learn-nsrr02.edf   \n",
       "3  learn-nsrr03  tutorial/edfs/learn-nsrr03.edf   \n",
       "\n",
       "                        Annotations  \n",
       "1  {tutorial/edfs/learn-nsrr01.xml}  \n",
       "2  {tutorial/edfs/learn-nsrr02.xml}  \n",
       "3  {tutorial/edfs/learn-nsrr03.xml}  "
      ]
     },
     "execution_count": 3,
     "metadata": {},
     "output_type": "execute_result"
    }
   ],
   "source": [
    "proj.sample_list()"
   ]
  },
  {
   "cell_type": "markdown",
   "id": "1283b43a-6979-478a-a66e-7fa46ee1a0a0",
   "metadata": {
    "tags": []
   },
   "source": [
    "### Reading a sample-list from a file"
   ]
  },
  {
   "cell_type": "markdown",
   "id": "f2241e3d-ef35-44e0-b776-6b2b282742b3",
   "metadata": {
    "tags": []
   },
   "source": [
    "If you have a pre-existing sample list (e.g. manually created, or generated by Luna's `--build` option), you can alternatively attach it with `sample_list( <filename> )`:"
   ]
  },
  {
   "cell_type": "code",
   "execution_count": 4,
   "id": "6a235844-91c7-4230-ab56-8350fde53111",
   "metadata": {},
   "outputs": [
    {
     "name": "stdout",
     "output_type": "stream",
     "text": [
      "read 3 individuals from tutorial/s.lst\n"
     ]
    }
   ],
   "source": [
    "proj.sample_list( 'tutorial/s.lst' )"
   ]
  },
  {
   "cell_type": "code",
   "execution_count": 5,
   "id": "ddef66c0-fd55-46f8-b87e-23af02039f32",
   "metadata": {},
   "outputs": [
    {
     "data": {
      "text/html": [
       "<div>\n",
       "<style scoped>\n",
       "    .dataframe tbody tr th:only-of-type {\n",
       "        vertical-align: middle;\n",
       "    }\n",
       "\n",
       "    .dataframe tbody tr th {\n",
       "        vertical-align: top;\n",
       "    }\n",
       "\n",
       "    .dataframe thead th {\n",
       "        text-align: right;\n",
       "    }\n",
       "</style>\n",
       "<table border=\"1\" class=\"dataframe\">\n",
       "  <thead>\n",
       "    <tr style=\"text-align: right;\">\n",
       "      <th></th>\n",
       "      <th>ID</th>\n",
       "      <th>EDF</th>\n",
       "      <th>Annotations</th>\n",
       "    </tr>\n",
       "  </thead>\n",
       "  <tbody>\n",
       "    <tr>\n",
       "      <th>1</th>\n",
       "      <td>learn-nsrr01</td>\n",
       "      <td>tutorial/edfs/learn-nsrr01.edf</td>\n",
       "      <td>{tutorial/edfs/learn-nsrr01.xml}</td>\n",
       "    </tr>\n",
       "    <tr>\n",
       "      <th>2</th>\n",
       "      <td>learn-nsrr02</td>\n",
       "      <td>tutorial/edfs/learn-nsrr02.edf</td>\n",
       "      <td>{tutorial/edfs/learn-nsrr02.xml}</td>\n",
       "    </tr>\n",
       "    <tr>\n",
       "      <th>3</th>\n",
       "      <td>learn-nsrr03</td>\n",
       "      <td>tutorial/edfs/learn-nsrr03.edf</td>\n",
       "      <td>{tutorial/edfs/learn-nsrr03.xml}</td>\n",
       "    </tr>\n",
       "  </tbody>\n",
       "</table>\n",
       "</div>"
      ],
      "text/plain": [
       "             ID                             EDF  \\\n",
       "1  learn-nsrr01  tutorial/edfs/learn-nsrr01.edf   \n",
       "2  learn-nsrr02  tutorial/edfs/learn-nsrr02.edf   \n",
       "3  learn-nsrr03  tutorial/edfs/learn-nsrr03.edf   \n",
       "\n",
       "                        Annotations  \n",
       "1  {tutorial/edfs/learn-nsrr01.xml}  \n",
       "2  {tutorial/edfs/learn-nsrr02.xml}  \n",
       "3  {tutorial/edfs/learn-nsrr03.xml}  "
      ]
     },
     "execution_count": 5,
     "metadata": {},
     "output_type": "execute_result"
    }
   ],
   "source": [
    "proj.sample_list()"
   ]
  },
  {
   "cell_type": "markdown",
   "id": "7f7d6a20-a231-4ab9-99ef-e4762fb53371",
   "metadata": {},
   "source": [
    "Note, if the sample list has a relative path that does not align to the current working folder, you can always set the `path` special variable _before_ reading the sample-list: e.g. in the form of:\n",
    "```\n",
    "proj.var( 'path' , '/path/to/data/' )\n",
    "proj.sample_list( '/path/to/data/s.lst' )\n",
    "```\n",
    "which is similar to the command-line version:\n",
    "```\n",
    "luna /path/to/data/s.lst path=/path/to/data/ -o out.db < cmd.txt\n",
    "```"
   ]
  },
  {
   "cell_type": "markdown",
   "id": "64be2be8-ceda-4978-9a4f-a607d48282fa",
   "metadata": {},
   "source": [
    "## Running a command across a project"
   ]
  },
  {
   "cell_type": "markdown",
   "id": "68b5715f-983d-44ab-b028-beb6783b5899",
   "metadata": {
    "tags": []
   },
   "source": [
    "To apply a Luna command to all individuals in a sample list use `proc()`:"
   ]
  },
  {
   "cell_type": "code",
   "execution_count": 6,
   "id": "f200c49d-7210-4353-b240-a212a254db4f",
   "metadata": {},
   "outputs": [
    {
     "name": "stderr",
     "output_type": "stream",
     "text": [
      "___________________________________________________________________\n",
      "Processing: learn-nsrr01 | tutorial/edfs/learn-nsrr01.edf\n",
      " duration 11.22.00, 40920s | time 21.58.17 - 09.20.17 | date 01.01.85\n",
      "\n",
      " signals: 14 (of 14) selected in a standard EDF file\n",
      "  SaO2 | PR | EEG_sec | ECG | EMG | EOG_L | EOG_R | EEG\n",
      "  AIRFLOW | THOR_RES | ABDO_RES | POSITION | LIGHT | OX_STAT\n",
      " ..................................................................\n",
      " CMD #1: STATS\n",
      "   options: sig=EEG\n",
      " processing EEG ...\n",
      "___________________________________________________________________\n",
      "Processing: learn-nsrr02 | tutorial/edfs/learn-nsrr02.edf\n",
      " duration 09.57.30, 35850s | time 21.18.06 - 07.15.36 | date 01.01.85\n",
      "\n",
      " signals: 14 (of 14) selected in a standard EDF file\n",
      "  SaO2 | PR | EEG_sec | ECG | EMG | EOG_L | EOG_R | EEG\n",
      "  AIRFLOW | THOR_RES | ABDO_RES | POSITION | LIGHT | OX_STAT\n",
      " ..................................................................\n",
      " CMD #1: STATS\n",
      "   options: sig=EEG\n",
      " processing EEG ...\n",
      "___________________________________________________________________\n",
      "Processing: learn-nsrr03 | tutorial/edfs/learn-nsrr03.edf\n",
      " duration 11.22.00, 40920s | time 20.15.00 - 07.37.00 | date 01.01.85\n",
      "\n",
      " signals: 14 (of 14) selected in a standard EDF file\n",
      "  SaO2 | PR | EEG_sec | ECG | EMG | EOG_L | EOG_R | EEG\n",
      "  AIRFLOW | THOR_RES | ABDO_RES | POSITION | LIGHT | OX_STAT\n",
      " ..................................................................\n",
      " CMD #1: STATS\n",
      "   options: sig=EEG\n",
      " processing EEG ...\n"
     ]
    }
   ],
   "source": [
    "res = proj.proc( 'STATS sig=EEG' )"
   ]
  },
  {
   "cell_type": "markdown",
   "id": "a7c41cdc-9212-445f-8ca8-85d174218fb0",
   "metadata": {},
   "source": [
    "It is generally useful to have the output logged as above.   If running programmatically, you can turn off output with `proj.silence()` (and back on with `proj.silence(False)`.   Note that - unlike the command-line Luna, a Jupyter Lab environment will generally return all console text only after completing all analysis.   This makes is less useful for tracking the progress of longer running jobs:  for this the standard command-line is advised (or better, using a HPC environment if available).\n",
    "\n",
    "The `lp.show()` function is a convenience function to simply print all results in the current project-level results cache:"
   ]
  },
  {
   "cell_type": "code",
   "execution_count": 7,
   "id": "98ba8888-c73a-42d4-a80c-d7be8141b841",
   "metadata": {},
   "outputs": [
    {
     "name": "stdout",
     "output_type": "stream",
     "text": [
      "\u001b[1m\u001b[36mSTATS: CH\u001b[0m\n"
     ]
    },
    {
     "data": {
      "text/html": [
       "<div>\n",
       "<style scoped>\n",
       "    .dataframe tbody tr th:only-of-type {\n",
       "        vertical-align: middle;\n",
       "    }\n",
       "\n",
       "    .dataframe tbody tr th {\n",
       "        vertical-align: top;\n",
       "    }\n",
       "\n",
       "    .dataframe thead th {\n",
       "        text-align: right;\n",
       "    }\n",
       "</style>\n",
       "<table border=\"1\" class=\"dataframe\">\n",
       "  <thead>\n",
       "    <tr style=\"text-align: right;\">\n",
       "      <th></th>\n",
       "      <th>ID</th>\n",
       "      <th>CH</th>\n",
       "      <th>KURT</th>\n",
       "      <th>MAX</th>\n",
       "      <th>MEAN</th>\n",
       "      <th>MIN</th>\n",
       "      <th>P01</th>\n",
       "      <th>P02</th>\n",
       "      <th>P05</th>\n",
       "      <th>P10</th>\n",
       "      <th>...</th>\n",
       "      <th>P60</th>\n",
       "      <th>P70</th>\n",
       "      <th>P80</th>\n",
       "      <th>P90</th>\n",
       "      <th>P95</th>\n",
       "      <th>P98</th>\n",
       "      <th>P99</th>\n",
       "      <th>RMS</th>\n",
       "      <th>SD</th>\n",
       "      <th>SKEW</th>\n",
       "    </tr>\n",
       "  </thead>\n",
       "  <tbody>\n",
       "    <tr>\n",
       "      <th>0</th>\n",
       "      <td>learn-nsrr01</td>\n",
       "      <td>EEG</td>\n",
       "      <td>4.657487</td>\n",
       "      <td>125.0</td>\n",
       "      <td>-0.301199</td>\n",
       "      <td>-124.019608</td>\n",
       "      <td>-124.019608</td>\n",
       "      <td>-124.019608</td>\n",
       "      <td>-70.098039</td>\n",
       "      <td>-24.019608</td>\n",
       "      <td>...</td>\n",
       "      <td>2.45098</td>\n",
       "      <td>4.411765</td>\n",
       "      <td>8.333333</td>\n",
       "      <td>23.039216</td>\n",
       "      <td>72.058824</td>\n",
       "      <td>125.0</td>\n",
       "      <td>125.0</td>\n",
       "      <td>37.801351</td>\n",
       "      <td>37.800154</td>\n",
       "      <td>0.086212</td>\n",
       "    </tr>\n",
       "    <tr>\n",
       "      <th>1</th>\n",
       "      <td>learn-nsrr02</td>\n",
       "      <td>EEG</td>\n",
       "      <td>3.546719</td>\n",
       "      <td>125.0</td>\n",
       "      <td>-0.370447</td>\n",
       "      <td>-124.019608</td>\n",
       "      <td>-124.019608</td>\n",
       "      <td>-124.019608</td>\n",
       "      <td>-78.921569</td>\n",
       "      <td>-33.823529</td>\n",
       "      <td>...</td>\n",
       "      <td>4.411765</td>\n",
       "      <td>8.333333</td>\n",
       "      <td>14.215686</td>\n",
       "      <td>30.882353</td>\n",
       "      <td>75.980392</td>\n",
       "      <td>125.0</td>\n",
       "      <td>125.0</td>\n",
       "      <td>41.044234</td>\n",
       "      <td>41.042566</td>\n",
       "      <td>-0.019268</td>\n",
       "    </tr>\n",
       "    <tr>\n",
       "      <th>2</th>\n",
       "      <td>learn-nsrr03</td>\n",
       "      <td>EEG</td>\n",
       "      <td>1.345607</td>\n",
       "      <td>125.0</td>\n",
       "      <td>-0.11223</td>\n",
       "      <td>-124.019608</td>\n",
       "      <td>-124.019608</td>\n",
       "      <td>-124.019608</td>\n",
       "      <td>-124.019608</td>\n",
       "      <td>-73.039216</td>\n",
       "      <td>...</td>\n",
       "      <td>3.431373</td>\n",
       "      <td>7.352941</td>\n",
       "      <td>15.196078</td>\n",
       "      <td>70.098039</td>\n",
       "      <td>125.0</td>\n",
       "      <td>125.0</td>\n",
       "      <td>125.0</td>\n",
       "      <td>54.2708</td>\n",
       "      <td>54.270689</td>\n",
       "      <td>-0.011078</td>\n",
       "    </tr>\n",
       "  </tbody>\n",
       "</table>\n",
       "<p>3 rows × 24 columns</p>\n",
       "</div>"
      ],
      "text/plain": [
       "             ID   CH      KURT    MAX      MEAN         MIN         P01  \\\n",
       "0  learn-nsrr01  EEG  4.657487  125.0 -0.301199 -124.019608 -124.019608   \n",
       "1  learn-nsrr02  EEG  3.546719  125.0 -0.370447 -124.019608 -124.019608   \n",
       "2  learn-nsrr03  EEG  1.345607  125.0  -0.11223 -124.019608 -124.019608   \n",
       "\n",
       "          P02         P05        P10  ...       P60       P70        P80  \\\n",
       "0 -124.019608  -70.098039 -24.019608  ...   2.45098  4.411765   8.333333   \n",
       "1 -124.019608  -78.921569 -33.823529  ...  4.411765  8.333333  14.215686   \n",
       "2 -124.019608 -124.019608 -73.039216  ...  3.431373  7.352941  15.196078   \n",
       "\n",
       "         P90        P95    P98    P99        RMS         SD      SKEW  \n",
       "0  23.039216  72.058824  125.0  125.0  37.801351  37.800154  0.086212  \n",
       "1  30.882353  75.980392  125.0  125.0  41.044234  41.042566 -0.019268  \n",
       "2  70.098039      125.0  125.0  125.0    54.2708  54.270689 -0.011078  \n",
       "\n",
       "[3 rows x 24 columns]"
      ]
     },
     "metadata": {},
     "output_type": "display_data"
    }
   ],
   "source": [
    "lp.show( res )"
   ]
  },
  {
   "cell_type": "markdown",
   "id": "71bd66c5-7d1d-4002-afc7-69b56a8a34f8",
   "metadata": {},
   "source": [
    "You can see a table of the available output (organized by command and stratum) with `strata()`:"
   ]
  },
  {
   "cell_type": "code",
   "execution_count": 8,
   "id": "5583c33a-2535-43ca-90cd-35e6f7328f40",
   "metadata": {
    "scrolled": true
   },
   "outputs": [
    {
     "data": {
      "text/html": [
       "<div>\n",
       "<style scoped>\n",
       "    .dataframe tbody tr th:only-of-type {\n",
       "        vertical-align: middle;\n",
       "    }\n",
       "\n",
       "    .dataframe tbody tr th {\n",
       "        vertical-align: top;\n",
       "    }\n",
       "\n",
       "    .dataframe thead th {\n",
       "        text-align: right;\n",
       "    }\n",
       "</style>\n",
       "<table border=\"1\" class=\"dataframe\">\n",
       "  <thead>\n",
       "    <tr style=\"text-align: right;\">\n",
       "      <th></th>\n",
       "      <th>Command</th>\n",
       "      <th>Strata</th>\n",
       "    </tr>\n",
       "  </thead>\n",
       "  <tbody>\n",
       "    <tr>\n",
       "      <th>0</th>\n",
       "      <td>STATS</td>\n",
       "      <td>CH</td>\n",
       "    </tr>\n",
       "  </tbody>\n",
       "</table>\n",
       "</div>"
      ],
      "text/plain": [
       "  Command Strata\n",
       "0   STATS     CH"
      ]
     },
     "execution_count": 8,
     "metadata": {},
     "output_type": "execute_result"
    }
   ],
   "source": [
    "proj.strata()"
   ]
  },
  {
   "cell_type": "markdown",
   "id": "2602b0b2-c975-4c36-8b15-0b8e2bf82663",
   "metadata": {},
   "source": [
    "Note that these commands are basically identical to the individual-level variants (i.e. `proj.strata()` versus `p.strata()`) except they query the project-level cache, rather than the results cache for a particular individual (`inst` class, here called `p`).\n",
    "\n",
    "We can pull out a single table of results with the `table()`:"
   ]
  },
  {
   "cell_type": "code",
   "execution_count": 9,
   "id": "66c8eee2-64d5-4e86-8a9b-f371c9f1fa8c",
   "metadata": {},
   "outputs": [
    {
     "data": {
      "text/html": [
       "<div>\n",
       "<style scoped>\n",
       "    .dataframe tbody tr th:only-of-type {\n",
       "        vertical-align: middle;\n",
       "    }\n",
       "\n",
       "    .dataframe tbody tr th {\n",
       "        vertical-align: top;\n",
       "    }\n",
       "\n",
       "    .dataframe thead th {\n",
       "        text-align: right;\n",
       "    }\n",
       "</style>\n",
       "<table border=\"1\" class=\"dataframe\">\n",
       "  <thead>\n",
       "    <tr style=\"text-align: right;\">\n",
       "      <th></th>\n",
       "      <th>ID</th>\n",
       "      <th>CH</th>\n",
       "      <th>KURT</th>\n",
       "      <th>MAX</th>\n",
       "      <th>MEAN</th>\n",
       "      <th>MIN</th>\n",
       "      <th>P01</th>\n",
       "      <th>P02</th>\n",
       "      <th>P05</th>\n",
       "      <th>P10</th>\n",
       "      <th>...</th>\n",
       "      <th>P60</th>\n",
       "      <th>P70</th>\n",
       "      <th>P80</th>\n",
       "      <th>P90</th>\n",
       "      <th>P95</th>\n",
       "      <th>P98</th>\n",
       "      <th>P99</th>\n",
       "      <th>RMS</th>\n",
       "      <th>SD</th>\n",
       "      <th>SKEW</th>\n",
       "    </tr>\n",
       "  </thead>\n",
       "  <tbody>\n",
       "    <tr>\n",
       "      <th>0</th>\n",
       "      <td>learn-nsrr01</td>\n",
       "      <td>EEG</td>\n",
       "      <td>4.657487</td>\n",
       "      <td>125.0</td>\n",
       "      <td>-0.301199</td>\n",
       "      <td>-124.019608</td>\n",
       "      <td>-124.019608</td>\n",
       "      <td>-124.019608</td>\n",
       "      <td>-70.098039</td>\n",
       "      <td>-24.019608</td>\n",
       "      <td>...</td>\n",
       "      <td>2.45098</td>\n",
       "      <td>4.411765</td>\n",
       "      <td>8.333333</td>\n",
       "      <td>23.039216</td>\n",
       "      <td>72.058824</td>\n",
       "      <td>125.0</td>\n",
       "      <td>125.0</td>\n",
       "      <td>37.801351</td>\n",
       "      <td>37.800154</td>\n",
       "      <td>0.086212</td>\n",
       "    </tr>\n",
       "    <tr>\n",
       "      <th>1</th>\n",
       "      <td>learn-nsrr02</td>\n",
       "      <td>EEG</td>\n",
       "      <td>3.546719</td>\n",
       "      <td>125.0</td>\n",
       "      <td>-0.370447</td>\n",
       "      <td>-124.019608</td>\n",
       "      <td>-124.019608</td>\n",
       "      <td>-124.019608</td>\n",
       "      <td>-78.921569</td>\n",
       "      <td>-33.823529</td>\n",
       "      <td>...</td>\n",
       "      <td>4.411765</td>\n",
       "      <td>8.333333</td>\n",
       "      <td>14.215686</td>\n",
       "      <td>30.882353</td>\n",
       "      <td>75.980392</td>\n",
       "      <td>125.0</td>\n",
       "      <td>125.0</td>\n",
       "      <td>41.044234</td>\n",
       "      <td>41.042566</td>\n",
       "      <td>-0.019268</td>\n",
       "    </tr>\n",
       "    <tr>\n",
       "      <th>2</th>\n",
       "      <td>learn-nsrr03</td>\n",
       "      <td>EEG</td>\n",
       "      <td>1.345607</td>\n",
       "      <td>125.0</td>\n",
       "      <td>-0.11223</td>\n",
       "      <td>-124.019608</td>\n",
       "      <td>-124.019608</td>\n",
       "      <td>-124.019608</td>\n",
       "      <td>-124.019608</td>\n",
       "      <td>-73.039216</td>\n",
       "      <td>...</td>\n",
       "      <td>3.431373</td>\n",
       "      <td>7.352941</td>\n",
       "      <td>15.196078</td>\n",
       "      <td>70.098039</td>\n",
       "      <td>125.0</td>\n",
       "      <td>125.0</td>\n",
       "      <td>125.0</td>\n",
       "      <td>54.2708</td>\n",
       "      <td>54.270689</td>\n",
       "      <td>-0.011078</td>\n",
       "    </tr>\n",
       "  </tbody>\n",
       "</table>\n",
       "<p>3 rows × 24 columns</p>\n",
       "</div>"
      ],
      "text/plain": [
       "             ID   CH      KURT    MAX      MEAN         MIN         P01  \\\n",
       "0  learn-nsrr01  EEG  4.657487  125.0 -0.301199 -124.019608 -124.019608   \n",
       "1  learn-nsrr02  EEG  3.546719  125.0 -0.370447 -124.019608 -124.019608   \n",
       "2  learn-nsrr03  EEG  1.345607  125.0  -0.11223 -124.019608 -124.019608   \n",
       "\n",
       "          P02         P05        P10  ...       P60       P70        P80  \\\n",
       "0 -124.019608  -70.098039 -24.019608  ...   2.45098  4.411765   8.333333   \n",
       "1 -124.019608  -78.921569 -33.823529  ...  4.411765  8.333333  14.215686   \n",
       "2 -124.019608 -124.019608 -73.039216  ...  3.431373  7.352941  15.196078   \n",
       "\n",
       "         P90        P95    P98    P99        RMS         SD      SKEW  \n",
       "0  23.039216  72.058824  125.0  125.0  37.801351  37.800154  0.086212  \n",
       "1  30.882353  75.980392  125.0  125.0  41.044234  41.042566 -0.019268  \n",
       "2  70.098039      125.0  125.0  125.0    54.2708  54.270689 -0.011078  \n",
       "\n",
       "[3 rows x 24 columns]"
      ]
     },
     "execution_count": 9,
     "metadata": {},
     "output_type": "execute_result"
    }
   ],
   "source": [
    "df = proj.table( 'STATS' , 'CH' )\n",
    "df"
   ]
  },
  {
   "cell_type": "markdown",
   "id": "69bef075-e2a6-4929-bc57-5c60fb923440",
   "metadata": {},
   "source": [
    "We can extract various columns, e.g.:"
   ]
  },
  {
   "cell_type": "code",
   "execution_count": 10,
   "id": "0d8faf8d-79f2-4f8b-9ee0-aa124288adac",
   "metadata": {},
   "outputs": [
    {
     "data": {
      "text/html": [
       "<div>\n",
       "<style scoped>\n",
       "    .dataframe tbody tr th:only-of-type {\n",
       "        vertical-align: middle;\n",
       "    }\n",
       "\n",
       "    .dataframe tbody tr th {\n",
       "        vertical-align: top;\n",
       "    }\n",
       "\n",
       "    .dataframe thead th {\n",
       "        text-align: right;\n",
       "    }\n",
       "</style>\n",
       "<table border=\"1\" class=\"dataframe\">\n",
       "  <thead>\n",
       "    <tr style=\"text-align: right;\">\n",
       "      <th></th>\n",
       "      <th>ID</th>\n",
       "      <th>KURT</th>\n",
       "    </tr>\n",
       "  </thead>\n",
       "  <tbody>\n",
       "    <tr>\n",
       "      <th>0</th>\n",
       "      <td>learn-nsrr01</td>\n",
       "      <td>4.657487</td>\n",
       "    </tr>\n",
       "    <tr>\n",
       "      <th>1</th>\n",
       "      <td>learn-nsrr02</td>\n",
       "      <td>3.546719</td>\n",
       "    </tr>\n",
       "    <tr>\n",
       "      <th>2</th>\n",
       "      <td>learn-nsrr03</td>\n",
       "      <td>1.345607</td>\n",
       "    </tr>\n",
       "  </tbody>\n",
       "</table>\n",
       "</div>"
      ],
      "text/plain": [
       "             ID      KURT\n",
       "0  learn-nsrr01  4.657487\n",
       "1  learn-nsrr02  3.546719\n",
       "2  learn-nsrr03  1.345607"
      ]
     },
     "execution_count": 10,
     "metadata": {},
     "output_type": "execute_result"
    }
   ],
   "source": [
    "df[ ['ID','KURT'] ] "
   ]
  },
  {
   "cell_type": "markdown",
   "id": "80912768-5a3c-4e30-a14a-7717d7ad4613",
   "metadata": {},
   "source": [
    "Instead of working with a Pandas dataframe, we can extract/convert key columns using standard Python syntax, e.g.:"
   ]
  },
  {
   "cell_type": "code",
   "execution_count": 11,
   "id": "42887165-11ac-4ab1-827b-7d15c03c69e8",
   "metadata": {},
   "outputs": [
    {
     "data": {
      "text/plain": [
       "array([[-0.3011987 ,  4.65748664,  0.08621198],\n",
       "       [-0.37044745,  3.54671873, -0.01926794],\n",
       "       [-0.11222989,  1.34560684, -0.01107757]])"
      ]
     },
     "execution_count": 11,
     "metadata": {},
     "output_type": "execute_result"
    }
   ],
   "source": [
    "df[ ['MEAN','KURT','SKEW' ] ].to_numpy(dtype=float)"
   ]
  },
  {
   "cell_type": "markdown",
   "id": "a7210479-e345-4fc5-9805-6309d49e9311",
   "metadata": {},
   "source": [
    "## Adding individual-specific variables"
   ]
  },
  {
   "cell_type": "markdown",
   "id": "2619b84a-4138-493b-a4ae-3025918538c5",
   "metadata": {},
   "source": [
    "Project-level variables are, by definition, shared across an entire project, and are set with `proj.var()` or `proj.varmap()`.  Also, some project-level variables may be _special variables_ that initiate a particular Luna function (e.g. `alias` to remap channel labels, etc).  See the main Luna documentation for more details on [special variables](https://zzz.bwh.harvard.edu/luna/luna/args/#special-variables).\n",
    "\n",
    "An individual-level variable is defined per-individual.  When evaluating a Luna script for a given individual, project-level and individual-level are combined (with individual-level values over-riding any project level one for that individual).   It is possible to specify a whole set of individual-level variables from a file.  For example, consider we've madethis example file (`misc/s1.txt`), which we'll use to set the variable `${s1}` equal to a different value per individual:"
   ]
  },
  {
   "cell_type": "code",
   "execution_count": 12,
   "id": "f958de24-30ed-46e7-9c9c-91868a45c5f9",
   "metadata": {},
   "outputs": [
    {
     "name": "stdout",
     "output_type": "stream",
     "text": [
      "ID\ts1\n",
      "learn-nsrr01\tEEG\n",
      "learn-nsrr02\tEMG\n",
      "learn-nsrr03\tECG\n"
     ]
    }
   ],
   "source": [
    "%%sh\n",
    "cat misc/s1.txt"
   ]
  },
  {
   "cell_type": "markdown",
   "id": "0d350a9f-9c2e-4438-b5df-2065907fda42",
   "metadata": {},
   "source": [
    "We can then attach _all_ these variables via the single (project-level) command, using the `vars` special variable to assign these values to a specify internal cache, which is accessed when a given individual with a matching `ID` is analyzed.  (Note: these files should be tab-delimited and also have `ID` as the first column, and `.` as a missing value)."
   ]
  },
  {
   "cell_type": "code",
   "execution_count": 13,
   "id": "84ddbe94-7d66-4b0a-b698-00d632f61306",
   "metadata": {},
   "outputs": [],
   "source": [
    "proj.var( 'vars' , 'misc/s1.txt' )"
   ]
  },
  {
   "cell_type": "markdown",
   "id": "08cd52b0-68ef-4b76-a0b0-6597dbfeaeb0",
   "metadata": {},
   "source": [
    "Now when running a command for a whole _sample-list_ that uses `${s1}`, this will swap in the correct variable for each individual:"
   ]
  },
  {
   "cell_type": "code",
   "execution_count": 14,
   "id": "39adbe39-328c-475a-80a9-e9fed34976db",
   "metadata": {},
   "outputs": [
    {
     "name": "stderr",
     "output_type": "stream",
     "text": [
      "___________________________________________________________________\n",
      "Processing: learn-nsrr01 | tutorial/edfs/learn-nsrr01.edf\n",
      " duration 11.22.00, 40920s | time 21.58.17 - 09.20.17 | date 01.01.85\n",
      "\n",
      " signals: 14 (of 14) selected in a standard EDF file\n",
      "  SaO2 | PR | EEG_sec | ECG | EMG | EOG_L | EOG_R | EEG\n",
      "  AIRFLOW | THOR_RES | ABDO_RES | POSITION | LIGHT | OX_STAT\n",
      " ..................................................................\n",
      " CMD #1: STATS\n",
      "   options: sig=EEG\n",
      " processing EEG ...\n",
      "___________________________________________________________________\n",
      "Processing: learn-nsrr02 | tutorial/edfs/learn-nsrr02.edf\n",
      " duration 09.57.30, 35850s | time 21.18.06 - 07.15.36 | date 01.01.85\n",
      "\n",
      " signals: 14 (of 14) selected in a standard EDF file\n",
      "  SaO2 | PR | EEG_sec | ECG | EMG | EOG_L | EOG_R | EEG\n",
      "  AIRFLOW | THOR_RES | ABDO_RES | POSITION | LIGHT | OX_STAT\n",
      " ..................................................................\n",
      " CMD #1: STATS\n",
      "   options: sig=EMG\n",
      " processing EMG ...\n",
      "___________________________________________________________________\n",
      "Processing: learn-nsrr03 | tutorial/edfs/learn-nsrr03.edf\n",
      " duration 11.22.00, 40920s | time 20.15.00 - 07.37.00 | date 01.01.85\n",
      "\n",
      " signals: 14 (of 14) selected in a standard EDF file\n",
      "  SaO2 | PR | EEG_sec | ECG | EMG | EOG_L | EOG_R | EEG\n",
      "  AIRFLOW | THOR_RES | ABDO_RES | POSITION | LIGHT | OX_STAT\n",
      " ..................................................................\n",
      " CMD #1: STATS\n",
      "   options: sig=ECG\n",
      " processing ECG ...\n"
     ]
    }
   ],
   "source": [
    "res = proj.proc( 'STATS sig=${s1}' )"
   ]
  },
  {
   "cell_type": "code",
   "execution_count": 15,
   "id": "1a710590-b428-49db-9a63-23f5a8409c69",
   "metadata": {},
   "outputs": [
    {
     "data": {
      "text/html": [
       "<div>\n",
       "<style scoped>\n",
       "    .dataframe tbody tr th:only-of-type {\n",
       "        vertical-align: middle;\n",
       "    }\n",
       "\n",
       "    .dataframe tbody tr th {\n",
       "        vertical-align: top;\n",
       "    }\n",
       "\n",
       "    .dataframe thead th {\n",
       "        text-align: right;\n",
       "    }\n",
       "</style>\n",
       "<table border=\"1\" class=\"dataframe\">\n",
       "  <thead>\n",
       "    <tr style=\"text-align: right;\">\n",
       "      <th></th>\n",
       "      <th>Command</th>\n",
       "      <th>Strata</th>\n",
       "    </tr>\n",
       "  </thead>\n",
       "  <tbody>\n",
       "    <tr>\n",
       "      <th>0</th>\n",
       "      <td>STATS</td>\n",
       "      <td>CH</td>\n",
       "    </tr>\n",
       "  </tbody>\n",
       "</table>\n",
       "</div>"
      ],
      "text/plain": [
       "  Command Strata\n",
       "0   STATS     CH"
      ]
     },
     "execution_count": 15,
     "metadata": {},
     "output_type": "execute_result"
    }
   ],
   "source": [
    "proj.strata()"
   ]
  },
  {
   "cell_type": "code",
   "execution_count": 16,
   "id": "fb4f85ea-4380-428a-9558-d3ada2184f40",
   "metadata": {},
   "outputs": [
    {
     "data": {
      "text/html": [
       "<div>\n",
       "<style scoped>\n",
       "    .dataframe tbody tr th:only-of-type {\n",
       "        vertical-align: middle;\n",
       "    }\n",
       "\n",
       "    .dataframe tbody tr th {\n",
       "        vertical-align: top;\n",
       "    }\n",
       "\n",
       "    .dataframe thead th {\n",
       "        text-align: right;\n",
       "    }\n",
       "</style>\n",
       "<table border=\"1\" class=\"dataframe\">\n",
       "  <thead>\n",
       "    <tr style=\"text-align: right;\">\n",
       "      <th></th>\n",
       "      <th>ID</th>\n",
       "      <th>CH</th>\n",
       "      <th>KURT</th>\n",
       "      <th>MAX</th>\n",
       "      <th>MEAN</th>\n",
       "      <th>MIN</th>\n",
       "      <th>P01</th>\n",
       "      <th>P02</th>\n",
       "      <th>P05</th>\n",
       "      <th>P10</th>\n",
       "      <th>...</th>\n",
       "      <th>P60</th>\n",
       "      <th>P70</th>\n",
       "      <th>P80</th>\n",
       "      <th>P90</th>\n",
       "      <th>P95</th>\n",
       "      <th>P98</th>\n",
       "      <th>P99</th>\n",
       "      <th>RMS</th>\n",
       "      <th>SD</th>\n",
       "      <th>SKEW</th>\n",
       "    </tr>\n",
       "  </thead>\n",
       "  <tbody>\n",
       "    <tr>\n",
       "      <th>0</th>\n",
       "      <td>learn-nsrr03</td>\n",
       "      <td>ECG</td>\n",
       "      <td>11.165007</td>\n",
       "      <td>1.25</td>\n",
       "      <td>0.003571</td>\n",
       "      <td>-1.240196</td>\n",
       "      <td>-1.240196</td>\n",
       "      <td>-1.240196</td>\n",
       "      <td>-0.259804</td>\n",
       "      <td>-0.142157</td>\n",
       "      <td>...</td>\n",
       "      <td>0.02451</td>\n",
       "      <td>0.034314</td>\n",
       "      <td>0.063725</td>\n",
       "      <td>0.142157</td>\n",
       "      <td>0.259804</td>\n",
       "      <td>1.25</td>\n",
       "      <td>1.25</td>\n",
       "      <td>0.30003</td>\n",
       "      <td>0.300009</td>\n",
       "      <td>-0.094024</td>\n",
       "    </tr>\n",
       "    <tr>\n",
       "      <th>1</th>\n",
       "      <td>learn-nsrr01</td>\n",
       "      <td>EEG</td>\n",
       "      <td>4.657487</td>\n",
       "      <td>125.0</td>\n",
       "      <td>-0.301199</td>\n",
       "      <td>-124.019608</td>\n",
       "      <td>-124.019608</td>\n",
       "      <td>-124.019608</td>\n",
       "      <td>-70.098039</td>\n",
       "      <td>-24.019608</td>\n",
       "      <td>...</td>\n",
       "      <td>2.45098</td>\n",
       "      <td>4.411765</td>\n",
       "      <td>8.333333</td>\n",
       "      <td>23.039216</td>\n",
       "      <td>72.058824</td>\n",
       "      <td>125.0</td>\n",
       "      <td>125.0</td>\n",
       "      <td>37.801351</td>\n",
       "      <td>37.800154</td>\n",
       "      <td>0.086212</td>\n",
       "    </tr>\n",
       "    <tr>\n",
       "      <th>2</th>\n",
       "      <td>learn-nsrr02</td>\n",
       "      <td>EMG</td>\n",
       "      <td>-0.926233</td>\n",
       "      <td>31.5</td>\n",
       "      <td>-0.609767</td>\n",
       "      <td>-31.252941</td>\n",
       "      <td>-31.252941</td>\n",
       "      <td>-31.252941</td>\n",
       "      <td>-31.252941</td>\n",
       "      <td>-31.252941</td>\n",
       "      <td>...</td>\n",
       "      <td>1.111765</td>\n",
       "      <td>7.041176</td>\n",
       "      <td>20.629412</td>\n",
       "      <td>31.5</td>\n",
       "      <td>31.5</td>\n",
       "      <td>31.5</td>\n",
       "      <td>31.5</td>\n",
       "      <td>19.706464</td>\n",
       "      <td>19.69703</td>\n",
       "      <td>0.185887</td>\n",
       "    </tr>\n",
       "  </tbody>\n",
       "</table>\n",
       "<p>3 rows × 24 columns</p>\n",
       "</div>"
      ],
      "text/plain": [
       "             ID   CH       KURT    MAX      MEAN         MIN         P01  \\\n",
       "0  learn-nsrr03  ECG  11.165007   1.25  0.003571   -1.240196   -1.240196   \n",
       "1  learn-nsrr01  EEG   4.657487  125.0 -0.301199 -124.019608 -124.019608   \n",
       "2  learn-nsrr02  EMG  -0.926233   31.5 -0.609767  -31.252941  -31.252941   \n",
       "\n",
       "          P02        P05        P10  ...       P60       P70        P80  \\\n",
       "0   -1.240196  -0.259804  -0.142157  ...   0.02451  0.034314   0.063725   \n",
       "1 -124.019608 -70.098039 -24.019608  ...   2.45098  4.411765   8.333333   \n",
       "2  -31.252941 -31.252941 -31.252941  ...  1.111765  7.041176  20.629412   \n",
       "\n",
       "         P90        P95    P98    P99        RMS         SD      SKEW  \n",
       "0   0.142157   0.259804   1.25   1.25    0.30003   0.300009 -0.094024  \n",
       "1  23.039216  72.058824  125.0  125.0  37.801351  37.800154  0.086212  \n",
       "2       31.5       31.5   31.5   31.5  19.706464   19.69703  0.185887  \n",
       "\n",
       "[3 rows x 24 columns]"
      ]
     },
     "execution_count": 16,
     "metadata": {},
     "output_type": "execute_result"
    }
   ],
   "source": [
    "proj.table( 'STATS' , 'CH' )"
   ]
  },
  {
   "cell_type": "markdown",
   "id": "ddc8c5e1-29fc-4e03-8cb1-eac80713ee36",
   "metadata": {},
   "source": [
    "## Saving results"
   ]
  },
  {
   "cell_type": "markdown",
   "id": "d966cd3f-6dc4-4821-9c6f-d7087a48d20a",
   "metadata": {},
   "source": [
    "You can use standard Python approaches to save results, including `pickle` for objects."
   ]
  },
  {
   "cell_type": "code",
   "execution_count": 17,
   "id": "cd606e4b-df90-4cd5-a702-d764ff9f214f",
   "metadata": {
    "tags": []
   },
   "outputs": [],
   "source": [
    "import pickle"
   ]
  },
  {
   "cell_type": "markdown",
   "id": "fd5b130b-49b2-4c89-9023-60516dabaf08",
   "metadata": {},
   "source": [
    "For example, for a simple data returned by `table()`:"
   ]
  },
  {
   "cell_type": "code",
   "execution_count": 18,
   "id": "9747ce02-3d5e-4342-80e9-76d8d78b761d",
   "metadata": {},
   "outputs": [],
   "source": [
    "df = proj.table( 'STATS' , 'CH' )"
   ]
  },
  {
   "cell_type": "code",
   "execution_count": 19,
   "id": "9820f4a0-5759-4021-af86-a70364b65414",
   "metadata": {},
   "outputs": [
    {
     "data": {
      "text/plain": [
       "pandas.core.frame.DataFrame"
      ]
     },
     "execution_count": 19,
     "metadata": {},
     "output_type": "execute_result"
    }
   ],
   "source": [
    "type(df)"
   ]
  },
  {
   "cell_type": "markdown",
   "id": "c8069fbc-4945-4df2-ba57-6dfe829c618e",
   "metadata": {},
   "source": [
    "We can save `df`:"
   ]
  },
  {
   "cell_type": "code",
   "execution_count": 20,
   "id": "91df938f-f2bd-4d5e-91f3-246cbb60fabb",
   "metadata": {},
   "outputs": [],
   "source": [
    "pickle.dump( df , open( \"df.p\", \"wb\" ) )"
   ]
  },
  {
   "cell_type": "markdown",
   "id": "1007c00f-d3e9-4a0c-a933-c82e3e9f655c",
   "metadata": {},
   "source": [
    "and then later reload it:"
   ]
  },
  {
   "cell_type": "code",
   "execution_count": 21,
   "id": "d8cc6624-e9a0-4af1-8d4c-24438c2c40ee",
   "metadata": {},
   "outputs": [
    {
     "data": {
      "text/html": [
       "<div>\n",
       "<style scoped>\n",
       "    .dataframe tbody tr th:only-of-type {\n",
       "        vertical-align: middle;\n",
       "    }\n",
       "\n",
       "    .dataframe tbody tr th {\n",
       "        vertical-align: top;\n",
       "    }\n",
       "\n",
       "    .dataframe thead th {\n",
       "        text-align: right;\n",
       "    }\n",
       "</style>\n",
       "<table border=\"1\" class=\"dataframe\">\n",
       "  <thead>\n",
       "    <tr style=\"text-align: right;\">\n",
       "      <th></th>\n",
       "      <th>ID</th>\n",
       "      <th>CH</th>\n",
       "      <th>KURT</th>\n",
       "      <th>MAX</th>\n",
       "      <th>MEAN</th>\n",
       "      <th>MIN</th>\n",
       "      <th>P01</th>\n",
       "      <th>P02</th>\n",
       "      <th>P05</th>\n",
       "      <th>P10</th>\n",
       "      <th>...</th>\n",
       "      <th>P60</th>\n",
       "      <th>P70</th>\n",
       "      <th>P80</th>\n",
       "      <th>P90</th>\n",
       "      <th>P95</th>\n",
       "      <th>P98</th>\n",
       "      <th>P99</th>\n",
       "      <th>RMS</th>\n",
       "      <th>SD</th>\n",
       "      <th>SKEW</th>\n",
       "    </tr>\n",
       "  </thead>\n",
       "  <tbody>\n",
       "    <tr>\n",
       "      <th>0</th>\n",
       "      <td>learn-nsrr03</td>\n",
       "      <td>ECG</td>\n",
       "      <td>11.165007</td>\n",
       "      <td>1.25</td>\n",
       "      <td>0.003571</td>\n",
       "      <td>-1.240196</td>\n",
       "      <td>-1.240196</td>\n",
       "      <td>-1.240196</td>\n",
       "      <td>-0.259804</td>\n",
       "      <td>-0.142157</td>\n",
       "      <td>...</td>\n",
       "      <td>0.02451</td>\n",
       "      <td>0.034314</td>\n",
       "      <td>0.063725</td>\n",
       "      <td>0.142157</td>\n",
       "      <td>0.259804</td>\n",
       "      <td>1.25</td>\n",
       "      <td>1.25</td>\n",
       "      <td>0.30003</td>\n",
       "      <td>0.300009</td>\n",
       "      <td>-0.094024</td>\n",
       "    </tr>\n",
       "    <tr>\n",
       "      <th>1</th>\n",
       "      <td>learn-nsrr01</td>\n",
       "      <td>EEG</td>\n",
       "      <td>4.657487</td>\n",
       "      <td>125.0</td>\n",
       "      <td>-0.301199</td>\n",
       "      <td>-124.019608</td>\n",
       "      <td>-124.019608</td>\n",
       "      <td>-124.019608</td>\n",
       "      <td>-70.098039</td>\n",
       "      <td>-24.019608</td>\n",
       "      <td>...</td>\n",
       "      <td>2.45098</td>\n",
       "      <td>4.411765</td>\n",
       "      <td>8.333333</td>\n",
       "      <td>23.039216</td>\n",
       "      <td>72.058824</td>\n",
       "      <td>125.0</td>\n",
       "      <td>125.0</td>\n",
       "      <td>37.801351</td>\n",
       "      <td>37.800154</td>\n",
       "      <td>0.086212</td>\n",
       "    </tr>\n",
       "    <tr>\n",
       "      <th>2</th>\n",
       "      <td>learn-nsrr02</td>\n",
       "      <td>EMG</td>\n",
       "      <td>-0.926233</td>\n",
       "      <td>31.5</td>\n",
       "      <td>-0.609767</td>\n",
       "      <td>-31.252941</td>\n",
       "      <td>-31.252941</td>\n",
       "      <td>-31.252941</td>\n",
       "      <td>-31.252941</td>\n",
       "      <td>-31.252941</td>\n",
       "      <td>...</td>\n",
       "      <td>1.111765</td>\n",
       "      <td>7.041176</td>\n",
       "      <td>20.629412</td>\n",
       "      <td>31.5</td>\n",
       "      <td>31.5</td>\n",
       "      <td>31.5</td>\n",
       "      <td>31.5</td>\n",
       "      <td>19.706464</td>\n",
       "      <td>19.69703</td>\n",
       "      <td>0.185887</td>\n",
       "    </tr>\n",
       "  </tbody>\n",
       "</table>\n",
       "<p>3 rows × 24 columns</p>\n",
       "</div>"
      ],
      "text/plain": [
       "             ID   CH       KURT    MAX      MEAN         MIN         P01  \\\n",
       "0  learn-nsrr03  ECG  11.165007   1.25  0.003571   -1.240196   -1.240196   \n",
       "1  learn-nsrr01  EEG   4.657487  125.0 -0.301199 -124.019608 -124.019608   \n",
       "2  learn-nsrr02  EMG  -0.926233   31.5 -0.609767  -31.252941  -31.252941   \n",
       "\n",
       "          P02        P05        P10  ...       P60       P70        P80  \\\n",
       "0   -1.240196  -0.259804  -0.142157  ...   0.02451  0.034314   0.063725   \n",
       "1 -124.019608 -70.098039 -24.019608  ...   2.45098  4.411765   8.333333   \n",
       "2  -31.252941 -31.252941 -31.252941  ...  1.111765  7.041176  20.629412   \n",
       "\n",
       "         P90        P95    P98    P99        RMS         SD      SKEW  \n",
       "0   0.142157   0.259804   1.25   1.25    0.30003   0.300009 -0.094024  \n",
       "1  23.039216  72.058824  125.0  125.0  37.801351  37.800154  0.086212  \n",
       "2       31.5       31.5   31.5   31.5  19.706464   19.69703  0.185887  \n",
       "\n",
       "[3 rows x 24 columns]"
      ]
     },
     "execution_count": 21,
     "metadata": {},
     "output_type": "execute_result"
    }
   ],
   "source": [
    "df2 = pickle.load( open( \"df.p\", \"rb\" ) )\n",
    "df2"
   ]
  },
  {
   "cell_type": "markdown",
   "id": "b8a2ba2f-c6a2-41b4-a172-eb8b499b2c03",
   "metadata": {},
   "source": [
    "Note that you cannot use this approach to save EDF objects (e.g. `proj` or `p`) as these are only references to underlying C/C++ structures.  Use Luna commands (`WRITE` and `WRITE-ANNOTS`) to save intermediate files in their standard formats (i.e. EDF, or Luna .annot)."
   ]
  },
  {
   "cell_type": "markdown",
   "id": "e45b6604-8c5f-47f4-a28e-df2922ae18f6",
   "metadata": {},
   "source": [
    "That completes this project-level overview of the `lunapi` workflow.  You can see how to use POPS to perform automated staging in the [next notebook](./03_staging.ipynb)."
   ]
  }
 ],
 "metadata": {
  "kernelspec": {
   "display_name": "Python 3 (ipykernel)",
   "language": "python",
   "name": "python3"
  },
  "language_info": {
   "codemirror_mode": {
    "name": "ipython",
    "version": 3
   },
   "file_extension": ".py",
   "mimetype": "text/x-python",
   "name": "python",
   "nbconvert_exporter": "python",
   "pygments_lexer": "ipython3",
   "version": "3.9.6"
  }
 },
 "nbformat": 4,
 "nbformat_minor": 5
}
