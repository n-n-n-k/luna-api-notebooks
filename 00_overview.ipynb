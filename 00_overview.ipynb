{
 "cells": [
  {
   "cell_type": "markdown",
   "id": "72854647-727e-4422-9da3-98844d6b459f",
   "metadata": {},
   "source": [
    "# LunAPI : introduction\n",
    "\n",
    "Links to notebooks in this repository: [Index](./00_overview.ipynb) | [Luna tutorial](./tutorial.ipynb) | \n",
    "[Individuals](./01_indivs.ipynb) | [Projects](./02_projects.ipynb) | [Staging](./03_staging.ipynb) | [Models](./04_models.ipynb) | [Advanced](./98_advanced.ipynb) | [Reference](./99_reference.ipynb)\n",
    "\n",
    "---"
   ]
  },
  {
   "cell_type": "markdown",
   "id": "767b4b34-af8f-432f-8442-2d9c4f79e872",
   "metadata": {},
   "source": [
    "_v0.0.7(alpha) - 1-May-2024_"
   ]
  },
  {
   "cell_type": "markdown",
   "id": "21bf6e77-e449-40bf-8bcd-ea278720b492",
   "metadata": {
    "jp-MarkdownHeadingCollapsed": true
   },
   "source": [
    "These pages give an introduction to the Python interface to [Luna](http://zzz.bwh.harvard.edu/luna).  _Please note that in this initial posting, some components are still place-holders: these will be updated over the coming weeks._   This notebook contains the following small sections:\n",
    "\n",
    " - Some notes to how best to [install LunAPI](#get-lunapi)\n",
    " - List of the current [tutorial notebooks](#tutorial-notebooks)\n",
    " - List of the current [reference notebooks](#reference-notebooks)\n",
    " - Some [first steps to get started](#first-steps) with _LunAPI_\n",
    "\n",
    "These pages only contain information on _LunAPI_, the Python interface to Luna; for information on Luna and its commands, see the original [Luna documentation pages](http://zzz.bwh.harvard.edu/luna).  For general information on Python, JupyterLab or Docker, please see [this extensive and queryable collection of documents](http://www.google.com).\n",
    "\n",
    "The `lunapi` package can be run in any Python environment.  However, for these notebooks, we assume that the [`remnrem/lunapi`](https://hub.docker.com/r/remnrem/lunapi) Docker image is being used (this only impacts the locations of the data and other resource files, which are bundled in the above image)."
   ]
  },
  {
   "cell_type": "markdown",
   "id": "5614afa0-90d9-4df0-b97e-30846083907d",
   "metadata": {},
   "source": [
    "<a id='get-lunapi'></a>\n",
    "## Obtaining LunaAPI\n",
    "\n",
    "Currently, the best way to try the `lunapi` package is to obtain the Docker image.  Follow these instructions in the [README.md](README.md).  Platform-specific binary wheels for macOS and x86_64 Linux platforms are present in PyPI and can be installed with `pip install lunapi`.  If your particular platform or Python installation is not supported by a binary wheel, please use this Docker image for now.\n",
    "\n",
    "> Note that the terms _LunAPI_ and `lunapi` are used interchangeably throughout these notes.\n"
   ]
  },
  {
   "cell_type": "markdown",
   "id": "744d5ca3-8024-4ae8-bd30-8830fa0773a4",
   "metadata": {
    "jp-MarkdownHeadingCollapsed": true
   },
   "source": [
    "<a id='tutorial-notebooks'></a>\n",
    "## Tutorial Notebooks\n",
    "\n",
    " - [Luna tutorial](./tutorial.ipynb): the original command-line [Luna tutorial](https://zzz.bwh.harvard.edu/tut/tut1) using `lunapi`\n",
    "\n",
    " - [Individuals](./01_indivs.ipynb): more information on working with a single individual\n",
    "\n",
    " - [Projects](./02_projects.ipynb): more information on working with multiple individuals\n",
    "\n",
    " - [Staging](./03_staging.ipynb): automated staging and stage evaluation\n",
    "\n",
    " - [Models](./04_models.ipynb): using PREDICT models"
   ]
  },
  {
   "cell_type": "markdown",
   "id": "86b328f6-77ac-4b62-8e88-cd39cfd439d5",
   "metadata": {},
   "source": [
    "<a id='reference-notebooks'></a>\n",
    "## Reference Notebooks\n",
    "\n",
    " - [More advanced topics](./98_advanced.ipynb): material to give deeper orientation on how the package is structured, along with various tips on usage\n",
    "\n",
    " - [Reference](./99_reference.ipynb): a complete reference of the `lunapi` Python package"
   ]
  },
  {
   "cell_type": "markdown",
   "id": "4bb02219-5a1b-41df-915f-9a611ad72051",
   "metadata": {},
   "source": [
    "<a id='first-steps'></a>\n",
    "## First steps\n",
    "\n",
    "Start by importing the `lunapi` library; in these notebooks by convention we use the alias `lp`:"
   ]
  },
  {
   "cell_type": "code",
   "execution_count": 1,
   "id": "c0f23f56-fe31-4de9-a3a6-ffb6d0757d48",
   "metadata": {},
   "outputs": [],
   "source": [
    "import lunapi as lp"
   ]
  },
  {
   "cell_type": "markdown",
   "id": "e07af695-5979-4aa0-a706-74a1a2a452d6",
   "metadata": {},
   "source": [
    "The second necessary step is to initiate a Luna _project_ using `proj()`.  Each Python session can contain no more than a single _project_ (which is an object of type `proj`). By convention, we'll call _projects_ `proj` in these notebooks, but you can use any label."
   ]
  },
  {
   "cell_type": "code",
   "execution_count": 2,
   "id": "1fca6834-c81e-4fc2-8d60-5235723e3aac",
   "metadata": {},
   "outputs": [
    {
     "name": "stdout",
     "output_type": "stream",
     "text": [
      "initiated lunapi v0.0.7 <lunapi.lunapi0.luna object at 0x28f34af70> \n",
      "\n"
     ]
    }
   ],
   "source": [
    "proj = lp.proj()"
   ]
  },
  {
   "cell_type": "markdown",
   "id": "c4bf588a-7ed1-427d-8214-a9dc81bb92fc",
   "metadata": {},
   "source": [
    "_Projects_ control the creation of individual data _instances_, i.e. practically, an EDF and any associated annotation and meta-data for an individual.  The _project_ class also provides support for Luna [_sample-lists_](https://zzz.bwh.harvard.edu/luna/luna/args/#sample-lists) to facilitate multi-individual analyses.\n",
    "\n",
    "To create an individual _instance_, use the _project_ class `inst()` function, which returns an `inst` object.  If not working with a sample-list, `inst()` requires an ID string as an argument, e.g. here `id1`.  By convention, we call all initial individual instances `p`:"
   ]
  },
  {
   "cell_type": "code",
   "execution_count": 3,
   "id": "0085b589-3ce2-4fc9-be82-97b29b7f3d48",
   "metadata": {},
   "outputs": [],
   "source": [
    "p = proj.inst('id1')"
   ]
  },
  {
   "cell_type": "markdown",
   "id": "0e5ebbe2-d6ea-4f1d-9db7-7f91a3c9d4d2",
   "metadata": {},
   "source": [
    "At this point, `p` is just an empty placeholder.  We can directly attach an EDF file with `attach_edf()`.  For example, here we use one of the NSRR tutorial EDFs, which in the `remnrem/lunapi` Docker image are located at `/tutorial/edfs/`.  We first check these files are present:"
   ]
  },
  {
   "cell_type": "code",
   "execution_count": 4,
   "id": "77b5d10e-187b-478c-bf63-2b45ea377380",
   "metadata": {},
   "outputs": [
    {
     "name": "stdout",
     "output_type": "stream",
     "text": [
      "learn-nsrr01.edf\n",
      "learn-nsrr01.xml\n",
      "learn-nsrr02.edf\n",
      "learn-nsrr02.xml\n",
      "learn-nsrr03.edf\n",
      "learn-nsrr03.xml\n"
     ]
    }
   ],
   "source": [
    "%%sh\n",
    "ls tutorial/edfs"
   ]
  },
  {
   "cell_type": "markdown",
   "id": "cdd55d17-e559-4832-afb1-e3d22edd4a3e",
   "metadata": {},
   "source": [
    "That is, there are three EDFs, each with a corresponding XML annotation file.  Next, we attach `learn-nsrr02.edf` to the instance `p`. This will 1) print some logging information to the console, and 2) return `True` if it successfully completes:"
   ]
  },
  {
   "cell_type": "code",
   "execution_count": 5,
   "id": "6402e10f-92fb-4696-b7cf-9df2c1cd1ad0",
   "metadata": {},
   "outputs": [
    {
     "name": "stderr",
     "output_type": "stream",
     "text": [
      "___________________________________________________________________\n",
      "Processing: id1 | tutorial/edfs/learn-nsrr02.edf\n",
      " duration 09.57.30, 35850s | time 21.18.06 - 07.15.36 | date 01.01.85\n",
      "\n",
      " signals: 14 (of 14) selected in a standard EDF file\n",
      "  SaO2 | PR | EEG_sec | ECG | EMG | EOG_L | EOG_R | EEG\n",
      "  AIRFLOW | THOR_RES | ABDO_RES | POSITION | LIGHT | OX_STAT\n"
     ]
    },
    {
     "data": {
      "text/plain": [
       "True"
      ]
     },
     "execution_count": 5,
     "metadata": {},
     "output_type": "execute_result"
    }
   ],
   "source": [
    "p.attach_edf( 'tutorial/edfs/learn-nsrr02.edf' )"
   ]
  },
  {
   "cell_type": "markdown",
   "id": "365254df-82d5-44cd-bf99-c1494d3175bf",
   "metadata": {},
   "source": [
    "As described in subsequent notebooks, `lunapi` supplies a range of functions for working with _projects_ and _instances_.  For example, the `stat()` function returns a Pandas dataframe with some basic information about that instance (e.g. the number of channels, `nc`, etc, see the [reference page](./99_reference.ipynb) for full details):"
   ]
  },
  {
   "cell_type": "code",
   "execution_count": 6,
   "id": "2b535111-f53a-4c74-89f5-8b320605dcea",
   "metadata": {},
   "outputs": [
    {
     "data": {
      "text/html": [
       "<div>\n",
       "<style scoped>\n",
       "    .dataframe tbody tr th:only-of-type {\n",
       "        vertical-align: middle;\n",
       "    }\n",
       "\n",
       "    .dataframe tbody tr th {\n",
       "        vertical-align: top;\n",
       "    }\n",
       "\n",
       "    .dataframe thead th {\n",
       "        text-align: right;\n",
       "    }\n",
       "</style>\n",
       "<table border=\"1\" class=\"dataframe\">\n",
       "  <thead>\n",
       "    <tr style=\"text-align: right;\">\n",
       "      <th></th>\n",
       "      <th>Value</th>\n",
       "    </tr>\n",
       "  </thead>\n",
       "  <tbody>\n",
       "    <tr>\n",
       "      <th>annotation_files</th>\n",
       "      <td></td>\n",
       "    </tr>\n",
       "    <tr>\n",
       "      <th>duration</th>\n",
       "      <td>09.57.30.000</td>\n",
       "    </tr>\n",
       "    <tr>\n",
       "      <th>edf_file</th>\n",
       "      <td>tutorial/edfs/learn-nsrr02.edf</td>\n",
       "    </tr>\n",
       "    <tr>\n",
       "      <th>id</th>\n",
       "      <td>id1</td>\n",
       "    </tr>\n",
       "    <tr>\n",
       "      <th>na</th>\n",
       "      <td>0</td>\n",
       "    </tr>\n",
       "    <tr>\n",
       "      <th>ns</th>\n",
       "      <td>14</td>\n",
       "    </tr>\n",
       "    <tr>\n",
       "      <th>nt</th>\n",
       "      <td>14</td>\n",
       "    </tr>\n",
       "    <tr>\n",
       "      <th>state</th>\n",
       "      <td>1</td>\n",
       "    </tr>\n",
       "  </tbody>\n",
       "</table>\n",
       "</div>"
      ],
      "text/plain": [
       "                                           Value\n",
       "annotation_files                                \n",
       "duration                            09.57.30.000\n",
       "edf_file          tutorial/edfs/learn-nsrr02.edf\n",
       "id                                           id1\n",
       "na                                             0\n",
       "ns                                            14\n",
       "nt                                            14\n",
       "state                                          1"
      ]
     },
     "execution_count": 6,
     "metadata": {},
     "output_type": "execute_result"
    }
   ],
   "source": [
    "p.stat()"
   ]
  },
  {
   "cell_type": "markdown",
   "id": "0fc1df8a-234a-41d7-88e6-638c9f4d7eaf",
   "metadata": {},
   "source": [
    "The `desc()` function gives some more expanded statistics:"
   ]
  },
  {
   "cell_type": "code",
   "execution_count": 7,
   "id": "6b621002-e0ec-4897-a7ce-ec0ddd3b4cdb",
   "metadata": {},
   "outputs": [
    {
     "data": {
      "text/html": [
       "<div>\n",
       "<style scoped>\n",
       "    .dataframe tbody tr th:only-of-type {\n",
       "        vertical-align: middle;\n",
       "    }\n",
       "\n",
       "    .dataframe tbody tr th {\n",
       "        vertical-align: top;\n",
       "    }\n",
       "\n",
       "    .dataframe thead th {\n",
       "        text-align: right;\n",
       "    }\n",
       "</style>\n",
       "<table border=\"1\" class=\"dataframe\">\n",
       "  <thead>\n",
       "    <tr style=\"text-align: right;\">\n",
       "      <th></th>\n",
       "      <th>ID</th>\n",
       "      <th>Gapped</th>\n",
       "      <th>Date</th>\n",
       "      <th>Start(hms)</th>\n",
       "      <th>Stop(hms)</th>\n",
       "      <th>Dur(hms)</th>\n",
       "      <th>Dur(s)</th>\n",
       "      <th># sigs</th>\n",
       "      <th># annots</th>\n",
       "      <th>Signals</th>\n",
       "    </tr>\n",
       "  </thead>\n",
       "  <tbody>\n",
       "    <tr>\n",
       "      <th>1</th>\n",
       "      <td>id1</td>\n",
       "      <td>N</td>\n",
       "      <td>01.01.85</td>\n",
       "      <td>21.18.06</td>\n",
       "      <td>07.15.36</td>\n",
       "      <td>09:57:30</td>\n",
       "      <td>35850</td>\n",
       "      <td>14/14</td>\n",
       "      <td>0</td>\n",
       "      <td>SaO2[1] PR[1] EEG_sec[125] ECG[250] EMG[125] EOG_L[50] EOG_R[50] EEG[125] AIRFLOW[10] THOR_RES[10] ABDO_RES[10] POSITION[1] LIGHT[1] OX_STAT[1]</td>\n",
       "    </tr>\n",
       "  </tbody>\n",
       "</table>\n",
       "</div>"
      ],
      "text/plain": [
       "    ID Gapped      Date Start(hms) Stop(hms)  Dur(hms) Dur(s) # sigs # annots  \\\n",
       "1  id1      N  01.01.85   21.18.06  07.15.36  09:57:30  35850  14/14        0   \n",
       "\n",
       "                                                                                                                                           Signals  \n",
       "1  SaO2[1] PR[1] EEG_sec[125] ECG[250] EMG[125] EOG_L[50] EOG_R[50] EEG[125] AIRFLOW[10] THOR_RES[10] ABDO_RES[10] POSITION[1] LIGHT[1] OX_STAT[1]  "
      ]
     },
     "metadata": {},
     "output_type": "display_data"
    }
   ],
   "source": [
    "p.desc()"
   ]
  },
  {
   "cell_type": "markdown",
   "id": "03cc9b26-0c36-4e85-bd4a-78f8b5f581ee",
   "metadata": {},
   "source": [
    "One major _instance_ member function is `eval()` (and its variant `proc()`, which just differs in how it returns results to Python).  The `eval()` function executes arbitrary Luna commands on an attached EDF.  For example, here we will run the [`HEADERS`](https://zzz.bwh.harvard.edu/luna/ref/summaries/#headers) command, which returns basic information on (guess what) the EDF headers:"
   ]
  },
  {
   "cell_type": "code",
   "execution_count": 8,
   "id": "85fb993c-8c42-43c6-a7fa-1d15e5300f4a",
   "metadata": {},
   "outputs": [
    {
     "name": "stderr",
     "output_type": "stream",
     "text": [
      " ..................................................................\n",
      " CMD #1: HEADERS\n",
      "   options: sig=*\n"
     ]
    },
    {
     "data": {
      "text/html": [
       "<div>\n",
       "<style scoped>\n",
       "    .dataframe tbody tr th:only-of-type {\n",
       "        vertical-align: middle;\n",
       "    }\n",
       "\n",
       "    .dataframe tbody tr th {\n",
       "        vertical-align: top;\n",
       "    }\n",
       "\n",
       "    .dataframe thead th {\n",
       "        text-align: right;\n",
       "    }\n",
       "</style>\n",
       "<table border=\"1\" class=\"dataframe\">\n",
       "  <thead>\n",
       "    <tr style=\"text-align: right;\">\n",
       "      <th></th>\n",
       "      <th>Command</th>\n",
       "      <th>Strata</th>\n",
       "    </tr>\n",
       "  </thead>\n",
       "  <tbody>\n",
       "    <tr>\n",
       "      <th>0</th>\n",
       "      <td>HEADERS</td>\n",
       "      <td>BL</td>\n",
       "    </tr>\n",
       "    <tr>\n",
       "      <th>1</th>\n",
       "      <td>HEADERS</td>\n",
       "      <td>CH</td>\n",
       "    </tr>\n",
       "  </tbody>\n",
       "</table>\n",
       "</div>"
      ],
      "text/plain": [
       "   Command Strata\n",
       "0  HEADERS     BL\n",
       "1  HEADERS     CH"
      ]
     },
     "execution_count": 8,
     "metadata": {},
     "output_type": "execute_result"
    }
   ],
   "source": [
    "p.eval( 'HEADERS' )"
   ]
  },
  {
   "cell_type": "markdown",
   "id": "40d41f85-2e45-4228-ac74-f16a90c4ca71",
   "metadata": {},
   "source": [
    "Any console/log output is displayed by default.  You can silence this logging information by running `proj.silence()` (see [references](./99_reference.ipynb) for details).\n",
    "\n",
    "The `eval()` function also returns a list of the table(s) generated by the executed command(s); the actual results are stored within the instance object referenced by `p`.  That is, this function alters the _instance_ referenced by `p`.  You can access these single result tables with `table()`, which takes two arguments: the command and strata names (i.e. corresponding to a row from the table above)."
   ]
  },
  {
   "cell_type": "code",
   "execution_count": 9,
   "id": "ee539606-9a20-4cf8-9ff8-ab907e5c125b",
   "metadata": {},
   "outputs": [
    {
     "data": {
      "text/html": [
       "<div>\n",
       "<style scoped>\n",
       "    .dataframe tbody tr th:only-of-type {\n",
       "        vertical-align: middle;\n",
       "    }\n",
       "\n",
       "    .dataframe tbody tr th {\n",
       "        vertical-align: top;\n",
       "    }\n",
       "\n",
       "    .dataframe thead th {\n",
       "        text-align: right;\n",
       "    }\n",
       "</style>\n",
       "<table border=\"1\" class=\"dataframe\">\n",
       "  <thead>\n",
       "    <tr style=\"text-align: right;\">\n",
       "      <th></th>\n",
       "      <th>ID</th>\n",
       "      <th>CH</th>\n",
       "      <th>DMAX</th>\n",
       "      <th>DMIN</th>\n",
       "      <th>PDIM</th>\n",
       "      <th>PMAX</th>\n",
       "      <th>PMIN</th>\n",
       "      <th>POS</th>\n",
       "      <th>SENS</th>\n",
       "      <th>SR</th>\n",
       "      <th>TRANS</th>\n",
       "      <th>TYPE</th>\n",
       "    </tr>\n",
       "  </thead>\n",
       "  <tbody>\n",
       "    <tr>\n",
       "      <th>0</th>\n",
       "      <td>id1</td>\n",
       "      <td>ABDO_RES</td>\n",
       "      <td>127</td>\n",
       "      <td>-128</td>\n",
       "      <td>.</td>\n",
       "      <td>-1.0</td>\n",
       "      <td>1.0</td>\n",
       "      <td>11</td>\n",
       "      <td>-0.007843</td>\n",
       "      <td>10.0</td>\n",
       "      <td>.</td>\n",
       "      <td>EFFORT</td>\n",
       "    </tr>\n",
       "    <tr>\n",
       "      <th>1</th>\n",
       "      <td>id1</td>\n",
       "      <td>AIRFLOW</td>\n",
       "      <td>127</td>\n",
       "      <td>-128</td>\n",
       "      <td>.</td>\n",
       "      <td>-1.0</td>\n",
       "      <td>1.0</td>\n",
       "      <td>9</td>\n",
       "      <td>-0.007843</td>\n",
       "      <td>10.0</td>\n",
       "      <td>.</td>\n",
       "      <td>AIRFLOW</td>\n",
       "    </tr>\n",
       "    <tr>\n",
       "      <th>2</th>\n",
       "      <td>id1</td>\n",
       "      <td>ECG</td>\n",
       "      <td>127</td>\n",
       "      <td>-128</td>\n",
       "      <td>mV</td>\n",
       "      <td>1.25</td>\n",
       "      <td>-1.25</td>\n",
       "      <td>4</td>\n",
       "      <td>0.009804</td>\n",
       "      <td>250.0</td>\n",
       "      <td>.</td>\n",
       "      <td>ECG</td>\n",
       "    </tr>\n",
       "    <tr>\n",
       "      <th>3</th>\n",
       "      <td>id1</td>\n",
       "      <td>EEG</td>\n",
       "      <td>127</td>\n",
       "      <td>-128</td>\n",
       "      <td>uV</td>\n",
       "      <td>125.0</td>\n",
       "      <td>-125.0</td>\n",
       "      <td>8</td>\n",
       "      <td>0.980392</td>\n",
       "      <td>125.0</td>\n",
       "      <td>.</td>\n",
       "      <td>EEG</td>\n",
       "    </tr>\n",
       "    <tr>\n",
       "      <th>4</th>\n",
       "      <td>id1</td>\n",
       "      <td>EEG_sec</td>\n",
       "      <td>127</td>\n",
       "      <td>-128</td>\n",
       "      <td>uV</td>\n",
       "      <td>125.0</td>\n",
       "      <td>-125.0</td>\n",
       "      <td>3</td>\n",
       "      <td>0.980392</td>\n",
       "      <td>125.0</td>\n",
       "      <td>.</td>\n",
       "      <td>EEG</td>\n",
       "    </tr>\n",
       "    <tr>\n",
       "      <th>5</th>\n",
       "      <td>id1</td>\n",
       "      <td>EMG</td>\n",
       "      <td>127</td>\n",
       "      <td>-128</td>\n",
       "      <td>uV</td>\n",
       "      <td>31.5</td>\n",
       "      <td>-31.5</td>\n",
       "      <td>5</td>\n",
       "      <td>0.247059</td>\n",
       "      <td>125.0</td>\n",
       "      <td>.</td>\n",
       "      <td>EMG</td>\n",
       "    </tr>\n",
       "    <tr>\n",
       "      <th>6</th>\n",
       "      <td>id1</td>\n",
       "      <td>EOG_L</td>\n",
       "      <td>127</td>\n",
       "      <td>-128</td>\n",
       "      <td>uV</td>\n",
       "      <td>125.0</td>\n",
       "      <td>-125.0</td>\n",
       "      <td>6</td>\n",
       "      <td>0.980392</td>\n",
       "      <td>50.0</td>\n",
       "      <td>.</td>\n",
       "      <td>EOG</td>\n",
       "    </tr>\n",
       "    <tr>\n",
       "      <th>7</th>\n",
       "      <td>id1</td>\n",
       "      <td>EOG_R</td>\n",
       "      <td>127</td>\n",
       "      <td>-128</td>\n",
       "      <td>uV</td>\n",
       "      <td>125.0</td>\n",
       "      <td>-125.0</td>\n",
       "      <td>7</td>\n",
       "      <td>0.980392</td>\n",
       "      <td>50.0</td>\n",
       "      <td>.</td>\n",
       "      <td>EOG</td>\n",
       "    </tr>\n",
       "    <tr>\n",
       "      <th>8</th>\n",
       "      <td>id1</td>\n",
       "      <td>LIGHT</td>\n",
       "      <td>1</td>\n",
       "      <td>0</td>\n",
       "      <td>.</td>\n",
       "      <td>1.0</td>\n",
       "      <td>0.0</td>\n",
       "      <td>13</td>\n",
       "      <td>1.0</td>\n",
       "      <td>1.0</td>\n",
       "      <td>.</td>\n",
       "      <td>LIGHT</td>\n",
       "    </tr>\n",
       "    <tr>\n",
       "      <th>9</th>\n",
       "      <td>id1</td>\n",
       "      <td>OX_STAT</td>\n",
       "      <td>3</td>\n",
       "      <td>0</td>\n",
       "      <td>.</td>\n",
       "      <td>3.0</td>\n",
       "      <td>0.0</td>\n",
       "      <td>14</td>\n",
       "      <td>1.0</td>\n",
       "      <td>1.0</td>\n",
       "      <td>.</td>\n",
       "      <td>OXYGEN</td>\n",
       "    </tr>\n",
       "    <tr>\n",
       "      <th>10</th>\n",
       "      <td>id1</td>\n",
       "      <td>POSITION</td>\n",
       "      <td>3</td>\n",
       "      <td>0</td>\n",
       "      <td>.</td>\n",
       "      <td>3.0</td>\n",
       "      <td>0.0</td>\n",
       "      <td>12</td>\n",
       "      <td>1.0</td>\n",
       "      <td>1.0</td>\n",
       "      <td>.</td>\n",
       "      <td>POSITION</td>\n",
       "    </tr>\n",
       "    <tr>\n",
       "      <th>11</th>\n",
       "      <td>id1</td>\n",
       "      <td>PR</td>\n",
       "      <td>32767</td>\n",
       "      <td>-32768</td>\n",
       "      <td>BPM</td>\n",
       "      <td>200.0</td>\n",
       "      <td>0.0</td>\n",
       "      <td>2</td>\n",
       "      <td>0.003052</td>\n",
       "      <td>1.0</td>\n",
       "      <td>.</td>\n",
       "      <td>HR</td>\n",
       "    </tr>\n",
       "    <tr>\n",
       "      <th>12</th>\n",
       "      <td>id1</td>\n",
       "      <td>SaO2</td>\n",
       "      <td>32767</td>\n",
       "      <td>-32768</td>\n",
       "      <td>%</td>\n",
       "      <td>100.0</td>\n",
       "      <td>0.0</td>\n",
       "      <td>1</td>\n",
       "      <td>0.001526</td>\n",
       "      <td>1.0</td>\n",
       "      <td>.</td>\n",
       "      <td>OXYGEN</td>\n",
       "    </tr>\n",
       "    <tr>\n",
       "      <th>13</th>\n",
       "      <td>id1</td>\n",
       "      <td>THOR_RES</td>\n",
       "      <td>127</td>\n",
       "      <td>-128</td>\n",
       "      <td>.</td>\n",
       "      <td>-1.0</td>\n",
       "      <td>1.0</td>\n",
       "      <td>10</td>\n",
       "      <td>-0.007843</td>\n",
       "      <td>10.0</td>\n",
       "      <td>.</td>\n",
       "      <td>EFFORT</td>\n",
       "    </tr>\n",
       "  </tbody>\n",
       "</table>\n",
       "</div>"
      ],
      "text/plain": [
       "     ID        CH   DMAX    DMIN PDIM   PMAX   PMIN POS      SENS     SR  \\\n",
       "0   id1  ABDO_RES    127    -128    .   -1.0    1.0  11 -0.007843   10.0   \n",
       "1   id1   AIRFLOW    127    -128    .   -1.0    1.0   9 -0.007843   10.0   \n",
       "2   id1       ECG    127    -128   mV   1.25  -1.25   4  0.009804  250.0   \n",
       "3   id1       EEG    127    -128   uV  125.0 -125.0   8  0.980392  125.0   \n",
       "4   id1   EEG_sec    127    -128   uV  125.0 -125.0   3  0.980392  125.0   \n",
       "5   id1       EMG    127    -128   uV   31.5  -31.5   5  0.247059  125.0   \n",
       "6   id1     EOG_L    127    -128   uV  125.0 -125.0   6  0.980392   50.0   \n",
       "7   id1     EOG_R    127    -128   uV  125.0 -125.0   7  0.980392   50.0   \n",
       "8   id1     LIGHT      1       0    .    1.0    0.0  13       1.0    1.0   \n",
       "9   id1   OX_STAT      3       0    .    3.0    0.0  14       1.0    1.0   \n",
       "10  id1  POSITION      3       0    .    3.0    0.0  12       1.0    1.0   \n",
       "11  id1        PR  32767  -32768  BPM  200.0    0.0   2  0.003052    1.0   \n",
       "12  id1      SaO2  32767  -32768    %  100.0    0.0   1  0.001526    1.0   \n",
       "13  id1  THOR_RES    127    -128    .   -1.0    1.0  10 -0.007843   10.0   \n",
       "\n",
       "   TRANS      TYPE  \n",
       "0      .    EFFORT  \n",
       "1      .   AIRFLOW  \n",
       "2      .       ECG  \n",
       "3      .       EEG  \n",
       "4      .       EEG  \n",
       "5      .       EMG  \n",
       "6      .       EOG  \n",
       "7      .       EOG  \n",
       "8      .     LIGHT  \n",
       "9      .    OXYGEN  \n",
       "10     .  POSITION  \n",
       "11     .        HR  \n",
       "12     .    OXYGEN  \n",
       "13     .    EFFORT  "
      ]
     },
     "execution_count": 9,
     "metadata": {},
     "output_type": "execute_result"
    }
   ],
   "source": [
    "p.table( 'HEADERS' , 'CH' )"
   ]
  },
  {
   "cell_type": "markdown",
   "id": "d9e2b3fe-07f3-4a8c-bb0a-e13f4759eadc",
   "metadata": {},
   "source": [
    "Any sequence of Luna commands can be passed to `eval()` or `proc()`, making these the primary modes for using `lunapi`. \n",
    "\n",
    "There are a number of other ways to interact with _projects_ and attached _instances_, including working with samples instead of one individual at a time (i.e. via _sample-lists_), or using lower-level functions to communicate with the underlying C/C++ library more directly.  The package also contains functions to interact with the raw signals and annotations directly in Python.  All of these things are described in subsequent notebooks in this repository."
   ]
  },
  {
   "cell_type": "markdown",
   "id": "36374119-9f74-4aaa-b3c7-45fd3ebe4adb",
   "metadata": {},
   "source": [
    "That's it for this first pass.  You can now proceed to the next notebook, which gives a deeper set of examples for [working with individual-level signal and annotation data](./01_indivs.ipynb)."
   ]
  }
 ],
 "metadata": {
  "kernelspec": {
   "display_name": "Python 3 (ipykernel)",
   "language": "python",
   "name": "python3"
  },
  "language_info": {
   "codemirror_mode": {
    "name": "ipython",
    "version": 3
   },
   "file_extension": ".py",
   "mimetype": "text/x-python",
   "name": "python",
   "nbconvert_exporter": "python",
   "pygments_lexer": "ipython3",
   "version": "3.9.6"
  }
 },
 "nbformat": 4,
 "nbformat_minor": 5
}
